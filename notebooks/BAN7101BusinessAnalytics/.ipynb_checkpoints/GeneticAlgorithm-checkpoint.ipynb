{
 "cells": [
  {
   "cell_type": "markdown",
   "id": "a7a1eb2e-524a-4b4e-8614-721b640b8587",
   "metadata": {},
   "source": [
    "### Combinatorial Optimization:\n",
    ">QAP (quadratic assignment problem) test problems of Nugent et al.*\n",
    ">\n",
    ">Given n facilities and n locations, each facility needs to be placed to one location. The distance between locations are different. There are flow requirement between each facility. For example, Fifteen facilities are to be placed in 15 locations with five facilities (columns) in three rows of five facilities in each row. The objective is to minimize total flow costs among the placed facilities.\n",
    "\n",
    "### Problem Complexity---NP Hard:\n",
    ">The QAP is known to be NP-hard, meaning there is no known polynomial-time($n^k$) algorithm to solve it optimally in the general case.\n",
    ">\n",
    ">Even for relatively small values of n (e.g., n > 20), exact methods become impractical due to factorial growth in computational requirements.\n",
    "\n",
    "### Some thoughts\n",
    ">In this universe we are living, there are about $10^{78}$ to $10^{82}$ atoms. A human body has about $7 * 10^{27}$ atoms on average.\n",
    ">\n",
    ">$56! > 10^{82}$\n",
    ">\n",
    ">We need some algorithm to find a solution, for example, Genetic Algorithm.\n",
    ">\n",
    ">Trade off: Exact solution vs. Computational Time\n",
    "\n",
    "### Define Objective Function：\n",
    "\n",
    ">In QAP problem, we are minimizing the flow cost between departments which are placed according to the solution given. My objective funtion for this problem is defined as $ flowCost = \\sum\\limits _{i = 1} ^{15} \\sum\\limits _{j = 1} ^{15} distance_{ij} * flow_{ij} $.\n",
    "\n",
    ">In my setting, I will maintain distance matrix fixed and I will only rearrange flow matrix according to each solution generated eighter by random or by the move operator.\"\n",
    "\n",
    "### Global Optimal vs Local Optimal\n",
    "<div style=\"text-align: center;\">\n",
    "    <img src=\"GlobalLocalOpt.png\" alt=\"Alt Text\">\n",
    "</div>"
   ]
  },
  {
   "cell_type": "markdown",
   "id": "67716d9b-cff2-4e43-a6c4-50d4b0b66855",
   "metadata": {},
   "source": [
    "# Genetic Algorithm(GE)\n",
    "GE is a computer program that uses evolutionary theory to solve problems. It's a type of artificial intelligence (AI) algorithm that mimics natural selection and reproduction.\n",
    "\n",
    "### Encoding\n",
    "\n",
    ">Encoding is the representation of solutions in Simulated Annealing algorithm. For this QAP assignment, I will encoding the solution using one dementional Numpy array which holds 15 unique number in range $[0, 15)$. For example, $[ 1, 2, 8, 0, 6, 12, 11,10, 4, 5, 3, 13, 14, 7, 9]$ could be one of my solution representation that indicates department 1 should be placed at location 1, department 2 is placed at location 2 and department 8 is at location 3 etc.\n",
    "\n",
    "### Initial Population\n",
    ">In a Genetic Algorithm (GA), the initial population refers to the first set of candidate solutions (individuals) that the algorithm starts with. Key aspects of initial population:\n",
    ">1. Size: Typically, the population consists of N individuals (solutions), where N is problem-dependent (often between 20 and 500).\n",
    ">2. Encoding: Each individual is represented as a chromosome (binary string, real-valued vector, or permutation).\n",
    "\n",
    "### Selection\n",
    ">Selection is a crucial step in a Genetic Algorithm (GA) where individuals from the current population are chosen to create the next generation.\n",
    "\n",
    "### Stop Criteria\n",
    "> when the algorithm should stop.\n",
    "> 1. preset number of iteration\n",
    "> 2. if not improved in N generation.\n",
    "\n",
    "### Crossover\n",
    ">Crossover is a key genetic operator in Genetic Algorithms (GA) used to combine genetic information from two parent solutions to produce new offspring. This mimics biological reproduction and helps explore the solution space.\n",
    "\n",
    "### Mutation\n",
    "> Mutation is another key genetic operator in Genetic Algorithms (GA) used to introduce randomness into the population. It mimics the natural mutation process, ensuring that small changes are made to the genetic material of individuals, which helps maintain diversity in the population and prevents the algorithm from prematurely converging to a local optimum."
   ]
  },
  {
   "cell_type": "markdown",
   "id": "736b2d5d-385d-4804-9060-0f6ab74237c8",
   "metadata": {},
   "source": [
    "### Genetic Algorithm Flowchart\n",
    "<div style=\"text-align: center;\">\n",
    "    <img src=\"GeFlow.png\" alt=\"Alt Text\">\n",
    "</div>"
   ]
  },
  {
   "cell_type": "code",
   "execution_count": null,
   "id": "3a12928d-d1e7-485d-854b-f4adda09f0e6",
   "metadata": {},
   "outputs": [],
   "source": [
    "#import libraries\n",
    "import numpy as np\n",
    "import random\n",
    "import matplotlib.pyplot as plt"
   ]
  },
  {
   "cell_type": "code",
   "execution_count": 2,
   "id": "c2b46110",
   "metadata": {},
   "outputs": [],
   "source": [
    "# Quadratic Assignment Problem dataset n = 15\n",
    "# flow and distance\n",
    "# In this assignment, I will maintain distance matrix unchanged\n",
    "# Whenever I have a new solution, I will call function to rearrange flow matrix.\n",
    "\n",
    "flow = np.array([[0, 10, 0, 5, 1, 0, 1, 2, 2, 2, 2, 0, 4, 0, 0],\n",
    "                [10, 0, 1, 3, 2, 2, 2, 3, 2, 0, 2, 0, 10, 5, 0],\n",
    "                [0, 1, 0, 10, 2, 0, 2, 5, 4, 5, 2, 2, 5, 5, 5],\n",
    "                [5, 3, 10, 0, 1, 1, 5, 0, 0, 2, 1, 0, 2, 5, 0],\n",
    "                [1, 2, 2, 1, 0, 3, 5, 5, 5, 1, 0, 3, 0, 5, 5],\n",
    "                [0, 2, 0, 1, 3, 0, 2, 2, 1, 5, 0, 0, 2, 5, 10],\n",
    "                [1, 2, 2, 5, 5, 2, 0, 6, 0, 1, 5, 5, 5, 1, 0],\n",
    "                [2, 3, 5, 0, 5, 2, 6, 0, 5, 2, 10, 0, 5, 0, 0],\n",
    "                [2, 2, 4, 0, 5, 1, 0, 5, 0, 0, 10, 5, 10, 0, 2],\n",
    "                [2, 0, 5, 2, 1, 5, 1, 2, 0, 0, 0, 4, 0, 0, 5],\n",
    "                [2, 2, 2, 1, 0, 0, 5, 10, 10, 0, 0, 5, 0, 5, 0],\n",
    "                [0, 0, 2, 0, 3, 0, 5, 0, 5, 4, 5, 0, 3, 3, 0],\n",
    "                [4, 10, 5, 2, 0, 2, 5, 5, 10, 0, 0, 3, 0, 10, 2],\n",
    "                [0, 5, 5, 5, 5, 5, 1, 0, 0, 0, 5, 3, 10, 0, 4],\n",
    "                [0, 0, 5, 0, 5, 10, 0, 0, 2, 5, 0, 0, 2, 4, 0]])\n",
    "\n",
    "dist = np.array([[0, 1, 2, 3, 4, 1, 2, 3, 4, 5, 2, 3, 4, 5, 6],\n",
    "                [1, 0, 1, 2, 3, 2, 1, 2, 3, 4, 3, 2, 3, 4, 5],\n",
    "                [2, 1, 0, 1, 2, 3, 2, 1, 2, 3, 4, 3, 2, 3, 4],\n",
    "                [3, 2, 1, 0, 1, 4, 3, 2, 1, 2, 5, 4, 3, 2, 3],\n",
    "                [4, 3, 2, 1, 0, 5, 4, 3, 2, 1, 6, 5, 4, 3, 2],\n",
    "                [1, 2, 3, 4, 5, 0, 1, 2, 3, 4, 1, 2, 3, 4, 5],\n",
    "                [2, 1, 2, 3, 4, 1, 0, 1, 2, 3, 2, 1, 2, 3, 4],\n",
    "                [3, 2, 1, 2, 3, 2, 1, 0, 1, 2, 3, 2, 1, 2, 3],\n",
    "                [4, 3, 2, 1, 2, 3, 2, 1, 0, 1, 4, 3, 2, 1, 2],\n",
    "                [5, 4, 3, 2, 1, 4, 3, 2, 1, 0, 5, 4, 3, 2, 1],\n",
    "                [2, 3, 4, 5, 6, 1, 2, 3, 4, 5, 0, 1, 2, 3, 4],\n",
    "                [3, 2, 3, 4, 5, 2, 1, 2, 3, 4, 1, 0, 1, 2, 3],\n",
    "                [4, 3, 2, 3, 4, 3, 2, 1, 2, 3, 2, 1, 0, 1 ,2],\n",
    "                [5, 4, 3, 2, 3, 4, 3, 2, 1, 2, 3, 2, 1, 0, 1],\n",
    "                [6, 5, 4, 3, 2, 5, 4, 3, 2, 1, 4, 3, 2, 1, 0]])"
   ]
  },
  {
   "cell_type": "code",
   "execution_count": 3,
   "id": "438e04aa",
   "metadata": {},
   "outputs": [],
   "source": [
    "# Total cost is defined as sum of pairwise multiplication on flow x distance\n",
    "def cost(flow):\n",
    "    total = 0\n",
    "    for f, d in zip(flow, dist):\n",
    "        total = total + np.dot(f, d)\n",
    "    return total\n",
    "\n",
    "# flow matrix transform according to current solution\\n\",\n",
    "def flow_transform(solution):\n",
    "    flow_transformed = np.zeros((solution.shape[0], solution.shape[0]))\n",
    "    for i in range(15):\n",
    "        for j in range(15):\n",
    "            flow_transformed[i][j] = flow[int(solution[i])][int(solution[j])]\n",
    "            flow_transformed[j][i] = flow[int(solution[j])][int(solution[i])]\n",
    "    return flow_transformed\n",
    "\n",
    "# take the decoded input\n",
    "def popu_fitness(solu_population):\n",
    "    length = solu_population.shape[0]\n",
    "    fitness = np.zeros(length)\n",
    "    for i in range(length):\n",
    "        flow_transformed = flow_transform(solu_population[i])\n",
    "        fitness[i] = cost(flow_transformed)\n",
    "    return fitness\n"
   ]
  },
  {
   "cell_type": "markdown",
   "id": "17abae34",
   "metadata": {},
   "source": [
    "### Encoding & Move Operators"
   ]
  },
  {
   "cell_type": "code",
   "execution_count": 7,
   "id": "87e26ff2",
   "metadata": {},
   "outputs": [
    {
     "name": "stdout",
     "output_type": "stream",
     "text": [
      "[0.95 0.61 0.26 0.29 0.18 0.14 0.9  0.04 0.75 0.28 0.92 0.68 0.05 0.88\n",
      " 0.76]\n",
      "[ 7 12  5  4  2  9  3  1 11  8 14 13  6 10  0]\n"
     ]
    }
   ],
   "source": [
    "# Random key encoding and decoding\n",
    "def randkey_encode():\n",
    "    solu = np.array(random.sample(range(0, 100), 15))\n",
    "    return solu / 100\n",
    "\n",
    "def randkey_decode(randkey):\n",
    "    return np.argsort(randkey)\n",
    "\n",
    "key = randkey_encode()\n",
    "solu = randkey_decode(key)\n",
    "print(key)\n",
    "print(solu)"
   ]
  },
  {
   "cell_type": "markdown",
   "id": "9a6ea6a9",
   "metadata": {},
   "source": [
    "### Uniform Crossover & Mutation"
   ]
  },
  {
   "cell_type": "code",
   "execution_count": 5,
   "id": "deff826f",
   "metadata": {},
   "outputs": [],
   "source": [
    "# only take the random key encoding input\n",
    "def uniform_crossover(one, two):\n",
    "    child = np.zeros(15)\n",
    "    for i in range(15):\n",
    "        threshold = random.uniform(0, 1)\n",
    "        if threshold >= 0.5:\n",
    "            child[i] = one[i]\n",
    "        else:\n",
    "            child[i] = two[i]\n",
    "    return child\n",
    "\n",
    "# mutation\n",
    "# only take random key encoding input\n",
    "def mutation(current_solution, prob):\n",
    "    for i in range(current_solution.shape[0]):\n",
    "        threshold = random.uniform(0, 1)\n",
    "        if threshold < prob:\n",
    "            current_solution[i] = random.uniform(0, 1)\n",
    "    return current_solution"
   ]
  },
  {
   "cell_type": "markdown",
   "id": "dbccf433",
   "metadata": {},
   "source": [
    "### Initial Population"
   ]
  },
  {
   "cell_type": "code",
   "execution_count": 6,
   "id": "a9e90aa0",
   "metadata": {},
   "outputs": [],
   "source": [
    "# Solution generator and Transformation\n",
    "# Initial Population\n",
    "# randomly generated through numpy.random library\n",
    "# The solution population is generated with a loop.\n",
    "def random_solution():\n",
    "    return np.array(random.sample(range(0, 15), 15))\n",
    "\n",
    "# generate the initial population using random key encoding\n",
    "def initial_population(popu_size):\n",
    "    solu_population = np.zeros((popu_size, 15))\n",
    "    for i in range(popu_size):\n",
    "        solu = randkey_encode()\n",
    "        solu_population[i] = solu\n",
    "    return solu_population\n",
    "\n",
    "def decode_popu(solu_popu):\n",
    "    decoded_solu = np.zeros((solu_popu.shape[0], 15))\n",
    "    for i in range(solu_popu.shape[0]):\n",
    "        decoded_solu[i] = randkey_decode(solu_popu[i])\n",
    "    return decoded_solu"
   ]
  },
  {
   "cell_type": "code",
   "execution_count": 7,
   "id": "c731e0fc",
   "metadata": {},
   "outputs": [],
   "source": [
    "def ga(prob_crossover, prob_mutation, popu_size, max_iter):\n",
    "    # initial solution\n",
    "    init_solu_popu = initial_population(popu_size)\n",
    "    best_fit_list = []\n",
    "    while(max_iter > 0):\n",
    "        decoded_solu = decode_popu(init_solu_popu)\n",
    "        # calculate population fitness\n",
    "        fit = popu_fitness(decoded_solu)\n",
    "        argIndex = np.argsort(fit)\n",
    "        # random selected 2 parents from the top half\n",
    "        # to avoid superparent in every generation\n",
    "        for i in range(int(popu_size / 2)):\n",
    "            # chose two parents\n",
    "            random_top_half = random.sample(range(0, int(popu_size / 2)), 2)\n",
    "            first_parent = init_solu_popu[argIndex[random_top_half[0]]]\n",
    "            sec_parent = init_solu_popu[argIndex[random_top_half[1]]]\n",
    "            \n",
    "            # crossover\n",
    "            crossover_threshold = random.uniform(0, 1)\n",
    "            if crossover_threshold <= prob_crossover:\n",
    "                first_child = uniform_crossover(first_parent, sec_parent)\n",
    "                sec_child = uniform_crossover(first_parent, sec_parent)\n",
    "            \n",
    "            # mutation\n",
    "            first_child = mutation(first_child, prob_mutation)\n",
    "            sec_child = mutation(sec_child, prob_mutation)\n",
    "            # selection\n",
    "            child_added_popu = np.concatenate((init_solu_popu, [first_child, sec_child]))\n",
    "            child_added_decoded = decode_popu(child_added_popu)\n",
    "            child_added_fit = popu_fitness(child_added_decoded)\n",
    "            child_added_argIndex = np.argsort(child_added_fit)\n",
    "            best_fit_list.append(child_added_fit[child_added_argIndex[0]])\n",
    "            init_solu_popu = child_added_popu[child_added_argIndex[0: popu_size]]\n",
    "            print(init_solu_popu)\n",
    "            \n",
    "        max_iter = max_iter - 1\n",
    "    decoded_solu = decode_popu(init_solu_popu)\n",
    "    fit = popu_fitness(decoded_solu)\n",
    "    print('final fit', fit)\n",
    "    best_solution = randkey_decode(init_solu_popu[np.argsort(fit)[0]])\n",
    "    return np.amin(fit), best_solution, best_fit_list"
   ]
  },
  {
   "cell_type": "code",
   "execution_count": 8,
   "id": "42e634b5",
   "metadata": {},
   "outputs": [],
   "source": [
    "def ga_one_child(prob_crossover, prob_mutation, popu_size, max_iter):\n",
    "    # initial solution\n",
    "    init_solu_popu = initial_population(popu_size)\n",
    "    best_fit_hist = []\n",
    "    while(max_iter > 0):\n",
    "        decoded_solu = decode_popu(init_solu_popu)\n",
    "        # calculate population fitness\n",
    "        fit = popu_fitness(decoded_solu)\n",
    "        argIndex = np.argsort(fit)\n",
    "        # random selected 2 parents from the top half\n",
    "        # to avoid superparent in every generation\n",
    "        for i in range(int(popu_size / 2)):\n",
    "            # chose two parents\n",
    "            random_top_half = random.sample(range(0, int(popu_size / 2)), 2)\n",
    "            first_parent = init_solu_popu[argIndex[random_top_half[0]]]\n",
    "            sec_parent = init_solu_popu[argIndex[random_top_half[1]]]\n",
    "            \n",
    "            # crossover\n",
    "            crossover_threshold = random.uniform(0, 1)\n",
    "            if crossover_threshold <= prob_crossover:\n",
    "                child = uniform_crossover(first_parent, sec_parent)\n",
    "            \n",
    "            # mutation\n",
    "            child = mutation(child, prob_mutation)\n",
    "            # selection\n",
    "            child_fit = cost(flow_transform(randkey_decode(child)))\n",
    "            # if child less than the worst one in population\n",
    "            if child_fit < fit[argIndex[random_top_half[0]]] or child_fit < fit[argIndex[random_top_half[1]]]:\n",
    "                if fit[argIndex[random_top_half[0]]] >= fit[argIndex[random_top_half[1]]]:\n",
    "                    init_solu_popu[argIndex[random_top_half[0]]] = child\n",
    "                else:\n",
    "                    init_solu_popu[argIndex[random_top_half[1]]] = child\n",
    "            \n",
    "        best_fit_hist.append(fit[argIndex[0]])\n",
    "        \n",
    "        max_iter = max_iter - 1\n",
    "        \n",
    "    decoded_solu = decode_popu(init_solu_popu)\n",
    "    fit = popu_fitness(decoded_solu)\n",
    "    best_solution = randkey_decode(init_solu_popu[np.argsort(fit)[0]])\n",
    "    return np.amin(fit), best_solution, best_fit_hist\n",
    "\n",
    "# show graph function\n",
    "def show_graph(x, y, name):\n",
    "    fig, ax = plt.subplots()\n",
    "    ax.plot(x, y)\n",
    "    ax.set(xlabel='Number of Generation', ylabel='Cost',\n",
    "           title='Cost over Generation')\n",
    "    ax.grid()\n",
    "    fig.savefig(name + \".png\")\n",
    "    plt.show()"
   ]
  },
  {
   "cell_type": "code",
   "execution_count": 10,
   "id": "a165dbdf",
   "metadata": {},
   "outputs": [
    {
     "name": "stdout",
     "output_type": "stream",
     "text": [
      "1186.0\n",
      "[ 1 12  8  7 10  0 13  4  6 11  3  2 14  5  9]\n"
     ]
    },
    {
     "data": {
      "image/png": "[encoded data removed]",
      "text/plain": [
       "<Figure size 432x288 with 1 Axes>"
      ]
     },
     "metadata": {
      "needs_background": "light"
     },
     "output_type": "display_data"
    }
   ],
   "source": [
    "best_fit, best_solution, best_fit_hist = ga_one_child(0.99, 0.02, 100, 500)\n",
    "print(best_fit)\n",
    "print(best_solution)\n",
    "show_graph(np.arange(0, 500, 1), best_fit_hist, \"Experiment1\")\n"
   ]
  },
  {
   "cell_type": "code",
   "execution_count": 12,
   "id": "118425dc",
   "metadata": {},
   "outputs": [
    {
     "name": "stdout",
     "output_type": "stream",
     "text": [
      "1174.0\n",
      "[11  4  5 14  9  8  6 12 13  2 10  7  1  0  3]\n"
     ]
    },
    {
     "data": {
      "image/png": "[encoded data removed]",
      "text/plain": [
       "<Figure size 432x288 with 1 Axes>"
      ]
     },
     "metadata": {
      "needs_background": "light"
     },
     "output_type": "display_data"
    }
   ],
   "source": [
    "best_fit, best_solution, best_fit_hist = ga_one_child(0.99, 0.02, 100, 800)\n",
    "print(best_fit)\n",
    "print(best_solution)\n",
    "show_graph(np.arange(0, 800, 1), best_fit_hist, \"Experiment2\")\n"
   ]
  },
  {
   "cell_type": "code",
   "execution_count": 13,
   "id": "511ddb7c",
   "metadata": {},
   "outputs": [
    {
     "name": "stdout",
     "output_type": "stream",
     "text": [
      "1192.0\n",
      "[ 5 14 13 11  4  9  2 12  8  7  0  3  1 10  6]\n"
     ]
    },
    {
     "data": {
      "image/png": "[encoded data removed]",
      "text/plain": [
       "<Figure size 432x288 with 1 Axes>"
      ]
     },
     "metadata": {
      "needs_background": "light"
     },
     "output_type": "display_data"
    }
   ],
   "source": [
    "best_fit, best_solution, best_fit_hist = ga_one_child(0.99, 0.02, 150, 500)\n",
    "print(best_fit)\n",
    "print(best_solution)\n",
    "show_graph(np.arange(0, 500, 1), best_fit_hist, \"Experiment3\")\n"
   ]
  },
  {
   "cell_type": "code",
   "execution_count": 14,
   "id": "e5686d19",
   "metadata": {},
   "outputs": [
    {
     "name": "stdout",
     "output_type": "stream",
     "text": [
      "1208.0\n",
      "[ 3 14  5  4  6  9  2 13  7 10  0  1 12  8 11]\n"
     ]
    },
    {
     "data": {
      "image/png": "[encoded data removed]",
      "text/plain": [
       "<Figure size 432x288 with 1 Axes>"
      ]
     },
     "metadata": {
      "needs_background": "light"
     },
     "output_type": "display_data"
    }
   ],
   "source": [
    "best_fit, best_solution, best_fit_hist = ga_one_child(0.99, 0.02, 150, 800)\n",
    "print(best_fit)\n",
    "print(best_solution)\n",
    "show_graph(np.arange(0, 800, 1), best_fit_hist, \"Experiment4\")"
   ]
  },
  {
   "cell_type": "code",
   "execution_count": 15,
   "id": "ef6a8372",
   "metadata": {},
   "outputs": [
    {
     "name": "stdout",
     "output_type": "stream",
     "text": [
      "1192.0\n",
      "[10  7  2  3  0  8  6 12  1  9 11  4 13  5 14]\n"
     ]
    },
    {
     "data": {
      "image/png": "[encoded data removed]",
      "text/plain": [
       "<Figure size 432x288 with 1 Axes>"
      ]
     },
     "metadata": {
      "needs_background": "light"
     },
     "output_type": "display_data"
    }
   ],
   "source": [
    "best_fit, best_solution, best_fit_hist = ga_one_child(0.99, 0.05, 100, 500)\n",
    "print(best_fit)\n",
    "print(best_solution)\n",
    "show_graph(np.arange(0, 500, 1), best_fit_hist, \"Experiment5\")"
   ]
  },
  {
   "cell_type": "code",
   "execution_count": 16,
   "id": "377dce0b",
   "metadata": {},
   "outputs": [
    {
     "name": "stdout",
     "output_type": "stream",
     "text": [
      "1178.0\n",
      "[ 9 11  2  3  0  5 13 12  6  1 14  4  8  7 10]\n"
     ]
    },
    {
     "data": {
      "image/png": "[encoded data removed]",
      "text/plain": [
       "<Figure size 432x288 with 1 Axes>"
      ]
     },
     "metadata": {
      "needs_background": "light"
     },
     "output_type": "display_data"
    }
   ],
   "source": [
    "best_fit, best_solution, best_fit_hist = ga_one_child(0.99, 0.05, 100, 800)\n",
    "print(best_fit)\n",
    "print(best_solution)\n",
    "show_graph(np.arange(0, 800, 1), best_fit_hist, \"Experiment6\")"
   ]
  },
  {
   "cell_type": "code",
   "execution_count": 17,
   "id": "84dfa278",
   "metadata": {},
   "outputs": [
    {
     "name": "stdout",
     "output_type": "stream",
     "text": [
      "1194.0\n",
      "[ 0  7 10  8 11  1 12  6  4  5  3  2 13 14  9]\n"
     ]
    },
    {
     "data": {
      "image/png": "[encoded data removed]",
      "text/plain": [
       "<Figure size 432x288 with 1 Axes>"
      ]
     },
     "metadata": {
      "needs_background": "light"
     },
     "output_type": "display_data"
    }
   ],
   "source": [
    "best_fit, best_solution, best_fit_hist = ga_one_child(0.99, 0.05, 150, 500)\n",
    "print(best_fit)\n",
    "print(best_solution)\n",
    "show_graph(np.arange(0, 500, 1), best_fit_hist, \"Experiment7\")"
   ]
  },
  {
   "cell_type": "code",
   "execution_count": 18,
   "id": "b0ac5b00",
   "metadata": {},
   "outputs": [
    {
     "name": "stdout",
     "output_type": "stream",
     "text": [
      "1152.0\n",
      "[10  7  6 11  9  8 12  2  4 14  0  1  3 13  5]\n"
     ]
    },
    {
     "data": {
      "image/png": "[encoded data removed]",
      "text/plain": [
       "<Figure size 432x288 with 1 Axes>"
      ]
     },
     "metadata": {
      "needs_background": "light"
     },
     "output_type": "display_data"
    }
   ],
   "source": [
    "best_fit, best_solution, best_fit_hist = ga_one_child(0.99, 0.05, 150, 800)\n",
    "print(best_fit)\n",
    "print(best_solution)\n",
    "show_graph(np.arange(0, 800, 1), best_fit_hist, \"Experiment8\")"
   ]
  }
 ],
 "metadata": {
  "kernelspec": {
   "display_name": "Python 3 (ipykernel)",
   "language": "python",
   "name": "python3"
  },
  "language_info": {
   "codemirror_mode": {
    "name": "ipython",
    "version": 3
   },
   "file_extension": ".py",
   "mimetype": "text/x-python",
   "name": "python",
   "nbconvert_exporter": "python",
   "pygments_lexer": "ipython3",
   "version": "3.11.7"
  }
 },
 "nbformat": 4,
 "nbformat_minor": 5
}
