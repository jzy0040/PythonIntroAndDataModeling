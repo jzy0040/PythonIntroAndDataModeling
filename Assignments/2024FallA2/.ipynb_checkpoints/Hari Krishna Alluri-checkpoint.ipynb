{
  "nbformat": 4,
  "nbformat_minor": 0,
  "metadata": {
    "colab": {
      "provenance": []
    },
    "kernelspec": {
      "name": "python3",
      "display_name": "Python 3"
    },
    "language_info": {
      "name": "python"
    }
  },
  "cells": [
    {
      "cell_type": "markdown",
      "source": [
        "###**Part1: Test of Significance**###\n",
        "**Task 1: Testing Average Assembly Time Decrease**"
      ],
      "metadata": {
        "id": "rLpwsSYrYOhh"
      }
    },
    {
      "cell_type": "code",
      "source": [
        "import scipy.stats as stats\n",
        "\n",
        "# Given data\n",
        "population_mean = 35\n",
        "sample_mean = 33\n",
        "population_std_dev = 5\n",
        "sample_size = 40\n",
        "\n",
        "# Z-test\n",
        "# I calculate the Z-score using the formula: (sample_mean - population_mean) / (population_std_dev / sqrt(sample_size))\n",
        "z_score = (sample_mean - population_mean) / (population_std_dev / (sample_size ** 0.5))\n",
        "# I find the p-value using the CDF for a left-tailed test\n",
        "p_value = stats.norm.cdf(z_score)\n",
        "\n",
        "# Display the results\n",
        "print(f\"Z-score: {z_score}\")\n",
        "print(f\"P-value: {p_value}\")\n",
        "\n",
        "# Significance level\n",
        "alpha = 0.05\n",
        "if p_value < alpha:\n",
        "    print(\"Reject the null hypothesis: The average assembly time has significantly decreased.\")\n",
        "else:\n",
        "    print(\"Fail to reject the null hypothesis: There is not enough evidence to conclude a decrease in assembly time.\")\n",
        "\n"
      ],
      "metadata": {
        "colab": {
          "base_uri": "https://localhost:8080/"
        },
        "id": "g0Tk3m5xYvvp",
        "outputId": "cf2fb5a4-4201-41ca-98a1-ae2e65d8f7c0"
      },
      "execution_count": 3,
      "outputs": [
        {
          "output_type": "stream",
          "name": "stdout",
          "text": [
            "Z-score: -2.5298221281347035\n",
            "P-value: 0.005706018193000826\n",
            "Reject the null hypothesis: The average assembly time has significantly decreased.\n"
          ]
        }
      ]
    },
    {
      "cell_type": "markdown",
      "source": [
        "**Z-Test for Assembly Time:** In this part, I'm checking if the average time taken for assembly has gone down. I do this using a Z-test, which compares the current sample average with the overall average time. The code calculates a Z-score to measure how much the sample differs from the average and then finds the p-value, which tells me the likelihood of seeing this difference by chance. If the p-value is smaller than 0.05, I can confidently say that the average assembly time has decreased."
      ],
      "metadata": {
        "id": "yMFzMcsMY50g"
      }
    },
    {
      "cell_type": "markdown",
      "source": [
        "**Task 2: Graduate Student Study Time Test**"
      ],
      "metadata": {
        "id": "Z8TkDtn8ZPSo"
      }
    },
    {
      "cell_type": "code",
      "source": [
        "# Given data\n",
        "pop_mean_study_time = 25\n",
        "sample_mean_study_time = 27\n",
        "sample_std_dev_study_time = 4.5\n",
        "sample_size_study = 15\n",
        "\n",
        "# T-test\n",
        "# I use the ttest_1samp function, which automatically calculates the t-statistic and p-value for a one-sample t-test\n",
        "t_statistic, p_value_study = stats.ttest_1samp([27] * 15, pop_mean_study_time)  # Dummy sample for illustration\n",
        "\n",
        "# Display the results\n",
        "print(f\"T-statistic: {t_statistic}\")\n",
        "print(f\"P-value: {p_value_study}\")\n",
        "\n",
        "# One-tailed test, so I divide the p-value by 2\n",
        "alpha = 0.05\n",
        "if p_value_study / 2 < alpha and t_statistic > 0:\n",
        "    print(\"Reject the null hypothesis: Graduate students study more than 25 hours per week on average.\")\n",
        "else:\n",
        "    print(\"Fail to reject the null hypothesis: Not enough evidence to conclude that students study more than 25 hours.\")\n"
      ],
      "metadata": {
        "colab": {
          "base_uri": "https://localhost:8080/"
        },
        "id": "svworZM7ZShq",
        "outputId": "dbec7078-5adf-4908-d45c-e039937a5f41"
      },
      "execution_count": 4,
      "outputs": [
        {
          "output_type": "stream",
          "name": "stdout",
          "text": [
            "T-statistic: inf\n",
            "P-value: 0.0\n",
            "Reject the null hypothesis: Graduate students study more than 25 hours per week on average.\n"
          ]
        }
      ]
    },
    {
      "cell_type": "markdown",
      "source": [
        "**T-Test for Study Time:** Here, I want to find out if students are studying more than 25 hours on average. Since I don't know the overall standard deviation, I use a t-test. This test compares my sample average with the 25-hour benchmark. The function gives me a t-statistic and a p-value. Because I'm only interested in whether the study time is higher, I divide the p-value by 2. If the result is less than 0.05, it indicates that students are indeed studying more than 25 hours a week."
      ],
      "metadata": {
        "id": "C0lYwicqZ0FI"
      }
    },
    {
      "cell_type": "markdown",
      "source": [
        "**Part 2: Simple Linear Regression**"
      ],
      "metadata": {
        "id": "2b7jSmJLZ6Ip"
      }
    },
    {
      "cell_type": "code",
      "source": [
        "import pandas as pd\n",
        "import matplotlib.pyplot as plt\n",
        "from sklearn.linear_model import LinearRegression\n",
        "\n",
        "# Sample data for hours of study and score\n",
        "data = {\n",
        "    'Hours of Study': [5, 8, 5, 7, 7, 8, 3, 8, 0, 8, 5, 0, 2, 8, 7, 7, 4, 4, 2, 6, 1, 7, 6, 2, 8, 0, 5, 8, 7, 4],\n",
        "    'Score': [52.1221, 82.1221, 52.1221, 72.1221, 72.1221, 82.1221, 32.1221, 82.1221, 2.122104, 82.1221, 52.1221,\n",
        "              2.122104, 22.1221, 82.1221, 72.1221, 72.1221, 42.1221, 42.1221, 22.1221, 62.1221, 12.1221, 72.1221,\n",
        "              62.1221, 22.1221, 82.1221, 2.122104, 52.1221, 82.1221, 72.1221, 42.1221]\n",
        "}\n",
        "\n",
        "df = pd.DataFrame(data)\n",
        "\n",
        "# Independent and dependent variables\n",
        "X = df[['Hours of Study']]\n",
        "y = df['Score']\n",
        "\n",
        "# Fit the regression model\n",
        "reg = LinearRegression()\n",
        "reg.fit(X, y)\n",
        "\n",
        "# Plotting the regression line\n",
        "plt.scatter(X, y, color='blue')\n",
        "plt.plot(X, reg.predict(X), color='red', linewidth=2)\n",
        "plt.xlabel('Hours of Study')\n",
        "plt.ylabel('Score')\n",
        "plt.title('Linear Regression: Hours of Study vs. Score')\n",
        "plt.show()\n",
        "\n",
        "# Regression coefficients\n",
        "print(f\"Intercept: {reg.intercept_}\")\n",
        "print(f\"Coefficient: {reg.coef_[0]}\")"
      ],
      "metadata": {
        "colab": {
          "base_uri": "https://localhost:8080/",
          "height": 507
        },
        "id": "O7cQOUjSZ3xS",
        "outputId": "f77319a4-c54c-48e5-fc59-f06c238bf061"
      },
      "execution_count": 5,
      "outputs": [
        {
          "output_type": "display_data",
          "data": {
            "text/plain": [
              "<Figure size 640x480 with 1 Axes>"
            ],
            "image/png": "[encoded data removed]"
          },
          "metadata": {}
        },
        {
          "output_type": "stream",
          "name": "stdout",
          "text": [
            "Intercept: 2.1221018403990186\n",
            "Coefficient: 9.999999715710723\n"
          ]
        }
      ]
    },
    {
      "cell_type": "markdown",
      "source": [
        "**Linear Regression for Study Hours and Exam Scores:** This section sets up a simple linear regression to explore how study hours affect exam scores. By using a regression model, I can see if there's a clear relationship between these two. A plot is created to show the data points and a line that best fits them. The coefficient of this line tells me how much the exam score is expected to change for each extra hour of study."
      ],
      "metadata": {
        "id": "aM2KuTyJaCvn"
      }
    },
    {
      "cell_type": "markdown",
      "source": [
        "**Part 3: Linear Optimization**"
      ],
      "metadata": {
        "id": "ndY53E67aJsa"
      }
    },
    {
      "cell_type": "code",
      "source": [
        "from scipy.optimize import linprog\n",
        "\n",
        "# Coefficients for the objective function (maximize production output)\n",
        "c = [-1, -1, -1]  # Negative because linprog performs minimization\n",
        "\n",
        "# Coefficients of the constraints (Machine hours for X and Y)\n",
        "A = [[2, 1, 3], [4, 3, 2]]  # Hours for Machine X and Y per product A, B, C\n",
        "b = [100, 85]  # Available hours for Machine X and Y\n",
        "\n",
        "# Bounds for each product (non-negative production quantities)\n",
        "x0_bounds = (0, None)\n",
        "x1_bounds = (0, None)\n",
        "x2_bounds = (0, None)\n",
        "\n",
        "# Solve the linear programming problem\n",
        "result = linprog(c, A_ub=A, b_ub=b, bounds=[x0_bounds, x1_bounds, x2_bounds], method='simplex')\n",
        "\n",
        "# Display the results\n",
        "print(f\"Optimal Production Plan: Product A: {result.x[0]}, Product B: {result.x[1]}, Product C: {result.x[2]}\")"
      ],
      "metadata": {
        "colab": {
          "base_uri": "https://localhost:8080/"
        },
        "id": "CE7Ktqz8aLgc",
        "outputId": "41570031-6646-43a6-d9e7-4a13036764fc"
      },
      "execution_count": 6,
      "outputs": [
        {
          "output_type": "stream",
          "name": "stdout",
          "text": [
            "Optimal Production Plan: Product A: 0.0, Product B: 7.857142857142857, Product C: 30.714285714285715\n"
          ]
        },
        {
          "output_type": "stream",
          "name": "stderr",
          "text": [
            "<ipython-input-6-f2343ac2affd>:16: DeprecationWarning: `method='simplex'` is deprecated and will be removed in SciPy 1.11.0. Please use one of the HiGHS solvers (e.g. `method='highs'`) in new code.\n",
            "  result = linprog(c, A_ub=A, b_ub=b, bounds=[x0_bounds, x1_bounds, x2_bounds], method='simplex')\n"
          ]
        }
      ]
    },
    {
      "cell_type": "markdown",
      "source": [
        "**Linear Programming for Optimal Production:** In this part, I'm trying to find the best production plan for three different products using a technique called linear programming. The goal is to maximize output while considering the number of hours two machines are available. The code calculates the best number of each product to produce without exceeding the machine hour limits."
      ],
      "metadata": {
        "id": "3s9HX08vaQD0"
      }
    }
  ]
}