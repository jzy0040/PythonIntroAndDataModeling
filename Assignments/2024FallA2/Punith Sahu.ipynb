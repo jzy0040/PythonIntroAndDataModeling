{
 "cells": [
  {
   "cell_type": "markdown",
   "metadata": {
    "id": "glmeo33H46kl"
   },
   "source": [
    "1. Tests of Significance\n",
    "\n",
    "\n"
   ]
  },
  {
   "cell_type": "markdown",
   "metadata": {
    "id": "z2DjROWj5FIo"
   },
   "source": [
    "Problem 1: Assembly Time"
   ]
  },
  {
   "cell_type": "code",
   "execution_count": 1,
   "metadata": {
    "colab": {
     "base_uri": "https://localhost:8080/"
    },
    "id": "olUWAZwk4mEL",
    "outputId": "e16b5cda-5d9f-415b-a086-5d2889061b22"
   },
   "outputs": [
    {
     "name": "stdout",
     "output_type": "stream",
     "text": [
      "Test Statistic (z): -2.5298\n",
      "Critical Value: 1.6449\n",
      "P-value: 0.0057\n",
      "Reject the null hypothesis: The average assembly time has significantly decreased.\n"
     ]
    }
   ],
   "source": [
    "import numpy as np\n",
    "from scipy import stats\n",
    "\n",
    "# Data\n",
    "population_mean = 35\n",
    "sample_mean = 33\n",
    "population_std = 5\n",
    "sample_size = 40\n",
    "\n",
    "# Calculate  test statistic\n",
    "z = (sample_mean - population_mean) / (population_std / np.sqrt(sample_size))\n",
    "\n",
    "# alpha value  = 0.05\n",
    "alpha = 0.05\n",
    "critical_value = stats.norm.ppf(1 - alpha)\n",
    "\n",
    "# Calculate  p-value\n",
    "p_value = stats.norm.cdf(z)\n",
    "\n",
    "# Print results\n",
    "print(f\"Test Statistic (z): {z:.4f}\")\n",
    "print(f\"Critical Value: {critical_value:.4f}\")\n",
    "print(f\"P-value: {p_value:.4f}\")\n",
    "\n",
    "# Conclusion\n",
    "if z < critical_value:\n",
    "    conclusion = \"Reject the null hypothesis: The average assembly time has significantly decreased.\"\n",
    "else:\n",
    "    conclusion = \"Fail to reject the null hypothesis: No significant decrease in average assembly time.\"\n",
    "\n",
    "print(conclusion)\n"
   ]
  },
  {
   "cell_type": "markdown",
   "metadata": {
    "id": "YAqbuH1s5evP"
   },
   "source": [
    "Problem 2: Graduate Students Study Hours"
   ]
  },
  {
   "cell_type": "code",
   "execution_count": 2,
   "metadata": {
    "colab": {
     "base_uri": "https://localhost:8080/"
    },
    "id": "kzX8bTiI5Y6-",
    "outputId": "158f3ee8-822d-4514-af23-47f42b8f839f"
   },
   "outputs": [
    {
     "name": "stdout",
     "output_type": "stream",
     "text": [
      "Test Statistic (t): 1.7213\n",
      "Critical Value: 1.7613\n",
      "P-value: 0.0536\n",
      "Fail to reject the null hypothesis: No significant evidence that graduate students study more than 25 hours.\n"
     ]
    }
   ],
   "source": [
    "# Given data\n",
    "sample_mean = 27\n",
    "hypothesized_mean = 25\n",
    "sample_std = 4.5\n",
    "sample_size = 15\n",
    "\n",
    "# Calculate the test statistic\n",
    "t = (sample_mean - hypothesized_mean) / (sample_std / np.sqrt(sample_size))\n",
    "\n",
    "# alpha = 0.05 with df = n - 1\n",
    "df = sample_size - 1\n",
    "critical_t = stats.t.ppf(1 - alpha, df)\n",
    "\n",
    "# Calculate the p-value\n",
    "p_value_t = 1 - stats.t.cdf(t, df)\n",
    "\n",
    "# Print results\n",
    "print(f\"Test Statistic (t): {t:.4f}\")\n",
    "print(f\"Critical Value: {critical_t:.4f}\")\n",
    "print(f\"P-value: {p_value_t:.4f}\")\n",
    "\n",
    "# Conclusion\n",
    "if t > critical_t:\n",
    "    conclusion = \"Reject the null hypothesis: Graduate students study more than 25 hours on average.\"\n",
    "else:\n",
    "    conclusion = \"Fail to reject the null hypothesis: No significant evidence that graduate students study more than 25 hours.\"\n",
    "\n",
    "print(conclusion)\n"
   ]
  },
  {
   "cell_type": "markdown",
   "metadata": {
    "id": "DfazIvk85yQJ"
   },
   "source": [
    "2. Regression Analysis"
   ]
  },
  {
   "cell_type": "code",
   "execution_count": 9,
   "metadata": {
    "colab": {
     "base_uri": "https://localhost:8080/",
     "height": 897
    },
    "id": "tzrYphQY5rPA",
    "outputId": "bf17ce10-6b71-49f3-c300-9c68ee3fa66c"
   },
   "outputs": [
    {
     "name": "stdout",
     "output_type": "stream",
     "text": [
      "                            OLS Regression Results                            \n",
      "==============================================================================\n",
      "Dep. Variable:                  Score   R-squared:                       1.000\n",
      "Model:                            OLS   Adj. R-squared:                  1.000\n",
      "Method:                 Least Squares   F-statistic:                 1.475e+16\n",
      "Date:                Thu, 31 Oct 2024   Prob (F-statistic):          6.32e-143\n",
      "Time:                        00:15:36   Log-Likelihood:                 261.74\n",
      "No. Observations:                  21   AIC:                            -519.5\n",
      "Df Residuals:                      19   BIC:                            -517.4\n",
      "Df Model:                           1                                         \n",
      "Covariance Type:            nonrobust                                         \n",
      "==================================================================================\n",
      "                     coef    std err          t      P>|t|      [0.025      0.975]\n",
      "----------------------------------------------------------------------------------\n",
      "const              2.1221   4.54e-07   4.68e+06      0.000       2.122       2.122\n",
      "Hours_of_Study    10.0000   8.23e-08   1.21e+08      0.000      10.000      10.000\n",
      "==============================================================================\n",
      "Omnibus:                        6.875   Durbin-Watson:                   1.867\n",
      "Prob(Omnibus):                  0.032   Jarque-Bera (JB):                4.446\n",
      "Skew:                           1.006   Prob(JB):                        0.108\n",
      "Kurtosis:                       4.018   Cond. No.                         12.0\n",
      "==============================================================================\n",
      "\n",
      "Notes:\n",
      "[1] Standard Errors assume that the covariance matrix of the errors is correctly specified.\n"
     ]
    },
    {
     "data": {
      "image/png": "[encoded data removed]",
      "text/plain": [
       "<Figure size 640x480 with 1 Axes>"
      ]
     },
     "metadata": {},
     "output_type": "display_data"
    }
   ],
   "source": [
    "import pandas as pd\n",
    "import statsmodels.api as sm\n",
    "import numpy as np\n",
    "import matplotlib.pyplot as plt\n",
    "\n",
    "\n",
    "# Create a DataFrame from the data\n",
    "data = {\n",
    "    'Hours_of_Study': [5, 5, 7, 3, 0, 5, 2, 7, 4, 2, 1, 6, 8, 5, 7, 8, 8, 7, 0, 8, 4],\n",
    "    'Score': [52.1221, 52.1221, 72.1221, 32.1221, 2.122104, 52.1221, 22.1221, 72.1221, 42.1221, 22.1221, 12.1221, 62.1221, 82.1221, 52.1221, 72.1221, 82.1221, 82.1221, 72.1221, 2.122104, 82.1221, 42.1221]\n",
    "}\n",
    "\n",
    "df = pd.DataFrame(data)\n",
    "X = sm.add_constant(df['Hours_of_Study'])\n",
    "model = sm.OLS(df['Score'], X).fit()\n",
    "print(model.summary())\n",
    "\n",
    "plt.scatter(df['Hours_of_Study'], df['Score'], color='blue', label='Data Points')\n",
    "plt.plot(df['Hours_of_Study'], model.predict(X), color='red', label='Regression Line')\n",
    "plt.xlabel('Hours Study')\n",
    "plt.ylabel('Score')\n",
    "plt.title('Hours Study vs Score')\n",
    "plt.legend()\n",
    "plt.show()\n"
   ]
  },
  {
   "cell_type": "markdown",
   "metadata": {
    "id": "RjKIMp4e7cmB"
   },
   "source": [
    "3. Linear Optimization"
   ]
  },
  {
   "cell_type": "code",
   "execution_count": 14,
   "metadata": {
    "colab": {
     "base_uri": "https://localhost:8080/"
    },
    "id": "n-uWybc26Apj",
    "outputId": "f321830a-e319-4a85-bf81-96d18c220724"
   },
   "outputs": [
    {
     "name": "stdout",
     "output_type": "stream",
     "text": [
      "Optimal production: [ 0.          7.85714286 30.71428571]\n",
      "Maximum output: 38.57142857142857\n",
      "Machine X is the limiting factor.\n"
     ]
    }
   ],
   "source": [
    "from scipy.optimize import linprog\n",
    "\n",
    "# Coefficients for the objective function (maximize output)\n",
    "c = [-1, -1, -1]\n",
    "\n",
    "# Coefficients for the inequalities\n",
    "A = [\n",
    "    [2, 1, 3],\n",
    "    [4, 3, 2]\n",
    "]\n",
    "\n",
    "# Right-hand side of the inequalities\n",
    "b = [100, 85]\n",
    "\n",
    "# Bounds for the variables (non-negative)\n",
    "x_bounds = (0, None)\n",
    "# Solve the linear programming\n",
    "result = linprog(c, A_ub=A, b_ub=b, bounds=[x_bounds]*3, method='highs')\n",
    "\n",
    "# Print the results\n",
    "print(f\"Optimal production: {result.x}\")\n",
    "print(f\"Maximum output: {-result.fun}\")\n",
    "\n",
    "# Check which machine is the limiting factor\n",
    "if result.slack[0] == 0:\n",
    "    print(\"Machine X is the limiting factor.\")\n",
    "else:\n",
    "    print(\"Machine Y is the limiting factor.\")\n"
   ]
  },
  {
   "cell_type": "markdown",
   "metadata": {
    "id": "XETiM_6JZU7M"
   },
   "source": [
    "Referances\n",
    "1. I have taken help from  AI like gogal colab give me the answers when i have error so i dnt pasted the link it was automatic code generater i took for referance and i changed as per my code requirements  \n",
    "2.\n",
    "\n",
    "3.\n",
    "4.\n"
   ]
  },
  {
   "cell_type": "code",
   "execution_count": null,
   "metadata": {
    "id": "K9yuNmDH8Vpz"
   },
   "outputs": [],
   "source": []
  }
 ],
 "metadata": {
  "colab": {
   "provenance": []
  },
  "kernelspec": {
   "display_name": "Python 3 (ipykernel)",
   "language": "python",
   "name": "python3"
  },
  "language_info": {
   "codemirror_mode": {
    "name": "ipython",
    "version": 3
   },
   "file_extension": ".py",
   "mimetype": "text/x-python",
   "name": "python",
   "nbconvert_exporter": "python",
   "pygments_lexer": "ipython3",
   "version": "3.11.7"
  }
 },
 "nbformat": 4,
 "nbformat_minor": 4
}
