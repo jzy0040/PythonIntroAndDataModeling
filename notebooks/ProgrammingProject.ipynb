{
 "cells": [
  {
   "cell_type": "markdown",
   "id": "5041420b-8025-4a5f-9da2-29ca48423b11",
   "metadata": {},
   "source": [
    "### A small programming project---Travel Salesman Problem(TSP)\n",
    "\n",
    "##### Problem Statement:\n",
    "\n",
    "A salesperson starts their journey from a designated Home Base (H). They need to visit a specific list of target cities (A, B, C, D, E) exactly once. After visiting all the target cities, they must return to their Home Base (H). The objective is to find the shortest possible route that accomplishes this.\n",
    "\n",
    "| From \\ To | H | A | B | C | D | E |\n",
    "| :-------- | :-: | :-: | :-: | :-: | :-: | :-: |\n",
    "| H | - | 5 | 7 | 8 | 12 | 10 |\n",
    "| A | 5 | - | 10 | 15 | 20 | 25 |\n",
    "| B | 7 | 10 | - | 35 | 25 | 30 |\n",
    "| C | 8 | 15 | 35 | - | 30 | 20 |\n",
    "| D | 12 | 20 | 25 | 30 | - | 10 |\n",
    "| E | 10 | 25 | 30 | 20 | 10 | - |\n",
    "\n",
    "Aka, the goal is to find the sequence of cities starting at H, visiting A, B, C, D, E once, and returning to H, that results in the smallest total distance.\n",
    "\n",
    "Some information about TSP:\n",
    "1. If we draw a graph to represent the problem, it will be a complete graph, meaning there is an edge between every pair of nodes/cities. For example, if a travel sales man needs to visit Seattle, San Fransisco, Chicago, Atlanta, and New York to draw the graph below. It will be:\n",
    "\n",
    "<div style=\"text-align: center;\">\n",
    "    <img src=\"TSP_Example.png\" style=\"width: 50%; display: block; margin: auto;\" alt=\"Alt Text\">\n",
    "</div>\n",
    "\n",
    "2. A naive approach to solve this problem is to generate all permutations of the nodes, and calculate the cost for each permutation, and select the minimum cost among them. This can be really cost inefficient.\n",
    "\n",
    "3. Since the problem complexity is n factorial, meaning there are n! possible routes to choose from. If it is just 5 cities, it's ok to find the best one by calculate all possiblities. But if the salesman needs to travel 10 cities, it will be 10! = 3628800. 20 cities will be 20! = 2.432902e+18. To give you all an idea how fast the complexity is increasing, there are $10^{78}$ to $10^{82}$ atoms in the observable universe but $52! > 10^{82}$\n",
    "\n",
    "### Let's try to use programming to solve a this 5 cities TSP. It should be very easy. "
   ]
  },
  {
   "cell_type": "markdown",
   "id": "84523d9c-6550-40cb-9ce1-0041b74ed001",
   "metadata": {},
   "source": [
    "### Brute Force Method\n",
    "One approach to solve TSP problem is Brute Force method. Brute Force method is to evaluate all possible permutation of the nodes, and calculate the cost of each route, then select the best, in this case, the minimum cost route. Although this is the worest way, but it's trivial. "
   ]
  },
  {
   "cell_type": "code",
   "execution_count": 15,
   "id": "6566471b-6375-4bbb-818c-3a8a17cbcdba",
   "metadata": {},
   "outputs": [],
   "source": [
    "### Basic Setup \n",
    "\n",
    "import itertools\n",
    "\n",
    "# 1. Define the distance matrix\n",
    "# Using a dictionary of dictionaries for easy lookup\n",
    "distances = {\n",
    "    'H': {'A': 5, 'B': 7, 'C': 8, 'D': 12, 'E': 10},\n",
    "    'A': {'H': 5, 'B': 10, 'C': 15, 'D': 20, 'E': 25},\n",
    "    'B': {'H': 7, 'A': 10, 'C': 35, 'D': 25, 'E': 30},\n",
    "    'C': {'H': 8, 'A': 15, 'B': 35, 'D': 30, 'E': 20},\n",
    "    'D': {'H': 12, 'A': 20, 'B': 25, 'C': 30, 'E': 10},\n",
    "    'E': {'H': 10, 'A': 25, 'B': 30, 'C': 20, 'D': 10}\n",
    "}\n",
    "\n",
    "# 2. Define the Home Base and Target Cities\n",
    "HOME_BASE = 'H'\n",
    "TARGET_CITIES = ['A', 'B', 'C', 'D', 'E']"
   ]
  },
  {
   "cell_type": "code",
   "execution_count": 17,
   "id": "2ea3bddc-3e7f-40e8-a603-27d3872e3887",
   "metadata": {},
   "outputs": [],
   "source": [
    "# Function to calculate the total distance of a given route\n",
    "def calculate_route_distance(route, dist_matrix):\n",
    "    total_distance = 0\n",
    "    # Iterate through the route, summing distances between consecutive cities\n",
    "    for i in range(len(route) - 1):\n",
    "        from_city = route[i]\n",
    "        to_city = route[i+1]\n",
    "        \n",
    "        # Ensure the distance exists in our matrix\n",
    "        if from_city in dist_matrix and to_city in dist_matrix[from_city]:\n",
    "            total_distance += dist_matrix[from_city][to_city]\n",
    "        else:\n",
    "            # This should not happen with a well-formed matrix\n",
    "            print(f\"Error: No distance found between {from_city} and {to_city}\")\n",
    "            return float('inf') # Return infinity to disqualify this route\n",
    "    return total_distance"
   ]
  },
  {
   "cell_type": "code",
   "execution_count": 19,
   "id": "3eaa1606-2132-4317-af10-82d558855152",
   "metadata": {},
   "outputs": [],
   "source": [
    "# --- Brute Force Algorithm ---\n",
    "def solve_tsp_brute_force(home_base, target_cities, dist_matrix):\n",
    "    min_distance = float('inf')  # Initialize with a very large number\n",
    "    optimal_route = None\n",
    "\n",
    "    # Generate all possible permutations of the target cities\n",
    "    # This is the core of the brute force approach\n",
    "    for permutation in itertools.permutations(target_cities):\n",
    "        # Construct the full route: Home Base -> Permutation -> Home Base\n",
    "        current_route = [home_base] + list(permutation) + [home_base]\n",
    "        \n",
    "        # Calculate the distance for this full route\n",
    "        current_distance = calculate_route_distance(current_route, dist_matrix)\n",
    "        \n",
    "        # Check if this route is shorter than the current minimum\n",
    "        if current_distance < min_distance:\n",
    "            min_distance = current_distance\n",
    "            optimal_route = current_route\n",
    "\n",
    "    return optimal_route, min_distance"
   ]
  },
  {
   "cell_type": "code",
   "execution_count": 21,
   "id": "e422a19c-fcb0-4852-92a2-6bc0b324ec53",
   "metadata": {},
   "outputs": [
    {
     "name": "stdout",
     "output_type": "stream",
     "text": [
      "Solving TSP with Home Base using Brute Force...\n",
      "Home Base: H\n",
      "Target Cities: ['A', 'B', 'C', 'D', 'E']\n",
      "\n",
      "Calculating all possible routes...\n",
      "\n",
      "--- Results ---\n",
      "Optimal Route: H -> B -> A -> C -> E -> D -> H\n",
      "Shortest Distance: 74\n"
     ]
    }
   ],
   "source": [
    "# --- Execute the Brute Force Solver ---\n",
    "print(\"Solving TSP with Home Base using Brute Force...\")\n",
    "print(f\"Home Base: {HOME_BASE}\")\n",
    "print(f\"Target Cities: {TARGET_CITIES}\")\n",
    "print(\"\\nCalculating all possible routes...\")\n",
    "\n",
    "optimal_tour, shortest_path_distance = solve_tsp_brute_force(HOME_BASE, TARGET_CITIES, distances)\n",
    "\n",
    "print(\"\\n--- Results ---\")\n",
    "if optimal_tour:\n",
    "    print(f\"Optimal Route: {' -> '.join(optimal_tour)}\")\n",
    "    print(f\"Shortest Distance: {shortest_path_distance}\")\n",
    "else:\n",
    "    print(\"Could not find an optimal route. Check input data.\")"
   ]
  }
 ],
 "metadata": {
  "kernelspec": {
   "display_name": "Python [conda env:base] *",
   "language": "python",
   "name": "conda-base-py"
  },
  "language_info": {
   "codemirror_mode": {
    "name": "ipython",
    "version": 3
   },
   "file_extension": ".py",
   "mimetype": "text/x-python",
   "name": "python",
   "nbconvert_exporter": "python",
   "pygments_lexer": "ipython3",
   "version": "3.11.9"
  }
 },
 "nbformat": 4,
 "nbformat_minor": 5
}
