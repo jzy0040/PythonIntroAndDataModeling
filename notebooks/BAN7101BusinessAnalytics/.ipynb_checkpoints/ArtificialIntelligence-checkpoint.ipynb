{
 "cells": [
  {
   "cell_type": "markdown",
   "id": "49c40f86-6dee-4e4f-a80c-41fadd85fac7",
   "metadata": {},
   "source": [
    "# Artificial Intelligence\n",
    "\n",
    "**ChatGPT's answer:** Artificial intelligence (AI) refers to the simulation of human intelligence in machines that are programmed to think and act like humans. It encompasses a wide range of technologies and techniques, including machine learning, natural language processing, computer vision, and robotics, among others. The goal of AI is to create machines that can perform tasks that typically require human intelligence, such as visual perception, speech recognition, decision-making, and language translation."
   ]
  },
  {
   "cell_type": "markdown",
   "id": "a5f17e66-bfcf-42d6-b7bc-0eed798ddb8b",
   "metadata": {},
   "source": [
    "### Intelligent Computing: Genetic Algorithms\n",
    "\n",
    "Similar to Gradient Decent Algorithms, the Genetic algorithms are heuristic optimization algorithms but GA is inspired by the process of natural selection. They are used to find solutions to complex optimization and search problems. \n",
    "\n",
    "Here is the pseudo code to GA:\n",
    "\n",
    "1. Initialization: Generate an initial population of solutions randomly.\n",
    "2. Evaluation: Evaluate the fitness of each solution in the population.\n",
    "3. Selection: Select the best-fit individuals for reproduction (parents) based on their fitness.\n",
    "4. Crossover: Create new individuals (offspring) by combining the genetic material of the parents.\n",
    "5. Mutation: Introduce random changes (mutation) to the offspring's genetic material.\n",
    "6. Replacement: Replace the current population with the new population of offspring.\n",
    "7. Termination: Repeat steps 2-6 until a termination condition is met (e.g., a maximum number of generations or reaching a satisfactory solution).\n",
    "\n",
    "Imagine the wild life in Africa： Panthera Leo(Lions)\n",
    "\n",
    "1. All lions in a region\n",
    "2. The male will fight for the territory\n",
    "3. The strongest winnder： Simba\n",
    "4. Simba can exchange his gene with the female lions. \n",
    "5. Some uncommon and unexpected DNA forms during they exchange the reproduce. \n",
    "6. The weak will be dead by nature.\n",
    "7. The above process is rolling and never ends. \n",
    "\n",
    "The process itself is a optimization process. \n",
    "\n",
    "And similar things also happened the small species, Ant! Ant Colony Algorithm. \n",
    "I will show you a video for how ants find the best/shortest path from the nest to the food. "
   ]
  },
  {
   "cell_type": "markdown",
   "id": "af224748-85fd-4270-9f0a-f3b23911cbf1",
   "metadata": {},
   "source": [
    "# Discussion\n",
    "\n",
    "### Informed Search: Binary Search Algorithm.\n",
    "\n",
    "I need one audience to play a game with me. Please come up with a random number from 1 to 100. I will guess your number in 10 questions. If I can't, you will get an A in this class and without doing homework 3 and 4.  "
   ]
  },
  {
   "cell_type": "code",
   "execution_count": null,
   "id": "84071d34-5d1a-4a12-abb1-67afcbe53618",
   "metadata": {},
   "outputs": [],
   "source": [
    "### Let's code this game in Python\n",
    "\n"
   ]
  },
  {
   "cell_type": "markdown",
   "id": "9fa912d2-3739-43e1-8dc8-f43a1d80e2e6",
   "metadata": {},
   "source": []
  }
 ],
 "metadata": {
  "kernelspec": {
   "display_name": "Python 3 (ipykernel)",
   "language": "python",
   "name": "python3"
  },
  "language_info": {
   "codemirror_mode": {
    "name": "ipython",
    "version": 3
   },
   "file_extension": ".py",
   "mimetype": "text/x-python",
   "name": "python",
   "nbconvert_exporter": "python",
   "pygments_lexer": "ipython3",
   "version": "3.9.18"
  }
 },
 "nbformat": 4,
 "nbformat_minor": 5
}
