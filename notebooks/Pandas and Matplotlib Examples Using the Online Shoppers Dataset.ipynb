{
 "cells": [
  {
   "cell_type": "markdown",
   "metadata": {
    "tags": []
   },
   "source": [
    "# Pandas and Matplotlib Example Using the Online Shoppers Dataset\n",
    "## A case study about online shoppers purchasing intention\n",
    "Data Source: https://archive.ics.uci.edu/ml/datasets/Online+Shoppers+Purchasing+Intention+Dataset\n",
    "\n",
    "Description: Online shoppers - Description.pdf\n",
    "\n",
    "Created by Jingwei Liu and Jeff Smith\n"
   ]
  },
  {
   "cell_type": "markdown",
   "metadata": {
    "tags": []
   },
   "source": [
    "### Suppose one of your friends want to build an online shopping website, one day,  you found he seems worring about something. After talking with him, you knew he is currently have some problems when building the website:\n",
    "#### <font color=\"blue\">1. Due to the limited budget, he wants to know which way is better: designing a good infomation page or a good product-related page.</font>\n",
    "#### <font color=\"blue\">2. He plans to have an offline promotion activity in one region, but he doesn't know which region is a better choice.</font>\n",
    "#### <font color=\"blue\">3. He also plans to have an online promotion activity during one month except the conventional monthes (Nov. and Dec.). But, he can't decide which month is better.</font>\n",
    "#### <font color=\"blue\">4. Are there any differences in behaviors between new users and returned users?</font>"
   ]
  },
  {
   "cell_type": "markdown",
   "metadata": {},
   "source": [
    "### Fortunately, you just have a dataset about online shopper purchasing intention. You decide to explore the data and try to find some useful information to help your friend."
   ]
  },
  {
   "cell_type": "markdown",
   "metadata": {},
   "source": [
    "### Let's import the tools at first and then read teh data as a dataframe using Pandas"
   ]
  },
  {
   "cell_type": "code",
   "execution_count": 1,
   "metadata": {},
   "outputs": [],
   "source": [
    "#import the tools:numpy,pandas and matplotlib\n",
    "%matplotlib inline\n",
    "import numpy as np\n",
    "import pandas as pd\n",
    "import matplotlib.pyplot as plt"
   ]
  },
  {
   "cell_type": "code",
   "execution_count": 2,
   "metadata": {},
   "outputs": [
    {
     "data": {
      "text/html": [
       "<div>\n",
       "<style scoped>\n",
       "    .dataframe tbody tr th:only-of-type {\n",
       "        vertical-align: middle;\n",
       "    }\n",
       "\n",
       "    .dataframe tbody tr th {\n",
       "        vertical-align: top;\n",
       "    }\n",
       "\n",
       "    .dataframe thead th {\n",
       "        text-align: right;\n",
       "    }\n",
       "</style>\n",
       "<table border=\"1\" class=\"dataframe\">\n",
       "  <thead>\n",
       "    <tr style=\"text-align: right;\">\n",
       "      <th></th>\n",
       "      <th>Index</th>\n",
       "      <th>Administrative</th>\n",
       "      <th>Administrative_Duration</th>\n",
       "      <th>Informational</th>\n",
       "      <th>Informational_Duration</th>\n",
       "      <th>ProductRelated</th>\n",
       "      <th>ProductRelated_Duration</th>\n",
       "      <th>BounceRates</th>\n",
       "      <th>ExitRates</th>\n",
       "      <th>PageValues</th>\n",
       "      <th>SpecialDay</th>\n",
       "      <th>Month</th>\n",
       "      <th>OperatingSystems</th>\n",
       "      <th>Browser</th>\n",
       "      <th>Region</th>\n",
       "      <th>TrafficType</th>\n",
       "      <th>VisitorType</th>\n",
       "      <th>Weekend</th>\n",
       "      <th>Revenue</th>\n",
       "    </tr>\n",
       "  </thead>\n",
       "  <tbody>\n",
       "    <tr>\n",
       "      <th>0</th>\n",
       "      <td>0</td>\n",
       "      <td>0</td>\n",
       "      <td>0.0</td>\n",
       "      <td>0</td>\n",
       "      <td>0.0</td>\n",
       "      <td>1</td>\n",
       "      <td>0.000000</td>\n",
       "      <td>0.20</td>\n",
       "      <td>0.20</td>\n",
       "      <td>0.0</td>\n",
       "      <td>0.0</td>\n",
       "      <td>Feb</td>\n",
       "      <td>1</td>\n",
       "      <td>1</td>\n",
       "      <td>1</td>\n",
       "      <td>1</td>\n",
       "      <td>Returning_Visitor</td>\n",
       "      <td>False</td>\n",
       "      <td>False</td>\n",
       "    </tr>\n",
       "    <tr>\n",
       "      <th>1</th>\n",
       "      <td>1</td>\n",
       "      <td>0</td>\n",
       "      <td>0.0</td>\n",
       "      <td>0</td>\n",
       "      <td>0.0</td>\n",
       "      <td>2</td>\n",
       "      <td>64.000000</td>\n",
       "      <td>0.00</td>\n",
       "      <td>0.10</td>\n",
       "      <td>0.0</td>\n",
       "      <td>0.0</td>\n",
       "      <td>Feb</td>\n",
       "      <td>2</td>\n",
       "      <td>2</td>\n",
       "      <td>1</td>\n",
       "      <td>2</td>\n",
       "      <td>Returning_Visitor</td>\n",
       "      <td>False</td>\n",
       "      <td>False</td>\n",
       "    </tr>\n",
       "    <tr>\n",
       "      <th>2</th>\n",
       "      <td>2</td>\n",
       "      <td>0</td>\n",
       "      <td>0.0</td>\n",
       "      <td>0</td>\n",
       "      <td>0.0</td>\n",
       "      <td>1</td>\n",
       "      <td>0.000000</td>\n",
       "      <td>0.20</td>\n",
       "      <td>0.20</td>\n",
       "      <td>0.0</td>\n",
       "      <td>0.0</td>\n",
       "      <td>Feb</td>\n",
       "      <td>4</td>\n",
       "      <td>1</td>\n",
       "      <td>9</td>\n",
       "      <td>3</td>\n",
       "      <td>Returning_Visitor</td>\n",
       "      <td>False</td>\n",
       "      <td>False</td>\n",
       "    </tr>\n",
       "    <tr>\n",
       "      <th>3</th>\n",
       "      <td>3</td>\n",
       "      <td>0</td>\n",
       "      <td>0.0</td>\n",
       "      <td>0</td>\n",
       "      <td>0.0</td>\n",
       "      <td>2</td>\n",
       "      <td>2.666667</td>\n",
       "      <td>0.05</td>\n",
       "      <td>0.14</td>\n",
       "      <td>0.0</td>\n",
       "      <td>0.0</td>\n",
       "      <td>Feb</td>\n",
       "      <td>3</td>\n",
       "      <td>2</td>\n",
       "      <td>2</td>\n",
       "      <td>4</td>\n",
       "      <td>Returning_Visitor</td>\n",
       "      <td>False</td>\n",
       "      <td>False</td>\n",
       "    </tr>\n",
       "    <tr>\n",
       "      <th>4</th>\n",
       "      <td>4</td>\n",
       "      <td>0</td>\n",
       "      <td>0.0</td>\n",
       "      <td>0</td>\n",
       "      <td>0.0</td>\n",
       "      <td>10</td>\n",
       "      <td>627.500000</td>\n",
       "      <td>0.02</td>\n",
       "      <td>0.05</td>\n",
       "      <td>0.0</td>\n",
       "      <td>0.0</td>\n",
       "      <td>Feb</td>\n",
       "      <td>3</td>\n",
       "      <td>3</td>\n",
       "      <td>1</td>\n",
       "      <td>4</td>\n",
       "      <td>Returning_Visitor</td>\n",
       "      <td>True</td>\n",
       "      <td>False</td>\n",
       "    </tr>\n",
       "  </tbody>\n",
       "</table>\n",
       "</div>"
      ],
      "text/plain": [
       "   Index  Administrative  Administrative_Duration  Informational  \\\n",
       "0      0               0                      0.0              0   \n",
       "1      1               0                      0.0              0   \n",
       "2      2               0                      0.0              0   \n",
       "3      3               0                      0.0              0   \n",
       "4      4               0                      0.0              0   \n",
       "\n",
       "   Informational_Duration  ProductRelated  ProductRelated_Duration  \\\n",
       "0                     0.0               1                 0.000000   \n",
       "1                     0.0               2                64.000000   \n",
       "2                     0.0               1                 0.000000   \n",
       "3                     0.0               2                 2.666667   \n",
       "4                     0.0              10               627.500000   \n",
       "\n",
       "   BounceRates  ExitRates  PageValues  SpecialDay Month  OperatingSystems  \\\n",
       "0         0.20       0.20         0.0         0.0   Feb                 1   \n",
       "1         0.00       0.10         0.0         0.0   Feb                 2   \n",
       "2         0.20       0.20         0.0         0.0   Feb                 4   \n",
       "3         0.05       0.14         0.0         0.0   Feb                 3   \n",
       "4         0.02       0.05         0.0         0.0   Feb                 3   \n",
       "\n",
       "   Browser  Region  TrafficType        VisitorType  Weekend  Revenue  \n",
       "0        1       1            1  Returning_Visitor    False    False  \n",
       "1        2       1            2  Returning_Visitor    False    False  \n",
       "2        1       9            3  Returning_Visitor    False    False  \n",
       "3        2       2            4  Returning_Visitor    False    False  \n",
       "4        3       1            4  Returning_Visitor     True    False  "
      ]
     },
     "execution_count": 2,
     "metadata": {},
     "output_type": "execute_result"
    }
   ],
   "source": [
    "# the file path\n",
    "fname = \"../data/16_online_shoppers_purchasing_intention.csv\"\n",
    "# read the data into a pandas dataframe and show the fist five lines\n",
    "data = pd.read_csv(fname)\n",
    "data.head()"
   ]
  },
  {
   "cell_type": "code",
   "execution_count": 3,
   "metadata": {},
   "outputs": [
    {
     "name": "stdout",
     "output_type": "stream",
     "text": [
      "<class 'pandas.core.frame.DataFrame'>\n",
      "RangeIndex: 12330 entries, 0 to 12329\n",
      "Data columns (total 19 columns):\n",
      " #   Column                   Non-Null Count  Dtype  \n",
      "---  ------                   --------------  -----  \n",
      " 0   Index                    12330 non-null  int64  \n",
      " 1   Administrative           12330 non-null  int64  \n",
      " 2   Administrative_Duration  12330 non-null  float64\n",
      " 3   Informational            12330 non-null  int64  \n",
      " 4   Informational_Duration   12330 non-null  float64\n",
      " 5   ProductRelated           12330 non-null  int64  \n",
      " 6   ProductRelated_Duration  12330 non-null  float64\n",
      " 7   BounceRates              12330 non-null  float64\n",
      " 8   ExitRates                12330 non-null  float64\n",
      " 9   PageValues               12330 non-null  float64\n",
      " 10  SpecialDay               12330 non-null  float64\n",
      " 11  Month                    12330 non-null  object \n",
      " 12  OperatingSystems         12330 non-null  int64  \n",
      " 13  Browser                  12330 non-null  int64  \n",
      " 14  Region                   12330 non-null  int64  \n",
      " 15  TrafficType              12330 non-null  int64  \n",
      " 16  VisitorType              12330 non-null  object \n",
      " 17  Weekend                  12330 non-null  bool   \n",
      " 18  Revenue                  12330 non-null  bool   \n",
      "dtypes: bool(2), float64(7), int64(8), object(2)\n",
      "memory usage: 1.6+ MB\n"
     ]
    }
   ],
   "source": [
    "# a simple dataframe information\n",
    "data.info()"
   ]
  },
  {
   "cell_type": "markdown",
   "metadata": {},
   "source": [
    "### Now, let's use this dataset to find some useful information. Let's check the average, min, max and std on time shoppers spend in informational page and product-related page."
   ]
  },
  {
   "cell_type": "code",
   "execution_count": 4,
   "metadata": {},
   "outputs": [
    {
     "name": "stdout",
     "output_type": "stream",
     "text": [
      "Max value in Informational_Duration  : 2549.38 \n",
      "Min value in Informational_Duration  : 0.00 \n",
      "Mean value in Informational_Duration : 34.47 \n",
      "The std in Informational_Duration    : 140.75\n",
      "--------------------------------------------------\n",
      "Max value in ProductRelated_Duration  : 63973.52 \n",
      "Min value in ProductRelated_Duration  : 0.00 \n",
      "Mean value in ProductRelated_Duration : 1194.75 \n",
      "The std in ProductRelated_Duration    : 1913.67\n"
     ]
    }
   ],
   "source": [
    "# use pandas embeded function to compute some statistics in attribute [Informational_Duration] and [ProductRelated_Duration]\n",
    "print(\"Max value in Informational_Duration  : {:0.2f} \".format(data['Informational_Duration'].max()))\n",
    "print(\"Min value in Informational_Duration  : {:0.2f} \".format(data['Informational_Duration'].min()))\n",
    "print(\"Mean value in Informational_Duration : {:0.2f} \".format(data['Informational_Duration'].mean()))\n",
    "print(\"The std in Informational_Duration    : {:0.2f}\".format(data['Informational_Duration'].std()))\n",
    "print(50 * '-')\n",
    "print(\"Max value in ProductRelated_Duration  : {:0.2f} \".format(data['ProductRelated_Duration'].max()))\n",
    "print(\"Min value in ProductRelated_Duration  : {:0.2f} \".format(data['ProductRelated_Duration'].min()))\n",
    "print(\"Mean value in ProductRelated_Duration : {:0.2f} \".format(data['ProductRelated_Duration'].mean()))\n",
    "print(\"The std in ProductRelated_Duration    : {:0.2f}\".format(data['ProductRelated_Duration'].std()))"
   ]
  },
  {
   "cell_type": "code",
   "execution_count": 5,
   "metadata": {},
   "outputs": [
    {
     "data": {
      "text/html": [
       "<div>\n",
       "<style scoped>\n",
       "    .dataframe tbody tr th:only-of-type {\n",
       "        vertical-align: middle;\n",
       "    }\n",
       "\n",
       "    .dataframe tbody tr th {\n",
       "        vertical-align: top;\n",
       "    }\n",
       "\n",
       "    .dataframe thead th {\n",
       "        text-align: right;\n",
       "    }\n",
       "</style>\n",
       "<table border=\"1\" class=\"dataframe\">\n",
       "  <thead>\n",
       "    <tr style=\"text-align: right;\">\n",
       "      <th></th>\n",
       "      <th>Informational_Duration</th>\n",
       "      <th>ProductRelated_Duration</th>\n",
       "    </tr>\n",
       "  </thead>\n",
       "  <tbody>\n",
       "    <tr>\n",
       "      <th>count</th>\n",
       "      <td>12330.000000</td>\n",
       "      <td>12330.000000</td>\n",
       "    </tr>\n",
       "    <tr>\n",
       "      <th>mean</th>\n",
       "      <td>34.472398</td>\n",
       "      <td>1194.746220</td>\n",
       "    </tr>\n",
       "    <tr>\n",
       "      <th>std</th>\n",
       "      <td>140.749294</td>\n",
       "      <td>1913.669288</td>\n",
       "    </tr>\n",
       "    <tr>\n",
       "      <th>min</th>\n",
       "      <td>0.000000</td>\n",
       "      <td>0.000000</td>\n",
       "    </tr>\n",
       "    <tr>\n",
       "      <th>25%</th>\n",
       "      <td>0.000000</td>\n",
       "      <td>184.137500</td>\n",
       "    </tr>\n",
       "    <tr>\n",
       "      <th>50%</th>\n",
       "      <td>0.000000</td>\n",
       "      <td>598.936905</td>\n",
       "    </tr>\n",
       "    <tr>\n",
       "      <th>75%</th>\n",
       "      <td>0.000000</td>\n",
       "      <td>1464.157214</td>\n",
       "    </tr>\n",
       "    <tr>\n",
       "      <th>max</th>\n",
       "      <td>2549.375000</td>\n",
       "      <td>63973.522230</td>\n",
       "    </tr>\n",
       "  </tbody>\n",
       "</table>\n",
       "</div>"
      ],
      "text/plain": [
       "       Informational_Duration  ProductRelated_Duration\n",
       "count            12330.000000             12330.000000\n",
       "mean                34.472398              1194.746220\n",
       "std                140.749294              1913.669288\n",
       "min                  0.000000                 0.000000\n",
       "25%                  0.000000               184.137500\n",
       "50%                  0.000000               598.936905\n",
       "75%                  0.000000              1464.157214\n",
       "max               2549.375000             63973.522230"
      ]
     },
     "execution_count": 5,
     "metadata": {},
     "output_type": "execute_result"
    }
   ],
   "source": [
    "# You can also use the embeded function 'describe' to find the same values\n",
    "data[['Informational_Duration','ProductRelated_Duration']].describe()"
   ]
  },
  {
   "cell_type": "markdown",
   "metadata": {},
   "source": [
    "### <font color = \"red\"> Now, you can tell your friend, based some online data, online shoppers will spend more time on product-related page. </font>"
   ]
  },
  {
   "cell_type": "markdown",
   "metadata": {},
   "source": [
    "### Now, let's try to find the shopper numbers in different region"
   ]
  },
  {
   "cell_type": "code",
   "execution_count": 6,
   "metadata": {},
   "outputs": [
    {
     "data": {
      "text/html": [
       "<div>\n",
       "<style scoped>\n",
       "    .dataframe tbody tr th:only-of-type {\n",
       "        vertical-align: middle;\n",
       "    }\n",
       "\n",
       "    .dataframe tbody tr th {\n",
       "        vertical-align: top;\n",
       "    }\n",
       "\n",
       "    .dataframe thead th {\n",
       "        text-align: right;\n",
       "    }\n",
       "</style>\n",
       "<table border=\"1\" class=\"dataframe\">\n",
       "  <thead>\n",
       "    <tr style=\"text-align: right;\">\n",
       "      <th></th>\n",
       "      <th>Index</th>\n",
       "    </tr>\n",
       "    <tr>\n",
       "      <th>Region</th>\n",
       "      <th></th>\n",
       "    </tr>\n",
       "  </thead>\n",
       "  <tbody>\n",
       "    <tr>\n",
       "      <th>1</th>\n",
       "      <td>4780</td>\n",
       "    </tr>\n",
       "    <tr>\n",
       "      <th>2</th>\n",
       "      <td>1136</td>\n",
       "    </tr>\n",
       "    <tr>\n",
       "      <th>3</th>\n",
       "      <td>2403</td>\n",
       "    </tr>\n",
       "    <tr>\n",
       "      <th>4</th>\n",
       "      <td>1182</td>\n",
       "    </tr>\n",
       "    <tr>\n",
       "      <th>5</th>\n",
       "      <td>318</td>\n",
       "    </tr>\n",
       "    <tr>\n",
       "      <th>6</th>\n",
       "      <td>805</td>\n",
       "    </tr>\n",
       "    <tr>\n",
       "      <th>7</th>\n",
       "      <td>761</td>\n",
       "    </tr>\n",
       "    <tr>\n",
       "      <th>8</th>\n",
       "      <td>434</td>\n",
       "    </tr>\n",
       "    <tr>\n",
       "      <th>9</th>\n",
       "      <td>511</td>\n",
       "    </tr>\n",
       "  </tbody>\n",
       "</table>\n",
       "</div>"
      ],
      "text/plain": [
       "        Index\n",
       "Region       \n",
       "1        4780\n",
       "2        1136\n",
       "3        2403\n",
       "4        1182\n",
       "5         318\n",
       "6         805\n",
       "7         761\n",
       "8         434\n",
       "9         511"
      ]
     },
     "execution_count": 6,
     "metadata": {},
     "output_type": "execute_result"
    }
   ],
   "source": [
    "# Show how many shoppers shop in different region\n",
    "data.groupby('Region')[['Index']].count()"
   ]
  },
  {
   "cell_type": "code",
   "execution_count": 7,
   "metadata": {},
   "outputs": [
    {
     "data": {
      "image/png": "[encoded data removed]",
      "text/plain": [
       "<Figure size 432x288 with 1 Axes>"
      ]
     },
     "metadata": {
      "needs_background": "light"
     },
     "output_type": "display_data"
    }
   ],
   "source": [
    "# you can also use histogram plot to show the difference\n",
    "Reg = data['Region']\n",
    "plt.hist(Reg);"
   ]
  },
  {
   "cell_type": "markdown",
   "metadata": {},
   "source": [
    "#### we can clearly see that the number of online shoppers is very high in region 1. But does shopper in region 1 really have a higher percentage end up withing buying something? Let's check that!"
   ]
  },
  {
   "cell_type": "code",
   "execution_count": 8,
   "metadata": {},
   "outputs": [
    {
     "name": "stdout",
     "output_type": "stream",
     "text": [
      "There is 0.16 percent of shoppers in region1 buy products\n",
      "There is 0.15 percent of shoppers in other regions(not region1) buy products\n"
     ]
    }
   ],
   "source": [
    "# The number of shopppers in region1\n",
    "region1_shopper_a = data[data['Region'] == 1]['Index'].size\n",
    "# The number of shoppers end up buying somthing in region1\n",
    "region1_shopper_b = data[(data['Region'] == 1) &( data['Revenue'] == True)]['Index'].size\n",
    "# The number of shoppers in other regions \n",
    "regiono_shopper_a = data[data['Region'] != 1]['Index'].size\n",
    "# The number of shoppers in other regions end up buying something\n",
    "regiono_shopper_b = data[(data['Region'] != 1) & (data['Revenue'] == True)]['Index'].size\n",
    "\n",
    "print(\"There is {:0.2f} percent of shoppers in region1 buy products\".format(region1_shopper_b/region1_shopper_a))\n",
    "print(\"There is {:0.2f} percent of shoppers in other regions(not region1) buy products\".format(regiono_shopper_b/regiono_shopper_a))"
   ]
  },
  {
   "cell_type": "markdown",
   "metadata": {},
   "source": [
    "#### Let's use Pie chart to see the percentage of buying something in region 1 and other regions"
   ]
  },
  {
   "cell_type": "code",
   "execution_count": 9,
   "metadata": {},
   "outputs": [
    {
     "data": {
      "image/png": "[encoded data removed]",
      "text/plain": [
       "<Figure size 1440x648 with 2 Axes>"
      ]
     },
     "metadata": {},
     "output_type": "display_data"
    }
   ],
   "source": [
    "# labels for pie chart\n",
    "labels = 'Buy something','Not buy something' \n",
    "# The number of shoppers end up not buying somthing in region1\n",
    "region1_shopper_n = data[(data['Region'] == 1) &( data['Revenue'] != True)]['Index'].size\n",
    "# The number of shoppers end up not buying somthing in other region\n",
    "regiono_shopper_n = data[(data['Region'] != 1) & (data['Revenue'] != True)]['Index'].size\n",
    "# the size(number) for each label in region1\n",
    "region1_sizes = [region1_shopper_b,region1_shopper_n]    \n",
    "# the size(number) for each label in other regions\n",
    "regiono_sizes = [regiono_shopper_b,regiono_shopper_n] \n",
    "\n",
    "# optional parameters for better visualizition\n",
    "plt.rcParams['figure.figsize'] = (20.0, 9.0) #figure size\n",
    "colors = ['gold', 'yellowgreen']\n",
    "explode = (0,0.1)\n",
    "\n",
    "#plot pie chart for region 1\n",
    "ax1 = plt.subplot(1, 2, 1)\n",
    "patches, texts, autotexts = plt.pie(region1_sizes, explode=explode, labels=labels, colors=colors,\n",
    "        autopct='%1.1f%%', shadow=True, startangle=30) \n",
    "ax1.set_title(\"region 1\")\n",
    "\n",
    "#plot pie chart for other regions\n",
    "ax2 = plt.subplot(1, 2, 2)\n",
    "patches, texts, autotexts = plt.pie(regiono_sizes, explode=explode, labels=labels, colors=colors,\n",
    "        autopct='%1.1f%%', shadow=True, startangle=30) \n",
    "ax2.set_title(\"other regions\");\n",
    "# the semicolon is used to suppress the returned values from calling matplotlib functions. You can remove it to check what will heppen."
   ]
  },
  {
   "cell_type": "markdown",
   "metadata": {},
   "source": [
    "### So, it seems although there are more online shoppers in region 1, the shoppers shopping behavior are similiar to other regions"
   ]
  },
  {
   "cell_type": "markdown",
   "metadata": {},
   "source": [
    "### <font color = \"red\"> Based on the above cells, you can tell your friend that region 1 has more online shoppers and the shoppers there are similiar to other regions so that hold a promotion activity in region 1 could be better</font>"
   ]
  },
  {
   "cell_type": "markdown",
   "metadata": {},
   "source": [
    "### Now we can try to find something related with Month"
   ]
  },
  {
   "cell_type": "code",
   "execution_count": 10,
   "metadata": {},
   "outputs": [
    {
     "data": {
      "text/html": [
       "<div>\n",
       "<style scoped>\n",
       "    .dataframe tbody tr th:only-of-type {\n",
       "        vertical-align: middle;\n",
       "    }\n",
       "\n",
       "    .dataframe tbody tr th {\n",
       "        vertical-align: top;\n",
       "    }\n",
       "\n",
       "    .dataframe thead th {\n",
       "        text-align: right;\n",
       "    }\n",
       "</style>\n",
       "<table border=\"1\" class=\"dataframe\">\n",
       "  <thead>\n",
       "    <tr style=\"text-align: right;\">\n",
       "      <th></th>\n",
       "      <th>Index</th>\n",
       "    </tr>\n",
       "    <tr>\n",
       "      <th>Month</th>\n",
       "      <th></th>\n",
       "    </tr>\n",
       "  </thead>\n",
       "  <tbody>\n",
       "    <tr>\n",
       "      <th>Aug</th>\n",
       "      <td>433</td>\n",
       "    </tr>\n",
       "    <tr>\n",
       "      <th>Dec</th>\n",
       "      <td>1727</td>\n",
       "    </tr>\n",
       "    <tr>\n",
       "      <th>Feb</th>\n",
       "      <td>184</td>\n",
       "    </tr>\n",
       "    <tr>\n",
       "      <th>Jul</th>\n",
       "      <td>432</td>\n",
       "    </tr>\n",
       "    <tr>\n",
       "      <th>June</th>\n",
       "      <td>288</td>\n",
       "    </tr>\n",
       "    <tr>\n",
       "      <th>Mar</th>\n",
       "      <td>1907</td>\n",
       "    </tr>\n",
       "    <tr>\n",
       "      <th>May</th>\n",
       "      <td>3364</td>\n",
       "    </tr>\n",
       "    <tr>\n",
       "      <th>Nov</th>\n",
       "      <td>2998</td>\n",
       "    </tr>\n",
       "    <tr>\n",
       "      <th>Oct</th>\n",
       "      <td>549</td>\n",
       "    </tr>\n",
       "    <tr>\n",
       "      <th>Sep</th>\n",
       "      <td>448</td>\n",
       "    </tr>\n",
       "  </tbody>\n",
       "</table>\n",
       "</div>"
      ],
      "text/plain": [
       "       Index\n",
       "Month       \n",
       "Aug      433\n",
       "Dec     1727\n",
       "Feb      184\n",
       "Jul      432\n",
       "June     288\n",
       "Mar     1907\n",
       "May     3364\n",
       "Nov     2998\n",
       "Oct      549\n",
       "Sep      448"
      ]
     },
     "execution_count": 10,
     "metadata": {},
     "output_type": "execute_result"
    }
   ],
   "source": [
    "# Show how many shoppers shop in different month\n",
    "data.groupby('Month')[['Index']].count()"
   ]
  },
  {
   "cell_type": "markdown",
   "metadata": {},
   "source": [
    "#### Let's also use barplot to see the shopper number by month "
   ]
  },
  {
   "cell_type": "code",
   "execution_count": 13,
   "metadata": {},
   "outputs": [
    {
     "data": {
      "text/html": [
       "<div>\n",
       "<style scoped>\n",
       "    .dataframe tbody tr th:only-of-type {\n",
       "        vertical-align: middle;\n",
       "    }\n",
       "\n",
       "    .dataframe tbody tr th {\n",
       "        vertical-align: top;\n",
       "    }\n",
       "\n",
       "    .dataframe thead th {\n",
       "        text-align: right;\n",
       "    }\n",
       "</style>\n",
       "<table border=\"1\" class=\"dataframe\">\n",
       "  <thead>\n",
       "    <tr style=\"text-align: right;\">\n",
       "      <th></th>\n",
       "      <th>Month</th>\n",
       "      <th>Shoppers number</th>\n",
       "      <th>Month_No</th>\n",
       "    </tr>\n",
       "  </thead>\n",
       "  <tbody>\n",
       "    <tr>\n",
       "      <th>2</th>\n",
       "      <td>Feb</td>\n",
       "      <td>184</td>\n",
       "      <td>2</td>\n",
       "    </tr>\n",
       "    <tr>\n",
       "      <th>5</th>\n",
       "      <td>Mar</td>\n",
       "      <td>1907</td>\n",
       "      <td>3</td>\n",
       "    </tr>\n",
       "    <tr>\n",
       "      <th>6</th>\n",
       "      <td>May</td>\n",
       "      <td>3364</td>\n",
       "      <td>5</td>\n",
       "    </tr>\n",
       "    <tr>\n",
       "      <th>4</th>\n",
       "      <td>June</td>\n",
       "      <td>288</td>\n",
       "      <td>6</td>\n",
       "    </tr>\n",
       "    <tr>\n",
       "      <th>3</th>\n",
       "      <td>Jul</td>\n",
       "      <td>432</td>\n",
       "      <td>7</td>\n",
       "    </tr>\n",
       "    <tr>\n",
       "      <th>0</th>\n",
       "      <td>Aug</td>\n",
       "      <td>433</td>\n",
       "      <td>8</td>\n",
       "    </tr>\n",
       "    <tr>\n",
       "      <th>9</th>\n",
       "      <td>Sep</td>\n",
       "      <td>448</td>\n",
       "      <td>9</td>\n",
       "    </tr>\n",
       "    <tr>\n",
       "      <th>8</th>\n",
       "      <td>Oct</td>\n",
       "      <td>549</td>\n",
       "      <td>10</td>\n",
       "    </tr>\n",
       "    <tr>\n",
       "      <th>7</th>\n",
       "      <td>Nov</td>\n",
       "      <td>2998</td>\n",
       "      <td>11</td>\n",
       "    </tr>\n",
       "    <tr>\n",
       "      <th>1</th>\n",
       "      <td>Dec</td>\n",
       "      <td>1727</td>\n",
       "      <td>12</td>\n",
       "    </tr>\n",
       "  </tbody>\n",
       "</table>\n",
       "</div>"
      ],
      "text/plain": [
       "  Month  Shoppers number  Month_No\n",
       "2   Feb              184         2\n",
       "5   Mar             1907         3\n",
       "6   May             3364         5\n",
       "4  June              288         6\n",
       "3   Jul              432         7\n",
       "0   Aug              433         8\n",
       "9   Sep              448         9\n",
       "8   Oct              549        10\n",
       "7   Nov             2998        11\n",
       "1   Dec             1727        12"
      ]
     },
     "metadata": {},
     "output_type": "display_data"
    },
    {
     "data": {
      "image/png": "[encoded data removed]",
      "text/plain": [
       "<Figure size 1440x720 with 1 Axes>"
      ]
     },
     "metadata": {
      "needs_background": "light"
     },
     "output_type": "display_data"
    }
   ],
   "source": [
    "#re-ordered the month sequence\n",
    "month = data.groupby('Month')['Index'].size().reset_index(name = 'Shoppers number')\n",
    "month['Month_No'] = [8,12,2,7,6,3,5,11,10,9]\n",
    "month_ordered = month.sort_values(by='Month_No')\n",
    "display(month_ordered)\n",
    "#plot the distribution\n",
    "month_label = ('Feb','Mar','May','June','Jul','Aug','Sep','Oct','Nov','Dec')\n",
    "fig,ax = plt.subplots(figsize=(20,10))\n",
    "plt.bar(month_label,month_ordered['Shoppers number'])\n",
    "plt.ylabel('Shoppers number',fontsize = 20)\n",
    "plt.title('Number of shoppers in month distribution',fontsize = 20)\n",
    "plt.xticks(fontsize=20)\n",
    "plt.yticks(fontsize=15)\n",
    "\n",
    "#plot the mean value line\n",
    "mean = month_ordered['Shoppers number'].mean()\n",
    "ax.axhline(mean,color = 'red')\n",
    "\n",
    "#plot lengend\n",
    "import matplotlib.patches as mpatches\n",
    "import matplotlib.lines as mlines\n",
    "monthly_num = mpatches.Patch(color='blue', label='The monthly numbers')\n",
    "monthly_avg = mlines.Line2D([],[], color='red', label='monthly average')\n",
    "plt.legend(handles=[monthly_avg,monthly_num],loc=2);"
   ]
  },
  {
   "cell_type": "markdown",
   "metadata": {},
   "source": [
    "### We can find that except Nov and Dec, online shoppers shop more in May."
   ]
  },
  {
   "cell_type": "markdown",
   "metadata": {},
   "source": [
    "### <font color = \"red\"> Based on the above cells, you can tell your friend that hold an online promotion activity in May could be better</font>"
   ]
  },
  {
   "cell_type": "markdown",
   "metadata": {},
   "source": [
    "### Last, let's try to find some difference between new visitor and return visitor"
   ]
  },
  {
   "cell_type": "markdown",
   "metadata": {},
   "source": [
    "#### Add a column to show the total time a shopper spend in all kinds of pages"
   ]
  },
  {
   "cell_type": "code",
   "execution_count": 14,
   "metadata": {},
   "outputs": [
    {
     "data": {
      "text/html": [
       "<div>\n",
       "<style scoped>\n",
       "    .dataframe tbody tr th:only-of-type {\n",
       "        vertical-align: middle;\n",
       "    }\n",
       "\n",
       "    .dataframe tbody tr th {\n",
       "        vertical-align: top;\n",
       "    }\n",
       "\n",
       "    .dataframe thead th {\n",
       "        text-align: right;\n",
       "    }\n",
       "</style>\n",
       "<table border=\"1\" class=\"dataframe\">\n",
       "  <thead>\n",
       "    <tr style=\"text-align: right;\">\n",
       "      <th></th>\n",
       "      <th>Total_Duration</th>\n",
       "    </tr>\n",
       "  </thead>\n",
       "  <tbody>\n",
       "    <tr>\n",
       "      <th>0</th>\n",
       "      <td>0.000000</td>\n",
       "    </tr>\n",
       "    <tr>\n",
       "      <th>1</th>\n",
       "      <td>64.000000</td>\n",
       "    </tr>\n",
       "    <tr>\n",
       "      <th>2</th>\n",
       "      <td>0.000000</td>\n",
       "    </tr>\n",
       "    <tr>\n",
       "      <th>3</th>\n",
       "      <td>2.666667</td>\n",
       "    </tr>\n",
       "    <tr>\n",
       "      <th>4</th>\n",
       "      <td>627.500000</td>\n",
       "    </tr>\n",
       "  </tbody>\n",
       "</table>\n",
       "</div>"
      ],
      "text/plain": [
       "   Total_Duration\n",
       "0        0.000000\n",
       "1       64.000000\n",
       "2        0.000000\n",
       "3        2.666667\n",
       "4      627.500000"
      ]
     },
     "execution_count": 14,
     "metadata": {},
     "output_type": "execute_result"
    }
   ],
   "source": [
    "# add a column[Total_Duration] to show hoy much total time \n",
    "# (Administrative_Duration + Informational_Duration + ProductRelated_Duration) a shopper spend\n",
    "data['Total_Duration'] = data['Administrative_Duration'] + data['Informational_Duration'] + data['ProductRelated_Duration']\n",
    "data[['Total_Duration']].head()"
   ]
  },
  {
   "cell_type": "code",
   "execution_count": 15,
   "metadata": {},
   "outputs": [
    {
     "data": {
      "text/html": [
       "<div>\n",
       "<style scoped>\n",
       "    .dataframe tbody tr th:only-of-type {\n",
       "        vertical-align: middle;\n",
       "    }\n",
       "\n",
       "    .dataframe tbody tr th {\n",
       "        vertical-align: top;\n",
       "    }\n",
       "\n",
       "    .dataframe thead tr th {\n",
       "        text-align: left;\n",
       "    }\n",
       "\n",
       "    .dataframe thead tr:last-of-type th {\n",
       "        text-align: right;\n",
       "    }\n",
       "</style>\n",
       "<table border=\"1\" class=\"dataframe\">\n",
       "  <thead>\n",
       "    <tr>\n",
       "      <th></th>\n",
       "      <th colspan=\"2\" halign=\"left\">Total_Duration</th>\n",
       "    </tr>\n",
       "    <tr>\n",
       "      <th></th>\n",
       "      <th>mean</th>\n",
       "      <th>median</th>\n",
       "    </tr>\n",
       "    <tr>\n",
       "      <th>VisitorType</th>\n",
       "      <th></th>\n",
       "      <th></th>\n",
       "    </tr>\n",
       "  </thead>\n",
       "  <tbody>\n",
       "    <tr>\n",
       "      <th>New_Visitor</th>\n",
       "      <td>747.542141</td>\n",
       "      <td>500.75</td>\n",
       "    </tr>\n",
       "    <tr>\n",
       "      <th>Other</th>\n",
       "      <td>644.785941</td>\n",
       "      <td>199.25</td>\n",
       "    </tr>\n",
       "    <tr>\n",
       "      <th>Returning_Visitor</th>\n",
       "      <td>1405.707121</td>\n",
       "      <td>736.00</td>\n",
       "    </tr>\n",
       "  </tbody>\n",
       "</table>\n",
       "</div>"
      ],
      "text/plain": [
       "                  Total_Duration        \n",
       "                            mean  median\n",
       "VisitorType                             \n",
       "New_Visitor           747.542141  500.75\n",
       "Other                 644.785941  199.25\n",
       "Returning_Visitor    1405.707121  736.00"
      ]
     },
     "execution_count": 15,
     "metadata": {},
     "output_type": "execute_result"
    }
   ],
   "source": [
    "# show mean and median of total_duration between different visitortype\n",
    "data.groupby('VisitorType')[['Total_Duration']].aggregate(['mean','median'])"
   ]
  },
  {
   "cell_type": "markdown",
   "metadata": {},
   "source": [
    "#### It shows returning visitor spend more time on the online shopping website. You can also get a deeper look about the difference among  regions"
   ]
  },
  {
   "cell_type": "code",
   "execution_count": 17,
   "metadata": {},
   "outputs": [
    {
     "data": {
      "text/html": [
       "<div>\n",
       "<style scoped>\n",
       "    .dataframe tbody tr th:only-of-type {\n",
       "        vertical-align: middle;\n",
       "    }\n",
       "\n",
       "    .dataframe tbody tr th {\n",
       "        vertical-align: top;\n",
       "    }\n",
       "\n",
       "    .dataframe thead tr th {\n",
       "        text-align: left;\n",
       "    }\n",
       "\n",
       "    .dataframe thead tr:last-of-type th {\n",
       "        text-align: right;\n",
       "    }\n",
       "</style>\n",
       "<table border=\"1\" class=\"dataframe\">\n",
       "  <thead>\n",
       "    <tr>\n",
       "      <th></th>\n",
       "      <th colspan=\"3\" halign=\"left\">mean</th>\n",
       "      <th colspan=\"3\" halign=\"left\">median</th>\n",
       "    </tr>\n",
       "    <tr>\n",
       "      <th>VisitorType</th>\n",
       "      <th>New_Visitor</th>\n",
       "      <th>Other</th>\n",
       "      <th>Returning_Visitor</th>\n",
       "      <th>New_Visitor</th>\n",
       "      <th>Other</th>\n",
       "      <th>Returning_Visitor</th>\n",
       "    </tr>\n",
       "    <tr>\n",
       "      <th>Region</th>\n",
       "      <th></th>\n",
       "      <th></th>\n",
       "      <th></th>\n",
       "      <th></th>\n",
       "      <th></th>\n",
       "      <th></th>\n",
       "    </tr>\n",
       "  </thead>\n",
       "  <tbody>\n",
       "    <tr>\n",
       "      <th>1</th>\n",
       "      <td>699.179488</td>\n",
       "      <td>146.802083</td>\n",
       "      <td>1506.239403</td>\n",
       "      <td>475.422222</td>\n",
       "      <td>29.750000</td>\n",
       "      <td>734.561039</td>\n",
       "    </tr>\n",
       "    <tr>\n",
       "      <th>2</th>\n",
       "      <td>699.308605</td>\n",
       "      <td>253.500000</td>\n",
       "      <td>1402.636699</td>\n",
       "      <td>436.000000</td>\n",
       "      <td>0.000000</td>\n",
       "      <td>783.791667</td>\n",
       "    </tr>\n",
       "    <tr>\n",
       "      <th>3</th>\n",
       "      <td>840.070166</td>\n",
       "      <td>46.062500</td>\n",
       "      <td>1381.361269</td>\n",
       "      <td>539.029167</td>\n",
       "      <td>45.750000</td>\n",
       "      <td>737.166667</td>\n",
       "    </tr>\n",
       "    <tr>\n",
       "      <th>4</th>\n",
       "      <td>752.840459</td>\n",
       "      <td>363.550000</td>\n",
       "      <td>1301.451655</td>\n",
       "      <td>502.133333</td>\n",
       "      <td>343.000000</td>\n",
       "      <td>730.857738</td>\n",
       "    </tr>\n",
       "    <tr>\n",
       "      <th>5</th>\n",
       "      <td>769.732781</td>\n",
       "      <td>NaN</td>\n",
       "      <td>1360.120135</td>\n",
       "      <td>558.983333</td>\n",
       "      <td>NaN</td>\n",
       "      <td>712.850000</td>\n",
       "    </tr>\n",
       "    <tr>\n",
       "      <th>6</th>\n",
       "      <td>712.352741</td>\n",
       "      <td>133.500000</td>\n",
       "      <td>1209.852837</td>\n",
       "      <td>516.000000</td>\n",
       "      <td>133.500000</td>\n",
       "      <td>709.733333</td>\n",
       "    </tr>\n",
       "    <tr>\n",
       "      <th>7</th>\n",
       "      <td>766.459389</td>\n",
       "      <td>65.250000</td>\n",
       "      <td>1324.451794</td>\n",
       "      <td>564.251136</td>\n",
       "      <td>65.250000</td>\n",
       "      <td>747.907778</td>\n",
       "    </tr>\n",
       "    <tr>\n",
       "      <th>8</th>\n",
       "      <td>850.061008</td>\n",
       "      <td>396.166667</td>\n",
       "      <td>1296.368221</td>\n",
       "      <td>554.977083</td>\n",
       "      <td>396.166667</td>\n",
       "      <td>770.028571</td>\n",
       "    </tr>\n",
       "    <tr>\n",
       "      <th>9</th>\n",
       "      <td>780.434693</td>\n",
       "      <td>900.335848</td>\n",
       "      <td>1370.103029</td>\n",
       "      <td>539.250000</td>\n",
       "      <td>381.500000</td>\n",
       "      <td>602.750000</td>\n",
       "    </tr>\n",
       "  </tbody>\n",
       "</table>\n",
       "</div>"
      ],
      "text/plain": [
       "                   mean                                    median              \\\n",
       "VisitorType New_Visitor       Other Returning_Visitor New_Visitor       Other   \n",
       "Region                                                                          \n",
       "1            699.179488  146.802083       1506.239403  475.422222   29.750000   \n",
       "2            699.308605  253.500000       1402.636699  436.000000    0.000000   \n",
       "3            840.070166   46.062500       1381.361269  539.029167   45.750000   \n",
       "4            752.840459  363.550000       1301.451655  502.133333  343.000000   \n",
       "5            769.732781         NaN       1360.120135  558.983333         NaN   \n",
       "6            712.352741  133.500000       1209.852837  516.000000  133.500000   \n",
       "7            766.459389   65.250000       1324.451794  564.251136   65.250000   \n",
       "8            850.061008  396.166667       1296.368221  554.977083  396.166667   \n",
       "9            780.434693  900.335848       1370.103029  539.250000  381.500000   \n",
       "\n",
       "                               \n",
       "VisitorType Returning_Visitor  \n",
       "Region                         \n",
       "1                  734.561039  \n",
       "2                  783.791667  \n",
       "3                  737.166667  \n",
       "4                  730.857738  \n",
       "5                  712.850000  \n",
       "6                  709.733333  \n",
       "7                  747.907778  \n",
       "8                  770.028571  \n",
       "9                  602.750000  "
      ]
     },
     "execution_count": 17,
     "metadata": {},
     "output_type": "execute_result"
    }
   ],
   "source": [
    "# Whether each type of visitors have similiar behaviors in different regions\n",
    "data.groupby(['Region', 'VisitorType'])['Total_Duration'].aggregate(['mean','median']).unstack()"
   ]
  },
  {
   "cell_type": "markdown",
   "metadata": {},
   "source": [
    "#### Based on the median values, there seems no significant difference among regions"
   ]
  },
  {
   "cell_type": "markdown",
   "metadata": {},
   "source": [
    "### Here just show some simple analysis, you can compare other parts among different visitor types. And you could get different conclusions based on your analysis."
   ]
  },
  {
   "cell_type": "markdown",
   "metadata": {},
   "source": [
    "### <font color = \"red\"> Based on the simple analysis above, you can tell your friend that returning visitor seems spend more time on the website</font>"
   ]
  },
  {
   "cell_type": "markdown",
   "metadata": {},
   "source": [
    "## This notebook provides an example about using Pandas and Matplotlib to help us find some useful infomation. Pandas and Matplotlib are very powerful packages, besides the above usage, they provide lots of other useful functions. If you are interested in those functions, please refer to:\n",
    "### Pandas: https://pandas.pydata.org/\n",
    "### Matplotlib: https://matplotlib.org/"
   ]
  },
  {
   "cell_type": "code",
   "execution_count": null,
   "metadata": {},
   "outputs": [],
   "source": []
  }
 ],
 "metadata": {
  "kernelspec": {
   "display_name": "Python 3",
   "language": "python",
   "name": "python3"
  },
  "language_info": {
   "codemirror_mode": {
    "name": "ipython",
    "version": 3
   },
   "file_extension": ".py",
   "mimetype": "text/x-python",
   "name": "python",
   "nbconvert_exporter": "python",
   "pygments_lexer": "ipython3",
   "version": "3.8.8"
  }
 },
 "nbformat": 4,
 "nbformat_minor": 4
}
