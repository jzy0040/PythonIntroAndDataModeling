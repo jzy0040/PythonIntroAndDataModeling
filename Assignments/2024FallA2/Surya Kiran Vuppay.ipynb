{
 "cells": [
  {
   "cell_type": "code",
   "execution_count": 80,
   "id": "45ff1208-1a99-497f-bde3-2d8ea2f0d25c",
   "metadata": {},
   "outputs": [],
   "source": [
    "# Question 1, Test of significance\n",
    "\n",
    "# Import libraries\n",
    "import scipy.stats as stats"
   ]
  },
  {
   "cell_type": "code",
   "execution_count": 81,
   "id": "2c588224-0905-424a-a42b-7a5ed8768388",
   "metadata": {},
   "outputs": [],
   "source": [
    "# Step 1: Define the given data for the test\n",
    "# We assume that the assembly times before and after the training program follow a normal distribution\n",
    "# This assumption allows us to use a Z-test since we know the population standard deviation\n",
    "\n",
    "# population mean before training\n",
    "pop_mean = 35\n",
    "# population standard deviation\n",
    "pop_std_dev = 5\n",
    "# sample size\n",
    "sample_size = 40\n",
    "# sample mean after training\n",
    "sample_mean = 33\n",
    "# 5% significance level\n",
    "sig_level = 0.05"
   ]
  },
  {
   "cell_type": "code",
   "execution_count": 82,
   "id": "236d1771-bb7e-40bb-81a7-f3d3f450c94a",
   "metadata": {},
   "outputs": [],
   "source": [
    "# Step 2: Set up the hypotheses\n",
    "# Null Hypothesis (H0): The average assembly time has not decreased, meaning the training had no effect (H0: μ = 35)\n",
    "# Alternative Hypothesis (H1): The average assembly time has decreased, meaning the training was effective (H1: μ < 35)"
   ]
  },
  {
   "cell_type": "code",
   "execution_count": 83,
   "id": "c7c1bfdf-6095-4329-8444-b1d8bb137f58",
   "metadata": {},
   "outputs": [],
   "source": [
    "# Step 3: Calculate the test statistic (Z-score)\n",
    "# For the Z-test, we use the formula: Z = (sample_mean - pop_mean) / (pop_std_dev / sqrt(sample_size))\n",
    "z_score = (sample_mean - pop_mean) / (pop_std_dev / (sample_size ** 0.5))"
   ]
  },
  {
   "cell_type": "code",
   "execution_count": 84,
   "id": "759039fc-3384-4784-aa86-dd901895636d",
   "metadata": {},
   "outputs": [],
   "source": [
    "# Step 4: Find the critical value for our significance level\n",
    "# Since this is a one-tailed test, we need the critical value for the lower tail\n",
    "# We can calculate the Z-value at the 5% significance level using norm.ppf function\n",
    "critical_value = stats.norm.ppf(sig_level)"
   ]
  },
  {
   "cell_type": "code",
   "execution_count": 85,
   "id": "0513ef73-f823-4238-9307-e51993209f37",
   "metadata": {},
   "outputs": [],
   "source": [
    "# Step 5: Calculate the p-value for the observed Z-score\n",
    "# We can calculate the CDF using norm.cdf function\n",
    "p_value = stats.norm.cdf(z_score)"
   ]
  },
  {
   "cell_type": "code",
   "execution_count": 86,
   "id": "7f789d9f-e707-43d3-9d37-2bb7fc1b3167",
   "metadata": {},
   "outputs": [
    {
     "name": "stdout",
     "output_type": "stream",
     "text": [
      "Z-score: -2.5298221281347035\n",
      "Critical value: -1.6448536269514729\n",
      "P-value: 0.005706018193000826\n",
      "Reject the null hypothesis. The training program has significantly reduced the assembly time.\n"
     ]
    }
   ],
   "source": [
    "# Step 6: Make a decision based on the p-value and the significance level\n",
    "# If the p-value is less than the significance level, we reject the null hypothesis\n",
    "# If the p-value is greater than the significance level, we fail to reject the null hypothesis\n",
    "\n",
    "# Displaying results\n",
    "print(f\"Z-score: {z_score}\")\n",
    "print(f\"Critical value: {critical_value}\")\n",
    "print(f\"P-value: {p_value}\")\n",
    "\n",
    "# Conclusion\n",
    "if p_value < sig_level:\n",
    "    print(\"Reject the null hypothesis. The training program has significantly reduced the assembly time.\")\n",
    "else:\n",
    "    print(\"Fail to reject the null hypothesis. There is not enough evidence to conclude that the training program reduced the assembly time.\")"
   ]
  },
  {
   "cell_type": "code",
   "execution_count": 87,
   "id": "326f5d84-9b82-4127-893b-51c18fc6ff50",
   "metadata": {},
   "outputs": [],
   "source": [
    "# Question 2, Test of significance\n",
    "\n",
    "# Import libraries\n",
    "import scipy.stats as stats"
   ]
  },
  {
   "cell_type": "code",
   "execution_count": 88,
   "id": "2945f8c2-b001-4ace-beb6-795f82c90612",
   "metadata": {},
   "outputs": [],
   "source": [
    "# Step 1: State the initial assumption of population distribution\n",
    "# We assume that the study hours before and after study follow a normal distribution\n",
    "# This assumption allows us to use a t-test since we know the sample standard deviation\n",
    "\n",
    "# Hypothesized population mean\n",
    "pop_mean = 25\n",
    "# Number of students in the sample\n",
    "sample_size = 15\n",
    "# Sample mean study time in hours\n",
    "sample_mean = 27\n",
    "# Sample standard deviation of study time\n",
    "sample_std_dev = 4.5\n",
    "# 5% significance level\n",
    "sig_level = 0.05"
   ]
  },
  {
   "cell_type": "code",
   "execution_count": 89,
   "id": "fa8fbb73-2ab8-4f5f-974f-75d8e57e7b32",
   "metadata": {},
   "outputs": [],
   "source": [
    "# Step 2: State the hypotheses\n",
    "# Null Hypothesis (H0): The mean study time for graduate students is 25 hours per week (H0: μ = 25)\n",
    "# Alternative Hypothesis (H1): The mean study time for graduate students is greater than 25 hours per week (H1: μ > 25)"
   ]
  },
  {
   "cell_type": "code",
   "execution_count": 90,
   "id": "d4bbf544-2ab8-4775-8782-d9ff33f2909e",
   "metadata": {},
   "outputs": [],
   "source": [
    "# Step 3: Calculate the test statistic\n",
    "# For the t-test, we can use the formula: t = (sample_mean - pop_mean) / (sample_std_dev / sqrt(sample_size))\n",
    "t_statistic = (sample_mean - pop_mean) / (sample_std_dev / (sample_size ** 0.5))"
   ]
  },
  {
   "cell_type": "code",
   "execution_count": 91,
   "id": "f7900a8a-ccba-486a-a616-057091fdad04",
   "metadata": {},
   "outputs": [],
   "source": [
    "# Step 4: Find the critical value for our significance level\n",
    "# Since this is a one-tailed test, we need the critical value for the upper tail\n",
    "df = sample_size - 1\n",
    "# We can calculate the Z-value at the 5% significance level using stats.t.ppf function\n",
    "critical_value = stats.t.ppf(1 - sig_level, df)"
   ]
  },
  {
   "cell_type": "code",
   "execution_count": 92,
   "id": "ed34bc5c-ecb3-4b1f-ab2e-0ab8e734abff",
   "metadata": {},
   "outputs": [],
   "source": [
    "# Step 5: Calculate the p-value for the observed Z-score\n",
    "# We can calculate the SF using stats.t.sf function\n",
    "p_value = stats.t.sf(t_statistic, df)"
   ]
  },
  {
   "cell_type": "code",
   "execution_count": 93,
   "id": "b6822aa9-66a3-4d10-9bd0-3eb0deb00257",
   "metadata": {},
   "outputs": [
    {
     "name": "stdout",
     "output_type": "stream",
     "text": [
      "Test Statistic (t): 1.7213259316477407\n",
      "Critical Value: 1.7613101357748562\n",
      "P-Value: 0.05360191367469441\n",
      "Fail to reject the null hypothesis: There is insufficient evidence that graduate students study more than 25 hours per week on average.\n"
     ]
    }
   ],
   "source": [
    "# Step 6: Make a decision based on the critical value, p-value and the significance level\n",
    "# If the t-statistic is less than the critical value or p-value greater than significance level, we fail to reject the null hypothesis\n",
    "# If the t-statistic is greater than the critical value or p-value less than significance level, we reject the null hypothesis\n",
    "\n",
    "# Displaying results\n",
    "print(\"Test Statistic (t):\", t_statistic)\n",
    "print(\"Critical Value:\", critical_value)\n",
    "print(\"P-Value:\", p_value)\n",
    "\n",
    "# Conclusion\n",
    "if t_statistic > critical_value:\n",
    "    print(\"Reject the null hypothesis: There is evidence that graduate students study more than 25 hours per week on average.\")\n",
    "else:\n",
    "    print(\"Fail to reject the null hypothesis: There is insufficient evidence that graduate students study more than 25 hours per week on average.\")"
   ]
  },
  {
   "cell_type": "code",
   "execution_count": 94,
   "id": "1158c243-783a-4dcd-ae9d-3421de910ae1",
   "metadata": {},
   "outputs": [],
   "source": [
    "# Regression\n",
    "\n",
    "# Import libraries\n",
    "import pandas as pd\n",
    "import numpy as np\n",
    "import matplotlib.pyplot as plt\n",
    "import seaborn as sns\n",
    "from sklearn.linear_model import LinearRegression\n",
    "from sklearn.model_selection import train_test_split\n",
    "from sklearn.metrics import mean_squared_error, r2_score\n",
    "from sklearn.metrics import mean_absolute_error, mean_absolute_percentage_error, mean_squared_error\n",
    "from scipy import stats\n",
    "from scipy.stats import shapiro"
   ]
  },
  {
   "cell_type": "code",
   "execution_count": 95,
   "id": "6a3710b5-f712-4779-8464-a7e4ff34008f",
   "metadata": {},
   "outputs": [
    {
     "data": {
      "image/png": "[encoded data removed]",
      "text/plain": [
       "<Figure size 640x480 with 1 Axes>"
      ]
     },
     "metadata": {},
     "output_type": "display_data"
    }
   ],
   "source": [
    "# Define the data\n",
    "data = {\n",
    "    \"Hours_of_Study\": [5, 5, 7, 3, 0, 5, 2, 7, 4, 2, 1, 6, 8, 5, 7, 8, 7, 8, 8, 8, 0, 8, 7, 4, 6, 7, 2, 0, 8, 4],\n",
    "    \"Score\": [52.1221, 52.1221, 72.1221, 32.1221, 2.122104, 52.1221, 22.1221, 72.1221, 42.1221, 22.1221, \n",
    "              12.1221, 62.1221, 82.1221, 52.1221, 72.1221, 82.1221, 72.1221, 82.1221, 82.1221, 82.1221,\n",
    "              2.122104, 82.1221, 72.1221, 42.1221, 62.1221, 72.1221, 22.1221, 2.122104, 82.1221, 42.1221]\n",
    "}\n",
    "\n",
    "# Create a DataFrame\n",
    "df = pd.DataFrame(data)\n",
    "\n",
    "# Defining independent variable (X) and dependent variable (Y)\n",
    "X = df['Hours_of_Study']\n",
    "y = df['Score']\n",
    "\n",
    "# scatter plot for Hours_of_Study and Score\n",
    "plt.scatter(df['Hours_of_Study'], df['Score'])\n",
    "plt.show()"
   ]
  },
  {
   "cell_type": "code",
   "execution_count": 96,
   "id": "88d192c0-0a88-403d-838b-1e4520f74cba",
   "metadata": {},
   "outputs": [
    {
     "data": {
      "text/html": [
       "<style>#sk-container-id-2 {\n",
       "  /* Definition of color scheme common for light and dark mode */\n",
       "  --sklearn-color-text: black;\n",
       "  --sklearn-color-line: gray;\n",
       "  /* Definition of color scheme for unfitted estimators */\n",
       "  --sklearn-color-unfitted-level-0: #fff5e6;\n",
       "  --sklearn-color-unfitted-level-1: #f6e4d2;\n",
       "  --sklearn-color-unfitted-level-2: #ffe0b3;\n",
       "  --sklearn-color-unfitted-level-3: chocolate;\n",
       "  /* Definition of color scheme for fitted estimators */\n",
       "  --sklearn-color-fitted-level-0: #f0f8ff;\n",
       "  --sklearn-color-fitted-level-1: #d4ebff;\n",
       "  --sklearn-color-fitted-level-2: #b3dbfd;\n",
       "  --sklearn-color-fitted-level-3: cornflowerblue;\n",
       "\n",
       "  /* Specific color for light theme */\n",
       "  --sklearn-color-text-on-default-background: var(--sg-text-color, var(--theme-code-foreground, var(--jp-content-font-color1, black)));\n",
       "  --sklearn-color-background: var(--sg-background-color, var(--theme-background, var(--jp-layout-color0, white)));\n",
       "  --sklearn-color-border-box: var(--sg-text-color, var(--theme-code-foreground, var(--jp-content-font-color1, black)));\n",
       "  --sklearn-color-icon: #696969;\n",
       "\n",
       "  @media (prefers-color-scheme: dark) {\n",
       "    /* Redefinition of color scheme for dark theme */\n",
       "    --sklearn-color-text-on-default-background: var(--sg-text-color, var(--theme-code-foreground, var(--jp-content-font-color1, white)));\n",
       "    --sklearn-color-background: var(--sg-background-color, var(--theme-background, var(--jp-layout-color0, #111)));\n",
       "    --sklearn-color-border-box: var(--sg-text-color, var(--theme-code-foreground, var(--jp-content-font-color1, white)));\n",
       "    --sklearn-color-icon: #878787;\n",
       "  }\n",
       "}\n",
       "\n",
       "#sk-container-id-2 {\n",
       "  color: var(--sklearn-color-text);\n",
       "}\n",
       "\n",
       "#sk-container-id-2 pre {\n",
       "  padding: 0;\n",
       "}\n",
       "\n",
       "#sk-container-id-2 input.sk-hidden--visually {\n",
       "  border: 0;\n",
       "  clip: rect(1px 1px 1px 1px);\n",
       "  clip: rect(1px, 1px, 1px, 1px);\n",
       "  height: 1px;\n",
       "  margin: -1px;\n",
       "  overflow: hidden;\n",
       "  padding: 0;\n",
       "  position: absolute;\n",
       "  width: 1px;\n",
       "}\n",
       "\n",
       "#sk-container-id-2 div.sk-dashed-wrapped {\n",
       "  border: 1px dashed var(--sklearn-color-line);\n",
       "  margin: 0 0.4em 0.5em 0.4em;\n",
       "  box-sizing: border-box;\n",
       "  padding-bottom: 0.4em;\n",
       "  background-color: var(--sklearn-color-background);\n",
       "}\n",
       "\n",
       "#sk-container-id-2 div.sk-container {\n",
       "  /* jupyter's `normalize.less` sets `[hidden] { display: none; }`\n",
       "     but bootstrap.min.css set `[hidden] { display: none !important; }`\n",
       "     so we also need the `!important` here to be able to override the\n",
       "     default hidden behavior on the sphinx rendered scikit-learn.org.\n",
       "     See: https://github.com/scikit-learn/scikit-learn/issues/21755 */\n",
       "  display: inline-block !important;\n",
       "  position: relative;\n",
       "}\n",
       "\n",
       "#sk-container-id-2 div.sk-text-repr-fallback {\n",
       "  display: none;\n",
       "}\n",
       "\n",
       "div.sk-parallel-item,\n",
       "div.sk-serial,\n",
       "div.sk-item {\n",
       "  /* draw centered vertical line to link estimators */\n",
       "  background-image: linear-gradient(var(--sklearn-color-text-on-default-background), var(--sklearn-color-text-on-default-background));\n",
       "  background-size: 2px 100%;\n",
       "  background-repeat: no-repeat;\n",
       "  background-position: center center;\n",
       "}\n",
       "\n",
       "/* Parallel-specific style estimator block */\n",
       "\n",
       "#sk-container-id-2 div.sk-parallel-item::after {\n",
       "  content: \"\";\n",
       "  width: 100%;\n",
       "  border-bottom: 2px solid var(--sklearn-color-text-on-default-background);\n",
       "  flex-grow: 1;\n",
       "}\n",
       "\n",
       "#sk-container-id-2 div.sk-parallel {\n",
       "  display: flex;\n",
       "  align-items: stretch;\n",
       "  justify-content: center;\n",
       "  background-color: var(--sklearn-color-background);\n",
       "  position: relative;\n",
       "}\n",
       "\n",
       "#sk-container-id-2 div.sk-parallel-item {\n",
       "  display: flex;\n",
       "  flex-direction: column;\n",
       "}\n",
       "\n",
       "#sk-container-id-2 div.sk-parallel-item:first-child::after {\n",
       "  align-self: flex-end;\n",
       "  width: 50%;\n",
       "}\n",
       "\n",
       "#sk-container-id-2 div.sk-parallel-item:last-child::after {\n",
       "  align-self: flex-start;\n",
       "  width: 50%;\n",
       "}\n",
       "\n",
       "#sk-container-id-2 div.sk-parallel-item:only-child::after {\n",
       "  width: 0;\n",
       "}\n",
       "\n",
       "/* Serial-specific style estimator block */\n",
       "\n",
       "#sk-container-id-2 div.sk-serial {\n",
       "  display: flex;\n",
       "  flex-direction: column;\n",
       "  align-items: center;\n",
       "  background-color: var(--sklearn-color-background);\n",
       "  padding-right: 1em;\n",
       "  padding-left: 1em;\n",
       "}\n",
       "\n",
       "\n",
       "/* Toggleable style: style used for estimator/Pipeline/ColumnTransformer box that is\n",
       "clickable and can be expanded/collapsed.\n",
       "- Pipeline and ColumnTransformer use this feature and define the default style\n",
       "- Estimators will overwrite some part of the style using the `sk-estimator` class\n",
       "*/\n",
       "\n",
       "/* Pipeline and ColumnTransformer style (default) */\n",
       "\n",
       "#sk-container-id-2 div.sk-toggleable {\n",
       "  /* Default theme specific background. It is overwritten whether we have a\n",
       "  specific estimator or a Pipeline/ColumnTransformer */\n",
       "  background-color: var(--sklearn-color-background);\n",
       "}\n",
       "\n",
       "/* Toggleable label */\n",
       "#sk-container-id-2 label.sk-toggleable__label {\n",
       "  cursor: pointer;\n",
       "  display: block;\n",
       "  width: 100%;\n",
       "  margin-bottom: 0;\n",
       "  padding: 0.5em;\n",
       "  box-sizing: border-box;\n",
       "  text-align: center;\n",
       "}\n",
       "\n",
       "#sk-container-id-2 label.sk-toggleable__label-arrow:before {\n",
       "  /* Arrow on the left of the label */\n",
       "  content: \"▸\";\n",
       "  float: left;\n",
       "  margin-right: 0.25em;\n",
       "  color: var(--sklearn-color-icon);\n",
       "}\n",
       "\n",
       "#sk-container-id-2 label.sk-toggleable__label-arrow:hover:before {\n",
       "  color: var(--sklearn-color-text);\n",
       "}\n",
       "\n",
       "/* Toggleable content - dropdown */\n",
       "\n",
       "#sk-container-id-2 div.sk-toggleable__content {\n",
       "  max-height: 0;\n",
       "  max-width: 0;\n",
       "  overflow: hidden;\n",
       "  text-align: left;\n",
       "  /* unfitted */\n",
       "  background-color: var(--sklearn-color-unfitted-level-0);\n",
       "}\n",
       "\n",
       "#sk-container-id-2 div.sk-toggleable__content.fitted {\n",
       "  /* fitted */\n",
       "  background-color: var(--sklearn-color-fitted-level-0);\n",
       "}\n",
       "\n",
       "#sk-container-id-2 div.sk-toggleable__content pre {\n",
       "  margin: 0.2em;\n",
       "  border-radius: 0.25em;\n",
       "  color: var(--sklearn-color-text);\n",
       "  /* unfitted */\n",
       "  background-color: var(--sklearn-color-unfitted-level-0);\n",
       "}\n",
       "\n",
       "#sk-container-id-2 div.sk-toggleable__content.fitted pre {\n",
       "  /* unfitted */\n",
       "  background-color: var(--sklearn-color-fitted-level-0);\n",
       "}\n",
       "\n",
       "#sk-container-id-2 input.sk-toggleable__control:checked~div.sk-toggleable__content {\n",
       "  /* Expand drop-down */\n",
       "  max-height: 200px;\n",
       "  max-width: 100%;\n",
       "  overflow: auto;\n",
       "}\n",
       "\n",
       "#sk-container-id-2 input.sk-toggleable__control:checked~label.sk-toggleable__label-arrow:before {\n",
       "  content: \"▾\";\n",
       "}\n",
       "\n",
       "/* Pipeline/ColumnTransformer-specific style */\n",
       "\n",
       "#sk-container-id-2 div.sk-label input.sk-toggleable__control:checked~label.sk-toggleable__label {\n",
       "  color: var(--sklearn-color-text);\n",
       "  background-color: var(--sklearn-color-unfitted-level-2);\n",
       "}\n",
       "\n",
       "#sk-container-id-2 div.sk-label.fitted input.sk-toggleable__control:checked~label.sk-toggleable__label {\n",
       "  background-color: var(--sklearn-color-fitted-level-2);\n",
       "}\n",
       "\n",
       "/* Estimator-specific style */\n",
       "\n",
       "/* Colorize estimator box */\n",
       "#sk-container-id-2 div.sk-estimator input.sk-toggleable__control:checked~label.sk-toggleable__label {\n",
       "  /* unfitted */\n",
       "  background-color: var(--sklearn-color-unfitted-level-2);\n",
       "}\n",
       "\n",
       "#sk-container-id-2 div.sk-estimator.fitted input.sk-toggleable__control:checked~label.sk-toggleable__label {\n",
       "  /* fitted */\n",
       "  background-color: var(--sklearn-color-fitted-level-2);\n",
       "}\n",
       "\n",
       "#sk-container-id-2 div.sk-label label.sk-toggleable__label,\n",
       "#sk-container-id-2 div.sk-label label {\n",
       "  /* The background is the default theme color */\n",
       "  color: var(--sklearn-color-text-on-default-background);\n",
       "}\n",
       "\n",
       "/* On hover, darken the color of the background */\n",
       "#sk-container-id-2 div.sk-label:hover label.sk-toggleable__label {\n",
       "  color: var(--sklearn-color-text);\n",
       "  background-color: var(--sklearn-color-unfitted-level-2);\n",
       "}\n",
       "\n",
       "/* Label box, darken color on hover, fitted */\n",
       "#sk-container-id-2 div.sk-label.fitted:hover label.sk-toggleable__label.fitted {\n",
       "  color: var(--sklearn-color-text);\n",
       "  background-color: var(--sklearn-color-fitted-level-2);\n",
       "}\n",
       "\n",
       "/* Estimator label */\n",
       "\n",
       "#sk-container-id-2 div.sk-label label {\n",
       "  font-family: monospace;\n",
       "  font-weight: bold;\n",
       "  display: inline-block;\n",
       "  line-height: 1.2em;\n",
       "}\n",
       "\n",
       "#sk-container-id-2 div.sk-label-container {\n",
       "  text-align: center;\n",
       "}\n",
       "\n",
       "/* Estimator-specific */\n",
       "#sk-container-id-2 div.sk-estimator {\n",
       "  font-family: monospace;\n",
       "  border: 1px dotted var(--sklearn-color-border-box);\n",
       "  border-radius: 0.25em;\n",
       "  box-sizing: border-box;\n",
       "  margin-bottom: 0.5em;\n",
       "  /* unfitted */\n",
       "  background-color: var(--sklearn-color-unfitted-level-0);\n",
       "}\n",
       "\n",
       "#sk-container-id-2 div.sk-estimator.fitted {\n",
       "  /* fitted */\n",
       "  background-color: var(--sklearn-color-fitted-level-0);\n",
       "}\n",
       "\n",
       "/* on hover */\n",
       "#sk-container-id-2 div.sk-estimator:hover {\n",
       "  /* unfitted */\n",
       "  background-color: var(--sklearn-color-unfitted-level-2);\n",
       "}\n",
       "\n",
       "#sk-container-id-2 div.sk-estimator.fitted:hover {\n",
       "  /* fitted */\n",
       "  background-color: var(--sklearn-color-fitted-level-2);\n",
       "}\n",
       "\n",
       "/* Specification for estimator info (e.g. \"i\" and \"?\") */\n",
       "\n",
       "/* Common style for \"i\" and \"?\" */\n",
       "\n",
       ".sk-estimator-doc-link,\n",
       "a:link.sk-estimator-doc-link,\n",
       "a:visited.sk-estimator-doc-link {\n",
       "  float: right;\n",
       "  font-size: smaller;\n",
       "  line-height: 1em;\n",
       "  font-family: monospace;\n",
       "  background-color: var(--sklearn-color-background);\n",
       "  border-radius: 1em;\n",
       "  height: 1em;\n",
       "  width: 1em;\n",
       "  text-decoration: none !important;\n",
       "  margin-left: 1ex;\n",
       "  /* unfitted */\n",
       "  border: var(--sklearn-color-unfitted-level-1) 1pt solid;\n",
       "  color: var(--sklearn-color-unfitted-level-1);\n",
       "}\n",
       "\n",
       ".sk-estimator-doc-link.fitted,\n",
       "a:link.sk-estimator-doc-link.fitted,\n",
       "a:visited.sk-estimator-doc-link.fitted {\n",
       "  /* fitted */\n",
       "  border: var(--sklearn-color-fitted-level-1) 1pt solid;\n",
       "  color: var(--sklearn-color-fitted-level-1);\n",
       "}\n",
       "\n",
       "/* On hover */\n",
       "div.sk-estimator:hover .sk-estimator-doc-link:hover,\n",
       ".sk-estimator-doc-link:hover,\n",
       "div.sk-label-container:hover .sk-estimator-doc-link:hover,\n",
       ".sk-estimator-doc-link:hover {\n",
       "  /* unfitted */\n",
       "  background-color: var(--sklearn-color-unfitted-level-3);\n",
       "  color: var(--sklearn-color-background);\n",
       "  text-decoration: none;\n",
       "}\n",
       "\n",
       "div.sk-estimator.fitted:hover .sk-estimator-doc-link.fitted:hover,\n",
       ".sk-estimator-doc-link.fitted:hover,\n",
       "div.sk-label-container:hover .sk-estimator-doc-link.fitted:hover,\n",
       ".sk-estimator-doc-link.fitted:hover {\n",
       "  /* fitted */\n",
       "  background-color: var(--sklearn-color-fitted-level-3);\n",
       "  color: var(--sklearn-color-background);\n",
       "  text-decoration: none;\n",
       "}\n",
       "\n",
       "/* Span, style for the box shown on hovering the info icon */\n",
       ".sk-estimator-doc-link span {\n",
       "  display: none;\n",
       "  z-index: 9999;\n",
       "  position: relative;\n",
       "  font-weight: normal;\n",
       "  right: .2ex;\n",
       "  padding: .5ex;\n",
       "  margin: .5ex;\n",
       "  width: min-content;\n",
       "  min-width: 20ex;\n",
       "  max-width: 50ex;\n",
       "  color: var(--sklearn-color-text);\n",
       "  box-shadow: 2pt 2pt 4pt #999;\n",
       "  /* unfitted */\n",
       "  background: var(--sklearn-color-unfitted-level-0);\n",
       "  border: .5pt solid var(--sklearn-color-unfitted-level-3);\n",
       "}\n",
       "\n",
       ".sk-estimator-doc-link.fitted span {\n",
       "  /* fitted */\n",
       "  background: var(--sklearn-color-fitted-level-0);\n",
       "  border: var(--sklearn-color-fitted-level-3);\n",
       "}\n",
       "\n",
       ".sk-estimator-doc-link:hover span {\n",
       "  display: block;\n",
       "}\n",
       "\n",
       "/* \"?\"-specific style due to the `<a>` HTML tag */\n",
       "\n",
       "#sk-container-id-2 a.estimator_doc_link {\n",
       "  float: right;\n",
       "  font-size: 1rem;\n",
       "  line-height: 1em;\n",
       "  font-family: monospace;\n",
       "  background-color: var(--sklearn-color-background);\n",
       "  border-radius: 1rem;\n",
       "  height: 1rem;\n",
       "  width: 1rem;\n",
       "  text-decoration: none;\n",
       "  /* unfitted */\n",
       "  color: var(--sklearn-color-unfitted-level-1);\n",
       "  border: var(--sklearn-color-unfitted-level-1) 1pt solid;\n",
       "}\n",
       "\n",
       "#sk-container-id-2 a.estimator_doc_link.fitted {\n",
       "  /* fitted */\n",
       "  border: var(--sklearn-color-fitted-level-1) 1pt solid;\n",
       "  color: var(--sklearn-color-fitted-level-1);\n",
       "}\n",
       "\n",
       "/* On hover */\n",
       "#sk-container-id-2 a.estimator_doc_link:hover {\n",
       "  /* unfitted */\n",
       "  background-color: var(--sklearn-color-unfitted-level-3);\n",
       "  color: var(--sklearn-color-background);\n",
       "  text-decoration: none;\n",
       "}\n",
       "\n",
       "#sk-container-id-2 a.estimator_doc_link.fitted:hover {\n",
       "  /* fitted */\n",
       "  background-color: var(--sklearn-color-fitted-level-3);\n",
       "}\n",
       "</style><div id=\"sk-container-id-2\" class=\"sk-top-container\"><div class=\"sk-text-repr-fallback\"><pre>LinearRegression()</pre><b>In a Jupyter environment, please rerun this cell to show the HTML representation or trust the notebook. <br />On GitHub, the HTML representation is unable to render, please try loading this page with nbviewer.org.</b></div><div class=\"sk-container\" hidden><div class=\"sk-item\"><div class=\"sk-estimator fitted sk-toggleable\"><input class=\"sk-toggleable__control sk-hidden--visually\" id=\"sk-estimator-id-2\" type=\"checkbox\" checked><label for=\"sk-estimator-id-2\" class=\"sk-toggleable__label fitted sk-toggleable__label-arrow fitted\">&nbsp;&nbsp;LinearRegression<a class=\"sk-estimator-doc-link fitted\" rel=\"noreferrer\" target=\"_blank\" href=\"https://scikit-learn.org/1.4/modules/generated/sklearn.linear_model.LinearRegression.html\">?<span>Documentation for LinearRegression</span></a><span class=\"sk-estimator-doc-link fitted\">i<span>Fitted</span></span></label><div class=\"sk-toggleable__content fitted\"><pre>LinearRegression()</pre></div> </div></div></div></div>"
      ],
      "text/plain": [
       "LinearRegression()"
      ]
     },
     "execution_count": 96,
     "metadata": {},
     "output_type": "execute_result"
    }
   ],
   "source": [
    "# The scatterplot suggests a strong linear relationship between hours of study and exam scores, satisfying linearity.\n",
    "\n",
    "# Fit a Simple Linear Regression Model\n",
    "# Define independent variable (X) and dependent variable (y)\n",
    "X = df[['Hours_of_Study']].values.reshape(-1, 1)  # Reshape for sklearn\n",
    "y = df['Score'].values\n",
    "\n",
    "# Initialize and fit the Linear Regression model\n",
    "lin_reg = LinearRegression()\n",
    "lin_reg.fit(X, y)"
   ]
  },
  {
   "cell_type": "code",
   "execution_count": 97,
   "id": "375a5c65-e0e2-4fe8-891e-6739bfd02550",
   "metadata": {},
   "outputs": [
    {
     "data": {
      "text/plain": [
       "(2.1221018403990257, array([9.99999972]))"
      ]
     },
     "execution_count": 97,
     "metadata": {},
     "output_type": "execute_result"
    }
   ],
   "source": [
    "# Intercept and co-efficient of the Linear Regression Model\n",
    "lin_reg.intercept_, lin_reg.coef_"
   ]
  },
  {
   "cell_type": "code",
   "execution_count": 98,
   "id": "5e04fa6a-db5b-4e1b-afb8-b0bf91f262ee",
   "metadata": {},
   "outputs": [],
   "source": [
    "# Predict on the data to get fitted values\n",
    "y_pred = lin_reg.predict(X)"
   ]
  },
  {
   "cell_type": "code",
   "execution_count": 99,
   "id": "562606ff-0034-4021-bb4a-10f12ca0c4b4",
   "metadata": {},
   "outputs": [
    {
     "data": {
      "text/plain": [
       "array([52.12210042, 52.12210042, 72.12209985, 32.12210099,  2.12210184,\n",
       "       52.12210042, 22.12210127, 72.12209985, 42.1221007 , 22.12210127,\n",
       "       12.12210156, 62.12210013, 82.12209957, 52.12210042, 72.12209985,\n",
       "       82.12209957, 72.12209985, 82.12209957, 82.12209957, 82.12209957,\n",
       "        2.12210184, 82.12209957, 72.12209985, 42.1221007 , 62.12210013,\n",
       "       72.12209985, 22.12210127,  2.12210184, 82.12209957, 42.1221007 ])"
      ]
     },
     "execution_count": 99,
     "metadata": {},
     "output_type": "execute_result"
    }
   ],
   "source": [
    "# Display predicted values\n",
    "y_pred"
   ]
  },
  {
   "cell_type": "code",
   "execution_count": 100,
   "id": "9f01a50c-4103-4ae9-9e58-12402728d269",
   "metadata": {},
   "outputs": [
    {
     "name": "stdout",
     "output_type": "stream",
     "text": [
      "6.942643388185843e-07 1.1735339663772772e-07 8.63840398556478e-13\n"
     ]
    }
   ],
   "source": [
    "# Display Mean Absolute Error, Mean Absolute Percentage Error, Mean Squared Error \n",
    "print(mean_absolute_error(y, y_pred), mean_absolute_percentage_error(y, y_pred), mean_squared_error(y, y_pred))"
   ]
  },
  {
   "cell_type": "code",
   "execution_count": 101,
   "id": "a8792209-6126-4ad2-b0f9-77b8e3fec047",
   "metadata": {},
   "outputs": [
    {
     "data": {
      "image/png": "[encoded data removed]",
      "text/plain": [
       "<Figure size 640x480 with 1 Axes>"
      ]
     },
     "metadata": {},
     "output_type": "display_data"
    }
   ],
   "source": [
    "# scatter plot with Regression line for Hours_of_Study and Score\n",
    "plt.scatter(X, y, color='orange')\n",
    "plt.plot(X, y_pred, color='k')\n",
    "plt.title('Hours_of_Study vs. Score')\n",
    "plt.xlabel('Hours_of_Study')\n",
    "plt.ylabel('Score')\n",
    "plt.show()"
   ]
  },
  {
   "cell_type": "code",
   "execution_count": 102,
   "id": "610a98eb-ccd6-4d13-8b4e-e9f2f4001728",
   "metadata": {},
   "outputs": [
    {
     "name": "stdout",
     "output_type": "stream",
     "text": [
      "Shapiro-Wilk Test:\n",
      "Test Statistic: 0.8952207407744851\n",
      "p-value: 0.006429540774363637\n",
      "Sample does not look Gaussian (reject H0)\n"
     ]
    }
   ],
   "source": [
    "# Calculate the residule\n",
    "residule = y - y_pred                             \n",
    "\n",
    "# Perform Shapiro-Wilk test\n",
    "stat, p = stats.shapiro(residule)\n",
    "\n",
    "# Print the results\n",
    "print(\"Shapiro-Wilk Test:\")\n",
    "print(\"Test Statistic:\", stat)\n",
    "print(\"p-value:\", p)\n",
    "\n",
    "# Interpret the results\n",
    "alpha = 0.05\n",
    "if p > alpha:\n",
    "    print(\"Sample looks Gaussian (fail to reject H0)\")\n",
    "else:\n",
    "    print(\"Sample does not look Gaussian (reject H0)\")"
   ]
  },
  {
   "cell_type": "code",
   "execution_count": 103,
   "id": "f08995ad-bb80-4742-a7dd-02a8951d20c2",
   "metadata": {},
   "outputs": [
    {
     "name": "stdout",
     "output_type": "stream",
     "text": [
      "Mean Squared Error on Test Set: 1.3001224065061858e-12\n",
      "R-squared on Test Set: 0.9999999999999984\n"
     ]
    }
   ],
   "source": [
    "# Assumptions\n",
    "# Linearity: The scatter plot shows a linear trend, indicating a linear relationship\n",
    "# Normality: Shapiro-Wilk test p-value helps check for normality in residuals, important for prediction accuracy\n",
    "\n",
    "# Validating the model by splitting data and calculating MSE and R-squared on the test set\n",
    "\n",
    "# Split the data into training and testing sets (80% train, 20% test)\n",
    "X_train, X_test, y_train, y_test = train_test_split(X, y, test_size=0.2, random_state=42)\n",
    "\n",
    "# Fit the model on training set\n",
    "lin_reg.fit(X_train, y_train)\n",
    "\n",
    "# Predict on the test set\n",
    "y_test_pred = lin_reg.predict(X_test)\n",
    "\n",
    "# Calculate Mean Squared Error and R-squared on test set\n",
    "mse = mean_squared_error(y_test, y_test_pred)\n",
    "r2 = r2_score(y_test, y_test_pred)\n",
    "print(\"Mean Squared Error on Test Set:\", mse)\n",
    "print(\"R-squared on Test Set:\", r2)"
   ]
  },
  {
   "cell_type": "code",
   "execution_count": 104,
   "id": "5d7d8943-f9db-4d57-a8a2-3d9a292980ec",
   "metadata": {},
   "outputs": [],
   "source": [
    "# Question 3, Linear Optimization\n",
    "\n",
    "# import libraries\n",
    "from scipy.optimize import linprog"
   ]
  },
  {
   "cell_type": "code",
   "execution_count": 105,
   "id": "c9c015e2-f531-4b3c-846f-3697a8749ef8",
   "metadata": {},
   "outputs": [],
   "source": [
    "# Define the coefficients of the objective function (negative for maximization)\n",
    "c = [-1, -1, -1]  # maximize x + y + z"
   ]
  },
  {
   "cell_type": "code",
   "execution_count": 106,
   "id": "81c9893e-eca1-4de2-8434-06114f9d0155",
   "metadata": {},
   "outputs": [],
   "source": [
    "# Define the inequality matrix for the constraints\n",
    "# Each row represents a constraint with coefficients of x, y, z\n",
    "A = [\n",
    "    [2, 1, 3],  # Machine X constraint\n",
    "    [4, 3, 2]   # Machine Y constraint\n",
    "]"
   ]
  },
  {
   "cell_type": "code",
   "execution_count": 107,
   "id": "1b423896-7e19-4daf-9adc-1d4d9ea5632d",
   "metadata": {},
   "outputs": [],
   "source": [
    "# Define the RHS of each constraint (available hours of each machine)\n",
    "b = [100, 85]"
   ]
  },
  {
   "cell_type": "code",
   "execution_count": 108,
   "id": "1d62c50e-a35a-4d1d-81eb-587e2f741cbe",
   "metadata": {},
   "outputs": [],
   "source": [
    "# Define bounds for each variable (x, y, z) - non-negativity constraints\n",
    "x_bounds = (0, None)\n",
    "y_bounds = (0, None)\n",
    "z_bounds = (0, None)\n",
    "bounds = [x_bounds, y_bounds, z_bounds]"
   ]
  },
  {
   "cell_type": "code",
   "execution_count": 109,
   "id": "cd0bf176-05d4-44ef-a261-e3706c359815",
   "metadata": {},
   "outputs": [],
   "source": [
    "# Solve the linear programming problem\n",
    "result = linprog(c, A_ub=A, b_ub=b, bounds=bounds, method='highs')"
   ]
  },
  {
   "cell_type": "code",
   "execution_count": 110,
   "id": "3a315eec-734e-4d1e-8f51-7a829168cdf6",
   "metadata": {},
   "outputs": [
    {
     "name": "stdout",
     "output_type": "stream",
     "text": [
      "Optimal production quantities:\n",
      "Product A (x): 0.00\n",
      "Product B (y): 7.86\n",
      "Product C (z): 30.71\n",
      "Maximum total production output: 38.57\n"
     ]
    }
   ],
   "source": [
    "# Output the result\n",
    "if result.success:\n",
    "    print(\"Optimal production quantities:\")\n",
    "    print(f\"Product A (x): {result.x[0]:.2f}\")\n",
    "    print(f\"Product B (y): {result.x[1]:.2f}\")\n",
    "    print(f\"Product C (z): {result.x[2]:.2f}\")\n",
    "    print(f\"Maximum total production output: {-result.fun:.2f}\")\n",
    "else:\n",
    "    print(\"No optimal solution found.\")"
   ]
  }
 ],
 "metadata": {
  "kernelspec": {
   "display_name": "Python 3 (ipykernel)",
   "language": "python",
   "name": "python3"
  },
  "language_info": {
   "codemirror_mode": {
    "name": "ipython",
    "version": 3
   },
   "file_extension": ".py",
   "mimetype": "text/x-python",
   "name": "python",
   "nbconvert_exporter": "python",
   "pygments_lexer": "ipython3",
   "version": "3.11.7"
  }
 },
 "nbformat": 4,
 "nbformat_minor": 5
}
