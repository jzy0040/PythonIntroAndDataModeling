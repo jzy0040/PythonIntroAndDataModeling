{
 "cells": [
  {
   "cell_type": "markdown",
   "id": "1f98d8e0-d8e1-4e4e-b82c-92ab14c8a898",
   "metadata": {},
   "source": [
    "1.A company wants to test whether the average time taken to assemble a product has significantly decreased after implementing a new training program. Prior to the training, the average assembly time was 35 minutes with a known population standard deviation of 5 minutes. After the training, a random sample of 40 employees showed a mean assembly time of 33 minutes. Can you help the company to decide whether the new training program is necessary? give python program "
   ]
  },
  {
   "cell_type": "code",
   "execution_count": 221,
   "id": "c93f4082-abce-4024-ab28-fa110b425cfe",
   "metadata": {},
   "outputs": [],
   "source": [
    "from scipy.stats import norm\n",
    "# data\n",
    "popu_mean = 35\n",
    "sample_mean = 33\n",
    "popu_std_dev = 5 \n",
    "sample_size = 40\n",
    "alpha = 0.05"
   ]
  },
  {
   "cell_type": "code",
   "execution_count": 222,
   "id": "b970748b-54de-45c1-9116-ed5403a67779",
   "metadata": {},
   "outputs": [],
   "source": [
    "#Calculate the Z-score\n",
    "z_score = (sample_mean - popu_mean) / (popu_std_dev / (sample_size** 0.5))\n"
   ]
  },
  {
   "cell_type": "code",
   "execution_count": 223,
   "id": "5f04ceb7-6ca5-43dd-86d4-fa4cb8fd6151",
   "metadata": {},
   "outputs": [],
   "source": [
    "# Calculate the p-value \n",
    "p_value = norm.cdf(z_score)"
   ]
  },
  {
   "cell_type": "code",
   "execution_count": 224,
   "id": "63573327-14ff-48e1-9499-2e94c69c3690",
   "metadata": {},
   "outputs": [
    {
     "name": "stdout",
     "output_type": "stream",
     "text": [
      "z-score: -2.5298221281347035\n",
      "p-value: 0.005706018193000826\n",
      "reject the null hypothesis ,the program has significantly decreased the assembly time.\n"
     ]
    }
   ],
   "source": [
    "if p_value < alpha:\n",
    "    conclusion = \"reject the null hypothesis ,the program has significantly decreased the assembly time.\"\n",
    "else: \n",
    "    conclusion = \"failed to reject the null hypothesis,the  program has not significantly decreased the assembly time.\"\n",
    "print(f\"z-score: {z_score}\")\n",
    "print(f\"p-value: {p_value}\")\n",
    "print(conclusion)"
   ]
  },
  {
   "cell_type": "markdown",
   "id": "ca08e20d-5c65-4c42-a04e-73aa67f0151a",
   "metadata": {},
   "source": [
    "EXPLANATION:\n",
    "This code performs a one-sample Z-test to evaluate whether a program significantly decreases assembly time. It defines the following parameters: population mean (35), sample mean (33), population standard deviation (5), sample size (40), and significance level (alpha = 0.05). It imports the norm function from the scipy.stats package. To determine how much the sample mean differs from the population mean, the Z-score is computed. The normal cumulative distribution function is used to calculate the p-value. To determine whether to reject or not reject the null hypothesis, the code lastly compares the p-value to alpha, indicating if the program had a substantial impact."
   ]
  },
  {
   "cell_type": "markdown",
   "id": "4f90bea1-1d92-4788-a327-d0742dce3b24",
   "metadata": {},
   "source": [
    "1.2 .A university administrator wants to test whether graduate students at the institution study, on average, more than 25 hours per week. To explore this, a random sample of 15 graduate students was surveyed, and the sample mean study time was found to be 27 hours per week, with a sample standard deviation of 4.5 hours."
   ]
  },
  {
   "cell_type": "code",
   "execution_count": 225,
   "id": "1fab7cb3-74c4-4068-a1b8-98ab6098c7b5",
   "metadata": {},
   "outputs": [],
   "source": [
    "from scipy.stats import t \n",
    "#data\n",
    "popu_mean2 = 25 \n",
    "sample_mean2 = 27\n",
    "sample_std_dev2 = 4.5\n",
    "sample_size2 = 15\n",
    "alpha2 = 0.05\n",
    "\n"
   ]
  },
  {
   "cell_type": "code",
   "execution_count": 226,
   "id": "6e4ccee8-ae49-48fc-9177-1b8a4c261702",
   "metadata": {},
   "outputs": [],
   "source": [
    "#Find the critical t-score\n",
    "t_score = (sample_mean2 - popu_mean2) / (sample_std_dev2 / (sample_size2 ** 0.5))"
   ]
  },
  {
   "cell_type": "code",
   "execution_count": 227,
   "id": "185cda97-9910-4889-9554-69e55ecf9a21",
   "metadata": {},
   "outputs": [],
   "source": [
    "#Find the critical t-value\n",
    "degrees_of_freedom = sample_size2 - 1\n",
    "critical_t_value = t.ppf(1 - alpha2, degrees_of_freedom)"
   ]
  },
  {
   "cell_type": "code",
   "execution_count": 228,
   "id": "cdac8f53-ca6a-4c1a-b13e-ec76705f58a2",
   "metadata": {},
   "outputs": [],
   "source": [
    "# find the p value \n",
    "p_value = 1 - t.cdf(t_score,degrees_of_freedom)"
   ]
  },
  {
   "cell_type": "code",
   "execution_count": 229,
   "id": "7e85e249-115b-4bce-bc1b-5a064b91eccc",
   "metadata": {},
   "outputs": [
    {
     "name": "stdout",
     "output_type": "stream",
     "text": [
      "T-score: 1.7213259316477407\n",
      "critical t-value: 1.7613101357748562\n",
      "P-value: 0.05360191367469436\n",
      "Fail to reject the null hypothesis. There is no significant evidence that the average study time is more than 25 hours per week.\n"
     ]
    }
   ],
   "source": [
    "if p_value < alpha:\n",
    "    conclusion = \"reject the null hypothesis. the average study time is significantly more than 25 hours per week.\"\n",
    "else:\n",
    "    conclusion = \"Fail to reject the null hypothesis. There is no significant evidence that the average study time is more than 25 hours per week.\"\n",
    "print(f\"T-score: {t_score}\")\n",
    "print(f\"critical t-value: {critical_t_value}\")\n",
    "print(f\"P-value: {p_value}\")\n",
    "print(conclusion)"
   ]
  },
  {
   "cell_type": "markdown",
   "id": "f010da74-49fc-45ac-8032-c367751bdfa8",
   "metadata": {},
   "source": [
    "EXPLANATION:\n",
    "This code performs a one-sample t-test to assess whether the average study time significantly exceeds 25 hours per week. The parameters are population mean (25), sample mean (27), sample standard deviation (4.5), sample size (15), and significance level (alpha = 0.05). It imports the `t` module from `scipy.stats`. To find out how far the sample mean deviates from the population mean in terms of standard errors, the t-score is calculated. The t-distribution is used to determine the crucial t-value. The code determines whether or not to reject the null hypothesis by comparing the p-value (to be computed) against alpha."
   ]
  },
  {
   "cell_type": "markdown",
   "id": "8e98c1b1-4d35-44a2-9d4d-85acacb13ebe",
   "metadata": {},
   "source": [
    "2. Regression "
   ]
  },
  {
   "cell_type": "code",
   "execution_count": 230,
   "id": "363053d6-d913-4ce9-bd25-7be322e529cb",
   "metadata": {},
   "outputs": [],
   "source": [
    "import numpy as np \n",
    "import statsmodels.api as sm\n",
    "import pandas as pd\n",
    "import matplotlib.pyplot as plt\n"
   ]
  },
  {
   "cell_type": "code",
   "execution_count": 231,
   "id": "55bf393c-4f42-4dac-bda3-add837e6cf70",
   "metadata": {},
   "outputs": [],
   "source": [
    "dataset = pd.read_excel(r\"C:\\Users\\bhara\\Documents\\regression data set .xlsx\")"
   ]
  },
  {
   "cell_type": "code",
   "execution_count": 232,
   "id": "7ecab90c-3550-44b7-87a5-69c98e56d703",
   "metadata": {},
   "outputs": [],
   "source": [
    "#dataset.head()"
   ]
  },
  {
   "cell_type": "code",
   "execution_count": 233,
   "id": "208b319c-7e63-436f-9a50-cf78e43ca737",
   "metadata": {},
   "outputs": [
    {
     "data": {
      "text/html": [
       "<div>\n",
       "<style scoped>\n",
       "    .dataframe tbody tr th:only-of-type {\n",
       "        vertical-align: middle;\n",
       "    }\n",
       "\n",
       "    .dataframe tbody tr th {\n",
       "        vertical-align: top;\n",
       "    }\n",
       "\n",
       "    .dataframe thead th {\n",
       "        text-align: right;\n",
       "    }\n",
       "</style>\n",
       "<table border=\"1\" class=\"dataframe\">\n",
       "  <thead>\n",
       "    <tr style=\"text-align: right;\">\n",
       "      <th></th>\n",
       "      <th>Hours of Study</th>\n",
       "      <th>Score</th>\n",
       "      <th>Unnamed: 2</th>\n",
       "      <th>Hours of Study.1</th>\n",
       "      <th>Score.1</th>\n",
       "    </tr>\n",
       "  </thead>\n",
       "  <tbody>\n",
       "    <tr>\n",
       "      <th>10</th>\n",
       "      <td>1</td>\n",
       "      <td>12.1221</td>\n",
       "      <td>NaN</td>\n",
       "      <td>7</td>\n",
       "      <td>72.122100</td>\n",
       "    </tr>\n",
       "    <tr>\n",
       "      <th>11</th>\n",
       "      <td>6</td>\n",
       "      <td>62.1221</td>\n",
       "      <td>NaN</td>\n",
       "      <td>2</td>\n",
       "      <td>22.122100</td>\n",
       "    </tr>\n",
       "    <tr>\n",
       "      <th>12</th>\n",
       "      <td>8</td>\n",
       "      <td>82.1221</td>\n",
       "      <td>NaN</td>\n",
       "      <td>0</td>\n",
       "      <td>2.122104</td>\n",
       "    </tr>\n",
       "    <tr>\n",
       "      <th>13</th>\n",
       "      <td>5</td>\n",
       "      <td>52.1221</td>\n",
       "      <td>NaN</td>\n",
       "      <td>8</td>\n",
       "      <td>82.122100</td>\n",
       "    </tr>\n",
       "    <tr>\n",
       "      <th>14</th>\n",
       "      <td>7</td>\n",
       "      <td>72.1221</td>\n",
       "      <td>NaN</td>\n",
       "      <td>4</td>\n",
       "      <td>42.122100</td>\n",
       "    </tr>\n",
       "  </tbody>\n",
       "</table>\n",
       "</div>"
      ],
      "text/plain": [
       "    Hours of Study    Score  Unnamed: 2  Hours of Study.1    Score.1\n",
       "10               1  12.1221         NaN                 7  72.122100\n",
       "11               6  62.1221         NaN                 2  22.122100\n",
       "12               8  82.1221         NaN                 0   2.122104\n",
       "13               5  52.1221         NaN                 8  82.122100\n",
       "14               7  72.1221         NaN                 4  42.122100"
      ]
     },
     "execution_count": 233,
     "metadata": {},
     "output_type": "execute_result"
    }
   ],
   "source": [
    "dataset.tail()"
   ]
  },
  {
   "cell_type": "markdown",
   "id": "01c49c54-e3e6-4333-991b-3a3a808ef464",
   "metadata": {},
   "source": [
    "2.1 fitting a simple linear "
   ]
  },
  {
   "cell_type": "code",
   "execution_count": 234,
   "id": "39c048eb-3a74-4310-8d86-ad924ee814b0",
   "metadata": {},
   "outputs": [],
   "source": [
    "# creating a data frame\n",
    "study = pd.DataFrame(dataset)"
   ]
  },
  {
   "cell_type": "code",
   "execution_count": 235,
   "id": "ea03848b-638e-40b7-bee8-80be8dd5bf1e",
   "metadata": {},
   "outputs": [],
   "source": [
    "# extracting varibles \n",
    "X = study['Hours of Study']\n",
    "Y = study['Score']"
   ]
  },
  {
   "cell_type": "code",
   "execution_count": 236,
   "id": "1752cb37-36e6-4dd4-b5ff-9ead321214f9",
   "metadata": {},
   "outputs": [],
   "source": [
    "# adding an Intercept \n",
    "X = sm.add_constant(X)"
   ]
  },
  {
   "cell_type": "code",
   "execution_count": 237,
   "id": "9f7088f2-5d22-49ab-8700-f307e6e1a59e",
   "metadata": {},
   "outputs": [],
   "source": [
    "#Creating and Fitting the Model:\n",
    "model = sm.OLS(Y, X).fit()"
   ]
  },
  {
   "cell_type": "code",
   "execution_count": 238,
   "id": "65c0b575-0523-4b43-9e89-0491972ae855",
   "metadata": {},
   "outputs": [
    {
     "name": "stdout",
     "output_type": "stream",
     "text": [
      "                            OLS Regression Results                            \n",
      "==============================================================================\n",
      "Dep. Variable:                  Score   R-squared:                       1.000\n",
      "Model:                            OLS   Adj. R-squared:                  1.000\n",
      "Method:                 Least Squares   F-statistic:                 9.635e+15\n",
      "Date:                Wed, 30 Oct 2024   Prob (F-statistic):           4.81e-98\n",
      "Time:                        19:12:16   Log-Likelihood:                 188.26\n",
      "No. Observations:                  15   AIC:                            -372.5\n",
      "Df Residuals:                      13   BIC:                            -371.1\n",
      "Df Model:                           1                                         \n",
      "Covariance Type:            nonrobust                                         \n",
      "==================================================================================\n",
      "                     coef    std err          t      P>|t|      [0.025      0.975]\n",
      "----------------------------------------------------------------------------------\n",
      "const              2.1221   5.13e-07   4.13e+06      0.000       2.122       2.122\n",
      "Hours of Study    10.0000   1.02e-07   9.82e+07      0.000      10.000      10.000\n",
      "==============================================================================\n",
      "Omnibus:                       20.762   Durbin-Watson:                   2.257\n",
      "Prob(Omnibus):                  0.000   Jarque-Bera (JB):               21.912\n",
      "Skew:                           1.985   Prob(JB):                     1.75e-05\n",
      "Kurtosis:                       7.393   Cond. No.                         11.2\n",
      "==============================================================================\n",
      "\n",
      "Notes:\n",
      "[1] Standard Errors assume that the covariance matrix of the errors is correctly specified.\n"
     ]
    },
    {
     "name": "stderr",
     "output_type": "stream",
     "text": [
      "C:\\Users\\bhara\\anaconda3\\Lib\\site-packages\\scipy\\stats\\_axis_nan_policy.py:531: UserWarning: kurtosistest only valid for n>=20 ... continuing anyway, n=15\n",
      "  res = hypotest_fun_out(*samples, **kwds)\n"
     ]
    }
   ],
   "source": [
    "#Presenting Model Information\n",
    "print(model.summary())"
   ]
  },
  {
   "cell_type": "markdown",
   "id": "d7843e7c-b276-4c70-8f27-3a82591bd581",
   "metadata": {},
   "source": [
    "EXPLANATION:\n",
    "Using a dataset, this code snippet sets up and runs a basic linear regression analysis. \n",
    "\n",
    "The first step is to create a dataframe. To facilitate data management, the dataset is transformed into a structured table known as a DataFrame using the line study = pd.DataFrame(datase).\n",
    "2.. Variables Extraed: Both the study hours and the scores are extracted into variabe  (`study['Hours of Stuy']`) an Y (`study['Scoe']`), respectively. The independent variable in this casei X, and the dependent variable i Y.\n",
    "\n",
    "The model can incorporate an intercept by adding a constant term to X using the line X = sm.add_const.t(.\n",
    "\n",
    "Modelitting: `model = sm.OLS(Y, X).The regression model is created and fitted usi.\n",
    "\n",
    "Lastly, print(model.ummary())` presents a summary with important statistics, offering information on the connection between study hors and  score "
   ]
  },
  {
   "cell_type": "code",
   "execution_count": 239,
   "id": "6015c006-c703-4d06-b5a1-c54d9d24299d",
   "metadata": {},
   "outputs": [
    {
     "data": {
      "text/plain": [
       "<matplotlib.collections.PathCollection at 0x2c4d2991ee0>"
      ]
     },
     "execution_count": 239,
     "metadata": {},
     "output_type": "execute_result"
    },
    {
     "data": {
      "image/png": "[encoded data removed]",
      "text/plain": [
       "<Figure size 640x480 with 1 Axes>"
      ]
     },
     "metadata": {},
     "output_type": "display_data"
    }
   ],
   "source": [
    "#Displaying a Scatter Diagram\n",
    "plt.scatter(study['Hours of Study'],study['Score'])"
   ]
  },
  {
   "cell_type": "code",
   "execution_count": 240,
   "id": "57ba5ee2-4174-44f2-ac47-54f92ddaa7aa",
   "metadata": {
    "scrolled": true
   },
   "outputs": [
    {
     "data": {
      "text/plain": [
       "[<matplotlib.lines.Line2D at 0x2c4d4fdb470>]"
      ]
     },
     "execution_count": 240,
     "metadata": {},
     "output_type": "execute_result"
    },
    {
     "data": {
      "image/png": "[encoded data removed]",
      "text/plain": [
       "<Figure size 640x480 with 1 Axes>"
      ]
     },
     "metadata": {},
     "output_type": "display_data"
    }
   ],
   "source": [
    "# Displaying a Connected Plot\n",
    "plt.plot(study['Hours of Study'],study['Score'])"
   ]
  },
  {
   "cell_type": "code",
   "execution_count": 241,
   "id": "78f1fb5d-8a65-4d7b-9a2c-1b7ebf24744e",
   "metadata": {
    "scrolled": true
   },
   "outputs": [
    {
     "data": {
      "text/plain": [
       "<function matplotlib.pyplot.show(close=None, block=None)>"
      ]
     },
     "execution_count": 241,
     "metadata": {},
     "output_type": "execute_result"
    }
   ],
   "source": [
    "plt.show"
   ]
  },
  {
   "cell_type": "markdown",
   "id": "29c0fe0c-31a1-444c-94e9-c036f949e6e7",
   "metadata": {},
   "source": [
    "2.2 assumptions of simple linear regression"
   ]
  },
  {
   "cell_type": "code",
   "execution_count": 242,
   "id": "1cf597d4-c81b-428a-99af-04ed6e05aff2",
   "metadata": {},
   "outputs": [
    {
     "data": {
      "text/plain": [
       "(array([3., 2., 5., 3., 1., 0., 0., 0., 0., 1.]),\n",
       " array([-1.02446985e-06, -6.46329552e-07, -2.68189259e-07,  1.09951035e-07,\n",
       "         4.88091328e-07,  8.66231622e-07,  1.24437192e-06,  1.62251221e-06,\n",
       "         2.00065250e-06,  2.37879280e-06,  2.75693309e-06]),\n",
       " <BarContainer object of 10 artists>)"
      ]
     },
     "execution_count": 242,
     "metadata": {},
     "output_type": "execute_result"
    },
    {
     "data": {
      "image/png": "[encoded data removed]",
      "text/plain": [
       "<Figure size 1200x500 with 2 Axes>"
      ]
     },
     "metadata": {},
     "output_type": "display_data"
    }
   ],
   "source": [
    "#residual analysis \n",
    "# residual of scatter plot\n",
    "#Histogram of Residuals\n",
    "residuals = model.resid\n",
    "fig, a =  plt.subplots(1, 2, figsize=(12, 5))\n",
    "a[0].scatter(model.fittedvalues, residuals)\n",
    "a[0].axhline(0, color='red')\n",
    "a[1].hist(residuals, bins=10, edgecolor= 'black')"
   ]
  },
  {
   "cell_type": "markdown",
   "id": "86f66335-bb4d-4be6-9eb1-87bed5c1e000",
   "metadata": {},
   "source": [
    "EXPLANATION:\n",
    "This sample of code does residual analysis to assess a regression model's performance. It begins by utilizing `model.resid` to extract the residuals, or the differences between actual and anticipated values. \r\n",
    "It then use `plt.subplos` to build a figure with two plots side by side. To assist find any patterns, the first plot shows a scatter plot of residuals against the fitted values (predicted scores). The optimum residual location is shown by a red horizontal line at zero \r\n",
    "\r\n",
    "A histogram of the residuals, which is the second figure, displays their distribution and makes it possible to evaluate normality—a crucial premise in regression research."
   ]
  },
  {
   "cell_type": "markdown",
   "id": "91c63fcf-440f-4370-9b08-5e6af6681f12",
   "metadata": {},
   "source": [
    "2.3  outliers on the model"
   ]
  },
  {
   "cell_type": "code",
   "execution_count": 243,
   "id": "db7b6778-56b7-4a91-a800-02a5b12e496d",
   "metadata": {},
   "outputs": [],
   "source": [
    "#calculate predicted scores and residuals \n",
    "df[' predicted_score'] = model.predict(X)\n",
    "df['Residuals'] = df['Score'] - df['Predicted_Score']\n",
    "#Determine possible outliers using the residuals\n",
    "std_dev = np.std(df['Residuals'])\n",
    "outlier_threshold = 2 * std_dev\n",
    "outliers = df[np.abs(df['Residuals']) > outlier_threshold]\n",
    "\n"
   ]
  },
  {
   "cell_type": "markdown",
   "id": "6e775d56-7ed8-4586-9d02-de2d7f77751a",
   "metadata": {},
   "source": [
    "EXPLANATION:\n",
    "This sample of code finds outliers in the predictions made by a regression model. First, the model is used to compute the expected scores, which are then added to the DataFrame. The residuals, or the variations between actual and anticipated scores, are then calculated. \r\n",
    " it calculates the standard deviation of the residuals to measure their variation. It establishes twice the standard deviation as the threshold for outliers. In order to help find data points that could distort the results, it lastly determines which residuals above this cutoff and saves these outliers for additional examination."
   ]
  },
  {
   "cell_type": "markdown",
   "id": "154e56fb-da44-43c9-bd9f-f6a58a8b8574",
   "metadata": {},
   "source": [
    "2.4 Verifying the Model"
   ]
  },
  {
   "cell_type": "code",
   "execution_count": 244,
   "id": "da83b262-c2fe-44d6-8ee0-600332bc1ff1",
   "metadata": {},
   "outputs": [
    {
     "name": "stdout",
     "output_type": "stream",
     "text": [
      "Outliners at indices: [4]\n"
     ]
    }
   ],
   "source": [
    "from scipy import stats \n",
    "# find  z- scores of residuals \n",
    "z_scores = np.abs(stats.zscore(residuals))\n",
    "outliers = np.where(z_scores > 3 )[0]\n",
    "print(\"Outliners at indices:\", outliers)"
   ]
  },
  {
   "cell_type": "markdown",
   "id": "490b7ed2-94f1-4230-ad0f-81972cd74b5f",
   "metadata": {},
   "source": [
    "EXPLANATION:\n",
    "This bit of code uses the scipy.stats.zscore method to determine the z-scores of residuals. Z-scores enable the detection of outliers by quantifying the number of standard deviations that each residual deviates from the residuals' mean. To concentrate on the magnitude of these z-scores, the np.abs() function takes their absolute value. \n",
    "\r\n",
    "Te `p.where(z_scores > 3)[ ` line finds indices where the absolute z-score is greater than 3, a typical cutoff point for identifying outliers. In order to evaluate any data points that can unreasonably affect the regression model, it lastly prints the indices of the detected outliers in the residuals."
   ]
  },
  {
   "cell_type": "markdown",
   "id": "f0c5c3ba-d12d-4a2e-a7dd-26dcc10bcc97",
   "metadata": {},
   "source": [
    "3. Linear Optimization"
   ]
  },
  {
   "cell_type": "markdown",
   "id": "ea1a0940-b427-4764-a95d-6d7e2d231b3c",
   "metadata": {},
   "source": [
    "A manufacturing company produces three products: Product A, Product B, and Product C. Each product requires different amounts of two types of machines, Machine X and Machine Y, as shown in the table below:\n",
    "Product\tMachine X hours/unit\tMachine Y hours/unit\n",
    "A\t2\t4\n",
    "B\t1\t3\n",
    "C\t3\t2\n",
    "\n",
    "Machine X is available for 100 hours per week, and Machine Y is available for 85 hours per week. The company wants to maximize its total production output.\n",
    "a.\tPlease formulate this problem as a linear programming problem in standard form. \n",
    "b.\tSolve the problem in Excel.\n",
    "c.\tThe problem is bounded by machine X or Y? If you have a budget to upgrade the machine, will you upgrade machine X or Y? Please explain your answer by exploring the math model. \n"
   ]
  },
  {
   "cell_type": "code",
   "execution_count": 245,
   "id": "ac2de21e-4d49-4ba5-85ca-0f0ca3dd512c",
   "metadata": {},
   "outputs": [
    {
     "name": "stdout",
     "output_type": "stream",
     "text": [
      "optimal soultion found:\n",
      "unit of product A (x1): 0.00\n",
      "unit of product B (x2): 7.86\n",
      "unit of product C (x3): 30.71\n",
      "Maximum production Output:  38.57\n"
     ]
    }
   ],
   "source": [
    "from scipy.optimize import linprog\n",
    "#calculate the standardized residuals \n",
    "c=[-1,-1,-1]\n",
    "#matrix of cofficients for the constraints \n",
    "A = [\n",
    "    [2, 1, 3],\n",
    "    [4, 3, 2]\n",
    "]\n",
    "#RHS of constraints \n",
    "b = [100, 85]\n",
    "#slove the problem \n",
    "x_bounds = (0,None)\n",
    "bounds = [x_bounds, x_bounds, x_bounds]\n",
    "\n",
    "result = linprog(c, A_ub=A, b_ub=b, bounds=bounds, method=\"highs\")\n",
    "# showing result\n",
    "if result.success:\n",
    "    print(\"optimal soultion found:\")\n",
    "    print(f\"unit of product A (x1): {result.x[0]:.2f}\")\n",
    "    print(f\"unit of product B (x2): {result.x[1]:.2f}\")\n",
    "    print(f\"unit of product C (x3): {result.x[2]:.2f}\")\n",
    "    print(f\"Maximum production Output: {result.fun * -1: .2f}\")\n",
    "else:\n",
    "    print(\"no optimal solution found.\")\n",
    "    \n",
    "    "
   ]
  },
  {
   "cell_type": "markdown",
   "id": "4cdf09cb-ea0e-495e-9658-e9dd40072996",
   "metadata": {},
   "source": [
    "EXPLANATION:\n",
    "In order to maximize the production output of three products (A, B, and C), this Python code solves a linear programming issue using the scipy.optimize.linprog method. In order to change the maximizing problem into a minimization problem, it first specifies the objective function's coefficients and negates them.\r\n",
    "A matrix {`) contanns the machine hour constraints, and a vector ``) shows the maximum number of hours that each machine can work (100 hours for Machine X and 85 hours for Machine Y). In order to guarantee that production numbers are not negative, the code additionally sets constraints for the decision variables.\r\n",
    "The ideal solution is then found by calling th `linprg` function. If it is successful, it prints the overall production output as well as the ideal number of units of each product to createIt alerts the user if no solution is found. All things considered, the code efficiently chooses the optimal distribution of machine hours to optimize output.. "
   ]
  },
  {
   "cell_type": "markdown",
   "id": "347b9c5d-e78b-48ce-bdf2-4e3492cf0e38",
   "metadata": {},
   "source": [
    "REFERENCE\n",
    "you tube link \n",
    "https://youtu.be/Ge0z9_sywho?feature=shared\n",
    "https://youtu.be/Ge0z9_sywho?si=PrL6d4opBz507_mA\n",
    "chat gpt \n",
    "https://chatgpt.com/c/6722caf5-5240-8005-a64a-ca481cad80f2\n"
   ]
  }
 ],
 "metadata": {
  "kernelspec": {
   "display_name": "Python 3 (ipykernel)",
   "language": "python",
   "name": "python3"
  },
  "language_info": {
   "codemirror_mode": {
    "name": "ipython",
    "version": 3
   },
   "file_extension": ".py",
   "mimetype": "text/x-python",
   "name": "python",
   "nbconvert_exporter": "python",
   "pygments_lexer": "ipython3",
   "version": "3.11.7"
  }
 },
 "nbformat": 4,
 "nbformat_minor": 5
}
