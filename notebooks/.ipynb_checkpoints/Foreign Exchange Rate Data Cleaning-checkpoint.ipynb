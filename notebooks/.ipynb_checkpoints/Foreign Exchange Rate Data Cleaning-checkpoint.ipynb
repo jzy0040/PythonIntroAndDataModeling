{
 "cells": [
  {
   "cell_type": "markdown",
   "metadata": {},
   "source": [
    "# Foreign Exchange Rate Data Cleaning\n",
    "\n",
    "Datafile: \"14_Foreign_Exchange_Rates _WithErrors.csv\"\n",
    "\n",
    "2020-10-20 - Jingwei Liu"
   ]
  },
  {
   "cell_type": "code",
   "execution_count": null,
   "metadata": {},
   "outputs": [],
   "source": [
    "#import the tools:numpy,pandas and matplotlib\n",
    "%matplotlib inline\n",
    "import numpy as np\n",
    "import pandas as pd\n",
    "import matplotlib.pyplot as plt"
   ]
  },
  {
   "cell_type": "markdown",
   "metadata": {},
   "source": [
    "## At the beginning, understanding the data is very important\n",
    "If you know the meaning of each column, the data type of each column, the range of each column(if applicable), all those can give you a great help in cleaning the data"
   ]
  },
  {
   "cell_type": "markdown",
   "metadata": {},
   "source": [
    "## First, let's read the data as a pandas dataframe\n",
    "Generally, pandas dataframe can provide an easy way for us to check the data. After learning the pandas dataframe, you should know that the columns of a pandas dataframe are homogeneous (if type), which means all cells in a same column have the same data type."
   ]
  },
  {
   "cell_type": "code",
   "execution_count": null,
   "metadata": {},
   "outputs": [],
   "source": [
    "# Read the dataset as a dataframe\n",
    "fname = \"../data/14_Foreign_Exchange_Rates _WithErrors.csv\"\n",
    "df = pd.read_csv(fname)\n",
    "df.head()"
   ]
  },
  {
   "cell_type": "markdown",
   "metadata": {},
   "source": [
    "We can find that the first column should be index and the second column should be a date. And all other columns are numbers because they are exchange rates."
   ]
  },
  {
   "cell_type": "markdown",
   "metadata": {},
   "source": [
    "## Then, let's check whether all cells in the exchange rates are numbers\n",
    "Generally, we should clean the data column by column rather than row by row. Let's take the column \"AUSTRALIA - AUSTRALIAN DOLLAR/US$\" as an example"
   ]
  },
  {
   "cell_type": "code",
   "execution_count": null,
   "metadata": {},
   "outputs": [],
   "source": [
    "# Check the data type of the column. We can just check the first element in the column.\n",
    "type(df['AUSTRALIA - AUSTRALIAN DOLLAR/US$'][1])"
   ]
  },
  {
   "cell_type": "code",
   "execution_count": null,
   "metadata": {},
   "outputs": [],
   "source": [
    "# OR you can use describe function to check the datatype\n",
    "df['AUSTRALIA - AUSTRALIAN DOLLAR/US$'].describe()"
   ]
  },
  {
   "cell_type": "markdown",
   "metadata": {},
   "source": [
    "Based on our understanding of the data, the data type of the cell should be a number(float) rather than a string(str). In addition, according to this result, we should notice that there are cells which contain some non-number-string values(ND). Now, let's first find those non-number-strings."
   ]
  },
  {
   "cell_type": "markdown",
   "metadata": {},
   "source": [
    "## So, how to find the non-number-strings \n",
    "### Assume we have two strings: '123' and 'abc'. how can we distinguish them?\n",
    "In Python, '123' can be convert to a number(float). "
   ]
  },
  {
   "cell_type": "code",
   "execution_count": null,
   "metadata": {},
   "outputs": [],
   "source": [
    "str1 = '123'\n",
    "str2 = 'abc'"
   ]
  },
  {
   "cell_type": "code",
   "execution_count": null,
   "metadata": {},
   "outputs": [],
   "source": [
    "float(str1)"
   ]
  },
  {
   "cell_type": "code",
   "execution_count": null,
   "metadata": {},
   "outputs": [],
   "source": [
    "float(str2)"
   ]
  },
  {
   "cell_type": "code",
   "execution_count": null,
   "metadata": {},
   "outputs": [],
   "source": [
    "try:\n",
    "    float(str2)\n",
    "except ValueError:\n",
    "    print('could not convert string {} to float'.format(str2))"
   ]
  },
  {
   "cell_type": "markdown",
   "metadata": {},
   "source": [
    "You can see that we can use float() function to help us distinguish non-number-strings. And the \"try except\" structure is very powerful in Python. "
   ]
  },
  {
   "cell_type": "markdown",
   "metadata": {},
   "source": [
    "## Now, let's try to locate the cells that contain non-number-strings\n",
    "Let's define a function that can return indices of the cells contain non-number-strings"
   ]
  },
  {
   "cell_type": "code",
   "execution_count": null,
   "metadata": {},
   "outputs": [],
   "source": [
    "# Define the function that returns indices the non-number strings\n",
    "# column : a column from a dataframe\n",
    "def CheckIfNumInCol(column):\n",
    "    # create a empty list to store the element index \n",
    "    indexlist = []\n",
    "    # from the start to the end\n",
    "    for i in range(column.count()):\n",
    "        # check whether float() function is working\n",
    "        try:\n",
    "            float(column[i])\n",
    "        except ValueError:\n",
    "            # if float() is not working, that cell contain non-number string. Then, we add the cell's index to the list\n",
    "            indexlist.append(i)        \n",
    "    return(indexlist)"
   ]
  },
  {
   "cell_type": "code",
   "execution_count": null,
   "metadata": {},
   "outputs": [],
   "source": [
    "# Use the above function and get the indices of non-number strings and use the indices list to filter those values out\n",
    "resultlist = CheckIfNumInCol(df['AUSTRALIA - AUSTRALIAN DOLLAR/US$'])\n",
    "df['AUSTRALIA - AUSTRALIAN DOLLAR/US$'][resultlist]"
   ]
  },
  {
   "cell_type": "markdown",
   "metadata": {},
   "source": [
    "Based on the result, we can find that there are 199 cells that contain non-number-strings"
   ]
  },
  {
   "cell_type": "markdown",
   "metadata": {},
   "source": [
    "## Before we move next, you should think about this question: are there perticular meanings for these non-number-strings? Are they supposed to be a number-string? These questions are important because it will affect how you deal with this non-number-strings.\n",
    "### For this perticular data, if you open the csv file and find the rows that contain 'ND', you'll find that their date are all holidays. So, there comes 2 situations: 1. There should be no data in holidays  2. The data provider doesn't record exchange rate during holidays. You need to make a decision.\n",
    "###  For the 89th row that contains 'ABC', this should be a number-string originally."
   ]
  },
  {
   "cell_type": "markdown",
   "metadata": {},
   "source": [
    "## After finding the non-number-strings, all left are number-strings. But how can we know that the cells that contain number-strings are correct?\n",
    "For different data, there is no universal rule to judge wheteher it is correct or not. As indicated at the begining of this code, understanding the data will help you make the decision. For this exchange rate data, here, we will plot the rate values to check if there are abnormal values.\n",
    "Let's first convert those number-strings to float "
   ]
  },
  {
   "cell_type": "code",
   "execution_count": null,
   "metadata": {},
   "outputs": [],
   "source": [
    "# get the index list of the dataframe\n",
    "dflist = list(df.index)"
   ]
  },
  {
   "cell_type": "code",
   "execution_count": null,
   "metadata": {},
   "outputs": [],
   "source": [
    "# substract the non-number-strings indices from the above list\n",
    "leftlist = [item for item in dflist if item not in resultlist]"
   ]
  },
  {
   "cell_type": "code",
   "execution_count": null,
   "metadata": {},
   "outputs": [],
   "source": [
    "# an alternative way to find the number-string indices\n",
    "leftlist= list(set(dflist).difference(resultlist))"
   ]
  },
  {
   "cell_type": "code",
   "execution_count": null,
   "metadata": {},
   "outputs": [],
   "source": [
    "# convert the number-strings to numbers\n",
    "leftdf = df['AUSTRALIA - AUSTRALIAN DOLLAR/US$'][leftlist]\n",
    "leftdf = leftdf.apply(lambda x: float(x))\n",
    "# check the data type \n",
    "leftdf.dtype"
   ]
  },
  {
   "cell_type": "markdown",
   "metadata": {},
   "source": [
    "### Now we can do the plot to check the values"
   ]
  },
  {
   "cell_type": "code",
   "execution_count": null,
   "metadata": {},
   "outputs": [],
   "source": [
    "# modify the figure size\n",
    "plt.rcParams['figure.figsize'] = (10.0, 5.0)\n",
    "# do plot\n",
    "plt.plot(leftdf,'o');\n",
    "# add x and y axis label\n",
    "plt.xlabel('Observation Index');\n",
    "plt.ylabel('Value');"
   ]
  },
  {
   "cell_type": "markdown",
   "metadata": {},
   "source": [
    "According to the plot, you should find that most values are around 2 but between index 0 to 1000, there is a peak which is greater than 16. We can also use histogram plot to check this. "
   ]
  },
  {
   "cell_type": "code",
   "execution_count": null,
   "metadata": {},
   "outputs": [],
   "source": [
    "# histogram plot\n",
    "plt.hist(leftdf, bins = 50);\n",
    "# add x and y axis label\n",
    "plt.xlabel('Value');\n",
    "plt.ylabel('Frequency');"
   ]
  },
  {
   "cell_type": "code",
   "execution_count": null,
   "metadata": {},
   "outputs": [],
   "source": [
    "# find the value greater than 16\n",
    "abnormal = leftdf.apply(lambda x: x>16)\n",
    "leftdf[abnormal]"
   ]
  },
  {
   "cell_type": "markdown",
   "metadata": {},
   "source": [
    "## Now, we find all wrong values(non-number-strings and abnormal numbers). What should we do next?\n",
    "### Replace them with other values OR just get rid of the wrong values\n",
    "To deal with the wrong values, generally, you can choose either of the above methods. But there are some pros and cons for these two method:\n",
    "\n",
    "For Replaceing wrong values, you need to carefully decide what values you will put into the cells. without careful consideration, the cleaned data may have a negative influence on your future analysis.\n",
    "\n",
    "For getting rid of the wrong values, sometimes you will end up with few observations without any wrong values.\n",
    "\n",
    "Here, we will show both methods."
   ]
  },
  {
   "cell_type": "markdown",
   "metadata": {},
   "source": [
    "## Replacing methods"
   ]
  },
  {
   "cell_type": "code",
   "execution_count": null,
   "metadata": {},
   "outputs": [],
   "source": [
    "# Replacing wrong values with a constant value. We will replace those wrong values with 1.6\n",
    "# let's define a functions that can help use do this\n",
    "# cell is the value in that cell\n",
    "# value is the constant value\n",
    "def ReplaceWithConstantValue(cell,value = 1.6):\n",
    "    try:\n",
    "        newcell = float(cell)\n",
    "        if newcell > 16:\n",
    "            return(value)\n",
    "        return(newcell)\n",
    "    except:\n",
    "        return(value)\n"
   ]
  },
  {
   "cell_type": "code",
   "execution_count": null,
   "metadata": {},
   "outputs": [],
   "source": [
    "# apply the function\n",
    "newcol = df['AUSTRALIA - AUSTRALIAN DOLLAR/US$'].apply(lambda x: ReplaceWithConstantValue(x))\n",
    "# check the data type\n",
    "newcol[1].dtype"
   ]
  },
  {
   "cell_type": "markdown",
   "metadata": {},
   "source": [
    "### Now we can plot the new column to check"
   ]
  },
  {
   "cell_type": "code",
   "execution_count": null,
   "metadata": {},
   "outputs": [],
   "source": [
    "# plot new column\n",
    "plt.plot(newcol)"
   ]
  },
  {
   "cell_type": "markdown",
   "metadata": {},
   "source": [
    "### We can find that the values are in a reasonable range, but the values are not consistent. \n",
    "We will provide another way to replace the wrong values with a dynamic value (imputed value)"
   ]
  },
  {
   "cell_type": "code",
   "execution_count": null,
   "metadata": {},
   "outputs": [],
   "source": [
    "# Still first define a function to help us do the replacement\n",
    "# This function will replace the wrong values with the last correct value\n",
    "# cell is the value in that cell\n",
    "# value will be used if the first cell is a wrong value\n",
    "def ReplaceWithDynamicValue(cell, value = 1.6):\n",
    "    # initialize the lastvalue if it doesn't exist yet\n",
    "    if not hasattr(ReplaceWithDynamicValue, \"lastvalue\"):\n",
    "        ReplaceWithDynamicValue.lastvalue = value\n",
    "    try:\n",
    "        newcell = float(cell)\n",
    "        if newcell > 16:\n",
    "            newcell = ReplaceWithDynamicValue.lastvalue\n",
    "    except:\n",
    "            newcell = ReplaceWithDynamicValue.lastvalue\n",
    "    \n",
    "    ReplaceWithDynamicValue.lastvalue = newcell\n",
    "    return(newcell)"
   ]
  },
  {
   "cell_type": "code",
   "execution_count": null,
   "metadata": {},
   "outputs": [],
   "source": [
    "# apply the function\n",
    "newcol = df['AUSTRALIA - AUSTRALIAN DOLLAR/US$'].apply(lambda x: ReplaceWithDynamicValue(x))\n",
    "# plot the new column\n",
    "plt.plot(newcol)"
   ]
  },
  {
   "cell_type": "markdown",
   "metadata": {},
   "source": [
    "Now, the plot looks consistent and good. Next, we will show the getting rid of wrong values method."
   ]
  },
  {
   "cell_type": "markdown",
   "metadata": {},
   "source": [
    "## Getting rid of the wrong values method"
   ]
  },
  {
   "cell_type": "code",
   "execution_count": null,
   "metadata": {},
   "outputs": [],
   "source": [
    "# Define a function to generate a mask for us to select those correct values\n",
    "def MaskCorrectValue(cell):\n",
    "    try:\n",
    "        newcell = float(cell)\n",
    "        if newcell > 16:\n",
    "            return(False)\n",
    "        return(True)\n",
    "    except:\n",
    "        return(False)"
   ]
  },
  {
   "cell_type": "code",
   "execution_count": null,
   "metadata": {},
   "outputs": [],
   "source": [
    "# Using a mask to filter those correct data\n",
    "mask = df['AUSTRALIA - AUSTRALIAN DOLLAR/US$'].apply(lambda x: MaskCorrectValue(x))\n",
    "df['AUSTRALIA - AUSTRALIAN DOLLAR/US$'][mask]"
   ]
  },
  {
   "cell_type": "code",
   "execution_count": null,
   "metadata": {},
   "outputs": [],
   "source": [
    "# The original column.\n",
    "df['AUSTRALIA - AUSTRALIAN DOLLAR/US$']"
   ]
  },
  {
   "cell_type": "markdown",
   "metadata": {},
   "source": [
    "So, we can find that we remove 207 observations (199 non-numeric values and 8 numeric values greater than 16)"
   ]
  },
  {
   "cell_type": "code",
   "execution_count": null,
   "metadata": {},
   "outputs": [],
   "source": []
  }
 ],
 "metadata": {
  "kernelspec": {
   "display_name": "Python 3",
   "language": "python",
   "name": "python3"
  },
  "language_info": {
   "codemirror_mode": {
    "name": "ipython",
    "version": 3
   },
   "file_extension": ".py",
   "mimetype": "text/x-python",
   "name": "python",
   "nbconvert_exporter": "python",
   "pygments_lexer": "ipython3",
   "version": "3.8.8"
  }
 },
 "nbformat": 4,
 "nbformat_minor": 2
}
