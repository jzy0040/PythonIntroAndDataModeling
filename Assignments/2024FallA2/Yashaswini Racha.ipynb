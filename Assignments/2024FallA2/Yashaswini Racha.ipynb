{
 "cells": [
  {
   "cell_type": "code",
   "execution_count": 1,
   "id": "9778e2cc-713d-4407-b357-0b5986c6286e",
   "metadata": {},
   "outputs": [],
   "source": [
    "import numpy as np\n",
    "import scipy.stats as stats"
   ]
  },
  {
   "cell_type": "code",
   "execution_count": 24,
   "id": "c5665954-e9af-4a15-a7fe-89fd01d52871",
   "metadata": {},
   "outputs": [
    {
     "name": "stdout",
     "output_type": "stream",
     "text": [
      "Z-test statistic: -2.53\n",
      "Critical value: -1.64\n",
      "P-value: 0.0057\n",
      "Reject the null hypothesis: The training program has significantly decreased the assembly time.\n"
     ]
    }
   ],
   "source": [
    "mu_0 = 35  \n",
    "sigma = 5  \n",
    "n = 40 \n",
    "sample_mean = 33  \n",
    "\n",
    "z = (sample_mean - mu_0) / (sigma / np.sqrt(n))\n",
    "print(f\"Z-test statistic: {z:.2f}\")\n",
    "\n",
    "critical_value = stats.norm.ppf(0.05)\n",
    "print(f\"Critical value: {critical_value:.2f}\")\n",
    "\n",
    "p_value = stats.norm.cdf(z)\n",
    "print(f\"P-value: {p_value:.4f}\")\n",
    "\n",
    "if p_value < 0.05:\n",
    "    print(\"Reject the null hypothesis: The training program has significantly decreased the assembly time.\")\n",
    "else:\n",
    "    print(\"Fail to reject the null hypothesis: No significant decrease in assembly time.\")\n"
   ]
  },
  {
   "cell_type": "code",
   "execution_count": 26,
   "id": "b0cdd955-685e-48b5-afd8-8a110c328b6e",
   "metadata": {},
   "outputs": [
    {
     "name": "stdout",
     "output_type": "stream",
     "text": [
      "T-test statistic: 1.72\n",
      "Critical value: 1.76\n",
      "P-value: 0.0536\n",
      "Fail to reject the null hypothesis: No significant increase in study hours.\n"
     ]
    }
   ],
   "source": [
    "mu_0_grad = 25  \n",
    "n_grad = 15  \n",
    "sample_mean_grad = 27 \n",
    "s_grad = 4.5  \n",
    "\n",
    "t = (sample_mean_grad - mu_0_grad) / (s_grad / np.sqrt(n_grad))\n",
    "print(f\"T-test statistic: {t:.2f}\")\n",
    "\n",
    "critical_value_grad = stats.t.ppf(0.95, df=n_grad - 1)\n",
    "print(f\"Critical value: {critical_value_grad:.2f}\")\n",
    "\n",
    "p_value_grad = 1 - stats.t.cdf(t, df=n_grad - 1)\n",
    "print(f\"P-value: {p_value_grad:.4f}\")\n",
    "\n",
    "if p_value_grad < 0.05:\n",
    "    print(\"Reject the null hypothesis: Graduate students study more than 25 hours per week.\")\n",
    "else:\n",
    "    print(\"Fail to reject the null hypothesis: No significant increase in study hours.\")\n"
   ]
  },
  {
   "cell_type": "code",
   "execution_count": 28,
   "id": "e862f87a-e714-4597-852b-48e1fe4c483f",
   "metadata": {},
   "outputs": [
    {
     "data": {
      "image/png": "[encoded data removed]",
      "text/plain": [
       "<Figure size 640x480 with 1 Axes>"
      ]
     },
     "metadata": {},
     "output_type": "display_data"
    }
   ],
   "source": [
    "import pandas as pd\n",
    "import statsmodels.api as sm\n",
    "import seaborn as sns\n",
    "import matplotlib.pyplot as plt\n",
    "\n",
    "\n",
    "data = {\n",
    "    'Hours_of_Study': [5, 5, 7, 3, 0, 5, 2, 7, 4, 2, 1, 6, 8, 5, 7],\n",
    "    'Score': [52.1221, 52.1221, 72.1221, 32.1221, 2.1221, 52.1221,\n",
    "              22.1221, 72.1221, 42.1221, 22.1221, 12.1221, 62.1221,\n",
    "              82.1221, 52.1221, 72.1221]\n",
    "}\n",
    "\n",
    "df = pd.DataFrame(data)\n",
    "\n",
    "X = df['Hours_of_Study']\n",
    "Y = df['Score']\n",
    "\n",
    "X = sm.add_constant(X)\n",
    "\n",
    "model = sm.OLS(Y, X).fit()\n",
    "\n",
    "residuals = model.resid\n",
    "fitted = model.fittedvalues\n",
    "\n",
    "sns.scatterplot(x=fitted, y=residuals)\n",
    "plt.axhline(0, color='red', linestyle='--')\n",
    "plt.xlabel('Fitted Values')\n",
    "plt.ylabel('Residuals')\n",
    "plt.title('Residuals vs Fitted')\n",
    "plt.show()"
   ]
  },
  {
   "cell_type": "code",
   "execution_count": 30,
   "id": "d5ebe07b-2464-42b0-a5ee-d9e320fff154",
   "metadata": {},
   "outputs": [
    {
     "name": "stdout",
     "output_type": "stream",
     "text": [
      "Outliers:\n",
      "     dfb_const  dfb_Hours_of_Study   cooks_d  standard_resid  hat_diag  \\\n",
      "0    4.285681           -1.542797  0.026899       -0.844472  0.070147   \n",
      "1    4.285681           -1.542797  0.026899       -0.844472  0.070147   \n",
      "2    2.503697            0.000000  0.117117       -1.174346  0.145188   \n",
      "6    6.033141           -1.351381  0.086323       -1.025110  0.141109   \n",
      "7    2.148454            0.000000  0.117117       -1.174346  0.145188   \n",
      "9    8.995928           -2.108747  0.086323       -1.025110  0.141109   \n",
      "10   3.794408            1.529857  0.155986       -1.071387  0.213703   \n",
      "11   4.417910            1.649301  0.038670       -0.856194  0.095432   \n",
      "12   3.244487           -2.043963  0.212252       -1.228912  0.219413   \n",
      "13   6.832967           -3.624955  0.026899       -0.844472  0.070147   \n",
      "14   3.554459            0.000000  0.117117       -1.174346  0.145188   \n",
      "\n",
      "    dffits_internal  student_resid    dffits  \n",
      "0         -0.231944      -2.123651 -0.583284  \n",
      "1         -0.231944      -2.123651 -0.583284  \n",
      "2         -0.483978      -2.841611 -1.171100  \n",
      "6         -0.415508      -2.258069 -0.915264  \n",
      "7         -0.483978      -2.763545 -1.138927  \n",
      "9         -0.415508      -3.523578 -1.428212  \n",
      "10        -0.558545      -2.671689 -1.392830  \n",
      "11        -0.278099      -2.301765 -0.747633  \n",
      "12        -0.651540      -2.047164 -1.085357  \n",
      "13        -0.231944      -2.494865 -0.685242  \n",
      "14        -0.483978      -3.810068 -1.570226  \n"
     ]
    }
   ],
   "source": [
    "influence = model.get_influence()\n",
    "summary_frame = influence.summary_frame()\n",
    "outliers = summary_frame[summary_frame['student_resid'].abs() > 2]\n",
    "print(\"Outliers:\\n\", outliers)"
   ]
  },
  {
   "cell_type": "code",
   "execution_count": 32,
   "id": "eaaca95d-c229-4507-9da8-b91bfa04855b",
   "metadata": {},
   "outputs": [
    {
     "name": "stdout",
     "output_type": "stream",
     "text": [
      "Optimal production quantities: [ 0.          7.85714286 30.71428571]\n",
      "Maximum production output: 38.57142857142857\n"
     ]
    }
   ],
   "source": [
    "from scipy.optimize import linprog\n",
    "\n",
    "c = [-1, -1, -1] \n",
    "\n",
    "A = [\n",
    "    [2, 1, 3],  # Machine X\n",
    "    [4, 3, 2]   # Machine Y\n",
    "]\n",
    "\n",
    "b = [100, 85]\n",
    "\n",
    "x0_bounds = (0, None)\n",
    "x1_bounds = (0, None)\n",
    "x2_bounds = (0, None)\n",
    "\n",
    "result = linprog(c, A_ub=A, b_ub=b, bounds=[x0_bounds, x1_bounds, x2_bounds], method='highs')\n",
    "\n",
    "print(\"Optimal production quantities:\", result.x)\n",
    "print(\"Maximum production output:\", -result.fun)  "
   ]
  },
  {
   "cell_type": "code",
   "execution_count": 34,
   "id": "905180d9-bb70-4b45-bd86-6574b57edbd7",
   "metadata": {},
   "outputs": [
    {
     "name": "stdout",
     "output_type": "stream",
     "text": [
      "Status: Optimization terminated successfully. (HiGHS Status 7: Optimal)\n",
      "Machine X is not the limiting factor.\n",
      "Machine Y is the limiting factor.\n"
     ]
    }
   ],
   "source": [
    "if result.success:\n",
    "    print(\"Status:\", result.message)\n",
    "    if result.x[0] == 0:\n",
    "        print(\"Machine X is not the limiting factor.\")\n",
    "    else:\n",
    "        print(\"Machine X is the limiting factor.\")\n",
    "\n",
    "    if result.x[1] == 0:\n",
    "        print(\"Machine Y is not the limiting factor.\")\n",
    "    else:\n",
    "        print(\"Machine Y is the limiting factor.\")"
   ]
  },
  {
   "cell_type": "code",
   "execution_count": null,
   "id": "54203d79-915e-470e-89e6-5b9a9ce39cab",
   "metadata": {},
   "outputs": [],
   "source": []
  },
  {
   "cell_type": "code",
   "execution_count": null,
   "id": "ff141b82-405c-408e-8edc-050ea70a6093",
   "metadata": {},
   "outputs": [],
   "source": []
  },
  {
   "cell_type": "code",
   "execution_count": null,
   "id": "f9c4bc89-df7b-4fff-8dc1-e6668d95caa1",
   "metadata": {},
   "outputs": [],
   "source": []
  }
 ],
 "metadata": {
  "kernelspec": {
   "display_name": "Python 3 (ipykernel)",
   "language": "python",
   "name": "python3"
  },
  "language_info": {
   "codemirror_mode": {
    "name": "ipython",
    "version": 3
   },
   "file_extension": ".py",
   "mimetype": "text/x-python",
   "name": "python",
   "nbconvert_exporter": "python",
   "pygments_lexer": "ipython3",
   "version": "3.11.7"
  }
 },
 "nbformat": 4,
 "nbformat_minor": 5
}
