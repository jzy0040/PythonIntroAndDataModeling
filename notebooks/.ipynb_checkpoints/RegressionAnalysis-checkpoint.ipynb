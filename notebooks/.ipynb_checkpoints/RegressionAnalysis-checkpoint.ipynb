{
 "cells": [
  {
   "cell_type": "markdown",
   "id": "8cc5c345-414a-4ce8-a2c3-6f45d644d8c9",
   "metadata": {},
   "source": [
    "# Regression Analysis\n",
    "\n",
    "A set of statistical processes for estimating the relationships between a dependent variable (often called the 'outcome' or 'response' variable, or a 'label' in machine learning parlance) and one or more independent variables (often called 'predictors', 'covariates', 'explanatory variables' or 'features').\n",
    "\n",
    "Linear regression is a common technique for regression analysis. It was used to predict the value of the dependent variable based on the value of independent variables. The dependent variable is the variable you want to estimate. The indipendent variables are used to predict the dependent variable.\n",
    "1. Simple Linear regression\n",
    "2. Multiple linear regression\n",
    "3. Logistic Regression\n",
    "4. Ridge Regression\n",
    "5. Lasso Regression\n",
    " \n",
    "    \n",
    "Nonlinear regression is used when the relationship between the dependent and independent variables cannot be adequately modeled by a linear equation. It allows for more complex functional forms, such as exponential, logarithmic, or sigmoidal curves.\n",
    "1. Polynomial Regression\n",
    "2. Gaussian Regression\n",
    "3. Logarithmic Regression\n",
    "4. Kernel Regression\n",
    "\n",
    "The linearity assumption can be explored using scatter plots. \n",
    "\n",
    "A heatmap can be a nice helper for correlation analysis.\n",
    "\n",
    "We will mainly cover the linear models. If you need more nonlinear topics, please reach out to Dr.Junyao Yang. "
   ]
  },
  {
   "cell_type": "markdown",
   "id": "2f5c88a0-5e81-4c27-98ef-230684b5158b",
   "metadata": {},
   "source": [
    "### Basic Assumptions\n",
    "\n",
    "**Linearity**: The relationship between the independent variables (predictors) and the dependent variable (response) is linear. This means that the change in the response variable is directly proportional to the change in the predictor variables.\n",
    "\n",
    "**Independence**: The observations are independent of each other. In other words, the value of one observation does not influence the value of another observation.\n",
    "\n",
    "**Homoscedasticity**: The variance of the residuals (the differences between the observed and predicted values) is constant across all levels of the predictors. This means that the spread of the residuals is consistent along the range of predictor variables.\n",
    "\n",
    "**Normality**: The residuals are normally distributed. This assumption ensures that the parameter estimates (coefficients) obtained from the regression analysis are unbiased and efficient.\n",
    "\n",
    "**No multicollinearity**: There is no perfect multicollinearity among the independent variables. Multicollinearity occurs when two or more predictors are highly correlated, which can lead to unstable parameter estimates.\n",
    "\n",
    "**No influential outliers**: The presence of influential outliers (extreme values) in the data can disproportionately influence the parameter estimates and affect the overall fit of the model."
   ]
  },
  {
   "cell_type": "code",
   "execution_count": null,
   "id": "5650bca6-20ca-4da7-904b-c0b45da6d394",
   "metadata": {},
   "outputs": [],
   "source": []
  },
  {
   "cell_type": "code",
   "execution_count": null,
   "id": "fbb181a3-4552-4e7d-b884-1303994c75aa",
   "metadata": {},
   "outputs": [],
   "source": []
  },
  {
   "cell_type": "code",
   "execution_count": null,
   "id": "79b52f56-9d09-482a-956e-bdfcd9e0c894",
   "metadata": {},
   "outputs": [],
   "source": []
  },
  {
   "cell_type": "code",
   "execution_count": null,
   "id": "d9bfa81c-288e-4d8a-b880-e028dedf1648",
   "metadata": {},
   "outputs": [],
   "source": []
  },
  {
   "cell_type": "code",
   "execution_count": null,
   "id": "dd790b43-733e-4090-bb40-273f0efba668",
   "metadata": {},
   "outputs": [],
   "source": []
  },
  {
   "cell_type": "code",
   "execution_count": null,
   "id": "989af7d9-93d3-423e-b153-1245a3c5d2ae",
   "metadata": {},
   "outputs": [],
   "source": []
  }
 ],
 "metadata": {
  "kernelspec": {
   "display_name": "Python 3 (ipykernel)",
   "language": "python",
   "name": "python3"
  },
  "language_info": {
   "codemirror_mode": {
    "name": "ipython",
    "version": 3
   },
   "file_extension": ".py",
   "mimetype": "text/x-python",
   "name": "python",
   "nbconvert_exporter": "python",
   "pygments_lexer": "ipython3",
   "version": "3.9.13"
  }
 },
 "nbformat": 4,
 "nbformat_minor": 5
}
