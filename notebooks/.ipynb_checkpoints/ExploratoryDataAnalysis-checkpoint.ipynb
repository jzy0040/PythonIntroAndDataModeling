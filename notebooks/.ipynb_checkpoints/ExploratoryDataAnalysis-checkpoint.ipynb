{
 "cells": [
  {
   "cell_type": "markdown",
   "id": "7b8bd08c-ae52-4a56-a3fa-2b11926c37e3",
   "metadata": {},
   "source": [
    "# Exploratory Data Analysis\n",
    "\n",
    "Exploratory Data Analysis (EDA) is an analysis approach that identifies general patterns in the data. \n",
    "\n",
    "These patterns include outliers and features of the data that might be unexpected.\n",
    "\n",
    "EDA is an important first step in any data analysis. \n"
   ]
  },
  {
   "cell_type": "code",
   "execution_count": null,
   "id": "d3411ad9-8553-4fb7-9c29-e82f33127e1b",
   "metadata": {},
   "outputs": [],
   "source": [
    "import numpy as np\n",
    "import pandas as pd\n",
    "import matplotlib as mpl"
   ]
  },
  {
   "cell_type": "code",
   "execution_count": null,
   "id": "2d646a8b-9446-46fc-95a6-871a8728d668",
   "metadata": {},
   "outputs": [],
   "source": []
  },
  {
   "cell_type": "code",
   "execution_count": null,
   "id": "258cd003-a416-4eab-b8b2-0085bdddf88b",
   "metadata": {},
   "outputs": [],
   "source": []
  }
 ],
 "metadata": {
  "kernelspec": {
   "display_name": "Python 3 (ipykernel)",
   "language": "python",
   "name": "python3"
  },
  "language_info": {
   "codemirror_mode": {
    "name": "ipython",
    "version": 3
   },
   "file_extension": ".py",
   "mimetype": "text/x-python",
   "name": "python",
   "nbconvert_exporter": "python",
   "pygments_lexer": "ipython3",
   "version": "3.9.13"
  }
 },
 "nbformat": 4,
 "nbformat_minor": 5
}
