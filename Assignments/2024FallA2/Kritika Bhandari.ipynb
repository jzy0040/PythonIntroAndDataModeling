{
 "cells": [
  {
   "cell_type": "code",
   "execution_count": null,
   "id": "4b9a11ff-4019-4850-9a28-50e5f5541b15",
   "metadata": {},
   "outputs": [],
   "source": [
    "1.\tA company wants to test whether the average time taken to assemble a product has significantly decreased after implementing a new training program. Prior \n",
    "    to the training, the average assembly time was 35 minutes with a known population standard deviation of 5 minutes. After the training, a random sample\n",
    "    of 40 employees showed a mean assembly time of 33 minutes. Can you help the company to decide whether the new training program is necessary?\n",
    "\n",
    "Answer: The goal of this analysis is to find out if a new training program has really helped reduce the average time it takes to assemble a product at\n",
    "the company. We will compare the new average assembly time of 33 minutes from a sample of employees to the old average time of 35 minutes to see if this\n",
    "change is significant."
   ]
  },
  {
   "cell_type": "code",
   "execution_count": 1,
   "id": "39141bd3-d8f5-4f8d-88b2-27940a578f0e",
   "metadata": {},
   "outputs": [
    {
     "name": "stdout",
     "output_type": "stream",
     "text": [
      "Z-test Statistic: -2.5298\n",
      "P-value: 0.0057\n",
      "Reject the null hypothesis: The training program has significantly reduced assembly time.\n"
     ]
    }
   ],
   "source": [
    "import numpy as np\n",
    "from scipy import stats\n",
    "population_mean = 35  \n",
    "sample_mean = 33      \n",
    "population_std_dev = 5  \n",
    "sample_size = 40      \n",
    "z_test_statistic = (sample_mean - population_mean) / (population_std_dev / np.sqrt(sample_size))\n",
    "print(f\"Z-test Statistic: {z_test_statistic:.4f}\")\n",
    "p_value = stats.norm.cdf(z_test_statistic)\n",
    "print(f\"P-value: {p_value:.4f}\")\n",
    "alpha = 0.05\n",
    "if p_value < alpha:\n",
    "    print(\"Reject the null hypothesis: The training program has significantly reduced assembly time.\")\n",
    "else:\n",
    "    print(\"Do not reject the null hypothesis: There is not enough evidence to suggest a reduction in assembly time.\")"
   ]
  },
  {
   "cell_type": "markdown",
   "id": "91fc68d4-9372-4a26-8c04-c59b4608e5a5",
   "metadata": {},
   "source": [
    "Explaination: The first step in this code is to imports necessary tools from Python libraries to do calculations. Then, we type in the known values, like the average \n",
    "assembly time before training, the new average after training, the standard deviation, and the sample size of employees. Then,  z-test statistic is \n",
    "calculated, which shows how much the new average differs from the old one, and it then finds the p-value, which tells us the probability of observing \n",
    "such a difference by chance. Finally, the p-value is compared to a significance level of 0.05 to decide if we should reject the idea that there’s no\n",
    "difference (the null hypothesis). Since, the p-value (0.0057) is less than the significance level (0.05), we reject the null hypothesis. This means\n",
    "there is strong evidence to suggest that the training program has significantly reduced the average assembly time for products."
   ]
  },
  {
   "cell_type": "markdown",
   "id": "72dcff42-df72-476f-8050-0187a1e9fcfe",
   "metadata": {},
   "source": [
    "2.\tA university administrator wants to test whether graduate students at the institution study, on average, more than 25 hours per week. To explore \n",
    "this, a random sample of 15 graduate students was surveyed, and the sample mean study time was found to be 27 hours per week, with a sample standard \n",
    "deviation of 4.5 hours.\n",
    "Answer: The objective of the hypothesis test is to assess whether the average study time of graduate students at the university exceeds 25 hours per \n",
    "week, using the sample data to support or reject this claim.\n"
   ]
  },
  {
   "cell_type": "code",
   "execution_count": 3,
   "id": "2d65c7d8-6c00-4cc8-8ea8-1bc713dd54d0",
   "metadata": {},
   "outputs": [
    {
     "name": "stdout",
     "output_type": "stream",
     "text": [
      "T-test Statistic: 1.7213\n",
      "P-value: 0.0536\n",
      "Critical Value: 1.7613\n",
      "Do not reject the null hypothesis: There is not enough evidence to suggest that graduate students study more than 25 hours per week.\n"
     ]
    }
   ],
   "source": [
    "import numpy as np\n",
    "from scipy import stats\n",
    "sample_mean = 27          \n",
    "population_mean = 25      \n",
    "sample_std_dev = 4.5      \n",
    "sample_size = 15          \n",
    "t_test_statistic = (sample_mean - population_mean) / (sample_std_dev / np.sqrt(sample_size))\n",
    "print(f\"T-test Statistic: {t_test_statistic:.4f}\")\n",
    "p_value = 1 - stats.t.cdf(t_test_statistic, df=sample_size - 1)\n",
    "print(f\"P-value: {p_value:.4f}\")\n",
    "alpha = 0.05\n",
    "critical_value = stats.t.ppf(1 - alpha, df=sample_size - 1)\n",
    "print(f\"Critical Value: {critical_value:.4f}\")\n",
    "if t_test_statistic > critical_value:\n",
    "    print(\"Reject the null hypothesis: Graduate students study more than 25 hours per week.\")\n",
    "else:\n",
    "    print(\"Do not reject the null hypothesis: There is not enough evidence to suggest that graduate students study more than 25 hours per week.\")\n"
   ]
  },
  {
   "cell_type": "code",
   "execution_count": null,
   "id": "3d3ee0a6-6e94-4d25-bdf3-f02799059cfb",
   "metadata": {},
   "outputs": [],
   "source": [
    "Explaination: A one-sample t-test is performed here to determine whether the average study time of graduate students is greater than 25 hours per week.\n",
    "Firstly, necessary libraries are imported. Following that, known values are defined, including the sample mean (27 hours), the population mean under the\n",
    "null hypothesis (25 hours), the sample standard deviation (4.5 hours), and the sample size (15). The code calculates the t-test statistic using the \n",
    "formula for the t-test and also the p-value for the one-tailed test. A significance level of 0.05 is set, and the critical value for the t-test is \n",
    "calculated based on this significance level and the sample size's degrees of freedom. Finally, the t-test statistic is compared to the critical value to\n",
    "make a decision on the null hypothesis. Since, the results show a t-test statistic of 1.7213 and a p-value of 0.0536, which is above the significance \n",
    "level of 0.05, leading to the conclusion that there is not enough evidence to suggest that graduate students study more than 25 hours per week."
   ]
  },
  {
   "cell_type": "code",
   "execution_count": null,
   "id": "520cf2cc-74de-43f8-9d09-56561cd49216",
   "metadata": {},
   "outputs": [],
   "source": [
    "3. A researcher is studying the relationship between hours of study and exam scores for graduate students. The above data was collected from a sample of 30\n",
    "students. \n",
    "a.\tFit a simple linear regression model to the data, where the dependent variable (Y) is the exam score, and the independent variable (X) is the hours\n",
    "of study."
   ]
  },
  {
   "cell_type": "code",
   "execution_count": 2,
   "id": "28558763-78ed-4fb3-8b71-06143c3db26c",
   "metadata": {},
   "outputs": [
    {
     "name": "stdout",
     "output_type": "stream",
     "text": [
      "                            OLS Regression Results                            \n",
      "==============================================================================\n",
      "Dep. Variable:                  Score   R-squared:                       0.995\n",
      "Model:                            OLS   Adj. R-squared:                  0.995\n",
      "Method:                 Least Squares   F-statistic:                     6067.\n",
      "Date:                Sun, 03 Nov 2024   Prob (F-statistic):           2.79e-34\n",
      "Time:                        23:29:09   Log-Likelihood:                -59.519\n",
      "No. Observations:                  30   AIC:                             123.0\n",
      "Df Residuals:                      28   BIC:                             125.8\n",
      "Df Model:                           1                                         \n",
      "Covariance Type:            nonrobust                                         \n",
      "==================================================================================\n",
      "                     coef    std err          t      P>|t|      [0.025      0.975]\n",
      "----------------------------------------------------------------------------------\n",
      "const              2.4928      0.738      3.379      0.002       0.982       4.004\n",
      "Hours_of_Study     9.8646      0.127     77.890      0.000       9.605      10.124\n",
      "==============================================================================\n",
      "Omnibus:                       68.786   Durbin-Watson:                   2.206\n",
      "Prob(Omnibus):                  0.000   Jarque-Bera (JB):              773.780\n",
      "Skew:                          -4.879   Prob(JB):                    9.46e-169\n",
      "Kurtosis:                      25.887   Cond. No.                         13.2\n",
      "==============================================================================\n",
      "\n",
      "Notes:\n",
      "[1] Standard Errors assume that the covariance matrix of the errors is correctly specified.\n"
     ]
    }
   ],
   "source": [
    "import pandas as pd\n",
    "import statsmodels.api as sm\n",
    "data = pd.DataFrame({ 'Hours_of_Study': [5, 5, 7, 8, 3, 8, 8, 7, 8, 8, 0, 5, 2, 8, 8, 4, 2, 1, 6, 2, 8, 0, 5, 7, 7, 4, 4, 2, 6, 8],\n",
    "    'Score': [52.1221, 52.1221, 72.1221, 82.1221, 32.1221, 82.1221, 72.1221, 72.1221, 82.1221, 82.1221, \n",
    "              2.122104, 52.1221, 22.1221, 82.1221, 82.1221, 42.1221, 22.1221, 12.1221, 62.1221, 22.1221,\n",
    "              82.1221, 2.122104, 52.1221, 72.1221, 72.1221, 42.1221, 42.1221, 22.1221, 62.1221, 82.1221]})\n",
    "\n",
    "X = data['Hours_of_Study'] \n",
    "Y = data['Score']           \n",
    "X = sm.add_constant(X)\n",
    "model = sm.OLS(Y, X).fit()\n",
    "print(model.summary())\n"
   ]
  },
  {
   "cell_type": "code",
   "execution_count": null,
   "id": "56f7330b-bcc4-406e-b2e8-2549d3b4067a",
   "metadata": {},
   "outputs": [],
   "source": [
    "Explaination: Firstly, pandas and statsmodels are imported in this notebook. The data is then inputted manually. Hours_of_Study is defined as the \n",
    "predictor variable and Score as the outcome variable, adding a constant to the predictor variable to include an intercept in the model. Then  the OLS \n",
    "function is used from statsmodels to fit the regression model to our data. Lastly, the model summary is printed, which shows main information. \n",
    "This allows us to understand if and how study hours relate to exam scores.\n",
    "b.\tWhat are the assumptions of simple linear regression, and do you think they hold for this dataset?\n",
    "Linearity: The relationship between hours of study and exam scores should be linear.\n",
    "Independence: Each observation (student's score) should be independent of others.\n",
    "Homoscedasticity: The variance of residuals should remain constant across levels of study hours.\n",
    "\n",
    "c.\tHow would outliers in the data affect the regression model?\n",
    "Outliers are data points that are very different from the others, and they can mess up a regression model. They can pull the line of best fit towards\n",
    "them, which makes the model less accurate for the rest of the data. This can lead to incorrect slope and intercept values, making predictions less \n",
    "trustworthy. Outliers can make it harder for the model to explain and predict relationships in the data correctly.\n",
    "\n",
    "d.\tIf you need to verify the model what will you need and what will you do?\n",
    "To verify the regression model, we can use the split and train method where we can split the data into training and test sets. We can train the model\n",
    "using the training set, where \"Hours of Study\" is the input and \"Score\" is the output. Then we can make predictions on the test set and compare these \n",
    "predicted scores with the actual scores. \n"
   ]
  },
  {
   "cell_type": "code",
   "execution_count": null,
   "id": "8ec0a4e4-9b7c-4e2f-b327-8872fb17c9d5",
   "metadata": {},
   "outputs": [],
   "source": [
    "3. Machine X is available for 100 hours per week, and Machine Y is available for 85 hours per week. The company wants to maximize its total production\n",
    "output.\n",
    "a.\tPlease formulate this problem as a linear programming problem in standard form. \n",
    "Answer:              \n",
    "Let us assume,\n",
    "x = Number of units produced of Product A\n",
    "y = Number of units produced of Product B\n",
    "z = Number of units produced of Product C\n",
    "The objective function to maximize the total production output\n",
    "𝑍= 𝑥+𝑦+𝑧\n",
    "Constraints\n",
    "Machine X: 2x+1y+3z≤100,\n",
    "Machine Y: 4x+3y+2z≤85,\n",
    "x≥0,y≥0,z≥0.                                                  "
   ]
  },
  {
   "cell_type": "code",
   "execution_count": 4,
   "id": "dcad7da2-f3fa-43f5-bf3f-d16f340d0d68",
   "metadata": {},
   "outputs": [
    {
     "name": "stdout",
     "output_type": "stream",
     "text": [
      "Status: Optimization terminated successfully. (HiGHS Status 7: Optimal)\n",
      "Product A: 0.0\n",
      "Product B: 7.857142857142857\n",
      "Product C: 30.714285714285715\n",
      "Maximum Output: 38.57142857142857\n"
     ]
    }
   ],
   "source": [
    "from scipy.optimize import linprog\n",
    "c = [-1, -1, -1] \n",
    "A = [[2, 1, 3],  \n",
    "     [4, 3, 2]]   \n",
    "b = [100, 85]     \n",
    "result = linprog(c, A_ub=A, b_ub=b, bounds=(0, None), method='highs')\n",
    "print(\"Status:\", result.message)\n",
    "print(\"Product A:\", result.x[0])\n",
    "print(\"Product B:\", result.x[1])\n",
    "print(\"Product C:\", result.x[2])\n",
    "print(\"Maximum Output:\", -result.fun) "
   ]
  },
  {
   "cell_type": "code",
   "execution_count": null,
   "id": "05827f7b-db8f-4dee-b92d-9dad62a18b84",
   "metadata": {},
   "outputs": [],
   "source": [
    "Explaination: The code uses the linprog function from scipy.optimize to solve a linear programming problem. It includes the objective function \n",
    "coefficients c, the inequality constraint matrix A_ub, and the upper bounds for those constraints b_ub. The variable c represents the coefficients of the\n",
    "objective function in linear programming, which we aim to maximize or minimize. Here, c = [-1, -1, -1] indicates that we want to minimize \n",
    "-1 * (Product A) - 1 * (Product B) - 1 * (Product C). Since we're actually trying to maximize Product A + Product B + Product C, minimizing the negative\n",
    "expression effectively achieves that goal. The aim is to find the best amounts of three products (A, B, and C) to maximize output while staying within the limits of available resources. The code sets\n",
    "up the goal (objective function), the limits (constraints), and the range of possible values (variable bounds). It then runs linprog to find the solution\n",
    ". The results, including whether the solution was successful, how much of each product to make, and the maximum output, are stored in a result object."
   ]
  },
  {
   "cell_type": "code",
   "execution_count": null,
   "id": "db09d1d7-79f5-4067-a558-a8230d0b45b9",
   "metadata": {},
   "outputs": [],
   "source": [
    "c.\tThe problem is bounded by machine X or Y? If you have a budget to upgrade the machine, will you upgrade machine X or Y? Please explain your answer \n",
    "    by exploring the math model. \n",
    "Answer: Here we can substitute the value of x, y and z with the above results that we got from running the code i.e. the optimization result. \n",
    "      Machine X Constraint:\n",
    "2x+1y+3z≤100\n",
    "Substituting the optimal solution:\n",
    "2(0)+1(7.86)+3(30.71)≈0+7.86+92.13=100\n",
    "This constraint reaches the limit of 100 hours, indicating that Machine X is fully utilized.\n",
    "\n",
    "Machine Y Constraint:\n",
    "4x+3y+2z≤85\n",
    "Substituting the optimal solution:\n",
    "4(0)+3(7.86)+2(30.71)≈0+23.58+61.42=85\n",
    "This constraint also reaches its limitof 85 hours.\n",
    "Upgrading Machine Y is a good idea because it currently operates at only 85 hours per week, which limits production. This upgrade would allow for the \n",
    "making of Product A, which isn't being produced right now. It would also help increase production of Products A and B, making the overall process more \n",
    "efficient. Since Machine X is already used up at 100 hours, improving Machine Y is a cost-effective way to expand the product line and respond to changes\n",
    "in market demand. Overall, upgrading Machine Y would greatly enhance the company’s production abilities."
   ]
  },
  {
   "cell_type": "code",
   "execution_count": null,
   "id": "3e8a20fb-fb93-44d4-a71d-4a3b0eec613b",
   "metadata": {},
   "outputs": [],
   "source": [
    "Reference: In addressing the linear programming problem, I have relied heavily on Gemini from Google Colab for assistance. Since I am more familiar with\n",
    "Colab, I first typed and tested the code there before pasting it into Jupyter Notebook. The autocomplete suggestions feature turned out to be very \n",
    "helpful, specially for someone who is beginner to coding like me. As I typed my code, I got suggestions of possible completions for functions, variables,\n",
    "and methods, that allowed me to code more efficiently and also reduced the chances of errors. It also assisted me in explaining the coding steps and\n",
    "provide detailed comments alongside the code which made it easier to break down the analysis into understandable segments."
   ]
  }
 ],
 "metadata": {
  "kernelspec": {
   "display_name": "Python 3 (ipykernel)",
   "language": "python",
   "name": "python3"
  },
  "language_info": {
   "codemirror_mode": {
    "name": "ipython",
    "version": 3
   },
   "file_extension": ".py",
   "mimetype": "text/x-python",
   "name": "python",
   "nbconvert_exporter": "python",
   "pygments_lexer": "ipython3",
   "version": "3.11.7"
  }
 },
 "nbformat": 4,
 "nbformat_minor": 5
}
