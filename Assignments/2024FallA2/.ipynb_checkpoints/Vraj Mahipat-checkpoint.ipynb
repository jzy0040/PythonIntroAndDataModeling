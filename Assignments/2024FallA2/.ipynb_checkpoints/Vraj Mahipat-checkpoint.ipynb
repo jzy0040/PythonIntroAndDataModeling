{
 "cells": [
  {
   "cell_type": "code",
   "execution_count": 1,
   "metadata": {
    "id": "NhTQIBhgpoKz"
   },
   "outputs": [],
   "source": [
    "# Importing the required modules\n",
    "import numpy as np\n",
    "from scipy import stats\n",
    "import pandas as pd\n",
    "import matplotlib.pyplot as plt\n",
    "import seaborn as sns\n"
   ]
  },
  {
   "cell_type": "markdown",
   "metadata": {
    "id": "7KBrRy8TTISU"
   },
   "source": [
    "# Test of Significance\n",
    " - The initial Assumption is that the population follows a normal distribution.\n",
    "\n",
    "### Null hypothesis\n",
    " - The null hypthesis (H0) is that the average assembly time after training is equal to 35 minutes, i.e , after that 35 minutes the mean assembly time has not changed after training.\n",
    "\n",
    "### Alternative Hypothesis\n",
    "- The average assembly time after training is less than 35 minutes.\n",
    "\n",
    "\n"
   ]
  },
  {
   "cell_type": "code",
   "execution_count": 5,
   "metadata": {
    "colab": {
     "base_uri": "https://localhost:8080/"
    },
    "id": "KorQ4drk3mV1",
    "outputId": "490d5424-1073-4e79-92d8-4ab3af259610"
   },
   "outputs": [
    {
     "data": {
      "text/plain": [
       "(-2.5298221281347035, 0.005706018193000826, 'Reject Hypothesis')"
      ]
     },
     "execution_count": 5,
     "metadata": {},
     "output_type": "execute_result"
    }
   ],
   "source": [
    "pop_mean = 35\n",
    "pop_std = 5\n",
    "sample_mean = 33  # Sample mean\n",
    "n = 40\n",
    "\n",
    "# Calculating the test statistic\n",
    "z_score = (sample_mean - pop_mean) / (pop_std / (n ** 0.5))\n",
    "\n",
    "# p-value\n",
    "p_value = stats.norm.cdf(z_score)\n",
    "\n",
    "# Decision\n",
    "alpha = 0.05\n",
    "conclusion = 'Reject Hypothesis' if p_value < alpha else 'Fail to reject the null hypothesis'\n",
    "z_score, p_value, conclusion\n",
    "\n"
   ]
  },
  {
   "cell_type": "markdown",
   "metadata": {
    "id": "blGZgaEW7c5A"
   },
   "source": [
    "## Question 2"
   ]
  },
  {
   "cell_type": "markdown",
   "metadata": {
    "id": "eCBZr0cqT26F"
   },
   "source": [
    "The assumption was that the population is normally distributed and the average study time is 25 hours or less as well as on average, people study more than 25 hours.\n"
   ]
  },
  {
   "cell_type": "code",
   "execution_count": 6,
   "metadata": {
    "colab": {
     "base_uri": "https://localhost:8080/"
    },
    "id": "j7g30D2O3zOw",
    "outputId": "c8933030-fa5a-45e6-ff9b-b87cf981695a"
   },
   "outputs": [
    {
     "data": {
      "text/plain": [
       "(1.7213259316477407, 0.05360191367469436, 'Fail to Reject Hypothesis')"
      ]
     },
     "execution_count": 6,
     "metadata": {},
     "output_type": "execute_result"
    }
   ],
   "source": [
    "sample_mean = 27  # Sample mean\n",
    "pop_mean = 25  # Null hypothesis mean\n",
    "sample_std = 4.5  # Sample standard deviation\n",
    "n = 15  # Sample size\n",
    "\n",
    "# Calculating the test statistic\n",
    "t_score = (sample_mean - pop_mean) / (sample_std / (n ** 0.5))\n",
    "\n",
    "# p-value\n",
    "p_value = 1 - stats.t.cdf(t_score, df=n-1)\n",
    "\n",
    "# Decision\n",
    "alpha = 0.05\n",
    "conclusion = 'Reject Hypothesis' if p_value < alpha else 'Fail to Reject null hypothesis'\n",
    "t_score, p_value, conclusion"
   ]
  },
  {
   "cell_type": "markdown",
   "metadata": {
    "id": "jLP2XR8677iA"
   },
   "source": [
    "# Regression"
   ]
  },
  {
   "cell_type": "code",
   "execution_count": 39,
   "metadata": {
    "colab": {
     "base_uri": "https://localhost:8080/",
     "height": 428
    },
    "id": "psWqRgkM8DL8",
    "outputId": "c4b36e96-7381-4b15-bf3b-d0df0bb1e1f8"
   },
   "outputs": [
    {
     "data": {
      "text/plain": [
       "Text(0.5, 1.0, 'Study Hours vs Exam Scores')"
      ]
     },
     "execution_count": 39,
     "metadata": {},
     "output_type": "execute_result"
    },
    {
     "data": {
      "image/png": "[encoded data removed]",
      "text/plain": [
       "<Figure size 600x400 with 1 Axes>"
      ]
     },
     "metadata": {},
     "output_type": "display_data"
    }
   ],
   "source": [
    "hours = [5,5,7,3,0,5,2,7,4,2,1,6,8,7,8,8,8,8,0,8,2,7,4,8,0,5,8,7,4]\n",
    "scores = [52.1221,52.1221,72.1221,32.1221,2.122104,52.1221,22.1221,72.1221,\n",
    "          42.1221,22.1221,12.1221,62.1221,82.1221,72.1221,82.1221,82.1221,\n",
    "          82.1221,82.1221,2.122104,82.1221,22.1221,72.1221,42.1221,82.1221,\n",
    "          2.122104,52.1221,82.1221,72.1221,42.1221]\n",
    "\n",
    "df = pd.DataFrame({'Hours': hours, 'Scores': scores}) # Creating the dataset to hold the variables and their values\n",
    "\n",
    "\n",
    "# Perform regression\n",
    "from sklearn.linear_model import LinearRegression\n",
    "import numpy as np\n",
    "\n",
    "X = df[['Hours']]\n",
    "y = df['Scores']\n",
    "\n",
    "# Fitting and training the model\n",
    "model = LinearRegression()\n",
    "model.fit(X, y)\n",
    "\n",
    "\n",
    "intercept = model.intercept_ # get the intercepts\n",
    "\n",
    "# Ploting the regression\n",
    "plt.figure(figsize=(6, 4))\n",
    "plt.scatter(X, y, color='green', alpha=0.5)\n",
    "plt.plot(X, model.coef_[0] * X + intercept, color='red')\n",
    "plt.xlabel('Hours of Study')\n",
    "plt.ylabel('Exam Score')\n",
    "plt.title('Study Hours vs Exam Scores')"
   ]
  },
  {
   "cell_type": "markdown",
   "metadata": {
    "id": "Vdgz9hcqYIu9"
   },
   "source": [
    "# b. Assumptions made for the linear model\n",
    "**1. Linearity:** The relationship between independent and dependent variable is linear.\n",
    "\n",
    "**2. Independence:** Observations are independent.\n",
    "\n",
    "**3. Homoscedasticity:** Constant variance of errors.\n",
    "\n",
    "***4. Normality:** Errors are normally distributed.\n"
   ]
  },
  {
   "cell_type": "markdown",
   "metadata": {
    "id": "8PibeZ9DY15V"
   },
   "source": [
    "# c . Effects of outliers\n",
    "\n",
    "- The presence of an outlier influences the slope and intercept of a regression line out of proportion, hence misleading the results"
   ]
  },
  {
   "cell_type": "markdown",
   "metadata": {
    "id": "Vtyte_eXZwlc"
   },
   "source": [
    "# d. Model Verifcation\n",
    "\n",
    " In order to verify the model, one can check residuals for normality and homoscedasticity as well as use additional metrics like R-squared and Adjusted R-squared for goodness of fit"
   ]
  },
  {
   "cell_type": "markdown",
   "metadata": {
    "id": "zeEQ2ie19hRF"
   },
   "source": [
    "# 4. Linear Optimization"
   ]
  },
  {
   "cell_type": "code",
   "execution_count": 17,
   "metadata": {
    "colab": {
     "base_uri": "https://localhost:8080/"
    },
    "id": "qbZt-Oua9pTS",
    "outputId": "19e285a5-30ed-4b64-acad-99c9b3b961ce"
   },
   "outputs": [
    {
     "name": "stdout",
     "output_type": "stream",
     "text": [
      "Collecting PuLP\n",
      "  Downloading PuLP-2.9.0-py3-none-any.whl.metadata (5.4 kB)\n",
      "Downloading PuLP-2.9.0-py3-none-any.whl (17.7 MB)\n",
      "\u001b[2K   \u001b[90m━━━━━━━━━━━━━━━━━━━━━━━━━━━━━━━━━━━━━━━━\u001b[0m \u001b[32m17.7/17.7 MB\u001b[0m \u001b[31m50.8 MB/s\u001b[0m eta \u001b[36m0:00:00\u001b[0m\n",
      "\u001b[?25hInstalling collected packages: PuLP\n",
      "Successfully installed PuLP-2.9.0\n",
      "Requirement already satisfied: PuLP in /usr/local/lib/python3.10/dist-packages (2.9.0)\n",
      "\n"
     ]
    }
   ],
   "source": [
    "!pip install PuLP\n"
   ]
  },
  {
   "cell_type": "code",
   "execution_count": 32,
   "metadata": {
    "colab": {
     "base_uri": "https://localhost:8080/"
    },
    "id": "gDS5mjGHAhO1",
    "outputId": "fd8e9461-e371-4025-93f6-474b303452a7"
   },
   "outputs": [
    {
     "data": {
      "text/plain": [
       "Production_Optimization:\n",
       "MAXIMIZE\n",
       "1*Product_A + 1*Product_B + 1*Product_C + 0\n",
       "SUBJECT TO\n",
       "Machine_X_Constraint: 2 Product_A + Product_B + 3 Product_C <= 100\n",
       "\n",
       "Machine_Y_Constraint: 4 Product_A + 3 Product_B + 2 Product_C <= 85\n",
       "\n",
       "VARIABLES\n",
       "Product_A Continuous\n",
       "Product_B Continuous\n",
       "Product_C Continuous"
      ]
     },
     "execution_count": 32,
     "metadata": {},
     "output_type": "execute_result"
    }
   ],
   "source": [
    "from pulp import *\n",
    "\n",
    "prob = LpProblem(\"Production_Optimization\", LpMaximize)  # Creating an LP maximization problem\n",
    "\n",
    "# Define variables\n",
    "A = LpVariable(\"Product_A\", 0)\n",
    "B = LpVariable(\"Product_B\", 0)\n",
    "C = LpVariable(\"Product_C\", 0)\n",
    "\n",
    "# Objective of the function\n",
    "prob += A + B + C, \"Total Production\"\n",
    "\n",
    "# Adding constraints to the model\n",
    "prob += 2*A + B + 3*C <= 100, \"Machine_X_Constraint\"\n",
    "prob += 4*A + 3*B + 2*C <= 85, \"Machine_Y_Constraint\"\n",
    "\n",
    "# Display the LP problem\n",
    "prob\n",
    "\n",
    "\n"
   ]
  },
  {
   "cell_type": "code",
   "execution_count": 36,
   "metadata": {
    "colab": {
     "base_uri": "https://localhost:8080/"
    },
    "id": "VwvN1rbyMRbo",
    "outputId": "289e3a47-8efd-48d8-a91e-cf2de506c4ab"
   },
   "outputs": [
    {
     "name": "stdout",
     "output_type": "stream",
     "text": [
      "\n",
      " Status: Optimal\n",
      "Product A: 0.00 units\n",
      "Product B: 7.86 units\n",
      "Product C: 30.71 units\n",
      "Total Production: 38.57 units\n",
      "\n",
      "\n",
      "**********\n",
      "Shadow Prices:\n",
      "----------\n",
      "Machine X: 0.1429\n",
      "Machine Y: 0.2857\n"
     ]
    }
   ],
   "source": [
    "# Solving the problem using the default solver\n",
    "prob.solve()\n",
    "\n",
    "# Get solution status\n",
    "print(\"\\n Status:\", LpStatus[prob.status])\n",
    "\n",
    "print(\"Product A: {:.2f} units\".format(value(A)))\n",
    "print(\"Product B: {:.2f} units\".format(value(B)))\n",
    "print(\"Product C: {:.2f} units\".format(value(C)))\n",
    "print(\"Total Production: {:.2f} units\".format(value(prob.objective)))\n",
    "\n",
    "# Calculating the shadow prices\n",
    "shadow_prices = {\n",
    "    \"Machine X\": prob.constraints[\"Machine_X_Constraint\"].pi,\n",
    "    \"Machine Y\": prob.constraints[\"Machine_Y_Constraint\"].pi\n",
    "}\n",
    "\n",
    "print('\\n')\n",
    "print('*' * 10)\n",
    "print(\"Shadow Prices:\")\n",
    "print('-' * 10)\n",
    "\n",
    "print(\"Machine X: {:.4f}\".format(shadow_prices['Machine X']))\n",
    "print(\"Machine Y: {:.4f}\".format(shadow_prices['Machine Y']))"
   ]
  },
  {
   "cell_type": "markdown",
   "metadata": {
    "id": "PV7Db8HCWbXI"
   },
   "source": [
    "I would upgrade Machine Y since its shadow price is higher than for Machine X, so , one could expect a much greater increase in production for every added hour by simply upgrading Machine Y. Therefore, to obtain an increased amount of production, Machine Y is one's best alternative within a set budget if one wants to see a better output of the product.\n",
    "\n",
    "The shadow profit shows that Machine Y is the tighter resource because it provides the higher marginal benefit from any additional capacity. Hence, upgrading Machine Y would allow higher production expansion compared to Machine X."
   ]
  },
  {
   "cell_type": "markdown",
   "metadata": {
    "id": "WdBmUd7ieVCT"
   },
   "source": [
    "**References**\n",
    "\n",
    "COIN-OR. (n.d.). PuLP: A linear programming modeler written in Python. https://coin-or.github.io/pulp/technical/pulp.html\n",
    "\n",
    "Hakeem Rehman. (n.d.). LP Problem [Jupyter Notebook]. GitHub. https://github.com/hakeemrehman/Python-PuLP-/blob/master/LP%20Problem.ipynb\n",
    "\n"
   ]
  }
 ],
 "metadata": {
  "colab": {
   "provenance": []
  },
  "kernelspec": {
   "display_name": "Python 3 (ipykernel)",
   "language": "python",
   "name": "python3"
  },
  "language_info": {
   "codemirror_mode": {
    "name": "ipython",
    "version": 3
   },
   "file_extension": ".py",
   "mimetype": "text/x-python",
   "name": "python",
   "nbconvert_exporter": "python",
   "pygments_lexer": "ipython3",
   "version": "3.11.7"
  }
 },
 "nbformat": 4,
 "nbformat_minor": 4
}
