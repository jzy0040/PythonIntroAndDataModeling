{
 "cells": [
  {
   "cell_type": "code",
   "execution_count": null,
   "id": "550d2411-1902-445f-a95e-fa6798a2757d",
   "metadata": {},
   "outputs": [],
   "source": [
    "#PART_1"
   ]
  },
  {
   "cell_type": "code",
   "execution_count": 62,
   "id": "487cee1c-b7c7-452e-bd4c-57b067d52c4a",
   "metadata": {},
   "outputs": [],
   "source": [
    "#1.\tA company wants to test whether the average time taken to assemble a product has significantly decreased after implementing a new training program. \n",
    "#Prior to the training, the average assembly time was 35 minutes with a known population standard deviation of 5 minutes. \n",
    "#After the training, a random sample of 40 employees showed a mean assembly time of 33 minutes. \n",
    "#Can you help the company to decide whether the new training program is necessary?"
   ]
  },
  {
   "cell_type": "code",
   "execution_count": 64,
   "id": "d310404f-4284-4432-a9d3-3eeba22fb16a",
   "metadata": {},
   "outputs": [],
   "source": [
    "import scipy.stats as t\n",
    "# Given data\n",
    "population_mean_before = 35  # minutes\n",
    "std_dev = 5  # minutes\n",
    "sample_size = 40\n",
    "sample_mean_after = 33  # minutes\n",
    "alpha = 0.05  # significance level for a one-tailed test since we are only interested in decreases in assembly time."
   ]
  },
  {
   "cell_type": "code",
   "execution_count": 66,
   "id": "e97d4811-ed8b-40fc-b19b-f86238b73bb9",
   "metadata": {},
   "outputs": [
    {
     "name": "stdout",
     "output_type": "stream",
     "text": [
      "Population is normally distributed.\n"
     ]
    }
   ],
   "source": [
    "# 1. The initial assumption of population distribution\n",
    "\n",
    "intial_assumption = \"Population is normally distributed.\"\n",
    "print(intial_assumption)"
   ]
  },
  {
   "cell_type": "code",
   "execution_count": 68,
   "id": "89728625-4752-4fb0-9b4a-8dbd5a87d82e",
   "metadata": {},
   "outputs": [
    {
     "name": "stdout",
     "output_type": "stream",
     "text": [
      "{'null hypothesis': 'H0: mu = 35', 'alternative hypothesis': 'H1: mu < 35'}\n"
     ]
    }
   ],
   "source": [
    "# 2. State the null and alternative hypotheses\n",
    "\n",
    "hypotheses = {\n",
    "    \"null hypothesis\": \"H0: mu = 35\", #The average assembly time after training is 35 minutes\n",
    "    \"alternative hypothesis\": \"H1: mu < 35\" #The average assembly time after training has significantly decreased,\n",
    "}\n",
    "print(hypotheses)"
   ]
  },
  {
   "cell_type": "code",
   "execution_count": 70,
   "id": "5fa996f7-23f5-413d-a4f9-5abd7cf096e2",
   "metadata": {},
   "outputs": [
    {
     "name": "stdout",
     "output_type": "stream",
     "text": [
      "Test statistic: -2.5298221281347035\n"
     ]
    }
   ],
   "source": [
    "# 3. Determine the test statistic\n",
    "\n",
    "z_test_statistic = (sample_mean_after - population_mean_before) / (std_dev / (sample_size**0.5)) \n",
    "print(f\"Test statistic: {z_test_statistic:}\")"
   ]
  },
  {
   "cell_type": "code",
   "execution_count": 72,
   "id": "2da7cbb0-5de8-494a-b376-d6b5a083379a",
   "metadata": {},
   "outputs": [
    {
     "name": "stdout",
     "output_type": "stream",
     "text": [
      "Critical value: 1.6448536269514722\n",
      "Decision rule: Reject H0 if Z < -1.6448536269514722\n"
     ]
    }
   ],
   "source": [
    "# 4. Find the critical value and decision rule\n",
    "\n",
    "critical_value = t.norm.ppf(1 - alpha)\n",
    "decision_rule = f\"Reject H0 if Z < {-critical_value}\" #for a left-tailed test \n",
    "print(f\"Critical value: {critical_value:}\")\n",
    "print(f\"Decision rule: {decision_rule}\")"
   ]
  },
  {
   "cell_type": "code",
   "execution_count": 74,
   "id": "ee279d5d-0190-4f86-9e24-6ae2bc9a207a",
   "metadata": {},
   "outputs": [
    {
     "name": "stdout",
     "output_type": "stream",
     "text": [
      "p-value: 0.005706018193000826\n"
     ]
    }
   ],
   "source": [
    "# 5. Calculate the p-value\n",
    "\n",
    "p_value = t.norm.cdf(z_test_statistic)\n",
    "print(f\"p-value: {p_value:}\")"
   ]
  },
  {
   "cell_type": "code",
   "execution_count": 76,
   "id": "2f78ce8a-2c53-4e64-a530-7c67372d2cee",
   "metadata": {},
   "outputs": [
    {
     "name": "stdout",
     "output_type": "stream",
     "text": [
      "Reject the null hypothesis\n",
      "The new training program has significantly decreased the average assembly time.\n"
     ]
    }
   ],
   "source": [
    "# 6. Draw a conclusion based on the significance level\n",
    "\n",
    "#Since the z-score of -2.53 is less than the critical value of -1.645, and the p-value (0.0057) is less than the significance level \n",
    "# we reject the null hypothesis.\n",
    "\n",
    "print(\"Reject the null hypothesis\")\n",
    "print(\"The new training program has significantly decreased the average assembly time.\")"
   ]
  },
  {
   "cell_type": "code",
   "execution_count": null,
   "id": "e82b1b1c-226c-43cc-a79d-860098d86ac2",
   "metadata": {},
   "outputs": [],
   "source": []
  },
  {
   "cell_type": "code",
   "execution_count": 79,
   "id": "28a3911b-9bc4-4c0a-9b66-06968ee45025",
   "metadata": {},
   "outputs": [],
   "source": [
    "#2.\tA university administrator wants to test whether graduate students at the institution study, on average, more than 25 hours per week. \n",
    "#To explore this, a random sample of 15 graduate students was surveyed, and the sample mean study time was found to be 27 hours per week, \n",
    "#with a sample standard deviation of 4.5 hours."
   ]
  },
  {
   "cell_type": "code",
   "execution_count": 81,
   "id": "f9512f1e-14e1-47ed-985c-d436f296d229",
   "metadata": {},
   "outputs": [],
   "source": [
    "import scipy.stats as stats\n",
    "\n",
    "# Given data\n",
    "population_mean = 25  # hours per week\n",
    "sample_mean = 27      # hours per week\n",
    "sample_std = 4.5      # hours per week\n",
    "sample_size = 15\n",
    "alpha = 0.05          # Assume a significance level as 0.05 for a one-tailed test since we are only interested in increases in study time."
   ]
  },
  {
   "cell_type": "code",
   "execution_count": 83,
   "id": "c7e561f3-f133-40a3-805e-f08d036f980c",
   "metadata": {},
   "outputs": [
    {
     "name": "stdout",
     "output_type": "stream",
     "text": [
      "Population is normally distributed.\n"
     ]
    }
   ],
   "source": [
    "# 1. Initial assumption of population distribution\n",
    "\n",
    "initial_assumption = \"The population is normally distributed.\"\n",
    "print(intial_assumption)"
   ]
  },
  {
   "cell_type": "code",
   "execution_count": 85,
   "id": "2e7cfa65-e9d4-4c4d-a39d-4f33e7d19a5b",
   "metadata": {},
   "outputs": [
    {
     "name": "stdout",
     "output_type": "stream",
     "text": [
      "{'null hypothesis': 'H0: mu = 25', 'alternative hypothesis': 'H1: mu > 25'}\n"
     ]
    }
   ],
   "source": [
    "# 2. State the null and alternative hypotheses\n",
    "\n",
    "hypotheses = {\n",
    "    \"null hypothesis\": \"H0: mu = 25\", #Graduate students study 25 hours per week on average\n",
    "    \"alternative hypothesis\": \"H1: mu > 25\" #Graduate students study more than 25 hours per week on average\n",
    "}\n",
    "print(hypotheses)"
   ]
  },
  {
   "cell_type": "code",
   "execution_count": 87,
   "id": "b5fc2aab-bb34-489e-93f2-f0ca6e2a8413",
   "metadata": {},
   "outputs": [
    {
     "name": "stdout",
     "output_type": "stream",
     "text": [
      "Test statistic (t): 1.7213259316477407\n"
     ]
    }
   ],
   "source": [
    "# 3. Determine the test statistic\n",
    "\n",
    "#Since the sample size is small (n = 15) and we do not know the population standard deviation, we use a t-test for this hypothesis test.\n",
    "t_statistic = (sample_mean - population_mean) / (sample_std / (sample_size**0.5))\n",
    "print(f\"Test statistic (t): {t_statistic}\")\n"
   ]
  },
  {
   "cell_type": "code",
   "execution_count": 89,
   "id": "4c19a4ab-285d-4715-9f0a-49faa665d7e6",
   "metadata": {},
   "outputs": [
    {
     "name": "stdout",
     "output_type": "stream",
     "text": [
      "Critical value: 1.7613101357748562\n",
      "Decision rule: Reject H0 if t > 1.7613101357748562\n"
     ]
    }
   ],
   "source": [
    "# 4. Find the critical value and decision rule\n",
    "\n",
    "df = sample_size - 1  # degrees of freedom\n",
    "critical_value = stats.t.ppf(1 - alpha, df)\n",
    "print(f\"Critical value: {critical_value}\")\n",
    "print(f\"Decision rule: Reject H0 if t > {critical_value}\")"
   ]
  },
  {
   "cell_type": "code",
   "execution_count": 91,
   "id": "51841cc3-9429-4ec3-8943-961d689334c5",
   "metadata": {},
   "outputs": [
    {
     "name": "stdout",
     "output_type": "stream",
     "text": [
      "p-value: 0.05360191367469436\n"
     ]
    }
   ],
   "source": [
    "# 5. Calculate the p-value\n",
    "\n",
    "#calculating the p-value using the t-distribution.\n",
    "p_value = 1 - stats.t.cdf(t_statistic, df)\n",
    "print(f\"p-value: {p_value}\")"
   ]
  },
  {
   "cell_type": "code",
   "execution_count": 93,
   "id": "d6de5930-e386-4f53-be2e-c70f55cbc3d2",
   "metadata": {},
   "outputs": [
    {
     "name": "stdout",
     "output_type": "stream",
     "text": [
      "Fail to reject the null hypothesis.\n",
      "There is not enough evidence to conclude that graduate students study, on average, more than 25 hours per week.\n"
     ]
    }
   ],
   "source": [
    "# 6. Draw a conclusion based on the significance level\n",
    "\n",
    "#Since the t-score of 1.72 is slightly below the critical value of 1.761, and the p-value (0.053) is greater than the significance level, \n",
    "#we fail to reject the null hypothesis.\n",
    "\n",
    "print(\"Fail to reject the null hypothesis.\")\n",
    "print(\"There is not enough evidence to conclude that graduate students study, on average, more than 25 hours per week.\")"
   ]
  },
  {
   "cell_type": "code",
   "execution_count": null,
   "id": "b5f95d3c-a9f1-4e67-ae43-d2f5858f6e4b",
   "metadata": {},
   "outputs": [],
   "source": []
  },
  {
   "cell_type": "code",
   "execution_count": 96,
   "id": "00ceff6b-cd44-4bb8-ade6-34925e2e3d3f",
   "metadata": {},
   "outputs": [],
   "source": [
    "#PART_2"
   ]
  },
  {
   "cell_type": "code",
   "execution_count": 98,
   "id": "fb0122d8-3e7e-4eff-aa2b-d602ad618bb5",
   "metadata": {},
   "outputs": [],
   "source": [
    "#Regression"
   ]
  },
  {
   "cell_type": "code",
   "execution_count": 100,
   "id": "3e693925-ea0b-464a-88ed-2b7f099137f5",
   "metadata": {},
   "outputs": [
    {
     "name": "stdout",
     "output_type": "stream",
     "text": [
      "Simple Linear Regression Model:\n",
      "Equation: Score = 2.3601970666666787 + 9.952380666666667 * Hours of Study\n",
      "Intercept (β₀): 2.3601970666666787\n",
      "Slope (β₁): 9.952380666666667\n",
      "R-squared: 0.9904988659423376\n"
     ]
    }
   ],
   "source": [
    "#a.\tFit a simple linear regression model to the data, where the dependent variable (Y) is the exam score, and the independent variable (X) \n",
    "#is the hours of study.\n",
    "\n",
    "import pandas as pd\n",
    "import numpy as np\n",
    "from sklearn.linear_model import LinearRegression\n",
    "import matplotlib.pyplot as plt\n",
    "\n",
    "data = pd.DataFrame({'Hours of Study': [5, 5, 7, 3, 0, 5, 2, 7, 4, 2, 1, 6, 8, 5, 7, 8, 8, 8, 0, 8, 7, 8, 8, 0, 4, 6, 2, 7, 5, 4],\n",
    "    'Score': [52.1221, 52.1221, 72.1221, 32.1221, 2.122104, 52.1221,22.1221, 72.1221, 42.1221, 22.1221,12.1221, 62.1221, 82.1221, 52.1221,72.1221, \n",
    "              72.1221, 82.1221,82.1221,2.122104,82.1221,72.1221,82.1221,82.1221,2.122104,42.1221,62.1221,22.1221,82.1221,52.1221,42.1221]})\n",
    "\n",
    "#X = hours of study and y = score\n",
    "X = data['Hours of Study'].values.reshape(-1, 1)\n",
    "y = data['Score'].values\n",
    "\n",
    "# Fit a simple linear regression model\n",
    "model = LinearRegression()\n",
    "model.fit(X, y)\n",
    "\n",
    "intercept = model.intercept_\n",
    "slope = model.coef_[0]\n",
    "r_squared = model.score(X, y)\n",
    "\n",
    "print(f\"Simple Linear Regression Model:\")\n",
    "print(f\"Equation: Score = {intercept} + {slope} * Hours of Study\")\n",
    "print(f\"Intercept (β₀): {intercept}\")\n",
    "print(f\"Slope (β₁): {slope}\")\n",
    "print(f\"R-squared: {r_squared}\")"
   ]
  },
  {
   "cell_type": "code",
   "execution_count": 102,
   "id": "82f854f6-19bf-43ec-acda-6e6fff110e92",
   "metadata": {},
   "outputs": [],
   "source": [
    "#b.\tWhat are the assumptions of simple linear regression, and do you think they hold for this dataset?\n",
    "\n",
    "#Linearity: The relationship between the independent variable (hours of study) and the dependent variable (exam score) should be linear. \n",
    "#Independence of Errors: Observations should be independent, meaning the residuals (errors) are not correlated. \n",
    "#Homoscedasticity: The variance of errors should be constant across all levels of the independent variable (no pattern in residual variance). \n",
    "#Normality of Errors: The residuals should be approximately normally distributed. \n",
    "#No Multicollinearity: This applies to multiple linear regression but is irrelevant here, as we only have one independent variable."
   ]
  },
  {
   "cell_type": "code",
   "execution_count": 104,
   "id": "b230699d-5f53-4e64-8253-b0e206a295c2",
   "metadata": {},
   "outputs": [],
   "source": [
    "#c.\tHow would outliers in the data affect the regression model?\n",
    "\n",
    "#Outliers can skew the regression line, affecting the slope and intercept, increasing residual variance, and potentially violating \n",
    "#assumptions like homoscedasticity and normality, which reduces the model’s accuracy and reliability."
   ]
  },
  {
   "cell_type": "code",
   "execution_count": 106,
   "id": "268fece0-fcb8-4134-aaf1-3d416a357a0c",
   "metadata": {},
   "outputs": [],
   "source": [
    "#d.\tIf you need to verify the model what will you need and what will you do?\n",
    "\n",
    "#Residual plots to check assumptions of linearity, homoscedasticity, and normality of residuals.\n",
    "#Q-Q plot to further assess the normality of residuals.\n",
    "#Leverage plots to identify influential points or outliers.\n",
    "#Cross-validation data: A separate dataset to test the model's predictive performance."
   ]
  },
  {
   "cell_type": "code",
   "execution_count": null,
   "id": "99ed62bc-7367-4a91-8a2d-019bfcee4ea2",
   "metadata": {},
   "outputs": [],
   "source": []
  },
  {
   "cell_type": "code",
   "execution_count": 109,
   "id": "8aae0400-e591-4f3f-9da0-e9ce4a620149",
   "metadata": {},
   "outputs": [],
   "source": [
    "#PART3"
   ]
  },
  {
   "cell_type": "code",
   "execution_count": 111,
   "id": "a7848688-5f93-4a50-8e32-157b81473f92",
   "metadata": {},
   "outputs": [],
   "source": [
    "#a.\tPlease formulate this problem as a linear programming problem in standard form. \n",
    "#b.\tThe problem is bounded by machine X or Y? If you have a budget to upgrade the machine, will you upgrade machine X or Y? \n",
    "    #Please explain your answer by exploring the math model. \n"
   ]
  },
  {
   "cell_type": "code",
   "execution_count": 113,
   "id": "4a96e6b0-cf51-4527-a4de-4edabf2a1127",
   "metadata": {},
   "outputs": [
    {
     "name": "stdout",
     "output_type": "stream",
     "text": [
      "Status: Optimal\n",
      "\n",
      "Optimal Production:\n",
      "Product A: 0.0\n",
      "Product B: 7.8571429\n",
      "Product C: 30.714286\n",
      "\n",
      "Total Production: 38.5714289\n",
      "\n",
      "Machine Usage:\n",
      "Machine X: 100.00 / 100 hours\n",
      "Machine Y: 85.00 / 85 hours\n",
      "\n",
      "Both machines are fully utilized and limiting production.\n",
      "\n",
      "Shadow Prices:\n",
      "Machine X: 0.1429\n",
      "Machine Y: 0.2857\n",
      "\n",
      "Interpretation:\n",
      "Upgrading Machine Y would yield a higher increase in total production.\n"
     ]
    },
    {
     "name": "stderr",
     "output_type": "stream",
     "text": [
      "C:\\Users\\ravic\\anaconda3\\Lib\\site-packages\\pulp\\pulp.py:1298: UserWarning: Spaces are not permitted in the name. Converted to '_'\n",
      "  warnings.warn(\"Spaces are not permitted in the name. Converted to '_'\")\n"
     ]
    }
   ],
   "source": [
    "import pulp\n",
    "\n",
    "# Create the LP problem\n",
    "prob = pulp.LpProblem(\"Maximize Production\", pulp.LpMaximize)\n",
    "\n",
    "# Define decision variables\n",
    "# These represent the number of units to produce for each product\n",
    "x1 = pulp.LpVariable(\"Product_A\", lowBound=0)  # Product A\n",
    "x2 = pulp.LpVariable(\"Product_B\", lowBound=0)  # Product B\n",
    "x3 = pulp.LpVariable(\"Product_C\", lowBound=0)  # Product C\n",
    "\n",
    "# Define the objective function\n",
    "# We want to maximize the total production (sum of all products)\n",
    "prob += x1 + x2 + x3, \"Total Production\"\n",
    "\n",
    "# Define constraints\n",
    "# Machine X constraint: 2 hours for A, 1 hour for B, 3 hours for C, total 100 hours available\n",
    "prob += 2*x1 + x2 + 3*x3 <= 100, \"Machine_X_Constraint\"\n",
    "# Machine Y constraint: 4 hours for A, 3 hours for B, 2 hours for C, total 85 hours available\n",
    "prob += 4*x1 + 3*x2 + 2*x3 <= 85, \"Machine_Y_Constraint\"\n",
    "\n",
    "# Solve the problem\n",
    "prob.solve()\n",
    "\n",
    "# Print the results\n",
    "print(\"Status:\", pulp.LpStatus[prob.status])\n",
    "print(\"\\nOptimal Production:\")\n",
    "print(\"Product A:\", x1.varValue)\n",
    "print(\"Product B:\", x2.varValue)\n",
    "print(\"Product C:\", x3.varValue)\n",
    "print(\"\\nTotal Production:\", pulp.value(prob.objective))\n",
    "\n",
    "# Check which machine is limiting production\n",
    "machine_x_usage = 2*x1.varValue + x2.varValue + 3*x3.varValue\n",
    "machine_y_usage = 4*x1.varValue + 3*x2.varValue + 2*x3.varValue\n",
    "\n",
    "print(\"\\nMachine Usage:\")\n",
    "print(f\"Machine X: {machine_x_usage:.2f} / 100 hours\")\n",
    "print(f\"Machine Y: {machine_y_usage:.2f} / 85 hours\")\n",
    "\n",
    "# Determine which machine(s) are fully utilized\n",
    "if abs(machine_x_usage - 100) < 1e-6 and abs(machine_y_usage - 85) < 1e-6:\n",
    "    print(\"\\nBoth machines are fully utilized and limiting production.\")\n",
    "elif abs(machine_x_usage - 100) < 1e-6:\n",
    "    print(\"\\nMachine X is fully utilized and limiting production.\")\n",
    "    print(\"Upgrading Machine X would be more beneficial.\")\n",
    "elif abs(machine_y_usage - 85) < 1e-6:\n",
    "    print(\"\\nMachine Y is fully utilized and limiting production.\")\n",
    "    print(\"Upgrading Machine Y would be more beneficial.\")\n",
    "else:\n",
    "    print(\"\\nNeither machine is fully utilized. No upgrade is necessary.\")\n",
    "\n",
    "# Calculate shadow prices\n",
    "# Shadow prices indicate how much the objective value would improve\n",
    "# for a unit increase in the right-hand side of the constraint\n",
    "machine_x_constraint = prob.constraints[\"Machine_X_Constraint\"]\n",
    "machine_y_constraint = prob.constraints[\"Machine_Y_Constraint\"]\n",
    "\n",
    "print(\"\\nShadow Prices:\")\n",
    "print(f\"Machine X: {machine_x_constraint.pi:.4f}\")\n",
    "print(f\"Machine Y: {machine_y_constraint.pi:.4f}\")\n",
    "\n",
    "print(\"\\nInterpretation:\")\n",
    "if machine_x_constraint.pi > machine_y_constraint.pi:\n",
    "    print(\"Upgrading Machine X would yield a higher increase in total production.\")\n",
    "else:\n",
    "    print(\"Upgrading Machine Y would yield a higher increase in total production.\")\n"
   ]
  },
  {
   "cell_type": "code",
   "execution_count": null,
   "id": "f673664a-225e-4262-9592-67f12d46a92f",
   "metadata": {},
   "outputs": [],
   "source": [
    "#upgrading Machine Y is prioritized because it is the binding constraint that limits production the most. \n",
    "#Addressing this constraint will yield immediate benefits in terms of production capacity and efficiency. \n",
    "#Upgrading Machine X may be beneficial in the future, especially if production plans diversify or increase significantly. \n",
    "#Thus, the focus should be on Machine Y to maximize production capabilities effectively.\n",
    "\n",
    "\n",
    "\n"
   ]
  },
  {
   "cell_type": "code",
   "execution_count": null,
   "id": "2bc78ab2-37f5-4c42-80c6-9ee4ec3688f5",
   "metadata": {},
   "outputs": [],
   "source": []
  },
  {
   "cell_type": "code",
   "execution_count": null,
   "id": "aa1d9bca-43fb-4de9-8936-ce9189a23f87",
   "metadata": {},
   "outputs": [],
   "source": []
  }
 ],
 "metadata": {
  "kernelspec": {
   "display_name": "Python 3 (ipykernel)",
   "language": "python",
   "name": "python3"
  },
  "language_info": {
   "codemirror_mode": {
    "name": "ipython",
    "version": 3
   },
   "file_extension": ".py",
   "mimetype": "text/x-python",
   "name": "python",
   "nbconvert_exporter": "python",
   "pygments_lexer": "ipython3",
   "version": "3.12.4"
  }
 },
 "nbformat": 4,
 "nbformat_minor": 5
}
