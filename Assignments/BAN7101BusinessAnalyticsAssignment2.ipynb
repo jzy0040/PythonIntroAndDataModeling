{
 "cells": [
  {
   "cell_type": "code",
   "execution_count": null,
   "id": "1673c973-79ad-45bd-a092-d0881f33a8d8",
   "metadata": {},
   "outputs": [],
   "source": [
    "# All necessary libraries are imported here.\n",
    "# Please don't edit anything in this cell.\n",
    "\n",
    "%matplotlib inline\n",
    "import numpy as np\n",
    "import pandas as pd\n",
    "import yfinance as yf\n",
    "import matplotlib.pyplot as plt\n",
    "import pulp\n",
    "\n",
    "from sklearn.linear_model import LinearRegression\n",
    "from sklearn.model_selection import train_test_split"
   ]
  },
  {
   "cell_type": "markdown",
   "id": "0368d8d2-e50f-4f39-9786-1dd7487bb748",
   "metadata": {},
   "source": [
    "# Problem 1 Tests of Significance:\n",
    "\n",
    "### We are interested in whether the COVID19 pandemic has a significant impact on Apple stock return in 2020.\n",
    "### Based on the historical data, the average daily return for Apple is 0.25% percent, with standard deviation 0.0165.\n",
    "1. Please conduct a Test of Significance model in Python to see whether the COVID19 pandemic has a significant impact on Apple stock return in 2020.\n",
    "2. Please clearly state your Null and Alternative hypothesis in the next Markdown cell. \n",
    "3. Please use Python to code this problem in the further cell below. "
   ]
  },
  {
   "cell_type": "markdown",
   "id": "22d5240a-5296-43e1-a2d9-ca090aa86120",
   "metadata": {},
   "source": [
    "### Your Null and Alternative hypothesis here\n",
    "##### Null hypothesis:\n",
    "##### Alternative hypothesis："
   ]
  },
  {
   "cell_type": "code",
   "execution_count": null,
   "id": "de784872-c938-4c2f-98e4-cb49a4790722",
   "metadata": {},
   "outputs": [],
   "source": [
    "# Do not edit this cell\n",
    "\n",
    "# Please execute this cell to download data\n",
    "tickers = 'AAPL'\n",
    "# Download Apple daily close price after pandemic in 2020\n",
    "closeAfter = yf.download(tickers, start = \"2020-01-01\", end = \"2020-12-31\")['Close']"
   ]
  },
  {
   "cell_type": "markdown",
   "id": "41a53a10-cb78-42ad-9e94-5a75f7fa1539",
   "metadata": {},
   "source": [
    "### Add your Tests of Significance Python code for Problem 1 in the next cell."
   ]
  },
  {
   "cell_type": "code",
   "execution_count": null,
   "id": "fb43b2de-f044-435b-bb1a-76dbcea5a0c4",
   "metadata": {},
   "outputs": [],
   "source": [
    "### Your code here\n",
    "\n"
   ]
  },
  {
   "cell_type": "markdown",
   "id": "47a15394-8911-4b34-a4c3-b720ac93f089",
   "metadata": {},
   "source": [
    "\n",
    "\n",
    "\n"
   ]
  },
  {
   "cell_type": "markdown",
   "id": "8e44ba4e-dac7-45f6-9ab6-13f3afeb1bf9",
   "metadata": {},
   "source": [
    "# Problem 2 Regression: \n",
    "\n",
    "### You have some random data generated using the code below for a linear regression analysis. \n",
    "1. Please fit a linear regression model to predict for those x_test.\n",
    "2. Please clearly state your model parameters after fitting your regression model, including coefficient, intercept.\n",
    "3. Can you evaluate your model using mean_absolute_error, mean_absolute_percentage_error, and mean_squared_error?\n",
    "4. Can you also create a visualization for your regression model? Add a line to the regresession below will be good. "
   ]
  },
  {
   "cell_type": "code",
   "execution_count": null,
   "id": "699af83d-d065-4b97-9ee2-a6ba0ffd279c",
   "metadata": {},
   "outputs": [],
   "source": [
    "# Do not edit this cell\n",
    "\n",
    "# Generate random data\n",
    "X = 2 * np.random.rand(50, 1)\n",
    "y = 3 + 4 * X + np.random.randn(50, 1)\n",
    "\n",
    "X_train, X_test, y_train, y_test = train_test_split(X, y, train_size = 0.8)\n",
    "\n",
    "# Plot the data and the best-fit line\n",
    "plt.figure(figsize=(8, 6))\n",
    "plt.scatter(X_train, y_train, color='blue', label='Train Data points')\n",
    "plt.scatter(X_test, y_test, color='green', label='Test Data points')\n",
    "plt.xlabel('X')\n",
    "plt.ylabel('y')\n",
    "plt.title('Linear Regression Example')\n",
    "plt.legend()\n",
    "plt.show()"
   ]
  },
  {
   "cell_type": "code",
   "execution_count": null,
   "id": "8d62ad47-b2a0-4831-b831-27a687a9fb7c",
   "metadata": {},
   "outputs": [],
   "source": [
    "# Your regression Python code here. \n",
    "\n",
    "\n"
   ]
  },
  {
   "cell_type": "markdown",
   "id": "d0701895-f4b7-40c1-8329-3bfd8d70d55c",
   "metadata": {},
   "source": [
    "# Problem 3 Linear Optimization:\n",
    "\n",
    "A manufacturing company produces three products: Product A, Product B, and Product C. Each product requires different amounts of two types of machines, Machine X and Machine Y, as shown in the table below:\n",
    "\n",
    "| Product | Machine X hour/unit| Machine Y hour/unit|\n",
    "|:---------:|--------:|--------:|\n",
    "|A|  2 | 4 |\n",
    "|B| 1 | 3 |\n",
    "|C| 3 | 2 |\n",
    "\n",
    "Machine X is available for 120 hours per week, and Machine Y is available for 90 hours per week. The company wants to maximize its total production output."
   ]
  },
  {
   "cell_type": "markdown",
   "id": "b8768c50-a7bc-4e45-9194-dc8754c305b1",
   "metadata": {},
   "source": [
    "##### Please formulate the problem in the Markdown cell below. Clearly state your:\n",
    "1. Decision Variables\n",
    "2. Objective Function\n",
    "3. Constraints\n",
    "\n",
    "### Your formulation here\n",
    "\n",
    "##### Formulation：\n"
   ]
  },
  {
   "cell_type": "markdown",
   "id": "b4ef0617-0826-4214-bb18-a961745e4dc1",
   "metadata": {},
   "source": [
    "### Please pick one option below to solve this problem in the cell below: \n",
    "\n",
    "### You need to calculate the optimal solution and optimal objective function value.\n",
    "\n",
    "1. Please use Pulp library to code your solution for the problem above in Python. \n",
    "2. Please use the code provided on Blackboard to solve the problem. "
   ]
  },
  {
   "cell_type": "code",
   "execution_count": null,
   "id": "78cb1515-508c-497c-acca-fef3ae919005",
   "metadata": {},
   "outputs": [],
   "source": [
    "### Python code to this linear programming problem\n",
    "\n"
   ]
  },
  {
   "cell_type": "markdown",
   "id": "2200f111-9524-4e4b-9946-06fcbe1cefee",
   "metadata": {},
   "source": [
    "### Can you briefly discuss how to make a decision with the optimal solution?\n",
    "\n",
    "##### Answer:"
   ]
  },
  {
   "cell_type": "markdown",
   "id": "02f3c7d7-0340-4157-934d-edfc15e245cb",
   "metadata": {},
   "source": [
    "# Problem 4 Non-linear Optimization: \n"
   ]
  },
  {
   "cell_type": "markdown",
   "id": "401a81f1-b7ef-44cf-a3b4-6dd209699b0f",
   "metadata": {},
   "source": [
    "### A Nonlinear Programming pricing problem\n",
    "\n",
    "The Sweet Treats Bakery Dilemma\n",
    "\n",
    "The Sweet Treats Bakery specializes in delicious cupcakes. They offer two types of cupcakes: chocolate and vanilla. The bakery wants to determine the optimal pricing strategy for these cupcakes to maximize their revenue.\n",
    "\n",
    "Here are the details:\n",
    "1. The variable cost of producing one chocolate cupcake is \\\\$1.50, and the variable cost of producing one vanilla cupcake is \\\\$1.00.\n",
    "2. The bakery has fixed costs (such as rent, utilities, etc.) of \\\\$500 per week.\n",
    "3. Market research suggests that the demand for chocolate cupcakes is given by the equation: $Q_{choc} = 120 - 2P_{choc}$, where $Q_{choc}$ is the quantity demanded of chocolate cupcakes and $P_{choc}$ is the price of chocolate cupcakes.\n",
    "4. Similarly, the demand for vanilla cupcakes is given by: $Q_{van} = 150 - 1.5P_{van}$, where $Q_{van}$ is the quantity demanded of chocolate cupcakes and $P_{van}$ is the price of chocolate cupcakes.\n",
    "\n",
    "The goal is to determine the optimal prices for chocolate and vanilla cupcakes to maximize the bakery's weekly revenue."
   ]
  },
  {
   "cell_type": "markdown",
   "id": "68bbb41d-60ff-489c-a325-7ac75e07e279",
   "metadata": {},
   "source": [
    "##### Please formulate the problem in the Markdown cell below. Clearly state your:\n",
    "1. Decision Variables\n",
    "2. Objective Function\n",
    "3. Constraints\n",
    "\n",
    "### Your formulation here\n",
    "\n",
    "##### Formulation："
   ]
  },
  {
   "cell_type": "markdown",
   "id": "0ae06b70-bfc9-4726-9f89-3141325f3472",
   "metadata": {},
   "source": [
    "### Can you explain why this problem is non-Linear?\n",
    "\n",
    "##### Answer:"
   ]
  },
  {
   "cell_type": "code",
   "execution_count": null,
   "id": "4aee5368-f47d-4365-8a25-1a24c8ee924f",
   "metadata": {},
   "outputs": [],
   "source": [
    "### The code below won't work and will generate an error message. \n",
    "### Because Pulp is designed for linear problem\n",
    "### this code can be used as a reference\n",
    "\n",
    "from pulp import *\n",
    "\n",
    "# Create a LP maximization problem\n",
    "model = LpProblem(\"Sweet_Treats_Bakery\", LpMaximize)\n",
    "\n",
    "# Define decision variables\n",
    "P_choc = LpVariable(\"Price_Chocolate\", lowBound=0)  # Price of chocolate cupcake\n",
    "P_van = LpVariable(\"Price_Vanilla\", lowBound=0)    # Price of vanilla cupcake\n",
    "\n",
    "# Define objective function\n",
    "model += (P_choc * (120 - 2 * P_choc)) + (P_van * (150 - 1.5 * P_van)), \"Total_Revenue\"\n",
    "\n",
    "# Define constraints\n",
    "model += P_choc >= 0, \"Non_Negativity_Choc\"\n",
    "model += P_van >= 0, \"Non_Negativity_Van\"\n",
    "\n",
    "# Solve the problem\n",
    "model.solve()\n",
    "\n",
    "# Print the optimal prices and revenue\n",
    "print(\"Optimal Price of Chocolate Cupcake: $\", value(P_choc))\n",
    "print(\"Optimal Price of Vanilla Cupcake: $\", value(P_van))\n",
    "print(\"Maximum Revenue: $\", value(model.objective))"
   ]
  },
  {
   "cell_type": "code",
   "execution_count": null,
   "id": "cb1a8c7e-5d2c-4c16-a96d-945e5e71bed7",
   "metadata": {},
   "outputs": [],
   "source": []
  }
 ],
 "metadata": {
  "kernelspec": {
   "display_name": "Python 3 (ipykernel)",
   "language": "python",
   "name": "python3"
  },
  "language_info": {
   "codemirror_mode": {
    "name": "ipython",
    "version": 3
   },
   "file_extension": ".py",
   "mimetype": "text/x-python",
   "name": "python",
   "nbconvert_exporter": "python",
   "pygments_lexer": "ipython3",
   "version": "3.9.13"
  }
 },
 "nbformat": 4,
 "nbformat_minor": 5
}
