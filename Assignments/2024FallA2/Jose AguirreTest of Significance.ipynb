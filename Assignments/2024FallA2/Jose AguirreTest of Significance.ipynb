{
 "cells": [
  {
   "cell_type": "markdown",
   "id": "75a4fd45-80be-499c-a81d-130d061e5bb1",
   "metadata": {},
   "source": [
    "### Tests of Significance\n",
    "\n",
    "The following work is for the testing assembly time reduction assessment.  Using one of the basic statistics tools.  We will use the Testing of Signifance to determine whether the observation that took in effect on our data is real or a coincidence.\n",
    "\n",
    "Here is the project:  A company wants to test whether the average time taken to assemble a product has significantly decreased after implementing a new training program. Prior to the training, the average assembly time was 35 minutes with a known population standard deviation of 5 minutes. After the training, a random sample of 40 employees showed a mean assembly time of 33 minutes. Can you help the company to decide whether the new training program is necessary?\n",
    "\n",
    "-  The Initial Assumption of Population Distribution.  Our hypothesis is that the population of the assembly times will follow a normal distribution.\n",
    "-  The null hypothesis Ho is the average assembly time after training is equal to the average time right before the training (u=35 minutes)\n",
    "-  The alternative hypothesis (Ha) will be the average assembly time after training and will be less than the average time before training (u<35 minutes)\n",
    "-  Determine the Test Static.  We will use the z-test formula since the population standard deviation is known.\n",
    "\n",
    "$$z = \\frac{\\bar{x} - \\mu_{0}}{\\frac{\\sigma}{\\sqrt{n}}}$$\n",
    "\n",
    "The variables are:\n",
    "X = sample_mean = 33 (the mean assembly time from the sample after training)\n",
    "m𝜇_0 = population_mean = 35 (the hypothesized mean before training)\n",
    "𝜎 = sigma = 5 (the population standard deviation of assembly times)\n",
    "𝑛 = sample_size = 40 (the number of employees in the sample)\n",
    "##### "
   ]
  },
  {
   "cell_type": "code",
   "execution_count": 10,
   "id": "90ff02a8-63ad-4af1-b360-8e7aa7db2ff8",
   "metadata": {},
   "outputs": [
    {
     "name": "stdout",
     "output_type": "stream",
     "text": [
      "Test Statistic (Z): -2.5298221281347035\n",
      "P-Value: 0.005706018193000826\n",
      "Critical Value: -1.6448536269514729\n",
      "Conclusion: Reject the null hypothesis. The training program is effective.\n"
     ]
    }
   ],
   "source": [
    "import numpy as np\n",
    "import scipy.stats as stats\n",
    "\n",
    "# Given data\n",
    "mu_0 = 35  # Population mean before training\n",
    "sigma = 5  # Population standard deviation\n",
    "sample_mean = 33  # Sample mean after training\n",
    "n = 40  # Sample size\n",
    "alpha = 0.05  # Significance level\n",
    "\n",
    "# Calculate the test statistic\n",
    "z = (sample_mean - mu_0) / (sigma / np.sqrt(n))\n",
    "\n",
    "# Calculate the p-value (one-tailed for left-tailed test)\n",
    "p_value = stats.norm.cdf(z)  # Since we're testing if the sample mean is less than the population mean\n",
    "\n",
    "# Find the critical value for a left-tailed test at alpha = 0.05\n",
    "critical_value = stats.norm.ppf(alpha)\n",
    "\n",
    "# Conclusion\n",
    "if z < critical_value:\n",
    "    conclusion = \"Reject the null hypothesis. The training program is effective.\"\n",
    "else:\n",
    "    conclusion = \"Fail to reject the null hypothesis. The training program is not effective.\"\n",
    "\n",
    "print(f\"Test Statistic (Z): {z}\")\n",
    "print(f\"P-Value: {p_value}\")\n",
    "print(f\"Critical Value: {critical_value}\")\n",
    "print(f\"Conclusion: {conclusion}\")\n"
   ]
  },
  {
   "cell_type": "code",
   "execution_count": 20,
   "id": "9fb211d1-17f6-4395-bd86-8480afc94a97",
   "metadata": {},
   "outputs": [],
   "source": [
    "###Based on the significance level we conclude that the test statistic is less than the critical value and if the p-value is less than alpha, we reject the null hypothesis"
   ]
  }
 ],
 "metadata": {
  "kernelspec": {
   "display_name": "Python 3 (ipykernel)",
   "language": "python",
   "name": "python3"
  },
  "language_info": {
   "codemirror_mode": {
    "name": "ipython",
    "version": 3
   },
   "file_extension": ".py",
   "mimetype": "text/x-python",
   "name": "python",
   "nbconvert_exporter": "python",
   "pygments_lexer": "ipython3",
   "version": "3.12.4"
  }
 },
 "nbformat": 4,
 "nbformat_minor": 5
}
