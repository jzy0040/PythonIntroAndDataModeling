{
 "cells": [
  {
   "cell_type": "markdown",
   "id": "9cc9f590-e761-4f9b-85d8-8fdd273f4537",
   "metadata": {
    "tags": []
   },
   "source": [
    "# Think Like A Designer\n",
    "\n",
    "### Affordance\n",
    "How data will be used?\n",
    "### Accessibility\n",
    "Is the visualization easy for an audience of different technical skills to understand and use?\n",
    "### Aesthetics\n",
    "How is the visualization appealing to the audience?\n",
    "### Acceptance\n",
    "How effectively is data visualization practiced across a team or organization?"
   ]
  },
  {
   "cell_type": "code",
   "execution_count": null,
   "id": "4a1e1284-8c6c-407c-8dd0-7c2c7d6fb709",
   "metadata": {},
   "outputs": [],
   "source": []
  }
 ],
 "metadata": {
  "kernelspec": {
   "display_name": "Python 3 (ipykernel)",
   "language": "python",
   "name": "python3"
  },
  "language_info": {
   "codemirror_mode": {
    "name": "ipython",
    "version": 3
   },
   "file_extension": ".py",
   "mimetype": "text/x-python",
   "name": "python",
   "nbconvert_exporter": "python",
   "pygments_lexer": "ipython3",
   "version": "3.9.13"
  }
 },
 "nbformat": 4,
 "nbformat_minor": 5
}
