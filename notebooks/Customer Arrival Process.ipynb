{
 "cells": [
  {
   "cell_type": "markdown",
   "metadata": {
    "tags": []
   },
   "source": [
    "# Customer Arrival Process\n",
    "\n",
    "Here we are interested in making a visual assessment of the stationarity of the customer arrival process using a 10-day sample of customer arrival times.\n",
    "\n",
    "Video Module: http://jsmith.co/node"
   ]
  },
  {
   "cell_type": "code",
   "execution_count": 2,
   "metadata": {},
   "outputs": [],
   "source": [
    "%matplotlib inline\n",
    "import numpy as np\n",
    "import matplotlib.pyplot as plt\n",
    "import pandas as pd\n",
    "import seaborn as sns\n",
    "# plt.style.use('seaborn-whitegrid')"
   ]
  },
  {
   "cell_type": "code",
   "execution_count": 7,
   "metadata": {},
   "outputs": [
    {
     "ename": "FileNotFoundError",
     "evalue": "[Errno 2] No such file or directory: '..\\\\data\\\\arrival_data.zip\\\\arrival_data\\\\dayC1.csv'",
     "output_type": "error",
     "traceback": [
      "\u001b[1;31m---------------------------------------------------------------------------\u001b[0m",
      "\u001b[1;31mFileNotFoundError\u001b[0m                         Traceback (most recent call last)",
      "Cell \u001b[1;32mIn[7], line 10\u001b[0m\n\u001b[0;32m      8\u001b[0m allarrs \u001b[38;5;241m=\u001b[39m []\n\u001b[0;32m      9\u001b[0m \u001b[38;5;28;01mfor\u001b[39;00m j \u001b[38;5;129;01min\u001b[39;00m \u001b[38;5;28mrange\u001b[39m(reps):\n\u001b[1;32m---> 10\u001b[0m     iats \u001b[38;5;241m=\u001b[39m [\u001b[38;5;28mfloat\u001b[39m(s) \u001b[38;5;28;01mfor\u001b[39;00m s \u001b[38;5;129;01min\u001b[39;00m \u001b[38;5;28mopen\u001b[39m(\u001b[38;5;124m\"\u001b[39m\u001b[38;5;124m..\u001b[39m\u001b[38;5;130;01m\\\\\u001b[39;00m\u001b[38;5;124mdata\u001b[39m\u001b[38;5;130;01m\\\\\u001b[39;00m\u001b[38;5;124marrival_data.zip\u001b[39m\u001b[38;5;130;01m\\\\\u001b[39;00m\u001b[38;5;124marrival_data\u001b[39m\u001b[38;5;124m\\\u001b[39m\u001b[38;5;124mday\u001b[39m\u001b[38;5;132;01m{:}\u001b[39;00m\u001b[38;5;132;01m{:}\u001b[39;00m\u001b[38;5;124m.csv\u001b[39m\u001b[38;5;124m\"\u001b[39m\u001b[38;5;241m.\u001b[39mformat(dataset,j\u001b[38;5;241m+\u001b[39m\u001b[38;5;241m1\u001b[39m))]\n\u001b[0;32m     11\u001b[0m     allarrs\u001b[38;5;241m.\u001b[39mappend(iats)\n\u001b[0;32m     13\u001b[0m \u001b[38;5;66;03m# Compute the IATs\u001b[39;00m\n",
      "File \u001b[1;32m~\\anaconda3\\Lib\\site-packages\\IPython\\core\\interactiveshell.py:310\u001b[0m, in \u001b[0;36m_modified_open\u001b[1;34m(file, *args, **kwargs)\u001b[0m\n\u001b[0;32m    303\u001b[0m \u001b[38;5;28;01mif\u001b[39;00m file \u001b[38;5;129;01min\u001b[39;00m {\u001b[38;5;241m0\u001b[39m, \u001b[38;5;241m1\u001b[39m, \u001b[38;5;241m2\u001b[39m}:\n\u001b[0;32m    304\u001b[0m     \u001b[38;5;28;01mraise\u001b[39;00m \u001b[38;5;167;01mValueError\u001b[39;00m(\n\u001b[0;32m    305\u001b[0m         \u001b[38;5;124mf\u001b[39m\u001b[38;5;124m\"\u001b[39m\u001b[38;5;124mIPython won\u001b[39m\u001b[38;5;124m'\u001b[39m\u001b[38;5;124mt let you open fd=\u001b[39m\u001b[38;5;132;01m{\u001b[39;00mfile\u001b[38;5;132;01m}\u001b[39;00m\u001b[38;5;124m by default \u001b[39m\u001b[38;5;124m\"\u001b[39m\n\u001b[0;32m    306\u001b[0m         \u001b[38;5;124m\"\u001b[39m\u001b[38;5;124mas it is likely to crash IPython. If you know what you are doing, \u001b[39m\u001b[38;5;124m\"\u001b[39m\n\u001b[0;32m    307\u001b[0m         \u001b[38;5;124m\"\u001b[39m\u001b[38;5;124myou can use builtins\u001b[39m\u001b[38;5;124m'\u001b[39m\u001b[38;5;124m open.\u001b[39m\u001b[38;5;124m\"\u001b[39m\n\u001b[0;32m    308\u001b[0m     )\n\u001b[1;32m--> 310\u001b[0m \u001b[38;5;28;01mreturn\u001b[39;00m io_open(file, \u001b[38;5;241m*\u001b[39margs, \u001b[38;5;241m*\u001b[39m\u001b[38;5;241m*\u001b[39mkwargs)\n",
      "\u001b[1;31mFileNotFoundError\u001b[0m: [Errno 2] No such file or directory: '..\\\\data\\\\arrival_data.zip\\\\arrival_data\\\\dayC1.csv'"
     ]
    }
   ],
   "source": [
    "# Read the Arrival Times\n",
    "# NOTE -- check the file path -- on my system, I created a subdirectory\n",
    "# for these data files (there are 30 of them).  Adjust as necessary for\n",
    "# your configuration.\n",
    "reps = 10\n",
    "num_bins = 8 # int of the length of the period in hours\n",
    "dataset = 'C' # A, B, or C\n",
    "allarrs = []\n",
    "for j in range(reps):\n",
    "    iats = [float(s) for s in open(\"..\\\\data\\\\arrival_data.zip\\\\arrival_data\\day{:}{:}.csv\".format(dataset,j+1))]\n",
    "    allarrs.append(iats)\n",
    "\n",
    "# Compute the IATs\n",
    "alliats = []\n",
    "for j in range(reps):\n",
    "    iats = []\n",
    "    iats.append(allarrs[j][0])\n",
    "    for k in range(1, len(allarrs[j])) :\n",
    "        iats.append(allarrs[j][k] - allarrs[j][k-1])\n",
    "    alliats.append(iats)"
   ]
  },
  {
   "cell_type": "code",
   "execution_count": null,
   "metadata": {},
   "outputs": [],
   "source": [
    "for j in range(len(allarrs)):\n",
    "    print(\"Day {:2d}: {:} IAT records and {:} Arr records.\".format(j+1, len(alliats[j]), len(allarrs[j])))"
   ]
  },
  {
   "cell_type": "code",
   "execution_count": null,
   "metadata": {},
   "outputs": [],
   "source": [
    "# don't forget the ? (help) option if you need it!\n",
    "plt.hist?"
   ]
  },
  {
   "cell_type": "code",
   "execution_count": null,
   "metadata": {},
   "outputs": [],
   "source": [
    "# ok -- we'll use Auburn primary orange and blue here...\n",
    "au_orange = \"#dd550c\"\n",
    "au_blue   = \"#03244d\"\n",
    "fig, ax = plt.subplots(nrows=reps, ncols=2, figsize=(10, 3*reps))\n",
    "for j in range(reps):\n",
    "    ax[j][0].hist(alliats[j], color=au_orange)\n",
    "    ax[j][1].hist(allarrs[j], bins=num_bins, color=au_blue)"
   ]
  },
  {
   "cell_type": "code",
   "execution_count": null,
   "metadata": {},
   "outputs": [],
   "source": [
    "# If we assume the arrivals are stationary across days, we can combine all of the \n",
    "# indivdiual day datasets ...\n",
    "grandiats = []\n",
    "grandarrs = []\n",
    "for j in range(reps):\n",
    "    grandiats = grandiats + alliats[j]\n",
    "    grandarrs = grandarrs + allarrs[j]\n",
    "fig, ax = plt.subplots(nrows=1, ncols=2, figsize=(12, 3))\n",
    "c1 = ax[0].hist(grandiats, color=au_orange)\n",
    "c2 = ax[1].hist(grandarrs, bins=num_bins, color=au_blue)"
   ]
  },
  {
   "cell_type": "code",
   "execution_count": null,
   "metadata": {},
   "outputs": [],
   "source": [
    "# Try KDE ...\n",
    "fig, ax = plt.subplots(nrows=1, ncols=2, figsize=(12, 5))\n",
    "k1 = sns.distplot(grandiats, ax=ax[0])\n",
    "k2 = sns.distplot(grandarrs, ax=ax[1])"
   ]
  },
  {
   "cell_type": "code",
   "execution_count": null,
   "metadata": {},
   "outputs": [],
   "source": []
  }
 ],
 "metadata": {
  "kernelspec": {
   "display_name": "Python 3 (ipykernel)",
   "language": "python",
   "name": "python3"
  },
  "language_info": {
   "codemirror_mode": {
    "name": "ipython",
    "version": 3
   },
   "file_extension": ".py",
   "mimetype": "text/x-python",
   "name": "python",
   "nbconvert_exporter": "python",
   "pygments_lexer": "ipython3",
   "version": "3.11.7"
  }
 },
 "nbformat": 4,
 "nbformat_minor": 4
}
