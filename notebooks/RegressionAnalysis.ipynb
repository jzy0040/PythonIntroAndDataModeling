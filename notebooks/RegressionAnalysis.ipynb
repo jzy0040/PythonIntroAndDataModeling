{
 "cells": [
  {
   "cell_type": "markdown",
   "id": "8cc5c345-414a-4ce8-a2c3-6f45d644d8c9",
   "metadata": {},
   "source": [
    "# Regression Analysis\n",
    "\n",
    "A set of statistical processes for estimating the relationships between a dependent variable (often called the 'outcome' or 'response' variable, or a 'label' in machine learning parlance) and one or more independent variables (often called 'predictors', 'covariates', 'explanatory variables' or 'features').\n",
    "\n",
    "Linear regression is a common technique for regression analysis. It was used to predict the value of the dependent variable based on the value of independent variables. The dependent variable is the variable you want to estimate. The indipendent variables are used to predict the dependent variable.\n",
    "1. Simple Linear regression\n",
    "2. Multiple linear regression\n",
    "3. Logistic Regression\n",
    "4. Ridge Regression\n",
    "5. Lasso Regression\n",
    " \n",
    "    \n",
    "Nonlinear regression is used when the relationship between the dependent and independent variables cannot be adequately modeled by a linear equation. It allows for more complex functional forms, such as exponential, logarithmic, or sigmoidal curves.\n",
    "1. Polynomial Regression\n",
    "2. Gaussian Regression\n",
    "3. Logarithmic Regression\n",
    "4. Kernel Regression\n",
    "\n",
    "The linearity assumption can be explored using scatter plots. \n",
    "\n",
    "A heatmap can be a nice helper for correlation analysis.\n",
    "\n",
    "We will mainly cover the linear models. If you need more nonlinear topics, please reach out to Dr.Junyao Yang. "
   ]
  },
  {
   "cell_type": "markdown",
   "id": "2f5c88a0-5e81-4c27-98ef-230684b5158b",
   "metadata": {},
   "source": [
    "### Basic Assumptions\n",
    "\n",
    "**Linearity**: The relationship between the independent variables (predictors) and the dependent variable (response) is linear. This means that the change in the response variable is directly proportional to the change in the predictor variables.\n",
    "\n",
    "**Independence**: The observations are independent of each other. In other words, the value of one observation does not influence the value of another observation.\n",
    "\n",
    "**Homoscedasticity**: The variance of the residuals (the differences between the observed and predicted values) is constant across all levels of the predictors. This means that the spread of the residuals is consistent along the range of predictor variables.\n",
    "\n",
    "**Normality**: The residuals are normally distributed. This assumption ensures that the parameter estimates (coefficients) obtained from the regression analysis are unbiased and efficient. Typical checked after the regression analysis.\n",
    "\n",
    "\n",
    "**No multicollinearity**: There is no perfect multicollinearity among the independent variables. Multicollinearity occurs when two or more predictors are highly correlated, which can lead to unstable parameter estimates.\n",
    "\n",
    "**No influential outliers**: The presence of influential outliers (extreme values) in the data can disproportionately influence the parameter estimates and affect the overall fit of the model."
   ]
  },
  {
   "cell_type": "code",
   "execution_count": 1,
   "id": "5650bca6-20ca-4da7-904b-c0b45da6d394",
   "metadata": {},
   "outputs": [
    {
     "data": {
      "text/html": [
       "<div>\n",
       "<style scoped>\n",
       "    .dataframe tbody tr th:only-of-type {\n",
       "        vertical-align: middle;\n",
       "    }\n",
       "\n",
       "    .dataframe tbody tr th {\n",
       "        vertical-align: top;\n",
       "    }\n",
       "\n",
       "    .dataframe thead th {\n",
       "        text-align: right;\n",
       "    }\n",
       "</style>\n",
       "<table border=\"1\" class=\"dataframe\">\n",
       "  <thead>\n",
       "    <tr style=\"text-align: right;\">\n",
       "      <th></th>\n",
       "      <th>id</th>\n",
       "      <th>date</th>\n",
       "      <th>price</th>\n",
       "      <th>bedrooms</th>\n",
       "      <th>bathrooms</th>\n",
       "      <th>sqft_living</th>\n",
       "      <th>sqft_lot</th>\n",
       "      <th>floors</th>\n",
       "      <th>waterfront</th>\n",
       "      <th>view</th>\n",
       "      <th>...</th>\n",
       "      <th>grade</th>\n",
       "      <th>sqft_above</th>\n",
       "      <th>sqft_basement</th>\n",
       "      <th>yr_built</th>\n",
       "      <th>yr_renovated</th>\n",
       "      <th>zipcode</th>\n",
       "      <th>lat</th>\n",
       "      <th>long</th>\n",
       "      <th>sqft_living15</th>\n",
       "      <th>sqft_lot15</th>\n",
       "    </tr>\n",
       "  </thead>\n",
       "  <tbody>\n",
       "    <tr>\n",
       "      <th>0</th>\n",
       "      <td>7129300520</td>\n",
       "      <td>20141013T000000</td>\n",
       "      <td>221900.0</td>\n",
       "      <td>3</td>\n",
       "      <td>1.00</td>\n",
       "      <td>1180</td>\n",
       "      <td>5650</td>\n",
       "      <td>1.0</td>\n",
       "      <td>0</td>\n",
       "      <td>0</td>\n",
       "      <td>...</td>\n",
       "      <td>7</td>\n",
       "      <td>1180</td>\n",
       "      <td>0</td>\n",
       "      <td>1955</td>\n",
       "      <td>0</td>\n",
       "      <td>98178</td>\n",
       "      <td>47.5112</td>\n",
       "      <td>-122.257</td>\n",
       "      <td>1340</td>\n",
       "      <td>5650</td>\n",
       "    </tr>\n",
       "    <tr>\n",
       "      <th>1</th>\n",
       "      <td>6414100192</td>\n",
       "      <td>20141209T000000</td>\n",
       "      <td>538000.0</td>\n",
       "      <td>3</td>\n",
       "      <td>2.25</td>\n",
       "      <td>2570</td>\n",
       "      <td>7242</td>\n",
       "      <td>2.0</td>\n",
       "      <td>0</td>\n",
       "      <td>0</td>\n",
       "      <td>...</td>\n",
       "      <td>7</td>\n",
       "      <td>2170</td>\n",
       "      <td>400</td>\n",
       "      <td>1951</td>\n",
       "      <td>1991</td>\n",
       "      <td>98125</td>\n",
       "      <td>47.7210</td>\n",
       "      <td>-122.319</td>\n",
       "      <td>1690</td>\n",
       "      <td>7639</td>\n",
       "    </tr>\n",
       "    <tr>\n",
       "      <th>2</th>\n",
       "      <td>5631500400</td>\n",
       "      <td>20150225T000000</td>\n",
       "      <td>180000.0</td>\n",
       "      <td>2</td>\n",
       "      <td>1.00</td>\n",
       "      <td>770</td>\n",
       "      <td>10000</td>\n",
       "      <td>1.0</td>\n",
       "      <td>0</td>\n",
       "      <td>0</td>\n",
       "      <td>...</td>\n",
       "      <td>6</td>\n",
       "      <td>770</td>\n",
       "      <td>0</td>\n",
       "      <td>1933</td>\n",
       "      <td>0</td>\n",
       "      <td>98028</td>\n",
       "      <td>47.7379</td>\n",
       "      <td>-122.233</td>\n",
       "      <td>2720</td>\n",
       "      <td>8062</td>\n",
       "    </tr>\n",
       "    <tr>\n",
       "      <th>3</th>\n",
       "      <td>2487200875</td>\n",
       "      <td>20141209T000000</td>\n",
       "      <td>604000.0</td>\n",
       "      <td>4</td>\n",
       "      <td>3.00</td>\n",
       "      <td>1960</td>\n",
       "      <td>5000</td>\n",
       "      <td>1.0</td>\n",
       "      <td>0</td>\n",
       "      <td>0</td>\n",
       "      <td>...</td>\n",
       "      <td>7</td>\n",
       "      <td>1050</td>\n",
       "      <td>910</td>\n",
       "      <td>1965</td>\n",
       "      <td>0</td>\n",
       "      <td>98136</td>\n",
       "      <td>47.5208</td>\n",
       "      <td>-122.393</td>\n",
       "      <td>1360</td>\n",
       "      <td>5000</td>\n",
       "    </tr>\n",
       "    <tr>\n",
       "      <th>4</th>\n",
       "      <td>1954400510</td>\n",
       "      <td>20150218T000000</td>\n",
       "      <td>510000.0</td>\n",
       "      <td>3</td>\n",
       "      <td>2.00</td>\n",
       "      <td>1680</td>\n",
       "      <td>8080</td>\n",
       "      <td>1.0</td>\n",
       "      <td>0</td>\n",
       "      <td>0</td>\n",
       "      <td>...</td>\n",
       "      <td>8</td>\n",
       "      <td>1680</td>\n",
       "      <td>0</td>\n",
       "      <td>1987</td>\n",
       "      <td>0</td>\n",
       "      <td>98074</td>\n",
       "      <td>47.6168</td>\n",
       "      <td>-122.045</td>\n",
       "      <td>1800</td>\n",
       "      <td>7503</td>\n",
       "    </tr>\n",
       "  </tbody>\n",
       "</table>\n",
       "<p>5 rows × 21 columns</p>\n",
       "</div>"
      ],
      "text/plain": [
       "           id             date     price  bedrooms  bathrooms  sqft_living  \\\n",
       "0  7129300520  20141013T000000  221900.0         3       1.00         1180   \n",
       "1  6414100192  20141209T000000  538000.0         3       2.25         2570   \n",
       "2  5631500400  20150225T000000  180000.0         2       1.00          770   \n",
       "3  2487200875  20141209T000000  604000.0         4       3.00         1960   \n",
       "4  1954400510  20150218T000000  510000.0         3       2.00         1680   \n",
       "\n",
       "   sqft_lot  floors  waterfront  view  ...  grade  sqft_above  sqft_basement  \\\n",
       "0      5650     1.0           0     0  ...      7        1180              0   \n",
       "1      7242     2.0           0     0  ...      7        2170            400   \n",
       "2     10000     1.0           0     0  ...      6         770              0   \n",
       "3      5000     1.0           0     0  ...      7        1050            910   \n",
       "4      8080     1.0           0     0  ...      8        1680              0   \n",
       "\n",
       "   yr_built  yr_renovated  zipcode      lat     long  sqft_living15  \\\n",
       "0      1955             0    98178  47.5112 -122.257           1340   \n",
       "1      1951          1991    98125  47.7210 -122.319           1690   \n",
       "2      1933             0    98028  47.7379 -122.233           2720   \n",
       "3      1965             0    98136  47.5208 -122.393           1360   \n",
       "4      1987             0    98074  47.6168 -122.045           1800   \n",
       "\n",
       "   sqft_lot15  \n",
       "0        5650  \n",
       "1        7639  \n",
       "2        8062  \n",
       "3        5000  \n",
       "4        7503  \n",
       "\n",
       "[5 rows x 21 columns]"
      ]
     },
     "execution_count": 1,
     "metadata": {},
     "output_type": "execute_result"
    }
   ],
   "source": [
    "# Loading libraries and data\n",
    "import numpy as np\n",
    "import pandas as pd\n",
    "import matplotlib.pyplot as plt\n",
    "\n",
    "fname = \"../data/kc_house_data.csv\"\n",
    "df = pd.read_csv(fname)\n",
    "df.head()"
   ]
  },
  {
   "cell_type": "code",
   "execution_count": 2,
   "id": "fbb181a3-4552-4e7d-b884-1303994c75aa",
   "metadata": {},
   "outputs": [
    {
     "data": {
      "image/png": "[encoded data removed]",
      "text/plain": [
       "<Figure size 640x480 with 3 Axes>"
      ]
     },
     "metadata": {},
     "output_type": "display_data"
    }
   ],
   "source": [
    "# scatter plot for sqft_lot and price\n",
    "fig, ax = plt.subplots(1, 3)\n",
    "\n",
    "ax[0].scatter(df['sqft_lot'], df['price'])\n",
    "\n",
    "ax[1].scatter(df['sqft_above'], df['price'])\n",
    "ax[2].scatter(df['sqft_living'], df['price'])\n",
    "plt.show()"
   ]
  },
  {
   "cell_type": "markdown",
   "id": "f89e1830-7a4f-4436-b698-939dfef08e3a",
   "metadata": {},
   "source": [
    "As we talked before, it looks like that the sqft_above and sqft_living have some linear relation to price. <br>\n",
    "We can create a simple linear regression model for each of the variables. "
   ]
  },
  {
   "cell_type": "code",
   "execution_count": 10,
   "id": "e4b41d43-e922-45a6-b9eb-0b076549992e",
   "metadata": {},
   "outputs": [
    {
     "data": {
      "text/plain": [
       "(       sqft_above  sqft_living\n",
       " 16376        2600         2600\n",
       " 12864        1070         1070\n",
       " 17163         750          750\n",
       " 11228         720          720\n",
       " 8464         1010         1450\n",
       " ...           ...          ...\n",
       " 14875        2690         2690\n",
       " 2688         1730         2240\n",
       " 19040         720         1440\n",
       " 19962        1630         2170\n",
       " 7816         2290         2290\n",
       " \n",
       " [17290 rows x 2 columns],\n",
       "        sqft_above  sqft_living\n",
       " 12201        1480         1480\n",
       " 19557        1090         1640\n",
       " 7169          840          840\n",
       " 282          2630         3830\n",
       " 8227         3630         4330\n",
       " ...           ...          ...\n",
       " 6425         1230         2230\n",
       " 1319         1430         1620\n",
       " 15291        1510         2210\n",
       " 17509         780          780\n",
       " 11072        2360         2360\n",
       " \n",
       " [4323 rows x 2 columns],\n",
       " 16376    817000.0\n",
       " 12864    319950.0\n",
       " 17163    135000.0\n",
       " 11228    310000.0\n",
       " 8464     306000.0\n",
       "            ...   \n",
       " 14875    419000.0\n",
       " 2688     415000.0\n",
       " 19040    285000.0\n",
       " 19962    445000.0\n",
       " 7816     685900.0\n",
       " Name: price, Length: 17290, dtype: float64,\n",
       " 12201     355000.0\n",
       " 19557     556000.0\n",
       " 7169      180000.0\n",
       " 282      2050000.0\n",
       " 8227      722800.0\n",
       "            ...    \n",
       " 6425      375000.0\n",
       " 1319      600000.0\n",
       " 15291     635250.0\n",
       " 17509     380000.0\n",
       " 11072     290000.0\n",
       " Name: price, Length: 4323, dtype: float64,\n",
       " pandas.core.frame.DataFrame)"
      ]
     },
     "execution_count": 10,
     "metadata": {},
     "output_type": "execute_result"
    }
   ],
   "source": [
    "### Normally, we will split the data to train set and test set. \n",
    "### We will use the train set to build the regression model.\n",
    "### And the test set is used to verify the model.\n",
    "\n",
    "# scikit-learn (formerly scikits.learn and also known as sklearn) is a free software machine learning library for the Python programming language.\n",
    "# It features various classification, regression and clustering algorithms including support-vector machines, \n",
    "# random forests, gradient boosting, k-means and DBSCAN, and is designed to interoperate with the Python numerical and scientific libraries NumPy and SciPy.\n",
    "\n",
    "from sklearn.model_selection import train_test_split\n",
    "X_train, X_test, y_train, y_test = train_test_split(df[['sqft_above', 'sqft_living']], df['price'], train_size = 0.8, random_state = 2024)\n",
    "X_train, X_test, y_train, y_test"
   ]
  },
  {
   "cell_type": "code",
   "execution_count": 11,
   "id": "2d6fd8db-7cc2-4f91-8053-c8ad74beba8c",
   "metadata": {},
   "outputs": [],
   "source": [
    "from sklearn.linear_model import LinearRegression\n",
    "model_above = LinearRegression()\n",
    "model_living = LinearRegression()"
   ]
  },
  {
   "cell_type": "code",
   "execution_count": 14,
   "id": "0f251057-3bd5-42df-82a9-b31c41e581a4",
   "metadata": {},
   "outputs": [
    {
     "data": {
      "text/plain": [
       "LinearRegression()"
      ]
     },
     "execution_count": 14,
     "metadata": {},
     "output_type": "execute_result"
    }
   ],
   "source": [
    "### reshape your data\n",
    "# print(np.array(X_train['sqft_above']).reshape(-1, 1))\n",
    "\n",
    "# Step 6 : train or fit model\n",
    "model_above.fit(np.array(X_train['sqft_above']).reshape(-1, 1), y_train)\n",
    "model_living.fit(np.array(X_train['sqft_living']).reshape(-1, 1), y_train)"
   ]
  },
  {
   "cell_type": "code",
   "execution_count": 15,
   "id": "ad60a44f-a245-4f2d-87cf-89e9b0026a74",
   "metadata": {},
   "outputs": [
    {
     "data": {
      "text/plain": [
       "(59703.71252844093,\n",
       " array([268.38202164]),\n",
       " -38208.55562535068,\n",
       " array([277.95190824]))"
      ]
     },
     "execution_count": 15,
     "metadata": {},
     "output_type": "execute_result"
    }
   ],
   "source": [
    "model_above.intercept_, model_above.coef_, model_living.intercept_, model_living.coef_"
   ]
  },
  {
   "cell_type": "code",
   "execution_count": 17,
   "id": "5b9b003b-deb7-4d16-a87d-59d2f6176970",
   "metadata": {},
   "outputs": [],
   "source": [
    "# Step 7 : predict model\n",
    "above_pred = model_above.predict(np.array(X_test['sqft_above']).reshape(-1, 1))\n",
    "living_pred = model_living.predict(np.array(X_test['sqft_living']).reshape(-1, 1))"
   ]
  },
  {
   "cell_type": "code",
   "execution_count": 18,
   "id": "87822c95-900c-41b7-960f-a40c4d693adb",
   "metadata": {},
   "outputs": [
    {
     "data": {
      "text/plain": [
       "(array([456909.10454888, 352240.11611106, 285144.6107022 , ...,\n",
       "        464960.56519795, 269041.68940408, 693085.28358806]),\n",
       " array([373160.26857208, 417632.57389072, 195271.04729752, ...,\n",
       "        576065.16158839, 178593.93280303, 617757.94782461]))"
      ]
     },
     "execution_count": 18,
     "metadata": {},
     "output_type": "execute_result"
    }
   ],
   "source": [
    "above_pred, living_pred"
   ]
  },
  {
   "cell_type": "code",
   "execution_count": 20,
   "id": "2696cc4f-1695-4f6e-9836-637a331c53ec",
   "metadata": {},
   "outputs": [
    {
     "name": "stdout",
     "output_type": "stream",
     "text": [
      "193549.97661653874 0.4026326187239139 95269060643.77367\n",
      "171688.24844675415 0.35587611080168424 72510369727.06268\n"
     ]
    }
   ],
   "source": [
    "from sklearn.metrics import mean_absolute_error, mean_absolute_percentage_error, mean_squared_error\n",
    "# above\n",
    "print(mean_absolute_error(y_test, above_pred), mean_absolute_percentage_error(y_test, above_pred), mean_squared_error(y_test, above_pred))\n",
    "# living\n",
    "print(mean_absolute_error(y_test, living_pred), mean_absolute_percentage_error(y_test, living_pred), mean_squared_error(y_test, living_pred))"
   ]
  },
  {
   "cell_type": "code",
   "execution_count": 30,
   "id": "2724e621-efbe-44e9-b884-5d4f833dc43e",
   "metadata": {},
   "outputs": [
    {
     "data": {
      "image/png": "[encoded data removed]",
      "text/plain": [
       "<Figure size 800x400 with 2 Axes>"
      ]
     },
     "metadata": {},
     "output_type": "display_data"
    }
   ],
   "source": [
    "# plot the regression model in the decision space.\n",
    "\n",
    "# scatter plot for sqft_lot and price\n",
    "fig, ax = plt.subplots(1, 2, figsize=(8, 4))\n",
    "\n",
    "# Plot for sqft_above\n",
    "ax[0].scatter(X_train['sqft_above'], y_train, color='orange')\n",
    "ax[0].plot(X_train['sqft_above'], model_above.predict(np.array(X_train['sqft_above']).reshape(-1, 1)), color='k')\n",
    "ax[0].set_title('sqft_above vs. Price')\n",
    "ax[0].set_xlabel('sqft_above')\n",
    "ax[0].set_ylabel('Price')\n",
    "\n",
    "# Plot for sqft_living\n",
    "ax[1].scatter(X_train['sqft_living'], y_train, color='orange')\n",
    "ax[1].plot(X_train['sqft_living'], model_living.predict(np.array(X_train['sqft_living']).reshape(-1, 1)), color='k')\n",
    "ax[1].set_title('sqft_living vs. Price')\n",
    "ax[1].set_xlabel('sqft_living')\n",
    "ax[1].set_ylabel('Price')\n",
    "\n",
    "plt.tight_layout()\n",
    "plt.show()"
   ]
  },
  {
   "cell_type": "markdown",
   "id": "d01fadc8-e9d0-40b4-8990-e5087b4bdd2c",
   "metadata": {},
   "source": [
    "### Let's check the Normality after building the regression model.\n",
    "\n",
    "In linear regression, one of the assumptions is that the residuals (the differences between the observed and predicted values) are normally distributed. If this assumption is violated, it can affect the validity of the statistical inference and predictions made by the model."
   ]
  },
  {
   "cell_type": "code",
   "execution_count": 35,
   "id": "79b52f56-9d09-482a-956e-bdfcd9e0c894",
   "metadata": {},
   "outputs": [
    {
     "name": "stdout",
     "output_type": "stream",
     "text": [
      "Shapiro-Wilk Test:\n",
      "Test Statistic: 0.7548332810401917\n",
      "p-value: 0.0\n",
      "Sample does not look Gaussian (reject H0)\n"
     ]
    }
   ],
   "source": [
    "### if your sample size is less than 5000\n",
    "from scipy import stats\n",
    "\n",
    "# Calculate the residule\n",
    "residule = y_test - model_living.predict(np.array(X_test['sqft_above']).reshape(-1, 1))\n",
    "#residule = y_test - model_living.predict(np.array(X_test['sqft_living']).reshape(-1, 1))\n",
    "                             \n",
    "\n",
    "# Perform Shapiro-Wilk test\n",
    "stat, p = stats.shapiro(residule)\n",
    "\n",
    "# Print the results\n",
    "print(\"Shapiro-Wilk Test:\")\n",
    "print(\"Test Statistic:\", stat)\n",
    "print(\"p-value:\", p)\n",
    "\n",
    "# Interpret the results\n",
    "alpha = 0.05\n",
    "if p > alpha:\n",
    "    print(\"Sample looks Gaussian (fail to reject H0)\")\n",
    "else:\n",
    "    print(\"Sample does not look Gaussian (reject H0)\")"
   ]
  },
  {
   "cell_type": "markdown",
   "id": "478543b2-e0c3-470f-85ab-08f7c15a567a",
   "metadata": {},
   "source": [
    "**Impact on Inference:** If the residuals are not normally distributed, it can affect the estimates of the regression coefficients, standard errors, and confidence intervals. This can lead to biased or unreliable results.\n",
    "\n",
    "**Model Fit:** Checking the normality of residuals also helps to assess the overall fit of the regression model. A departure from normality may indicate that the model is not capturing some underlying patterns in the data."
   ]
  },
  {
   "cell_type": "code",
   "execution_count": null,
   "id": "5ae4ab19-2319-4e4e-99e4-fb336f0e867e",
   "metadata": {},
   "outputs": [],
   "source": []
  }
 ],
 "metadata": {
  "kernelspec": {
   "display_name": "Python 3 (ipykernel)",
   "language": "python",
   "name": "python3"
  },
  "language_info": {
   "codemirror_mode": {
    "name": "ipython",
    "version": 3
   },
   "file_extension": ".py",
   "mimetype": "text/x-python",
   "name": "python",
   "nbconvert_exporter": "python",
   "pygments_lexer": "ipython3",
   "version": "3.9.13"
  }
 },
 "nbformat": 4,
 "nbformat_minor": 5
}
