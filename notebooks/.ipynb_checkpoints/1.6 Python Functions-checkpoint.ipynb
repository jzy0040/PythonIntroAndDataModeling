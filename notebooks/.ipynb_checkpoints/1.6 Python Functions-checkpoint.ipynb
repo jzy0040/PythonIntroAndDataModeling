{
 "cells": [
  {
   "cell_type": "markdown",
   "id": "ed14003e-5b1f-4027-91b2-0baf2709d4db",
   "metadata": {},
   "source": [
    "# Basic Python Functions\n",
    "\n",
    "A **function** is a reusable block of code that performs a specific task. It helps make your code more modular, readable, and easier to debug.\n",
    "\n",
    "### Why Python functions?\n",
    "- Avoid repeating code\n",
    "- Improve code clarity\n",
    "- Break down complex problems\n",
    "- Support testing and reuse\n",
    "\n",
    "### Defining a Function in Python\n",
    "<div style=\"text-align: center;\">\n",
    "    <img src=\"PythonFunction.png\" style=\"width: 50%; display: block; margin: auto;\" alt=\"Alt Text\">\n",
    "</div>\n",
    "\n"
   ]
  },
  {
   "cell_type": "code",
   "execution_count": 11,
   "id": "98a97dac-298c-4a6b-9fe5-15ab44e515da",
   "metadata": {},
   "outputs": [],
   "source": [
    "### Creating a function\n",
    "### In Python a function is defined using the def keyword:\n",
    "\n",
    "def MyFirstFunction():\n",
    "    print(\"This is my first Python function\")"
   ]
  },
  {
   "cell_type": "code",
   "execution_count": 13,
   "id": "0f8e5651-d25b-4b0f-8e2c-6d26709cf623",
   "metadata": {},
   "outputs": [
    {
     "name": "stdout",
     "output_type": "stream",
     "text": [
      "This is my first Python function\n"
     ]
    }
   ],
   "source": [
    "### Call a function\n",
    "### To call a function, use the function name followed by parenthesis:\n",
    "\n",
    "MyFirstFunction()"
   ]
  },
  {
   "cell_type": "code",
   "execution_count": 7,
   "id": "93fe874a-4414-4bc7-a2a0-9bab5f6658e9",
   "metadata": {},
   "outputs": [
    {
     "name": "stdout",
     "output_type": "stream",
     "text": [
      "My name is Emil\n",
      "My name is Tobias\n",
      "My name is Linus\n"
     ]
    }
   ],
   "source": [
    "### Arguments/Parameters\n",
    "### Information can be passed into functions as arguments.\n",
    "\n",
    "### Arguments are specified after the function name, inside the parentheses. You can add as many arguments as you want, just separate them with a comma.\n",
    "\n",
    "def MyNameFunction(Name):\n",
    "  print(\"My name is \" + Name)\n",
    "\n",
    "MyNameFunction(\"Jack\")\n",
    "MyNameFunction(\"Ross\")\n",
    "MyNameFunction(\"Titanic\")"
   ]
  },
  {
   "cell_type": "markdown",
   "id": "643b6d42-b6dc-48a3-baa5-f1960b4d8a9a",
   "metadata": {},
   "source": [
    "### The terms parameter and argument can be used for the same thing: information that are passed into a function.\n",
    "\n",
    "### From a function's perspective:\n",
    "\n",
    "1. An parameter is the variable listed inside the parentheses in the function definition.\n",
    "2. An argument is the value that is sent to the function when it is called."
   ]
  },
  {
   "cell_type": "code",
   "execution_count": 1,
   "id": "f5d8640b-1c2e-46cc-a3ed-6511d4a448da",
   "metadata": {},
   "outputs": [
    {
     "name": "stdout",
     "output_type": "stream",
     "text": [
      "I have 3 classes this semester, MIS2101, BAN7101, and BAN7201.\n"
     ]
    }
   ],
   "source": [
    "### Number of Arguments\n",
    "\n",
    "### By default, a function must be called with the correct number of arguments. \n",
    "### Meaning that if your function expects n arguments, you have to call the function with n arguments, not more, and not less.\n",
    "\n",
    "def ClassName(Class1, Class2, Class3):\n",
    "  print(\"I have 3 classes this semester, \" + Class1 + \", \" + Class2 + \", and \" + Class3 + \".\")\n",
    "\n",
    "ClassName(Class1 = \"MIS2101\", Class2 = \"BAN7101\", Class3 = \"BAN7201\")"
   ]
  },
  {
   "cell_type": "code",
   "execution_count": 5,
   "id": "0f456919-6f2f-49f2-a119-1389c27a1090",
   "metadata": {},
   "outputs": [
    {
     "ename": "TypeError",
     "evalue": "ClassName() missing 1 required positional argument: 'Class4'",
     "output_type": "error",
     "traceback": [
      "\u001b[1;31m---------------------------------------------------------------------------\u001b[0m",
      "\u001b[1;31mTypeError\u001b[0m                                 Traceback (most recent call last)",
      "Cell \u001b[1;32mIn[5], line 5\u001b[0m\n\u001b[0;32m      2\u001b[0m \u001b[38;5;28;01mdef\u001b[39;00m\u001b[38;5;250m \u001b[39m\u001b[38;5;21mClassName\u001b[39m(Class1, Class2, Class3, Class4):\n\u001b[0;32m      3\u001b[0m   \u001b[38;5;28mprint\u001b[39m(\u001b[38;5;124m\"\u001b[39m\u001b[38;5;124mI have 3 classes this semester, \u001b[39m\u001b[38;5;124m\"\u001b[39m \u001b[38;5;241m+\u001b[39m Class1 \u001b[38;5;241m+\u001b[39m \u001b[38;5;124m\"\u001b[39m\u001b[38;5;124m, \u001b[39m\u001b[38;5;124m\"\u001b[39m \u001b[38;5;241m+\u001b[39m Class2 \u001b[38;5;241m+\u001b[39m \u001b[38;5;124m\"\u001b[39m\u001b[38;5;124m, and \u001b[39m\u001b[38;5;124m\"\u001b[39m \u001b[38;5;241m+\u001b[39m Class3 \u001b[38;5;241m+\u001b[39m \u001b[38;5;124m\"\u001b[39m\u001b[38;5;124m.\u001b[39m\u001b[38;5;124m\"\u001b[39m)\n\u001b[1;32m----> 5\u001b[0m ClassName(Class1 \u001b[38;5;241m=\u001b[39m \u001b[38;5;124m\"\u001b[39m\u001b[38;5;124mMIS2101\u001b[39m\u001b[38;5;124m\"\u001b[39m, Class2 \u001b[38;5;241m=\u001b[39m \u001b[38;5;124m\"\u001b[39m\u001b[38;5;124mBAN7101\u001b[39m\u001b[38;5;124m\"\u001b[39m, Class3 \u001b[38;5;241m=\u001b[39m \u001b[38;5;124m\"\u001b[39m\u001b[38;5;124mBAN7201\u001b[39m\u001b[38;5;124m\"\u001b[39m)\n",
      "\u001b[1;31mTypeError\u001b[0m: ClassName() missing 1 required positional argument: 'Class4'"
     ]
    }
   ],
   "source": [
    "### Error when more arguments\n",
    "\n",
    "def ClassName(Class1, Class2, Class3, Class4):\n",
    "  print(\"I have 3 classes this semester, \" + Class1 + \", \" + Class2 + \", and \" + Class3 + \".\")\n",
    "\n",
    "ClassName(Class1 = \"MIS2101\", Class2 = \"BAN7101\", Class3 = \"BAN7201\")"
   ]
  },
  {
   "cell_type": "code",
   "execution_count": 7,
   "id": "2bc0499f-d3aa-4e15-8f78-15cac2f2579c",
   "metadata": {},
   "outputs": [
    {
     "ename": "TypeError",
     "evalue": "ClassName() got an unexpected keyword argument 'Class3'",
     "output_type": "error",
     "traceback": [
      "\u001b[1;31m---------------------------------------------------------------------------\u001b[0m",
      "\u001b[1;31mTypeError\u001b[0m                                 Traceback (most recent call last)",
      "Cell \u001b[1;32mIn[7], line 5\u001b[0m\n\u001b[0;32m      2\u001b[0m \u001b[38;5;28;01mdef\u001b[39;00m\u001b[38;5;250m \u001b[39m\u001b[38;5;21mClassName\u001b[39m(Class1, Class2):\n\u001b[0;32m      3\u001b[0m   \u001b[38;5;28mprint\u001b[39m(\u001b[38;5;124m\"\u001b[39m\u001b[38;5;124mI have 3 classes this semester, \u001b[39m\u001b[38;5;124m\"\u001b[39m \u001b[38;5;241m+\u001b[39m Class1 \u001b[38;5;241m+\u001b[39m \u001b[38;5;124m\"\u001b[39m\u001b[38;5;124m, \u001b[39m\u001b[38;5;124m\"\u001b[39m \u001b[38;5;241m+\u001b[39m Class2 \u001b[38;5;241m+\u001b[39m \u001b[38;5;124m\"\u001b[39m\u001b[38;5;124m, and \u001b[39m\u001b[38;5;124m\"\u001b[39m \u001b[38;5;241m+\u001b[39m Class3 \u001b[38;5;241m+\u001b[39m \u001b[38;5;124m\"\u001b[39m\u001b[38;5;124m.\u001b[39m\u001b[38;5;124m\"\u001b[39m)\n\u001b[1;32m----> 5\u001b[0m ClassName(Class1 \u001b[38;5;241m=\u001b[39m \u001b[38;5;124m\"\u001b[39m\u001b[38;5;124mMIS2101\u001b[39m\u001b[38;5;124m\"\u001b[39m, Class2 \u001b[38;5;241m=\u001b[39m \u001b[38;5;124m\"\u001b[39m\u001b[38;5;124mBAN7101\u001b[39m\u001b[38;5;124m\"\u001b[39m, Class3 \u001b[38;5;241m=\u001b[39m \u001b[38;5;124m\"\u001b[39m\u001b[38;5;124mBAN7201\u001b[39m\u001b[38;5;124m\"\u001b[39m)\n",
      "\u001b[1;31mTypeError\u001b[0m: ClassName() got an unexpected keyword argument 'Class3'"
     ]
    }
   ],
   "source": [
    "### Error when less arguments\n",
    "def ClassName(Class1, Class2):\n",
    "  print(\"I have 3 classes this semester, \" + Class1 + \", \" + Class2 + \", and \" + Class3 + \".\")\n",
    "\n",
    "ClassName(Class1 = \"MIS2101\", Class2 = \"BAN7101\", Class3 = \"BAN7201\")"
   ]
  },
  {
   "cell_type": "code",
   "execution_count": 7,
   "id": "d1420ac6-26c0-40af-a78d-79a0658713fd",
   "metadata": {},
   "outputs": [
    {
     "name": "stdout",
     "output_type": "stream",
     "text": [
      "Pet type: dog\n",
      "Names:\n",
      " - Buddy\n",
      " - Max\n",
      " - Rocky\n",
      " - {'color': 'brown', 'age': 4, 'vaccinated': True}\n",
      "Info:\n"
     ]
    }
   ],
   "source": [
    "### Arbitrary Arguments, *args\n",
    "### If number of arguments is unknown, add a * before the parameter name in the function definition.\n",
    "\n",
    "### *args\tCollects any number of positional arguments into a tuple\n",
    "### **kwargs\tCollects any number of keyword arguments into a dictionary\n",
    "\n",
    "def describe_pet(pet_type, *names, **info):\n",
    "    print(f\"Pet type: {pet_type}\")\n",
    "    \n",
    "    print(\"Names:\")\n",
    "    for name in names:\n",
    "        print(f\" - {name}\")\n",
    "    \n",
    "    print(\"Info:\")\n",
    "    for key, value in info.items():\n",
    "        print(f\" - {key}: {value}\")\n",
    "\n",
    "describe_pet(\n",
    "    \"dog\",\n",
    "    \"Buddy\", \"Max\", \"Rocky\",\n",
    "    {\"color\":\"brown\",\n",
    "    \"age\":4,\n",
    "    \"vaccinated\":True}\n",
    ")\n",
    "\n",
    "### Imagine the situation that when someone has multiple dogs, each dog has a unique name and some information"
   ]
  },
  {
   "cell_type": "code",
   "execution_count": 9,
   "id": "c6fc62a2-aa59-4a91-8fa2-440a6a9b12bf",
   "metadata": {},
   "outputs": [
    {
     "name": "stdout",
     "output_type": "stream",
     "text": [
      "Pet type: dog\n",
      "Names:\n",
      " - Buddy\n",
      " - Max\n",
      " - Rocky\n",
      "Info:\n",
      " - color: brown\n",
      " - age: 4\n",
      " - gender: female\n",
      " - vaccinated: True\n"
     ]
    }
   ],
   "source": [
    "### this will also work\n",
    "### what's the difference with the above cell?\n",
    "\n",
    "describe_pet(\n",
    "    \"dog\",\n",
    "    \"Buddy\", \"Max\", \"Rocky\",\n",
    "    color=\"brown\",\n",
    "    age=4,\n",
    "    gender = \"female\",\n",
    "    vaccinated=True\n",
    ")"
   ]
  },
  {
   "cell_type": "code",
   "execution_count": 17,
   "id": "160bc528-a309-4c03-a3ee-cd5e331f9b10",
   "metadata": {},
   "outputs": [],
   "source": [
    "### Default Parameter Value & Return Value\n",
    "### If we call the function without argument, it uses the default value.\n",
    "### Return statement key word: return\n",
    "\n",
    "def DefaultParameter_Address(StrNo, StrName, City, State = \"Illinois\", Country = \"United States\"):\n",
    "    my_address = StrNo + ' ' + StrName + ', ' + City + ', ' + State + ', ' + Country\n",
    "    return 'My first US address is ' + my_address\n",
    "\n",
    "### recall the previous cell: how to call a function?"
   ]
  },
  {
   "cell_type": "code",
   "execution_count": 19,
   "id": "66176487-9a10-4280-85e6-7de2adcbf5e8",
   "metadata": {},
   "outputs": [
    {
     "name": "stdout",
     "output_type": "stream",
     "text": [
      "My first US address is 527 Magnolia Ave, Auburn, Illinois, United States\n"
     ]
    }
   ],
   "source": [
    "streetNo = \"527\"\n",
    "StreetName = \"Magnolia Ave\"\n",
    "City = \"Auburn\"\n",
    "State = 'Alabama'\n",
    "\n",
    "print(DefaultParameter_Address(streetNo, StreetName, City))"
   ]
  },
  {
   "cell_type": "code",
   "execution_count": 21,
   "id": "acc00191-a41d-4bc2-b496-4b3c1d6e4d97",
   "metadata": {},
   "outputs": [
    {
     "name": "stdout",
     "output_type": "stream",
     "text": [
      "My first US address is 527 Magnolia Ave, Auburn, Alabama, United States\n"
     ]
    }
   ],
   "source": [
    "streetNo = \"527\"\n",
    "StreetName = \"Magnolia Ave\"\n",
    "City = \"Auburn\"\n",
    "State = 'Alabama'\n",
    "\n",
    "print(DefaultParameter_Address(streetNo, StreetName, City, State))"
   ]
  },
  {
   "cell_type": "code",
   "execution_count": 26,
   "id": "48ef0296-7997-4493-9d3a-f8e440d65b53",
   "metadata": {},
   "outputs": [
    {
     "data": {
      "text/plain": [
       "array([0, 1, 1, 0, 0, 1, 0, 1, 1, 0])"
      ]
     },
     "execution_count": 26,
     "metadata": {},
     "output_type": "execute_result"
    }
   ],
   "source": [
    "### library functions example \n",
    "### numpy.random.randint\n",
    "### https://numpy.org/doc/stable/reference/random/generated/numpy.random.randint.html\n",
    "import numpy as np\n",
    "\n",
    "np.random.randint(2, size=10)"
   ]
  },
  {
   "cell_type": "code",
   "execution_count": null,
   "id": "0cfdb685-4ef3-4d3e-bb9f-b2271e1a9e40",
   "metadata": {},
   "outputs": [],
   "source": []
  }
 ],
 "metadata": {
  "kernelspec": {
   "display_name": "Python [conda env:base] *",
   "language": "python",
   "name": "conda-base-py"
  },
  "language_info": {
   "codemirror_mode": {
    "name": "ipython",
    "version": 3
   },
   "file_extension": ".py",
   "mimetype": "text/x-python",
   "name": "python",
   "nbconvert_exporter": "python",
   "pygments_lexer": "ipython3",
   "version": "3.11.9"
  }
 },
 "nbformat": 4,
 "nbformat_minor": 5
}
