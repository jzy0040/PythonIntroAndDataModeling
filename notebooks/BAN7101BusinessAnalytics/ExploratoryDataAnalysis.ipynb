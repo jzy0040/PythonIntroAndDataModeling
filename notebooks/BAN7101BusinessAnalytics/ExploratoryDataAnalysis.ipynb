{
 "cells": [
  {
   "cell_type": "markdown",
   "id": "7b8bd08c-ae52-4a56-a3fa-2b11926c37e3",
   "metadata": {},
   "source": [
    "# Exploratory Data Analysis\n",
    "\n",
    "Exploratory Data Analysis (EDA) is an analysis approach that identifies general patterns in the data.<br>\n",
    "These patterns include outliers and features of the data that might be unexpected.\n",
    "\n",
    "EDA is an important first step in any data analysis. \n"
   ]
  },
  {
   "cell_type": "markdown",
   "id": "9bb37d47-cc84-4d71-a17b-37cba4a06126",
   "metadata": {},
   "source": [
    "### Type of EDA\n",
    "\n",
    "##### Graphical methods and non-graphical methods\n",
    "\n",
    "1. non-graphical EDA involves calculating summary statistics<br>\n",
    "2. graphical EDA summarizes the data in a pictorial way\n",
    "\n",
    "##### Univariate methods and multivariate methods\n",
    "\n",
    "1. univariate methods consider one variable at a time <br>\n",
    "2. multivariate methods explore two or more variables"
   ]
  },
  {
   "cell_type": "markdown",
   "id": "7d746cc8-94ff-4cd8-9f15-fed771a215d2",
   "metadata": {},
   "source": [
    "### EDA in Python\n",
    "This example involves two problems -- both based on a real estate dataset.\n",
    "\n",
    "I am planning a move to a new place, for example Seattle, WA and are hoping to buy a house/condo/townhouse. For the first problem, using the provided King County real estate transaction information, conduct an Exploratory Data Analysis with the primary objective of collecting information for your future purchase.\n",
    "\n",
    "\n",
    "Second, there are also new properties available on the market. Please predict price based on square footage (using sqft_living for the square footage).\n",
    "\n",
    "The data file used for this assignment is from the Coursera course \"Machine Learning: Regression\" - https://www.coursera.org/learn/ml-regression/home/welcome"
   ]
  },
  {
   "cell_type": "code",
   "execution_count": 1,
   "id": "d3411ad9-8553-4fb7-9c29-e82f33127e1b",
   "metadata": {},
   "outputs": [],
   "source": [
    "# Load modules\n",
    "\n",
    "import numpy as np\n",
    "import pandas as pd\n",
    "import matplotlib.pyplot as plt"
   ]
  },
  {
   "cell_type": "code",
   "execution_count": 11,
   "id": "7c0cad9b-40fc-4aa8-ae7c-d347bd24384b",
   "metadata": {
    "scrolled": true
   },
   "outputs": [
    {
     "name": "stdout",
     "output_type": "stream",
     "text": [
      "C:\\Users\\ZXT3080\\GitHub\\PythonIntroAndDataModeling\\notebooks\\BAN7101BusinessAnalytics\n"
     ]
    }
   ],
   "source": [
    "# Current directory\n",
    "import os\n",
    "print(os.getcwd())"
   ]
  },
  {
   "cell_type": "code",
   "execution_count": 10,
   "id": "2d646a8b-9446-46fc-95a6-871a8728d668",
   "metadata": {
    "scrolled": true
   },
   "outputs": [
    {
     "data": {
      "text/html": [
       "<div>\n",
       "<style scoped>\n",
       "    .dataframe tbody tr th:only-of-type {\n",
       "        vertical-align: middle;\n",
       "    }\n",
       "\n",
       "    .dataframe tbody tr th {\n",
       "        vertical-align: top;\n",
       "    }\n",
       "\n",
       "    .dataframe thead th {\n",
       "        text-align: right;\n",
       "    }\n",
       "</style>\n",
       "<table border=\"1\" class=\"dataframe\">\n",
       "  <thead>\n",
       "    <tr style=\"text-align: right;\">\n",
       "      <th></th>\n",
       "      <th>id</th>\n",
       "      <th>date</th>\n",
       "      <th>price</th>\n",
       "      <th>bedrooms</th>\n",
       "      <th>bathrooms</th>\n",
       "      <th>sqft_living</th>\n",
       "      <th>sqft_lot</th>\n",
       "      <th>floors</th>\n",
       "      <th>waterfront</th>\n",
       "      <th>view</th>\n",
       "      <th>...</th>\n",
       "      <th>grade</th>\n",
       "      <th>sqft_above</th>\n",
       "      <th>sqft_basement</th>\n",
       "      <th>yr_built</th>\n",
       "      <th>yr_renovated</th>\n",
       "      <th>zipcode</th>\n",
       "      <th>lat</th>\n",
       "      <th>long</th>\n",
       "      <th>sqft_living15</th>\n",
       "      <th>sqft_lot15</th>\n",
       "    </tr>\n",
       "  </thead>\n",
       "  <tbody>\n",
       "    <tr>\n",
       "      <th>0</th>\n",
       "      <td>7129300520</td>\n",
       "      <td>20141013T000000</td>\n",
       "      <td>221900.0</td>\n",
       "      <td>3</td>\n",
       "      <td>1.00</td>\n",
       "      <td>1180</td>\n",
       "      <td>5650</td>\n",
       "      <td>1.0</td>\n",
       "      <td>0</td>\n",
       "      <td>0</td>\n",
       "      <td>...</td>\n",
       "      <td>7</td>\n",
       "      <td>1180</td>\n",
       "      <td>0</td>\n",
       "      <td>1955</td>\n",
       "      <td>0</td>\n",
       "      <td>98178</td>\n",
       "      <td>47.5112</td>\n",
       "      <td>-122.257</td>\n",
       "      <td>1340</td>\n",
       "      <td>5650</td>\n",
       "    </tr>\n",
       "    <tr>\n",
       "      <th>1</th>\n",
       "      <td>6414100192</td>\n",
       "      <td>20141209T000000</td>\n",
       "      <td>538000.0</td>\n",
       "      <td>3</td>\n",
       "      <td>2.25</td>\n",
       "      <td>2570</td>\n",
       "      <td>7242</td>\n",
       "      <td>2.0</td>\n",
       "      <td>0</td>\n",
       "      <td>0</td>\n",
       "      <td>...</td>\n",
       "      <td>7</td>\n",
       "      <td>2170</td>\n",
       "      <td>400</td>\n",
       "      <td>1951</td>\n",
       "      <td>1991</td>\n",
       "      <td>98125</td>\n",
       "      <td>47.7210</td>\n",
       "      <td>-122.319</td>\n",
       "      <td>1690</td>\n",
       "      <td>7639</td>\n",
       "    </tr>\n",
       "    <tr>\n",
       "      <th>2</th>\n",
       "      <td>5631500400</td>\n",
       "      <td>20150225T000000</td>\n",
       "      <td>180000.0</td>\n",
       "      <td>2</td>\n",
       "      <td>1.00</td>\n",
       "      <td>770</td>\n",
       "      <td>10000</td>\n",
       "      <td>1.0</td>\n",
       "      <td>0</td>\n",
       "      <td>0</td>\n",
       "      <td>...</td>\n",
       "      <td>6</td>\n",
       "      <td>770</td>\n",
       "      <td>0</td>\n",
       "      <td>1933</td>\n",
       "      <td>0</td>\n",
       "      <td>98028</td>\n",
       "      <td>47.7379</td>\n",
       "      <td>-122.233</td>\n",
       "      <td>2720</td>\n",
       "      <td>8062</td>\n",
       "    </tr>\n",
       "    <tr>\n",
       "      <th>3</th>\n",
       "      <td>2487200875</td>\n",
       "      <td>20141209T000000</td>\n",
       "      <td>604000.0</td>\n",
       "      <td>4</td>\n",
       "      <td>3.00</td>\n",
       "      <td>1960</td>\n",
       "      <td>5000</td>\n",
       "      <td>1.0</td>\n",
       "      <td>0</td>\n",
       "      <td>0</td>\n",
       "      <td>...</td>\n",
       "      <td>7</td>\n",
       "      <td>1050</td>\n",
       "      <td>910</td>\n",
       "      <td>1965</td>\n",
       "      <td>0</td>\n",
       "      <td>98136</td>\n",
       "      <td>47.5208</td>\n",
       "      <td>-122.393</td>\n",
       "      <td>1360</td>\n",
       "      <td>5000</td>\n",
       "    </tr>\n",
       "    <tr>\n",
       "      <th>4</th>\n",
       "      <td>1954400510</td>\n",
       "      <td>20150218T000000</td>\n",
       "      <td>510000.0</td>\n",
       "      <td>3</td>\n",
       "      <td>2.00</td>\n",
       "      <td>1680</td>\n",
       "      <td>8080</td>\n",
       "      <td>1.0</td>\n",
       "      <td>0</td>\n",
       "      <td>0</td>\n",
       "      <td>...</td>\n",
       "      <td>8</td>\n",
       "      <td>1680</td>\n",
       "      <td>0</td>\n",
       "      <td>1987</td>\n",
       "      <td>0</td>\n",
       "      <td>98074</td>\n",
       "      <td>47.6168</td>\n",
       "      <td>-122.045</td>\n",
       "      <td>1800</td>\n",
       "      <td>7503</td>\n",
       "    </tr>\n",
       "  </tbody>\n",
       "</table>\n",
       "<p>5 rows × 21 columns</p>\n",
       "</div>"
      ],
      "text/plain": [
       "           id             date     price  bedrooms  bathrooms  sqft_living  \\\n",
       "0  7129300520  20141013T000000  221900.0         3       1.00         1180   \n",
       "1  6414100192  20141209T000000  538000.0         3       2.25         2570   \n",
       "2  5631500400  20150225T000000  180000.0         2       1.00          770   \n",
       "3  2487200875  20141209T000000  604000.0         4       3.00         1960   \n",
       "4  1954400510  20150218T000000  510000.0         3       2.00         1680   \n",
       "\n",
       "   sqft_lot  floors  waterfront  view  ...  grade  sqft_above  sqft_basement  \\\n",
       "0      5650     1.0           0     0  ...      7        1180              0   \n",
       "1      7242     2.0           0     0  ...      7        2170            400   \n",
       "2     10000     1.0           0     0  ...      6         770              0   \n",
       "3      5000     1.0           0     0  ...      7        1050            910   \n",
       "4      8080     1.0           0     0  ...      8        1680              0   \n",
       "\n",
       "   yr_built  yr_renovated  zipcode      lat     long  sqft_living15  \\\n",
       "0      1955             0    98178  47.5112 -122.257           1340   \n",
       "1      1951          1991    98125  47.7210 -122.319           1690   \n",
       "2      1933             0    98028  47.7379 -122.233           2720   \n",
       "3      1965             0    98136  47.5208 -122.393           1360   \n",
       "4      1987             0    98074  47.6168 -122.045           1800   \n",
       "\n",
       "   sqft_lot15  \n",
       "0        5650  \n",
       "1        7639  \n",
       "2        8062  \n",
       "3        5000  \n",
       "4        7503  \n",
       "\n",
       "[5 rows x 21 columns]"
      ]
     },
     "execution_count": 10,
     "metadata": {},
     "output_type": "execute_result"
    }
   ],
   "source": [
    "### Read data from Excel file\n",
    "fname = \"../../data/kc_house_data.csv\"\n",
    "### read/load the dataset\n",
    "df = pd.read_csv(fname)\n",
    "df.head()"
   ]
  },
  {
   "cell_type": "code",
   "execution_count": 8,
   "id": "258cd003-a416-4eab-b8b2-0085bdddf88b",
   "metadata": {},
   "outputs": [
    {
     "name": "stdout",
     "output_type": "stream",
     "text": [
      "<class 'pandas.core.frame.DataFrame'>\n",
      "RangeIndex: 21613 entries, 0 to 21612\n",
      "Data columns (total 21 columns):\n",
      " #   Column         Non-Null Count  Dtype  \n",
      "---  ------         --------------  -----  \n",
      " 0   id             21613 non-null  int64  \n",
      " 1   date           21613 non-null  object \n",
      " 2   price          21613 non-null  float64\n",
      " 3   bedrooms       21613 non-null  int64  \n",
      " 4   bathrooms      21613 non-null  float64\n",
      " 5   sqft_living    21613 non-null  int64  \n",
      " 6   sqft_lot       21613 non-null  int64  \n",
      " 7   floors         21613 non-null  float64\n",
      " 8   waterfront     21613 non-null  int64  \n",
      " 9   view           21613 non-null  int64  \n",
      " 10  condition      21613 non-null  int64  \n",
      " 11  grade          21613 non-null  int64  \n",
      " 12  sqft_above     21613 non-null  int64  \n",
      " 13  sqft_basement  21613 non-null  int64  \n",
      " 14  yr_built       21613 non-null  int64  \n",
      " 15  yr_renovated   21613 non-null  int64  \n",
      " 16  zipcode        21613 non-null  int64  \n",
      " 17  lat            21613 non-null  float64\n",
      " 18  long           21613 non-null  float64\n",
      " 19  sqft_living15  21613 non-null  int64  \n",
      " 20  sqft_lot15     21613 non-null  int64  \n",
      "dtypes: float64(5), int64(15), object(1)\n",
      "memory usage: 3.5+ MB\n"
     ]
    },
    {
     "data": {
      "text/plain": [
       "((21613, 21), None)"
      ]
     },
     "execution_count": 8,
     "metadata": {},
     "output_type": "execute_result"
    }
   ],
   "source": [
    "# df is a Pandas object\n",
    "# shape is an attribute of any Pandas object\n",
    "# info is a function in Pandas\n",
    "df.shape, df.info()"
   ]
  },
  {
   "cell_type": "code",
   "execution_count": 11,
   "id": "31496b17-2394-4a1c-94c2-ba93f41ef7be",
   "metadata": {
    "tags": []
   },
   "outputs": [
    {
     "data": {
      "text/plain": [
       "(               id             date     price  bedrooms  bathrooms  \\\n",
       " 0      7129300520  20141013T000000  221900.0         3       1.00   \n",
       " 1      6414100192  20141209T000000  538000.0         3       2.25   \n",
       " 2      5631500400  20150225T000000  180000.0         2       1.00   \n",
       " 3      2487200875  20141209T000000  604000.0         4       3.00   \n",
       " 4      1954400510  20150218T000000  510000.0         3       2.00   \n",
       " ...           ...              ...       ...       ...        ...   \n",
       " 21608   263000018  20140521T000000  360000.0         3       2.50   \n",
       " 21609  6600060120  20150223T000000  400000.0         4       2.50   \n",
       " 21610  1523300141  20140623T000000  402101.0         2       0.75   \n",
       " 21611   291310100  20150116T000000  400000.0         3       2.50   \n",
       " 21612  1523300157  20141015T000000  325000.0         2       0.75   \n",
       " \n",
       "        sqft_living  sqft_lot  floors  waterfront  view  ...  grade  \\\n",
       " 0             1180      5650     1.0           0     0  ...      7   \n",
       " 1             2570      7242     2.0           0     0  ...      7   \n",
       " 2              770     10000     1.0           0     0  ...      6   \n",
       " 3             1960      5000     1.0           0     0  ...      7   \n",
       " 4             1680      8080     1.0           0     0  ...      8   \n",
       " ...            ...       ...     ...         ...   ...  ...    ...   \n",
       " 21608         1530      1131     3.0           0     0  ...      8   \n",
       " 21609         2310      5813     2.0           0     0  ...      8   \n",
       " 21610         1020      1350     2.0           0     0  ...      7   \n",
       " 21611         1600      2388     2.0           0     0  ...      8   \n",
       " 21612         1020      1076     2.0           0     0  ...      7   \n",
       " \n",
       "        sqft_above  sqft_basement  yr_built  yr_renovated  zipcode      lat  \\\n",
       " 0            1180              0      1955             0    98178  47.5112   \n",
       " 1            2170            400      1951          1991    98125  47.7210   \n",
       " 2             770              0      1933             0    98028  47.7379   \n",
       " 3            1050            910      1965             0    98136  47.5208   \n",
       " 4            1680              0      1987             0    98074  47.6168   \n",
       " ...           ...            ...       ...           ...      ...      ...   \n",
       " 21608        1530              0      2009             0    98103  47.6993   \n",
       " 21609        2310              0      2014             0    98146  47.5107   \n",
       " 21610        1020              0      2009             0    98144  47.5944   \n",
       " 21611        1600              0      2004             0    98027  47.5345   \n",
       " 21612        1020              0      2008             0    98144  47.5941   \n",
       " \n",
       "           long  sqft_living15  sqft_lot15  \n",
       " 0     -122.257           1340        5650  \n",
       " 1     -122.319           1690        7639  \n",
       " 2     -122.233           2720        8062  \n",
       " 3     -122.393           1360        5000  \n",
       " 4     -122.045           1800        7503  \n",
       " ...        ...            ...         ...  \n",
       " 21608 -122.346           1530        1509  \n",
       " 21609 -122.362           1830        7200  \n",
       " 21610 -122.299           1020        2007  \n",
       " 21611 -122.069           1410        1287  \n",
       " 21612 -122.299           1020        1357  \n",
       " \n",
       " [21450 rows x 21 columns],\n",
       "                id             date      price  bedrooms  bathrooms  \\\n",
       " 49      822039084  20150311T000000  1350000.0         3       2.50   \n",
       " 230    8096000060  20150413T000000   655000.0         2       1.75   \n",
       " 246    2025069065  20140929T000000  2400000.0         4       2.50   \n",
       " 264    2123039032  20141027T000000   369900.0         1       0.75   \n",
       " 300    3225069065  20140624T000000  3080000.0         4       5.00   \n",
       " ...           ...              ...        ...       ...        ...   \n",
       " 19984  2025069140  20150317T000000  1900000.0         3       2.50   \n",
       " 20325   518500480  20140811T000000  3000000.0         3       3.50   \n",
       " 20767  8043700105  20150417T000000  2300000.0         4       4.00   \n",
       " 21201   518500460  20141008T000000  2230000.0         3       3.50   \n",
       " 21576  9253900271  20150107T000000  3570000.0         5       4.50   \n",
       " \n",
       "        sqft_living  sqft_lot  floors  waterfront  view  ...  grade  \\\n",
       " 49            2753     65005     1.0           1     2  ...      9   \n",
       " 230           1450     15798     2.0           1     4  ...      7   \n",
       " 246           3650      8354     1.0           1     4  ...      9   \n",
       " 264            760     10079     1.0           1     4  ...      5   \n",
       " 300           4550     18641     1.0           1     4  ...     10   \n",
       " ...            ...       ...     ...         ...   ...  ...    ...   \n",
       " 19984         2830      4334     3.0           1     4  ...     10   \n",
       " 20325         4410     10756     2.0           1     4  ...     11   \n",
       " 20767         4360      8175     2.5           1     4  ...     10   \n",
       " 21201         3760      5634     2.0           1     4  ...     11   \n",
       " 21576         4850     10584     2.0           1     4  ...     10   \n",
       " \n",
       "        sqft_above  sqft_basement  yr_built  yr_renovated  zipcode      lat  \\\n",
       " 49           2165            588      1953             0    98070  47.4041   \n",
       " 230          1230            220      1915          1978    98166  47.4497   \n",
       " 246          1830           1820      2000             0    98074  47.6338   \n",
       " 264           760              0      1936             0    98070  47.4683   \n",
       " 300          2600           1950      2002             0    98074  47.6053   \n",
       " ...           ...            ...       ...           ...      ...      ...   \n",
       " 19984        2830              0      2006             0    98074  47.6318   \n",
       " 20325        3430            980      2014             0    98056  47.5283   \n",
       " 20767        3940            420      2007             0    98008  47.5724   \n",
       " 21201        2830            930      2014             0    98056  47.5285   \n",
       " 21576        3540           1310      2007             0    98008  47.5943   \n",
       " \n",
       "           long  sqft_living15  sqft_lot15  \n",
       " 49    -122.451           2680       72513  \n",
       " 230   -122.375           2030       13193  \n",
       " 246   -122.072           3120       18841  \n",
       " 264   -122.438           1230       14267  \n",
       " 300   -122.077           4550       19508  \n",
       " ...        ...            ...         ...  \n",
       " 19984 -122.071           2830       38211  \n",
       " 20325 -122.205           3550        5634  \n",
       " 20767 -122.104           2670        8525  \n",
       " 21201 -122.205           3560        5762  \n",
       " 21576 -122.110           3470       18270  \n",
       " \n",
       " [163 rows x 21 columns])"
      ]
     },
     "execution_count": 11,
     "metadata": {},
     "output_type": "execute_result"
    }
   ],
   "source": [
    "# I have a Labrador Retriever and she likes swimming. \n",
    "# My first personal interest is the waterfront feature in purchasing a house.\n",
    "# waterfront is a binary feature with values 0 and 1. \n",
    "# I'd like to see what the price would be with and without waterfront feature.\n",
    "\n",
    "mask = df[\"waterfront\"] == 0\n",
    "\n",
    "df_no_water = df[mask]\n",
    "\n",
    "df_water = df[~mask]\n",
    "\n",
    "df_no_water, df_water"
   ]
  },
  {
   "cell_type": "code",
   "execution_count": 12,
   "id": "aa871cd5-9cbe-4645-8612-68146fa738e6",
   "metadata": {},
   "outputs": [
    {
     "name": "stderr",
     "output_type": "stream",
     "text": [
      "C:\\Users\\ZXT3080\\AppData\\Local\\Temp\\ipykernel_20056\\3999796428.py:5: MatplotlibDeprecationWarning: The 'labels' parameter of boxplot() has been renamed 'tick_labels' since Matplotlib 3.9; support for the old name will be dropped in 3.11.\n",
      "  plt.boxplot([df_no_water['price'], df_water['price']],\n"
     ]
    },
    {
     "data": {
      "image/png": "[encoded data removed]",
      "text/plain": [
       "<Figure size 800x400 with 1 Axes>"
      ]
     },
     "metadata": {},
     "output_type": "display_data"
    }
   ],
   "source": [
    "# Creat a box plot to explore the waterfront feature\n",
    "fig = plt.figure(figsize =(8, 4))\n",
    " \n",
    "# Creating plot\n",
    "plt.boxplot([df_no_water['price'], df_water['price']], \n",
    "              labels = ['NonWaterFront', 'WaterFront'])\n",
    "\n",
    "# show plot\n",
    "plt.show()"
   ]
  },
  {
   "cell_type": "markdown",
   "id": "86d03f64-353f-41f8-8299-2f499d9beab8",
   "metadata": {},
   "source": [
    "As showing in the plot, properties with waterfront have much higher value. For money issue, I won't consider those luxury property. And those property are treated as out-liner and filtered out at the moment. And I feel sorry for my fur child.\n",
    "\n",
    "Using df_no_water for the following analysis\n",
    "\n",
    "Similarly I will plot more categorical data. <br>\n",
    "No one wants a new home in a bad condition.<br>\n",
    "So I will look into the condition and grade features.<br>\n",
    "House grade or grading refers to the ground level, which has a huge impact in long term condition."
   ]
  },
  {
   "cell_type": "code",
   "execution_count": 13,
   "id": "fafb0a8a-70bf-44f8-9a0f-f0b6b04893a6",
   "metadata": {},
   "outputs": [
    {
     "data": {
      "text/plain": [
       "(array([3, 5, 4, 1, 2], dtype=int64),\n",
       " array([ 7,  6,  8, 11,  9,  5, 10, 12,  4,  3, 13,  1], dtype=int64))"
      ]
     },
     "execution_count": 13,
     "metadata": {},
     "output_type": "execute_result"
    }
   ],
   "source": [
    "# find unique values in condition and grade conlumns\n",
    "condition = df_no_water[\"condition\"].unique()\n",
    "grade = df_no_water[\"grade\"].unique()\n",
    "condition, grade"
   ]
  },
  {
   "cell_type": "code",
   "execution_count": 14,
   "id": "f4e299bb-ad8e-478f-83ec-3ac3099c80af",
   "metadata": {},
   "outputs": [
    {
     "name": "stderr",
     "output_type": "stream",
     "text": [
      "C:\\Users\\ZXT3080\\AppData\\Local\\Temp\\ipykernel_20056\\1714955571.py:5: MatplotlibDeprecationWarning: The 'labels' parameter of boxplot() has been renamed 'tick_labels' since Matplotlib 3.9; support for the old name will be dropped in 3.11.\n",
      "  plt.boxplot([df_no_water[df_no_water[\"condition\"] == 1]['price'], df_no_water[df_no_water[\"condition\"] == 2]['price'],\n"
     ]
    },
    {
     "data": {
      "image/png": "[encoded data removed]",
      "text/plain": [
       "<Figure size 800x400 with 1 Axes>"
      ]
     },
     "metadata": {},
     "output_type": "display_data"
    }
   ],
   "source": [
    "# Creat a box plot to explore the condition feature\n",
    "fig = plt.figure(figsize = (8, 4))\n",
    " \n",
    "# Creating plot\n",
    "plt.boxplot([df_no_water[df_no_water[\"condition\"] == 1]['price'], df_no_water[df_no_water[\"condition\"] == 2]['price'], \n",
    "             df_no_water[df_no_water[\"condition\"] == 3]['price'], df_no_water[df_no_water[\"condition\"] == 4]['price'], \n",
    "             df_no_water[df_no_water[\"condition\"] == 5]['price']], labels = ['c1', 'c2', 'c3', 'c4', 'c5'])\n",
    "\n",
    "#List Comprehension\n",
    "# plt.boxplot([df_no_water[df_no_water[\"condition\"] == i]['price'] for i in np.sort(condition)], labels = ['c' + str(i) for i in np.sort(condition)])\n",
    " \n",
    "# show plot\n",
    "plt.show()"
   ]
  },
  {
   "cell_type": "code",
   "execution_count": 15,
   "id": "2098edfe-da2a-4e95-a4eb-762b9b96c315",
   "metadata": {},
   "outputs": [
    {
     "name": "stderr",
     "output_type": "stream",
     "text": [
      "C:\\Users\\ZXT3080\\AppData\\Local\\Temp\\ipykernel_20056\\1781875007.py:3: MatplotlibDeprecationWarning: The 'labels' parameter of boxplot() has been renamed 'tick_labels' since Matplotlib 3.9; support for the old name will be dropped in 3.11.\n",
      "  plt.boxplot([df_no_water[df_no_water[\"grade\"] == i]['price'] for i in np.sort(grade)], labels = ['g' + str(i) for i in np.sort(grade)])\n"
     ]
    },
    {
     "data": {
      "image/png": "[encoded data removed]",
      "text/plain": [
       "<Figure size 800x400 with 1 Axes>"
      ]
     },
     "metadata": {},
     "output_type": "display_data"
    }
   ],
   "source": [
    "#List Comprehension for grade\n",
    "fig = plt.figure(figsize = (8, 4))\n",
    "plt.boxplot([df_no_water[df_no_water[\"grade\"] == i]['price'] for i in np.sort(grade)], labels = ['g' + str(i) for i in np.sort(grade)])\n",
    "plt.show()"
   ]
  },
  {
   "cell_type": "markdown",
   "id": "977608d2-47d7-4bcf-9c5f-0ddc6aa22024",
   "metadata": {},
   "source": [
    "### What does the plot tell you? Can you get some more insights by looking at these plot? Any relation exist?"
   ]
  },
  {
   "cell_type": "markdown",
   "id": "de213834-fb34-4782-be36-bb737e19fc8b",
   "metadata": {},
   "source": [
    "##### Answer: I found some positive relationship between condition and price, and same positive ralationship for grade. "
   ]
  },
  {
   "cell_type": "markdown",
   "id": "e70b8ff9-1b4d-45a4-a854-9c043493e668",
   "metadata": {},
   "source": [
    "### sqft_lot, sqft_above, and sqft_living vs price\n",
    "\n",
    "Boxplot no longer fits the needs here.<br>\n",
    "We will need a scatter plot."
   ]
  },
  {
   "cell_type": "code",
   "execution_count": 16,
   "id": "0c575d35-0fbb-431b-a7e4-10266f7ef89e",
   "metadata": {},
   "outputs": [
    {
     "data": {
      "image/png": "[encoded data removed]",
      "text/plain": [
       "<Figure size 640x480 with 3 Axes>"
      ]
     },
     "metadata": {},
     "output_type": "display_data"
    }
   ],
   "source": [
    "# scatter plot for sqft_lot and price\n",
    "fig, ax = plt.subplots(1, 3)\n",
    "\n",
    "ax[0].scatter(df_no_water['sqft_lot'], df_no_water['price'])\n",
    "\n",
    "ax[1].scatter(df_no_water['sqft_above'], df_no_water['price'])\n",
    "ax[2].scatter(df_no_water['sqft_living'], df_no_water['price'])\n",
    "plt.show()"
   ]
  },
  {
   "cell_type": "markdown",
   "id": "8773a35b-497d-4eb4-9bd4-9a55d8c2610a",
   "metadata": {},
   "source": [
    "Lot over price plot shows that the lot size is concentrated up to 250k sqft and there are also out-liners. <br>\n",
    "Sqft_above and sqft_living plots show that there are certain linear relation between those two variable and price respectively. And this matches up with my expectation. \n",
    "Next, the value of a property should have some relationship with the zip code. And the zip code refers to the exact community.<Br>\n",
    "A bar chart is a good option for this."
   ]
  },
  {
   "cell_type": "code",
   "execution_count": 17,
   "id": "f5587564-86e3-4b7b-b547-5b5bb126eea2",
   "metadata": {},
   "outputs": [
    {
     "data": {
      "text/plain": [
       "(array([98178, 98125, 98028, 98136, 98074, 98053, 98003, 98198, 98146,\n",
       "        98038, 98007, 98115, 98107, 98126, 98019, 98103, 98002, 98133,\n",
       "        98040, 98092, 98030, 98119, 98112, 98052, 98027, 98117, 98058,\n",
       "        98001, 98056, 98166, 98023, 98148, 98105, 98042, 98008, 98059,\n",
       "        98122, 98144, 98004, 98005, 98034, 98075, 98116, 98010, 98118,\n",
       "        98199, 98032, 98045, 98102, 98077, 98108, 98168, 98177, 98065,\n",
       "        98029, 98006, 98109, 98022, 98033, 98155, 98024, 98011, 98031,\n",
       "        98106, 98072, 98188, 98070, 98014, 98055, 98039], dtype=int64),\n",
       " 70)"
      ]
     },
     "execution_count": 17,
     "metadata": {},
     "output_type": "execute_result"
    }
   ],
   "source": [
    "zipcode = df_no_water[\"zipcode\"].unique()\n",
    "zipcode, len(zipcode)"
   ]
  },
  {
   "cell_type": "markdown",
   "id": "16e295ad-888e-4f2b-9ebd-5d9642673ac4",
   "metadata": {},
   "source": [
    "### Note\n",
    "It's really redundant to filter out the data by typing each zip code to the function inputs. <br>\n",
    "Any efficient way to do so? <br>\n",
    "Yes, there is. Pandas has a build in function called groupby. <br>\n",
    "This could be a little challenging for new learners. <br>\n",
    "Let's do it together. <br>"
   ]
  },
  {
   "cell_type": "code",
   "execution_count": 18,
   "id": "6dab5f59-cf50-4bc6-a949-8b79579dc6b3",
   "metadata": {},
   "outputs": [
    {
     "data": {
      "text/plain": [
       "(                price\n",
       " zipcode              \n",
       " 98001    2.808047e+05\n",
       " 98002    2.342840e+05\n",
       " 98003    2.941113e+05\n",
       " 98004    1.338475e+06\n",
       " 98005    8.102897e+05\n",
       " ...               ...\n",
       " 98177    6.739644e+05\n",
       " 98178    2.889567e+05\n",
       " 98188    2.890783e+05\n",
       " 98198    2.879781e+05\n",
       " 98199    7.887454e+05\n",
       " \n",
       " [70 rows x 1 columns],\n",
       " pandas.core.frame.DataFrame)"
      ]
     },
     "execution_count": 18,
     "metadata": {},
     "output_type": "execute_result"
    }
   ],
   "source": [
    "# create a new data frame contains the price and zipcode info\n",
    "df_zip = pd.DataFrame(df_no_water[[\"zipcode\", \"price\"]])\n",
    "zip_info = df_zip.groupby(['zipcode']).mean()\n",
    "zip_info, type(zip_info)"
   ]
  },
  {
   "cell_type": "code",
   "execution_count": 19,
   "id": "8a61f482-541f-474f-88f1-e0ad6ef69bd1",
   "metadata": {},
   "outputs": [
    {
     "data": {
      "text/plain": [
       "<Axes: xlabel='zipcode'>"
      ]
     },
     "execution_count": 19,
     "metadata": {},
     "output_type": "execute_result"
    },
    {
     "data": {
      "image/png": "[encoded data removed]",
      "text/plain": [
       "<Figure size 640x480 with 1 Axes>"
      ]
     },
     "metadata": {},
     "output_type": "display_data"
    }
   ],
   "source": [
    "zip_info.plot.bar()"
   ]
  },
  {
   "cell_type": "code",
   "execution_count": 20,
   "id": "727d507d-192e-4ff0-a72e-619bac6258eb",
   "metadata": {},
   "outputs": [
    {
     "data": {
      "image/png": "[encoded data removed]",
      "text/plain": [
       "<Figure size 640x480 with 1 Axes>"
      ]
     },
     "metadata": {},
     "output_type": "display_data"
    }
   ],
   "source": [
    "# The above bar chart is not good, because of the x axis. \n",
    "# barplot using less values in x axis.\n",
    "subset_ticks = zip_info.index[[0, 10, 20, 30, 40, 50, 60]]\n",
    "\n",
    "price = list(zip_info.price)\n",
    "zipcode = list(zip_info.index)\n",
    "plt.bar(zipcode, price)\n",
    "\n",
    "# This one is going to be better.\n",
    "plt.show()"
   ]
  },
  {
   "cell_type": "markdown",
   "id": "f64509d4-d014-4138-999a-a5ad3f46e26c",
   "metadata": {},
   "source": [
    "This plot shows that the average price over different zip code. I can see that the price in certain areas are significantly higher than the others. By searching on Google maps, Amazon office buildings are mainly located at 98101, 98109, 98121. To think of a home purchasing, I personally want my home located not too far away from my work, school and grocery. So I will take this into consideration. \n",
    "\n",
    "Next, I want to know how the price per square feet is changing. To get this information, I need to add addtional columns to the dataset. "
   ]
  },
  {
   "cell_type": "code",
   "execution_count": 21,
   "id": "f936ad28-a6bc-4ad0-9fb0-1c85b160d959",
   "metadata": {},
   "outputs": [
    {
     "data": {
      "image/png": "[encoded data removed]",
      "text/plain": [
       "<Figure size 640x480 with 1 Axes>"
      ]
     },
     "metadata": {},
     "output_type": "display_data"
    }
   ],
   "source": [
    "# A price histogram overview\n",
    "plt.hist(df_no_water['price'], bins = 1000)\n",
    "plt.axvline(df_no_water['price'].mean(axis = 0), color='red', label='Mean')\n",
    "plt.axvline(df_no_water['price'].median(axis = 0), color='yellow', label='Median')\n",
    "plt.show()"
   ]
  },
  {
   "cell_type": "code",
   "execution_count": 22,
   "id": "9efec9bb-a280-4f5b-bb96-335193a38f45",
   "metadata": {},
   "outputs": [
    {
     "data": {
      "image/png": "[encoded data removed]",
      "text/plain": [
       "<Figure size 640x480 with 1 Axes>"
      ]
     },
     "metadata": {},
     "output_type": "display_data"
    }
   ],
   "source": [
    "# A price over lot size histogram overview\n",
    "# create lotPrice column and add to the dataframe\n",
    "lotprice = df_no_water['price'] / df_no_water['sqft_lot']\n",
    "df_no_water = pd.concat([df_no_water, lotprice], axis = 1)\n",
    "df_no_water.rename(columns = {list(df_no_water.columns)[-1]: 'lotPrice'}, inplace = True)\n",
    "\n",
    "# plot\n",
    "plt.hist(df_no_water['lotPrice'], bins = 20)\n",
    "plt.axvline(df_no_water['lotPrice'].mean(axis = 0), color='red', label='Mean')\n",
    "plt.axvline(df_no_water['lotPrice'].median(axis = 0), color='yellow', label='Median')\n",
    "plt.show()"
   ]
  },
  {
   "cell_type": "code",
   "execution_count": 23,
   "id": "3a269ccf-709e-49ce-a72e-75989b5487a2",
   "metadata": {},
   "outputs": [
    {
     "data": {
      "image/png": "[encoded data removed]",
      "text/plain": [
       "<Figure size 640x480 with 1 Axes>"
      ]
     },
     "metadata": {},
     "output_type": "display_data"
    }
   ],
   "source": [
    "# A price over the size of living room histogram overview\n",
    "# create livingPrice column and add to the dataframe\n",
    "livingprice = df_no_water['price'] / df_no_water['sqft_living']\n",
    "df_no_water = pd.concat([df_no_water, livingprice], axis = 1)\n",
    "df_no_water.rename(columns = {list(df_no_water.columns)[-1]: 'livingPrice'}, inplace = True)\n",
    "\n",
    "# plot\n",
    "plt.hist(df_no_water['livingPrice'], bins = 20)\n",
    "plt.axvline(df_no_water['livingPrice'].mean(axis = 0), color='red', label='Mean')\n",
    "plt.axvline(df_no_water['livingPrice'].median(axis = 0), color='yellow', label='Median')\n",
    "plt.show()"
   ]
  },
  {
   "cell_type": "code",
   "execution_count": 24,
   "id": "41f062b9-d838-4e06-b090-5c6790e118a6",
   "metadata": {},
   "outputs": [
    {
     "data": {
      "image/png": "[encoded data removed]",
      "text/plain": [
       "<Figure size 640x480 with 1 Axes>"
      ]
     },
     "metadata": {},
     "output_type": "display_data"
    }
   ],
   "source": [
    "# A price over the size of above histogram overview\n",
    "# create livingPrice column and add to the dataframe\n",
    "aboveprice = df_no_water['price'] / df_no_water['sqft_above']\n",
    "df_no_water = pd.concat([df_no_water, aboveprice], axis = 1)\n",
    "df_no_water.rename(columns = {list(df_no_water.columns)[-1]: 'abovePrice'}, inplace = True)\n",
    "\n",
    "#plot\n",
    "plt.hist(df_no_water['abovePrice'], bins = 20)\n",
    "plt.axvline(df_no_water['abovePrice'].mean(axis = 0), color='red', label='Mean')\n",
    "plt.axvline(df_no_water['abovePrice'].median(axis = 0), color='yellow', label='Median')\n",
    "plt.show()"
   ]
  },
  {
   "cell_type": "markdown",
   "id": "45fad32a-1086-4097-88f5-d9c1a76f6177",
   "metadata": {},
   "source": [
    "As the plots showing above, the average price are always higher than the median. And I can conclude that the real estate market is a kind of right skewed distribution in terms of unit price. And people will usually get what they paid for. So I will filter my purchasing in around the mean and average. As I can reward my purchasing with a reasonable quality and price. \n",
    "\n",
    "Next, when purchasing a new home, everyone will like to buy a brand-new home and be the first owner. On one hand, this purchasing intention will usually go beyond people's purchasing power. On the other hand, if the house is too old, it may require frequent repair or remodel which may lead to a non-negligible expense. In my case, instead of a new house, I will focus more on the condition of the property. To get this information I will make this data manipulation. \n",
    "\n",
    "Next, I have a family and a lovely baby girl. I will prefer at least 3 bedroom and 3 restrooms. I like to play rock music. It will be great if I can have a free rock space and keep the noise in that space from neighbor and sleepy baby. So a basement works best for me. And I will filter my results with a condition statement based on the basement feature."
   ]
  },
  {
   "cell_type": "code",
   "execution_count": 26,
   "id": "2cba0590-33d5-4a8d-ba65-962868c2c84a",
   "metadata": {},
   "outputs": [
    {
     "data": {
      "image/png": "[encoded data removed]",
      "text/plain": [
       "<Figure size 640x480 with 1 Axes>"
      ]
     },
     "metadata": {},
     "output_type": "display_data"
    }
   ],
   "source": [
    "# A condition histogram overview\n",
    "plt.hist(df_no_water['condition'], bins = 5)\n",
    "plt.axvline(df_no_water['condition'].mean(axis = 0), color='red', label='Mean')\n",
    "plt.axvline(df_no_water['condition'].median(axis = 0), color='yellow', label='Median')\n",
    "plt.show()"
   ]
  },
  {
   "cell_type": "code",
   "execution_count": 27,
   "id": "bbf8ae1a-ce91-4b42-8251-bf2afda5c81d",
   "metadata": {},
   "outputs": [
    {
     "data": {
      "image/png": "[encoded data removed]",
      "text/plain": [
       "<Figure size 640x480 with 1 Axes>"
      ]
     },
     "metadata": {},
     "output_type": "display_data"
    }
   ],
   "source": [
    "# A grade histogram overview\n",
    "plt.hist(df_no_water['grade'], bins = len(grade))\n",
    "plt.axvline(df_no_water['grade'].mean(axis = 0), color='red', label='Mean')\n",
    "plt.axvline(df_no_water['grade'].median(axis = 0), color='yellow', label='Median')\n",
    "plt.show()"
   ]
  },
  {
   "cell_type": "code",
   "execution_count": 25,
   "id": "115da89a-13b6-4f28-a2ed-13f1598cecc9",
   "metadata": {},
   "outputs": [
    {
     "data": {
      "text/plain": [
       "0        False\n",
       "1         True\n",
       "2        False\n",
       "3         True\n",
       "4        False\n",
       "         ...  \n",
       "21608    False\n",
       "21609    False\n",
       "21610    False\n",
       "21611    False\n",
       "21612    False\n",
       "Name: sqft_basement, Length: 21450, dtype: bool"
      ]
     },
     "metadata": {},
     "output_type": "display_data"
    },
    {
     "name": "stderr",
     "output_type": "stream",
     "text": [
      "C:\\Users\\ZXT3080\\AppData\\Local\\Temp\\ipykernel_20056\\2602161364.py:5: FutureWarning: Downcasting behavior in `replace` is deprecated and will be removed in a future version. To retain the old behavior, explicitly call `result.infer_objects(copy=False)`. To opt-in to the future behavior, set `pd.set_option('future.no_silent_downcasting', True)`\n",
      "  basement.replace(False, 0, inplace = True)\n"
     ]
    },
    {
     "data": {
      "text/plain": [
       "0        0\n",
       "1        1\n",
       "2        0\n",
       "3        1\n",
       "4        0\n",
       "        ..\n",
       "21608    0\n",
       "21609    0\n",
       "21610    0\n",
       "21611    0\n",
       "21612    0\n",
       "Name: sqft_basement, Length: 21450, dtype: int64"
      ]
     },
     "metadata": {},
     "output_type": "display_data"
    },
    {
     "data": {
      "image/png": "[encoded data removed]",
      "text/plain": [
       "<Figure size 640x480 with 1 Axes>"
      ]
     },
     "metadata": {},
     "output_type": "display_data"
    }
   ],
   "source": [
    "# A basement histogram overview\n",
    "basement = df_no_water['sqft_basement'] > 0\n",
    "display(basement)\n",
    "basement.replace(True, 1, inplace = True)\n",
    "basement.replace(False, 0, inplace = True)\n",
    "display(basement)\n",
    "plt.hist(basement, bins = 2)\n",
    "plt.show()"
   ]
  },
  {
   "cell_type": "markdown",
   "id": "a67ad2c6-6cc1-4c59-926d-a337817411f2",
   "metadata": {},
   "source": [
    "### Note\n",
    "As we can see, most of the properties are in condition 3 and better. So I will filter my result beyond 3. <br>\n",
    "Beside, most grades are 7 or higher. So I will filter my search greater or equal to 7.<br>\n",
    "\n",
    "As I checked on Google maps, Tacoma international airport is located in the south part of Seattle.<br> \n",
    "To avoid noise and traffic, I will prefer a home at the north part of Seattle and close to the sea for pleasure.<br>\n",
    "So the latitude should be greater than 48 and longitude should be smaller than -122."
   ]
  },
  {
   "cell_type": "code",
   "execution_count": 29,
   "id": "aa08d389-82c4-4dd1-9236-01a295acf58d",
   "metadata": {},
   "outputs": [
    {
     "data": {
      "text/html": [
       "<div>\n",
       "<style scoped>\n",
       "    .dataframe tbody tr th:only-of-type {\n",
       "        vertical-align: middle;\n",
       "    }\n",
       "\n",
       "    .dataframe tbody tr th {\n",
       "        vertical-align: top;\n",
       "    }\n",
       "\n",
       "    .dataframe thead th {\n",
       "        text-align: right;\n",
       "    }\n",
       "</style>\n",
       "<table border=\"1\" class=\"dataframe\">\n",
       "  <thead>\n",
       "    <tr style=\"text-align: right;\">\n",
       "      <th></th>\n",
       "      <th>id</th>\n",
       "      <th>date</th>\n",
       "      <th>price</th>\n",
       "      <th>bedrooms</th>\n",
       "      <th>bathrooms</th>\n",
       "      <th>sqft_living</th>\n",
       "      <th>sqft_lot</th>\n",
       "      <th>floors</th>\n",
       "      <th>waterfront</th>\n",
       "      <th>view</th>\n",
       "      <th>...</th>\n",
       "      <th>yr_built</th>\n",
       "      <th>yr_renovated</th>\n",
       "      <th>zipcode</th>\n",
       "      <th>lat</th>\n",
       "      <th>long</th>\n",
       "      <th>sqft_living15</th>\n",
       "      <th>sqft_lot15</th>\n",
       "      <th>lotPrice</th>\n",
       "      <th>livingPrice</th>\n",
       "      <th>abovePrice</th>\n",
       "    </tr>\n",
       "  </thead>\n",
       "  <tbody>\n",
       "    <tr>\n",
       "      <th>658</th>\n",
       "      <td>259900160</td>\n",
       "      <td>20150102T000000</td>\n",
       "      <td>748000.0</td>\n",
       "      <td>4</td>\n",
       "      <td>3.50</td>\n",
       "      <td>2770</td>\n",
       "      <td>3330</td>\n",
       "      <td>2.0</td>\n",
       "      <td>0</td>\n",
       "      <td>0</td>\n",
       "      <td>...</td>\n",
       "      <td>2001</td>\n",
       "      <td>0</td>\n",
       "      <td>98052</td>\n",
       "      <td>47.6327</td>\n",
       "      <td>-122.109</td>\n",
       "      <td>2180</td>\n",
       "      <td>3380</td>\n",
       "      <td>224.624625</td>\n",
       "      <td>270.036101</td>\n",
       "      <td>379.695431</td>\n",
       "    </tr>\n",
       "    <tr>\n",
       "      <th>1373</th>\n",
       "      <td>8032700140</td>\n",
       "      <td>20141028T000000</td>\n",
       "      <td>830000.0</td>\n",
       "      <td>5</td>\n",
       "      <td>3.00</td>\n",
       "      <td>2920</td>\n",
       "      <td>2808</td>\n",
       "      <td>2.0</td>\n",
       "      <td>0</td>\n",
       "      <td>0</td>\n",
       "      <td>...</td>\n",
       "      <td>1960</td>\n",
       "      <td>1992</td>\n",
       "      <td>98103</td>\n",
       "      <td>47.6540</td>\n",
       "      <td>-122.342</td>\n",
       "      <td>1620</td>\n",
       "      <td>1544</td>\n",
       "      <td>295.584046</td>\n",
       "      <td>284.246575</td>\n",
       "      <td>387.850467</td>\n",
       "    </tr>\n",
       "    <tr>\n",
       "      <th>1497</th>\n",
       "      <td>6362900172</td>\n",
       "      <td>20140923T000000</td>\n",
       "      <td>499950.0</td>\n",
       "      <td>3</td>\n",
       "      <td>3.50</td>\n",
       "      <td>1820</td>\n",
       "      <td>1991</td>\n",
       "      <td>2.0</td>\n",
       "      <td>0</td>\n",
       "      <td>0</td>\n",
       "      <td>...</td>\n",
       "      <td>2014</td>\n",
       "      <td>0</td>\n",
       "      <td>98144</td>\n",
       "      <td>47.5960</td>\n",
       "      <td>-122.298</td>\n",
       "      <td>1550</td>\n",
       "      <td>1460</td>\n",
       "      <td>251.104972</td>\n",
       "      <td>274.697802</td>\n",
       "      <td>349.615385</td>\n",
       "    </tr>\n",
       "    <tr>\n",
       "      <th>1848</th>\n",
       "      <td>3271800295</td>\n",
       "      <td>20150203T000000</td>\n",
       "      <td>1570000.0</td>\n",
       "      <td>5</td>\n",
       "      <td>4.50</td>\n",
       "      <td>5620</td>\n",
       "      <td>5800</td>\n",
       "      <td>3.0</td>\n",
       "      <td>0</td>\n",
       "      <td>3</td>\n",
       "      <td>...</td>\n",
       "      <td>1999</td>\n",
       "      <td>0</td>\n",
       "      <td>98199</td>\n",
       "      <td>47.6482</td>\n",
       "      <td>-122.412</td>\n",
       "      <td>2360</td>\n",
       "      <td>5800</td>\n",
       "      <td>270.689655</td>\n",
       "      <td>279.359431</td>\n",
       "      <td>334.042553</td>\n",
       "    </tr>\n",
       "    <tr>\n",
       "      <th>2153</th>\n",
       "      <td>2880100160</td>\n",
       "      <td>20141119T000000</td>\n",
       "      <td>1010000.0</td>\n",
       "      <td>4</td>\n",
       "      <td>3.50</td>\n",
       "      <td>3350</td>\n",
       "      <td>3752</td>\n",
       "      <td>2.0</td>\n",
       "      <td>0</td>\n",
       "      <td>0</td>\n",
       "      <td>...</td>\n",
       "      <td>2007</td>\n",
       "      <td>0</td>\n",
       "      <td>98117</td>\n",
       "      <td>47.6782</td>\n",
       "      <td>-122.365</td>\n",
       "      <td>1050</td>\n",
       "      <td>4960</td>\n",
       "      <td>269.189765</td>\n",
       "      <td>301.492537</td>\n",
       "      <td>396.078431</td>\n",
       "    </tr>\n",
       "    <tr>\n",
       "      <th>...</th>\n",
       "      <td>...</td>\n",
       "      <td>...</td>\n",
       "      <td>...</td>\n",
       "      <td>...</td>\n",
       "      <td>...</td>\n",
       "      <td>...</td>\n",
       "      <td>...</td>\n",
       "      <td>...</td>\n",
       "      <td>...</td>\n",
       "      <td>...</td>\n",
       "      <td>...</td>\n",
       "      <td>...</td>\n",
       "      <td>...</td>\n",
       "      <td>...</td>\n",
       "      <td>...</td>\n",
       "      <td>...</td>\n",
       "      <td>...</td>\n",
       "      <td>...</td>\n",
       "      <td>...</td>\n",
       "      <td>...</td>\n",
       "      <td>...</td>\n",
       "    </tr>\n",
       "    <tr>\n",
       "      <th>21346</th>\n",
       "      <td>8562790080</td>\n",
       "      <td>20150209T000000</td>\n",
       "      <td>825750.0</td>\n",
       "      <td>4</td>\n",
       "      <td>3.50</td>\n",
       "      <td>2950</td>\n",
       "      <td>3737</td>\n",
       "      <td>2.0</td>\n",
       "      <td>0</td>\n",
       "      <td>0</td>\n",
       "      <td>...</td>\n",
       "      <td>2012</td>\n",
       "      <td>0</td>\n",
       "      <td>98027</td>\n",
       "      <td>47.5313</td>\n",
       "      <td>-122.074</td>\n",
       "      <td>2580</td>\n",
       "      <td>3581</td>\n",
       "      <td>220.966016</td>\n",
       "      <td>279.915254</td>\n",
       "      <td>363.766520</td>\n",
       "    </tr>\n",
       "    <tr>\n",
       "      <th>21426</th>\n",
       "      <td>1070000180</td>\n",
       "      <td>20141015T000000</td>\n",
       "      <td>1110000.0</td>\n",
       "      <td>4</td>\n",
       "      <td>3.50</td>\n",
       "      <td>3660</td>\n",
       "      <td>4760</td>\n",
       "      <td>2.0</td>\n",
       "      <td>0</td>\n",
       "      <td>0</td>\n",
       "      <td>...</td>\n",
       "      <td>2014</td>\n",
       "      <td>0</td>\n",
       "      <td>98199</td>\n",
       "      <td>47.6482</td>\n",
       "      <td>-122.409</td>\n",
       "      <td>3210</td>\n",
       "      <td>4640</td>\n",
       "      <td>233.193277</td>\n",
       "      <td>303.278689</td>\n",
       "      <td>390.845070</td>\n",
       "    </tr>\n",
       "    <tr>\n",
       "      <th>21457</th>\n",
       "      <td>3629700120</td>\n",
       "      <td>20141014T000000</td>\n",
       "      <td>669950.0</td>\n",
       "      <td>3</td>\n",
       "      <td>3.00</td>\n",
       "      <td>2330</td>\n",
       "      <td>1944</td>\n",
       "      <td>2.5</td>\n",
       "      <td>0</td>\n",
       "      <td>0</td>\n",
       "      <td>...</td>\n",
       "      <td>2014</td>\n",
       "      <td>0</td>\n",
       "      <td>98027</td>\n",
       "      <td>47.5446</td>\n",
       "      <td>-122.016</td>\n",
       "      <td>2290</td>\n",
       "      <td>1407</td>\n",
       "      <td>344.624486</td>\n",
       "      <td>287.532189</td>\n",
       "      <td>343.564103</td>\n",
       "    </tr>\n",
       "    <tr>\n",
       "      <th>21477</th>\n",
       "      <td>7010700308</td>\n",
       "      <td>20141112T000000</td>\n",
       "      <td>1010000.0</td>\n",
       "      <td>4</td>\n",
       "      <td>3.25</td>\n",
       "      <td>3610</td>\n",
       "      <td>4000</td>\n",
       "      <td>2.0</td>\n",
       "      <td>0</td>\n",
       "      <td>0</td>\n",
       "      <td>...</td>\n",
       "      <td>2007</td>\n",
       "      <td>0</td>\n",
       "      <td>98199</td>\n",
       "      <td>47.6580</td>\n",
       "      <td>-122.396</td>\n",
       "      <td>1980</td>\n",
       "      <td>4000</td>\n",
       "      <td>252.500000</td>\n",
       "      <td>279.778393</td>\n",
       "      <td>382.575758</td>\n",
       "    </tr>\n",
       "    <tr>\n",
       "      <th>21483</th>\n",
       "      <td>2776600082</td>\n",
       "      <td>20141113T000000</td>\n",
       "      <td>407500.0</td>\n",
       "      <td>3</td>\n",
       "      <td>3.50</td>\n",
       "      <td>1522</td>\n",
       "      <td>1465</td>\n",
       "      <td>2.0</td>\n",
       "      <td>0</td>\n",
       "      <td>0</td>\n",
       "      <td>...</td>\n",
       "      <td>2006</td>\n",
       "      <td>0</td>\n",
       "      <td>98117</td>\n",
       "      <td>47.6922</td>\n",
       "      <td>-122.375</td>\n",
       "      <td>1522</td>\n",
       "      <td>1341</td>\n",
       "      <td>278.156997</td>\n",
       "      <td>267.739816</td>\n",
       "      <td>326.522436</td>\n",
       "    </tr>\n",
       "  </tbody>\n",
       "</table>\n",
       "<p>96 rows × 24 columns</p>\n",
       "</div>"
      ],
      "text/plain": [
       "               id             date      price  bedrooms  bathrooms  \\\n",
       "658     259900160  20150102T000000   748000.0         4       3.50   \n",
       "1373   8032700140  20141028T000000   830000.0         5       3.00   \n",
       "1497   6362900172  20140923T000000   499950.0         3       3.50   \n",
       "1848   3271800295  20150203T000000  1570000.0         5       4.50   \n",
       "2153   2880100160  20141119T000000  1010000.0         4       3.50   \n",
       "...           ...              ...        ...       ...        ...   \n",
       "21346  8562790080  20150209T000000   825750.0         4       3.50   \n",
       "21426  1070000180  20141015T000000  1110000.0         4       3.50   \n",
       "21457  3629700120  20141014T000000   669950.0         3       3.00   \n",
       "21477  7010700308  20141112T000000  1010000.0         4       3.25   \n",
       "21483  2776600082  20141113T000000   407500.0         3       3.50   \n",
       "\n",
       "       sqft_living  sqft_lot  floors  waterfront  view  ...  yr_built  \\\n",
       "658           2770      3330     2.0           0     0  ...      2001   \n",
       "1373          2920      2808     2.0           0     0  ...      1960   \n",
       "1497          1820      1991     2.0           0     0  ...      2014   \n",
       "1848          5620      5800     3.0           0     3  ...      1999   \n",
       "2153          3350      3752     2.0           0     0  ...      2007   \n",
       "...            ...       ...     ...         ...   ...  ...       ...   \n",
       "21346         2950      3737     2.0           0     0  ...      2012   \n",
       "21426         3660      4760     2.0           0     0  ...      2014   \n",
       "21457         2330      1944     2.5           0     0  ...      2014   \n",
       "21477         3610      4000     2.0           0     0  ...      2007   \n",
       "21483         1522      1465     2.0           0     0  ...      2006   \n",
       "\n",
       "       yr_renovated  zipcode      lat     long  sqft_living15  sqft_lot15  \\\n",
       "658               0    98052  47.6327 -122.109           2180        3380   \n",
       "1373           1992    98103  47.6540 -122.342           1620        1544   \n",
       "1497              0    98144  47.5960 -122.298           1550        1460   \n",
       "1848              0    98199  47.6482 -122.412           2360        5800   \n",
       "2153              0    98117  47.6782 -122.365           1050        4960   \n",
       "...             ...      ...      ...      ...            ...         ...   \n",
       "21346             0    98027  47.5313 -122.074           2580        3581   \n",
       "21426             0    98199  47.6482 -122.409           3210        4640   \n",
       "21457             0    98027  47.5446 -122.016           2290        1407   \n",
       "21477             0    98199  47.6580 -122.396           1980        4000   \n",
       "21483             0    98117  47.6922 -122.375           1522        1341   \n",
       "\n",
       "         lotPrice  livingPrice  abovePrice  \n",
       "658    224.624625   270.036101  379.695431  \n",
       "1373   295.584046   284.246575  387.850467  \n",
       "1497   251.104972   274.697802  349.615385  \n",
       "1848   270.689655   279.359431  334.042553  \n",
       "2153   269.189765   301.492537  396.078431  \n",
       "...           ...          ...         ...  \n",
       "21346  220.966016   279.915254  363.766520  \n",
       "21426  233.193277   303.278689  390.845070  \n",
       "21457  344.624486   287.532189  343.564103  \n",
       "21477  252.500000   279.778393  382.575758  \n",
       "21483  278.156997   267.739816  326.522436  \n",
       "\n",
       "[96 rows x 24 columns]"
      ]
     },
     "execution_count": 29,
     "metadata": {},
     "output_type": "execute_result"
    }
   ],
   "source": [
    "# Now, let me try to filter my searching.\n",
    "results = df_no_water.loc[(df_no_water['bedrooms'] >= 3) & (df_no_water['bathrooms'] >= 3) &\n",
    "                          (df_no_water['lat'] >= 47.5) & (df_no_water['long'] <= -121.5) &\n",
    "                          (df_no_water['abovePrice'] >= 200) & (df_no_water['abovePrice'] <= 400) & \n",
    "                          (df_no_water['livingPrice'] >= 200) & (df_no_water['livingPrice'] <= 400) &\n",
    "                          (df_no_water['lotPrice'] >= 200) & (df_no_water['lotPrice'] <= 400) & \n",
    "                          (df_no_water['sqft_basement'] > 0) & (df_no_water['condition'] >= 3) &\n",
    "                          (df_no_water['grade'] > 7)]\n",
    "results"
   ]
  },
  {
   "cell_type": "code",
   "execution_count": 32,
   "id": "33617881-9bae-47ed-9ee7-3a5d03f189cb",
   "metadata": {},
   "outputs": [
    {
     "data": {
      "text/html": [
       "<div>\n",
       "<style scoped>\n",
       "    .dataframe tbody tr th:only-of-type {\n",
       "        vertical-align: middle;\n",
       "    }\n",
       "\n",
       "    .dataframe tbody tr th {\n",
       "        vertical-align: top;\n",
       "    }\n",
       "\n",
       "    .dataframe thead th {\n",
       "        text-align: right;\n",
       "    }\n",
       "</style>\n",
       "<table border=\"1\" class=\"dataframe\">\n",
       "  <thead>\n",
       "    <tr style=\"text-align: right;\">\n",
       "      <th></th>\n",
       "      <th>id</th>\n",
       "      <th>date</th>\n",
       "      <th>price</th>\n",
       "      <th>bedrooms</th>\n",
       "      <th>bathrooms</th>\n",
       "      <th>sqft_living</th>\n",
       "      <th>sqft_lot</th>\n",
       "      <th>floors</th>\n",
       "      <th>waterfront</th>\n",
       "      <th>view</th>\n",
       "      <th>...</th>\n",
       "      <th>yr_built</th>\n",
       "      <th>yr_renovated</th>\n",
       "      <th>zipcode</th>\n",
       "      <th>lat</th>\n",
       "      <th>long</th>\n",
       "      <th>sqft_living15</th>\n",
       "      <th>sqft_lot15</th>\n",
       "      <th>lotPrice</th>\n",
       "      <th>livingPrice</th>\n",
       "      <th>abovePrice</th>\n",
       "    </tr>\n",
       "  </thead>\n",
       "  <tbody>\n",
       "    <tr>\n",
       "      <th>1497</th>\n",
       "      <td>6362900172</td>\n",
       "      <td>20140923T000000</td>\n",
       "      <td>499950.0</td>\n",
       "      <td>3</td>\n",
       "      <td>3.50</td>\n",
       "      <td>1820</td>\n",
       "      <td>1991</td>\n",
       "      <td>2.0</td>\n",
       "      <td>0</td>\n",
       "      <td>0</td>\n",
       "      <td>...</td>\n",
       "      <td>2014</td>\n",
       "      <td>0</td>\n",
       "      <td>98144</td>\n",
       "      <td>47.5960</td>\n",
       "      <td>-122.298</td>\n",
       "      <td>1550</td>\n",
       "      <td>1460</td>\n",
       "      <td>251.104972</td>\n",
       "      <td>274.697802</td>\n",
       "      <td>349.615385</td>\n",
       "    </tr>\n",
       "    <tr>\n",
       "      <th>11397</th>\n",
       "      <td>6362900171</td>\n",
       "      <td>20140527T000000</td>\n",
       "      <td>499950.0</td>\n",
       "      <td>3</td>\n",
       "      <td>3.50</td>\n",
       "      <td>1820</td>\n",
       "      <td>1501</td>\n",
       "      <td>2.0</td>\n",
       "      <td>0</td>\n",
       "      <td>0</td>\n",
       "      <td>...</td>\n",
       "      <td>2014</td>\n",
       "      <td>0</td>\n",
       "      <td>98144</td>\n",
       "      <td>47.5960</td>\n",
       "      <td>-122.298</td>\n",
       "      <td>1550</td>\n",
       "      <td>1501</td>\n",
       "      <td>333.077948</td>\n",
       "      <td>274.697802</td>\n",
       "      <td>349.615385</td>\n",
       "    </tr>\n",
       "    <tr>\n",
       "      <th>15591</th>\n",
       "      <td>1315300095</td>\n",
       "      <td>20140812T000000</td>\n",
       "      <td>790000.0</td>\n",
       "      <td>4</td>\n",
       "      <td>3.50</td>\n",
       "      <td>2720</td>\n",
       "      <td>3000</td>\n",
       "      <td>2.0</td>\n",
       "      <td>0</td>\n",
       "      <td>0</td>\n",
       "      <td>...</td>\n",
       "      <td>2014</td>\n",
       "      <td>0</td>\n",
       "      <td>98136</td>\n",
       "      <td>47.5371</td>\n",
       "      <td>-122.388</td>\n",
       "      <td>1600</td>\n",
       "      <td>4600</td>\n",
       "      <td>263.333333</td>\n",
       "      <td>290.441176</td>\n",
       "      <td>351.111111</td>\n",
       "    </tr>\n",
       "    <tr>\n",
       "      <th>19658</th>\n",
       "      <td>8562790310</td>\n",
       "      <td>20150324T000000</td>\n",
       "      <td>839704.0</td>\n",
       "      <td>4</td>\n",
       "      <td>3.25</td>\n",
       "      <td>2950</td>\n",
       "      <td>4161</td>\n",
       "      <td>2.0</td>\n",
       "      <td>0</td>\n",
       "      <td>0</td>\n",
       "      <td>...</td>\n",
       "      <td>2014</td>\n",
       "      <td>0</td>\n",
       "      <td>98027</td>\n",
       "      <td>47.5297</td>\n",
       "      <td>-122.073</td>\n",
       "      <td>2790</td>\n",
       "      <td>3693</td>\n",
       "      <td>201.803413</td>\n",
       "      <td>284.645424</td>\n",
       "      <td>379.956561</td>\n",
       "    </tr>\n",
       "    <tr>\n",
       "      <th>20904</th>\n",
       "      <td>7242800040</td>\n",
       "      <td>20150120T000000</td>\n",
       "      <td>519990.0</td>\n",
       "      <td>4</td>\n",
       "      <td>3.25</td>\n",
       "      <td>1690</td>\n",
       "      <td>1321</td>\n",
       "      <td>2.0</td>\n",
       "      <td>0</td>\n",
       "      <td>0</td>\n",
       "      <td>...</td>\n",
       "      <td>2014</td>\n",
       "      <td>0</td>\n",
       "      <td>98052</td>\n",
       "      <td>47.6780</td>\n",
       "      <td>-122.117</td>\n",
       "      <td>3080</td>\n",
       "      <td>4558</td>\n",
       "      <td>393.633611</td>\n",
       "      <td>307.686391</td>\n",
       "      <td>393.931818</td>\n",
       "    </tr>\n",
       "    <tr>\n",
       "      <th>21001</th>\n",
       "      <td>8562790150</td>\n",
       "      <td>20140626T000000</td>\n",
       "      <td>782900.0</td>\n",
       "      <td>4</td>\n",
       "      <td>3.25</td>\n",
       "      <td>3060</td>\n",
       "      <td>3898</td>\n",
       "      <td>2.0</td>\n",
       "      <td>0</td>\n",
       "      <td>0</td>\n",
       "      <td>...</td>\n",
       "      <td>2014</td>\n",
       "      <td>0</td>\n",
       "      <td>98027</td>\n",
       "      <td>47.5311</td>\n",
       "      <td>-122.073</td>\n",
       "      <td>2920</td>\n",
       "      <td>3448</td>\n",
       "      <td>200.846588</td>\n",
       "      <td>255.849673</td>\n",
       "      <td>340.391304</td>\n",
       "    </tr>\n",
       "    <tr>\n",
       "      <th>21426</th>\n",
       "      <td>1070000180</td>\n",
       "      <td>20141015T000000</td>\n",
       "      <td>1110000.0</td>\n",
       "      <td>4</td>\n",
       "      <td>3.50</td>\n",
       "      <td>3660</td>\n",
       "      <td>4760</td>\n",
       "      <td>2.0</td>\n",
       "      <td>0</td>\n",
       "      <td>0</td>\n",
       "      <td>...</td>\n",
       "      <td>2014</td>\n",
       "      <td>0</td>\n",
       "      <td>98199</td>\n",
       "      <td>47.6482</td>\n",
       "      <td>-122.409</td>\n",
       "      <td>3210</td>\n",
       "      <td>4640</td>\n",
       "      <td>233.193277</td>\n",
       "      <td>303.278689</td>\n",
       "      <td>390.845070</td>\n",
       "    </tr>\n",
       "    <tr>\n",
       "      <th>21457</th>\n",
       "      <td>3629700120</td>\n",
       "      <td>20141014T000000</td>\n",
       "      <td>669950.0</td>\n",
       "      <td>3</td>\n",
       "      <td>3.00</td>\n",
       "      <td>2330</td>\n",
       "      <td>1944</td>\n",
       "      <td>2.5</td>\n",
       "      <td>0</td>\n",
       "      <td>0</td>\n",
       "      <td>...</td>\n",
       "      <td>2014</td>\n",
       "      <td>0</td>\n",
       "      <td>98027</td>\n",
       "      <td>47.5446</td>\n",
       "      <td>-122.016</td>\n",
       "      <td>2290</td>\n",
       "      <td>1407</td>\n",
       "      <td>344.624486</td>\n",
       "      <td>287.532189</td>\n",
       "      <td>343.564103</td>\n",
       "    </tr>\n",
       "  </tbody>\n",
       "</table>\n",
       "<p>8 rows × 24 columns</p>\n",
       "</div>"
      ],
      "text/plain": [
       "               id             date      price  bedrooms  bathrooms  \\\n",
       "1497   6362900172  20140923T000000   499950.0         3       3.50   \n",
       "11397  6362900171  20140527T000000   499950.0         3       3.50   \n",
       "15591  1315300095  20140812T000000   790000.0         4       3.50   \n",
       "19658  8562790310  20150324T000000   839704.0         4       3.25   \n",
       "20904  7242800040  20150120T000000   519990.0         4       3.25   \n",
       "21001  8562790150  20140626T000000   782900.0         4       3.25   \n",
       "21426  1070000180  20141015T000000  1110000.0         4       3.50   \n",
       "21457  3629700120  20141014T000000   669950.0         3       3.00   \n",
       "\n",
       "       sqft_living  sqft_lot  floors  waterfront  view  ...  yr_built  \\\n",
       "1497          1820      1991     2.0           0     0  ...      2014   \n",
       "11397         1820      1501     2.0           0     0  ...      2014   \n",
       "15591         2720      3000     2.0           0     0  ...      2014   \n",
       "19658         2950      4161     2.0           0     0  ...      2014   \n",
       "20904         1690      1321     2.0           0     0  ...      2014   \n",
       "21001         3060      3898     2.0           0     0  ...      2014   \n",
       "21426         3660      4760     2.0           0     0  ...      2014   \n",
       "21457         2330      1944     2.5           0     0  ...      2014   \n",
       "\n",
       "       yr_renovated  zipcode      lat     long  sqft_living15  sqft_lot15  \\\n",
       "1497              0    98144  47.5960 -122.298           1550        1460   \n",
       "11397             0    98144  47.5960 -122.298           1550        1501   \n",
       "15591             0    98136  47.5371 -122.388           1600        4600   \n",
       "19658             0    98027  47.5297 -122.073           2790        3693   \n",
       "20904             0    98052  47.6780 -122.117           3080        4558   \n",
       "21001             0    98027  47.5311 -122.073           2920        3448   \n",
       "21426             0    98199  47.6482 -122.409           3210        4640   \n",
       "21457             0    98027  47.5446 -122.016           2290        1407   \n",
       "\n",
       "         lotPrice  livingPrice  abovePrice  \n",
       "1497   251.104972   274.697802  349.615385  \n",
       "11397  333.077948   274.697802  349.615385  \n",
       "15591  263.333333   290.441176  351.111111  \n",
       "19658  201.803413   284.645424  379.956561  \n",
       "20904  393.633611   307.686391  393.931818  \n",
       "21001  200.846588   255.849673  340.391304  \n",
       "21426  233.193277   303.278689  390.845070  \n",
       "21457  344.624486   287.532189  343.564103  \n",
       "\n",
       "[8 rows x 24 columns]"
      ]
     },
     "execution_count": 32,
     "metadata": {},
     "output_type": "execute_result"
    }
   ],
   "source": [
    "# which one you will pick\n",
    "finalSearch = results[results['yr_built'] > 2013]\n",
    "finalSearch"
   ]
  },
  {
   "cell_type": "code",
   "execution_count": null,
   "id": "c8843ff5-b3a4-46de-865f-c8e05ae435ac",
   "metadata": {},
   "outputs": [],
   "source": []
  }
 ],
 "metadata": {
  "kernelspec": {
   "display_name": "Python 3 (ipykernel)",
   "language": "python",
   "name": "python3"
  },
  "language_info": {
   "codemirror_mode": {
    "name": "ipython",
    "version": 3
   },
   "file_extension": ".py",
   "mimetype": "text/x-python",
   "name": "python",
   "nbconvert_exporter": "python",
   "pygments_lexer": "ipython3",
   "version": "3.11.7"
  }
 },
 "nbformat": 4,
 "nbformat_minor": 5
}
