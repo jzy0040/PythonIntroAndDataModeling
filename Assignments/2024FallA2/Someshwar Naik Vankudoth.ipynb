{
 "cells": [
  {
   "cell_type": "code",
   "execution_count": 10,
   "id": "77970d07-d038-4c39-b2fd-a010f31ee4bb",
   "metadata": {},
   "outputs": [],
   "source": [
    "import pandas as pd"
   ]
  },
  {
   "cell_type": "code",
   "execution_count": 14,
   "id": "99e20996-1254-4978-90f0-293f8b78b6bf",
   "metadata": {},
   "outputs": [
    {
     "name": "stdout",
     "output_type": "stream",
     "text": [
      "    Hours_of_Study      Score\n",
      "0                5  52.122100\n",
      "1                5  52.122100\n",
      "2                7  72.122100\n",
      "3                3  32.122100\n",
      "4                0   2.122104\n",
      "5                5  52.122100\n",
      "6                2  22.122100\n",
      "7                7  72.122100\n",
      "8                4  42.122100\n",
      "9                2  22.122100\n",
      "10               1  12.122100\n",
      "11               6  62.122100\n",
      "12               8  82.122100\n",
      "13               5  52.122100\n",
      "14               7  72.122100\n",
      "15               8  82.122100\n",
      "16               7  72.122100\n",
      "17               8  82.122100\n",
      "18               8  82.122100\n",
      "19               8  82.122100\n",
      "20               0   2.122104\n",
      "21               8  82.122100\n",
      "22               7  72.122100\n",
      "23               4  42.122100\n",
      "24               6  62.122100\n",
      "25               7  72.122100\n",
      "26               2  22.122100\n",
      "27               0   2.122104\n",
      "28               8  82.122100\n",
      "29               4  42.122100\n"
     ]
    }
   ],
   "source": [
    "#a\n",
    "df = pd.read_csv(\"Marks.csv\", delimiter=\",\")\n",
    "df = df.drop(columns=[\"Unnamed: 2\"])\n",
    "\n",
    "df_part1 = df.iloc[:, :2]\n",
    "df_part2 = df.iloc[:, 2:]\n",
    "\n",
    "df_part1.columns = [\"Hours_of_Study\", \"Score\"]\n",
    "df_part2.columns = [\"Hours_of_Study\", \"Score\"]\n",
    "\n",
    "combined_df = pd.concat([df_part1, df_part2], ignore_index=True)\n",
    "\n",
    "print(combined_df)"
   ]
  },
  {
   "cell_type": "code",
   "execution_count": 15,
   "id": "91afa6b5-9cfb-45b6-af4f-4ed684b3cbae",
   "metadata": {},
   "outputs": [],
   "source": [
    "X=combined_df['Hours_of_Study']\n",
    "y=combined_df['Score']"
   ]
  },
  {
   "cell_type": "code",
   "execution_count": 16,
   "id": "3fb27ba5-6e3c-4df6-a23b-ae962bee0ad4",
   "metadata": {},
   "outputs": [],
   "source": [
    "import statsmodels.api as sm\n",
    "\n",
    "\n",
    "model = sm.OLS(y, X).fit()\n",
    "results_summary = model.summary()"
   ]
  },
  {
   "cell_type": "code",
   "execution_count": 17,
   "id": "c95b9e41-90a0-4ee7-9b36-ca705eabd391",
   "metadata": {},
   "outputs": [
    {
     "data": {
      "text/html": [
       "<table class=\"simpletable\">\n",
       "<caption>OLS Regression Results</caption>\n",
       "<tr>\n",
       "  <th>Dep. Variable:</th>          <td>Score</td>      <th>  R-squared (uncentered):</th>      <td>   1.000</td> \n",
       "</tr>\n",
       "<tr>\n",
       "  <th>Model:</th>                   <td>OLS</td>       <th>  Adj. R-squared (uncentered):</th> <td>   1.000</td> \n",
       "</tr>\n",
       "<tr>\n",
       "  <th>Method:</th>             <td>Least Squares</td>  <th>  F-statistic:       </th>          <td>1.037e+05</td>\n",
       "</tr>\n",
       "<tr>\n",
       "  <th>Date:</th>             <td>Wed, 30 Oct 2024</td> <th>  Prob (F-statistic):</th>          <td>4.40e-53</td> \n",
       "</tr>\n",
       "<tr>\n",
       "  <th>Time:</th>                 <td>12:32:57</td>     <th>  Log-Likelihood:    </th>          <td> -42.246</td> \n",
       "</tr>\n",
       "<tr>\n",
       "  <th>No. Observations:</th>      <td>    30</td>      <th>  AIC:               </th>          <td>   86.49</td> \n",
       "</tr>\n",
       "<tr>\n",
       "  <th>Df Residuals:</th>          <td>    29</td>      <th>  BIC:               </th>          <td>   87.89</td> \n",
       "</tr>\n",
       "<tr>\n",
       "  <th>Df Model:</th>              <td>     1</td>      <th>                     </th>              <td> </td>    \n",
       "</tr>\n",
       "<tr>\n",
       "  <th>Covariance Type:</th>      <td>nonrobust</td>    <th>                     </th>              <td> </td>    \n",
       "</tr>\n",
       "</table>\n",
       "<table class=\"simpletable\">\n",
       "<tr>\n",
       "         <td></td>           <th>coef</th>     <th>std err</th>      <th>t</th>      <th>P>|t|</th>  <th>[0.025</th>    <th>0.975]</th>  \n",
       "</tr>\n",
       "<tr>\n",
       "  <th>Hours_of_Study</th> <td>   10.3278</td> <td>    0.032</td> <td>  321.961</td> <td> 0.000</td> <td>   10.262</td> <td>   10.393</td>\n",
       "</tr>\n",
       "</table>\n",
       "<table class=\"simpletable\">\n",
       "<tr>\n",
       "  <th>Omnibus:</th>       <td> 4.058</td> <th>  Durbin-Watson:     </th> <td>   1.460</td>\n",
       "</tr>\n",
       "<tr>\n",
       "  <th>Prob(Omnibus):</th> <td> 0.131</td> <th>  Jarque-Bera (JB):  </th> <td>   2.822</td>\n",
       "</tr>\n",
       "<tr>\n",
       "  <th>Skew:</th>          <td> 0.586</td> <th>  Prob(JB):          </th> <td>   0.244</td>\n",
       "</tr>\n",
       "<tr>\n",
       "  <th>Kurtosis:</th>      <td> 2.061</td> <th>  Cond. No.          </th> <td>    1.00</td>\n",
       "</tr>\n",
       "</table><br/><br/>Notes:<br/>[1] R² is computed without centering (uncentered) since the model does not contain a constant.<br/>[2] Standard Errors assume that the covariance matrix of the errors is correctly specified."
      ],
      "text/latex": [
       "\\begin{center}\n",
       "\\begin{tabular}{lclc}\n",
       "\\toprule\n",
       "\\textbf{Dep. Variable:}    &      Score       & \\textbf{  R-squared (uncentered):}      &     1.000   \\\\\n",
       "\\textbf{Model:}            &       OLS        & \\textbf{  Adj. R-squared (uncentered):} &     1.000   \\\\\n",
       "\\textbf{Method:}           &  Least Squares   & \\textbf{  F-statistic:       }          & 1.037e+05   \\\\\n",
       "\\textbf{Date:}             & Wed, 30 Oct 2024 & \\textbf{  Prob (F-statistic):}          &  4.40e-53   \\\\\n",
       "\\textbf{Time:}             &     12:32:57     & \\textbf{  Log-Likelihood:    }          &   -42.246   \\\\\n",
       "\\textbf{No. Observations:} &          30      & \\textbf{  AIC:               }          &     86.49   \\\\\n",
       "\\textbf{Df Residuals:}     &          29      & \\textbf{  BIC:               }          &     87.89   \\\\\n",
       "\\textbf{Df Model:}         &           1      & \\textbf{                     }          &             \\\\\n",
       "\\textbf{Covariance Type:}  &    nonrobust     & \\textbf{                     }          &             \\\\\n",
       "\\bottomrule\n",
       "\\end{tabular}\n",
       "\\begin{tabular}{lcccccc}\n",
       "                          & \\textbf{coef} & \\textbf{std err} & \\textbf{t} & \\textbf{P$> |$t$|$} & \\textbf{[0.025} & \\textbf{0.975]}  \\\\\n",
       "\\midrule\n",
       "\\textbf{Hours\\_of\\_Study} &      10.3278  &        0.032     &   321.961  &         0.000        &       10.262    &       10.393     \\\\\n",
       "\\bottomrule\n",
       "\\end{tabular}\n",
       "\\begin{tabular}{lclc}\n",
       "\\textbf{Omnibus:}       &  4.058 & \\textbf{  Durbin-Watson:     } &    1.460  \\\\\n",
       "\\textbf{Prob(Omnibus):} &  0.131 & \\textbf{  Jarque-Bera (JB):  } &    2.822  \\\\\n",
       "\\textbf{Skew:}          &  0.586 & \\textbf{  Prob(JB):          } &    0.244  \\\\\n",
       "\\textbf{Kurtosis:}      &  2.061 & \\textbf{  Cond. No.          } &     1.00  \\\\\n",
       "\\bottomrule\n",
       "\\end{tabular}\n",
       "%\\caption{OLS Regression Results}\n",
       "\\end{center}\n",
       "\n",
       "Notes: \\newline\n",
       " [1] R² is computed without centering (uncentered) since the model does not contain a constant. \\newline\n",
       " [2] Standard Errors assume that the covariance matrix of the errors is correctly specified."
      ],
      "text/plain": [
       "<class 'statsmodels.iolib.summary.Summary'>\n",
       "\"\"\"\n",
       "                                 OLS Regression Results                                \n",
       "=======================================================================================\n",
       "Dep. Variable:                  Score   R-squared (uncentered):                   1.000\n",
       "Model:                            OLS   Adj. R-squared (uncentered):              1.000\n",
       "Method:                 Least Squares   F-statistic:                          1.037e+05\n",
       "Date:                Wed, 30 Oct 2024   Prob (F-statistic):                    4.40e-53\n",
       "Time:                        12:32:57   Log-Likelihood:                         -42.246\n",
       "No. Observations:                  30   AIC:                                      86.49\n",
       "Df Residuals:                      29   BIC:                                      87.89\n",
       "Df Model:                           1                                                  \n",
       "Covariance Type:            nonrobust                                                  \n",
       "==================================================================================\n",
       "                     coef    std err          t      P>|t|      [0.025      0.975]\n",
       "----------------------------------------------------------------------------------\n",
       "Hours_of_Study    10.3278      0.032    321.961      0.000      10.262      10.393\n",
       "==============================================================================\n",
       "Omnibus:                        4.058   Durbin-Watson:                   1.460\n",
       "Prob(Omnibus):                  0.131   Jarque-Bera (JB):                2.822\n",
       "Skew:                           0.586   Prob(JB):                        0.244\n",
       "Kurtosis:                       2.061   Cond. No.                         1.00\n",
       "==============================================================================\n",
       "\n",
       "Notes:\n",
       "[1] R² is computed without centering (uncentered) since the model does not contain a constant.\n",
       "[2] Standard Errors assume that the covariance matrix of the errors is correctly specified.\n",
       "\"\"\""
      ]
     },
     "execution_count": 17,
     "metadata": {},
     "output_type": "execute_result"
    }
   ],
   "source": [
    "results_summary"
   ]
  },
  {
   "cell_type": "markdown",
   "id": "adf733e9-45d7-4d8e-9274-e1f289b83cb3",
   "metadata": {},
   "source": [
    "b\n",
    "Assumptions of Simple Linear Regression and How They Apply\n",
    "Linearity:\n",
    "\n",
    "The relationship between study hours and exam scores should be straight-line-like.\n",
    "With a perfect R² (1.000), the data shows a strong linear trend. Looks good!\n",
    "Independence of Errors:\n",
    "\n",
    "Residuals (differences between predicted and actual values) shouldn’t be connected.\n",
    "The Durbin-Watson score is 1.46, which is close to 2 (ideal). This means the residuals are fairly independent.\n",
    "Homoscedasticity (Constant Error Spread):\n",
    "\n",
    "The spread of the errors should be about the same across all predicted scores.\n",
    "The statistical tests (Omnibus and Jarque-Bera) don’t raise any red flags, but it’s good to plot residuals to confirm.\n",
    "Normality of Errors:\n",
    "\n",
    "The residuals should behave like a bell curve (normally distributed).\n",
    "Since the tests show no serious skew (p-values > 0.05), this assumption is also looking good."
   ]
  },
  {
   "cell_type": "markdown",
   "id": "cce801ab-7a95-469b-a0ce-93323dbc18c1",
   "metadata": {},
   "source": [
    "c\n",
    "Outliers can cause problems:\n",
    "\n",
    "Mess with the slope and intercept: They can pull the line toward themselves, making predictions less accurate.\n",
    "Reduce prediction quality: If the errors become too big, the model won’t work well.\n",
    "Cause instability: Some points can have too much power (high leverage) and impact the entire model."
   ]
  },
  {
   "cell_type": "markdown",
   "id": "68ced6a0-9a08-40a9-acc2-b11490433ef6",
   "metadata": {},
   "source": [
    "d\n",
    "\n",
    "1) Check for residuals\n",
    "2) Look for Influential Points\n",
    "3) Test for normality\n",
    "4) Try Cross-validation"
   ]
  }
 ],
 "metadata": {
  "kernelspec": {
   "display_name": "Python 3 (ipykernel)",
   "language": "python",
   "name": "python3"
  },
  "language_info": {
   "codemirror_mode": {
    "name": "ipython",
    "version": 3
   },
   "file_extension": ".py",
   "mimetype": "text/x-python",
   "name": "python",
   "nbconvert_exporter": "python",
   "pygments_lexer": "ipython3",
   "version": "3.11.7"
  }
 },
 "nbformat": 4,
 "nbformat_minor": 5
}
