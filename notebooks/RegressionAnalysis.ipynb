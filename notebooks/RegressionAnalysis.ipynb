{
 "cells": [
  {
   "cell_type": "markdown",
   "id": "8cc5c345-414a-4ce8-a2c3-6f45d644d8c9",
   "metadata": {},
   "source": [
    "# Regression Analysis\n",
    "\n",
    "A set of statistical processes for estimating the relationships between a dependent variable (often called the 'outcome' or 'response' variable, or a 'label' in machine learning parlance) and one or more independent variables (often called 'predictors', 'covariates', 'explanatory variables' or 'features').\n",
    "\n",
    "Linear regression is a common technique for regression analysis. It was used to predict the value of the dependent variable based on the value of independent variables. The dependent variable is the variable you want to estimate. The indipendent variables are used to predict the dependent variable.\n",
    "1. Simple Linear regression\n",
    "2. Multiple linear regression\n",
    "3. Logistic Regression\n",
    "4. Ridge Regression\n",
    "5. Lasso Regression\n",
    " \n",
    "    \n",
    "Nonlinear regression is used when the relationship between the dependent and independent variables cannot be adequately modeled by a linear equation. It allows for more complex functional forms, such as exponential, logarithmic, or sigmoidal curves.\n",
    "1. Polynomial Regression\n",
    "2. Gaussian Regression\n",
    "3. Logarithmic Regression\n",
    "4. Kernel Regression\n",
    "\n",
    "The linearity assumption can be explored using scatter plots. \n",
    "\n",
    "A heatmap can be a nice helper for correlation analysis.\n",
    "\n",
    "We will mainly cover the linear models. If you need more nonlinear topics, please reach out to Dr.Junyao Yang. "
   ]
  },
  {
   "cell_type": "markdown",
   "id": "2f5c88a0-5e81-4c27-98ef-230684b5158b",
   "metadata": {},
   "source": [
    "### Basic Assumptions\n",
    "\n",
    "**Linearity**: The relationship between the independent variables (predictors) and the dependent variable (response) is linear. This means that the change in the response variable is directly proportional to the change in the predictor variables.\n",
    "\n",
    "**Independence**: The observations are independent of each other. In other words, the value of one observation does not influence the value of another observation.\n",
    "\n",
    "**Homoscedasticity**: The variance of the residuals (the differences between the observed and predicted values) is constant across all levels of the predictors. This means that the spread of the residuals is consistent along the range of predictor variables.\n",
    "\n",
    "**Normality**: The residuals are normally distributed. This assumption ensures that the parameter estimates (coefficients) obtained from the regression analysis are unbiased and efficient. Typical checked after the regression analysis.\n",
    "\n",
    "**No multicollinearity**: There is no perfect multicollinearity among the independent variables. Multicollinearity occurs when two or more predictors are highly correlated, which can lead to unstable parameter estimates.\n",
    "\n",
    "**No influential outliers**: The presence of influential outliers (extreme values) in the data can disproportionately influence the parameter estimates and affect the overall fit of the model."
   ]
  },
  {
   "cell_type": "code",
   "execution_count": 1,
   "id": "5650bca6-20ca-4da7-904b-c0b45da6d394",
   "metadata": {},
   "outputs": [
    {
     "data": {
      "text/html": [
       "<div>\n",
       "<style scoped>\n",
       "    .dataframe tbody tr th:only-of-type {\n",
       "        vertical-align: middle;\n",
       "    }\n",
       "\n",
       "    .dataframe tbody tr th {\n",
       "        vertical-align: top;\n",
       "    }\n",
       "\n",
       "    .dataframe thead th {\n",
       "        text-align: right;\n",
       "    }\n",
       "</style>\n",
       "<table border=\"1\" class=\"dataframe\">\n",
       "  <thead>\n",
       "    <tr style=\"text-align: right;\">\n",
       "      <th></th>\n",
       "      <th>id</th>\n",
       "      <th>date</th>\n",
       "      <th>price</th>\n",
       "      <th>bedrooms</th>\n",
       "      <th>bathrooms</th>\n",
       "      <th>sqft_living</th>\n",
       "      <th>sqft_lot</th>\n",
       "      <th>floors</th>\n",
       "      <th>waterfront</th>\n",
       "      <th>view</th>\n",
       "      <th>...</th>\n",
       "      <th>grade</th>\n",
       "      <th>sqft_above</th>\n",
       "      <th>sqft_basement</th>\n",
       "      <th>yr_built</th>\n",
       "      <th>yr_renovated</th>\n",
       "      <th>zipcode</th>\n",
       "      <th>lat</th>\n",
       "      <th>long</th>\n",
       "      <th>sqft_living15</th>\n",
       "      <th>sqft_lot15</th>\n",
       "    </tr>\n",
       "  </thead>\n",
       "  <tbody>\n",
       "    <tr>\n",
       "      <th>0</th>\n",
       "      <td>7129300520</td>\n",
       "      <td>20141013T000000</td>\n",
       "      <td>221900.0</td>\n",
       "      <td>3</td>\n",
       "      <td>1.00</td>\n",
       "      <td>1180</td>\n",
       "      <td>5650</td>\n",
       "      <td>1.0</td>\n",
       "      <td>0</td>\n",
       "      <td>0</td>\n",
       "      <td>...</td>\n",
       "      <td>7</td>\n",
       "      <td>1180</td>\n",
       "      <td>0</td>\n",
       "      <td>1955</td>\n",
       "      <td>0</td>\n",
       "      <td>98178</td>\n",
       "      <td>47.5112</td>\n",
       "      <td>-122.257</td>\n",
       "      <td>1340</td>\n",
       "      <td>5650</td>\n",
       "    </tr>\n",
       "    <tr>\n",
       "      <th>1</th>\n",
       "      <td>6414100192</td>\n",
       "      <td>20141209T000000</td>\n",
       "      <td>538000.0</td>\n",
       "      <td>3</td>\n",
       "      <td>2.25</td>\n",
       "      <td>2570</td>\n",
       "      <td>7242</td>\n",
       "      <td>2.0</td>\n",
       "      <td>0</td>\n",
       "      <td>0</td>\n",
       "      <td>...</td>\n",
       "      <td>7</td>\n",
       "      <td>2170</td>\n",
       "      <td>400</td>\n",
       "      <td>1951</td>\n",
       "      <td>1991</td>\n",
       "      <td>98125</td>\n",
       "      <td>47.7210</td>\n",
       "      <td>-122.319</td>\n",
       "      <td>1690</td>\n",
       "      <td>7639</td>\n",
       "    </tr>\n",
       "    <tr>\n",
       "      <th>2</th>\n",
       "      <td>5631500400</td>\n",
       "      <td>20150225T000000</td>\n",
       "      <td>180000.0</td>\n",
       "      <td>2</td>\n",
       "      <td>1.00</td>\n",
       "      <td>770</td>\n",
       "      <td>10000</td>\n",
       "      <td>1.0</td>\n",
       "      <td>0</td>\n",
       "      <td>0</td>\n",
       "      <td>...</td>\n",
       "      <td>6</td>\n",
       "      <td>770</td>\n",
       "      <td>0</td>\n",
       "      <td>1933</td>\n",
       "      <td>0</td>\n",
       "      <td>98028</td>\n",
       "      <td>47.7379</td>\n",
       "      <td>-122.233</td>\n",
       "      <td>2720</td>\n",
       "      <td>8062</td>\n",
       "    </tr>\n",
       "    <tr>\n",
       "      <th>3</th>\n",
       "      <td>2487200875</td>\n",
       "      <td>20141209T000000</td>\n",
       "      <td>604000.0</td>\n",
       "      <td>4</td>\n",
       "      <td>3.00</td>\n",
       "      <td>1960</td>\n",
       "      <td>5000</td>\n",
       "      <td>1.0</td>\n",
       "      <td>0</td>\n",
       "      <td>0</td>\n",
       "      <td>...</td>\n",
       "      <td>7</td>\n",
       "      <td>1050</td>\n",
       "      <td>910</td>\n",
       "      <td>1965</td>\n",
       "      <td>0</td>\n",
       "      <td>98136</td>\n",
       "      <td>47.5208</td>\n",
       "      <td>-122.393</td>\n",
       "      <td>1360</td>\n",
       "      <td>5000</td>\n",
       "    </tr>\n",
       "    <tr>\n",
       "      <th>4</th>\n",
       "      <td>1954400510</td>\n",
       "      <td>20150218T000000</td>\n",
       "      <td>510000.0</td>\n",
       "      <td>3</td>\n",
       "      <td>2.00</td>\n",
       "      <td>1680</td>\n",
       "      <td>8080</td>\n",
       "      <td>1.0</td>\n",
       "      <td>0</td>\n",
       "      <td>0</td>\n",
       "      <td>...</td>\n",
       "      <td>8</td>\n",
       "      <td>1680</td>\n",
       "      <td>0</td>\n",
       "      <td>1987</td>\n",
       "      <td>0</td>\n",
       "      <td>98074</td>\n",
       "      <td>47.6168</td>\n",
       "      <td>-122.045</td>\n",
       "      <td>1800</td>\n",
       "      <td>7503</td>\n",
       "    </tr>\n",
       "  </tbody>\n",
       "</table>\n",
       "<p>5 rows × 21 columns</p>\n",
       "</div>"
      ],
      "text/plain": [
       "           id             date     price  bedrooms  bathrooms  sqft_living  \\\n",
       "0  7129300520  20141013T000000  221900.0         3       1.00         1180   \n",
       "1  6414100192  20141209T000000  538000.0         3       2.25         2570   \n",
       "2  5631500400  20150225T000000  180000.0         2       1.00          770   \n",
       "3  2487200875  20141209T000000  604000.0         4       3.00         1960   \n",
       "4  1954400510  20150218T000000  510000.0         3       2.00         1680   \n",
       "\n",
       "   sqft_lot  floors  waterfront  view  ...  grade  sqft_above  sqft_basement  \\\n",
       "0      5650     1.0           0     0  ...      7        1180              0   \n",
       "1      7242     2.0           0     0  ...      7        2170            400   \n",
       "2     10000     1.0           0     0  ...      6         770              0   \n",
       "3      5000     1.0           0     0  ...      7        1050            910   \n",
       "4      8080     1.0           0     0  ...      8        1680              0   \n",
       "\n",
       "   yr_built  yr_renovated  zipcode      lat     long  sqft_living15  \\\n",
       "0      1955             0    98178  47.5112 -122.257           1340   \n",
       "1      1951          1991    98125  47.7210 -122.319           1690   \n",
       "2      1933             0    98028  47.7379 -122.233           2720   \n",
       "3      1965             0    98136  47.5208 -122.393           1360   \n",
       "4      1987             0    98074  47.6168 -122.045           1800   \n",
       "\n",
       "   sqft_lot15  \n",
       "0        5650  \n",
       "1        7639  \n",
       "2        8062  \n",
       "3        5000  \n",
       "4        7503  \n",
       "\n",
       "[5 rows x 21 columns]"
      ]
     },
     "execution_count": 1,
     "metadata": {},
     "output_type": "execute_result"
    }
   ],
   "source": [
    "# Loading libraries and data\n",
    "import numpy as np\n",
    "import pandas as pd\n",
    "import matplotlib.pyplot as plt\n",
    "\n",
    "fname = \"../data/kc_house_data.csv\"\n",
    "df = pd.read_csv(fname)\n",
    "df.head()"
   ]
  },
  {
   "cell_type": "code",
   "execution_count": 2,
   "id": "fbb181a3-4552-4e7d-b884-1303994c75aa",
   "metadata": {},
   "outputs": [
    {
     "data": {
      "image/png": "[encoded data removed]",
      "text/plain": [
       "<Figure size 640x480 with 3 Axes>"
      ]
     },
     "metadata": {},
     "output_type": "display_data"
    }
   ],
   "source": [
    "# scatter plot for sqft_lot and price\n",
    "fig, ax = plt.subplots(1, 3)\n",
    "\n",
    "ax[0].scatter(df['sqft_lot'], df['price'])\n",
    "\n",
    "ax[1].scatter(df['sqft_above'], df['price'])\n",
    "ax[2].scatter(df['sqft_living'], df['price'])\n",
    "plt.show()"
   ]
  },
  {
   "cell_type": "markdown",
   "id": "f89e1830-7a4f-4436-b698-939dfef08e3a",
   "metadata": {},
   "source": [
    "As we talked before, it looks like that the sqft_above and sqft_living have some linear relation to price. <br>\n",
    "We can create a simple linear regression model for each of the variables. "
   ]
  },
  {
   "cell_type": "markdown",
   "id": "f00e50b7-800d-4fe1-bd68-3a469a4715c6",
   "metadata": {},
   "source": [
    "### Simple Linear Regression\n",
    "Model the relationship between one independent variable(feature) and a dependent variable (target). In simple linear regression, the relationship between the independent variable and the target variable is assumed to be linear.\n",
    "\n",
    "$y = \\beta_{0} + \\beta_{1}x$"
   ]
  },
  {
   "cell_type": "code",
   "execution_count": 5,
   "id": "e4b41d43-e922-45a6-b9eb-0b076549992e",
   "metadata": {},
   "outputs": [
    {
     "data": {
      "text/plain": [
       "(       sqft_above  sqft_living\n",
       " 16376        2600         2600\n",
       " 12864        1070         1070\n",
       " 17163         750          750\n",
       " 11228         720          720\n",
       " 8464         1010         1450\n",
       " ...           ...          ...\n",
       " 14875        2690         2690\n",
       " 2688         1730         2240\n",
       " 19040         720         1440\n",
       " 19962        1630         2170\n",
       " 7816         2290         2290\n",
       " \n",
       " [17290 rows x 2 columns],\n",
       "        sqft_above  sqft_living\n",
       " 12201        1480         1480\n",
       " 19557        1090         1640\n",
       " 7169          840          840\n",
       " 282          2630         3830\n",
       " 8227         3630         4330\n",
       " ...           ...          ...\n",
       " 6425         1230         2230\n",
       " 1319         1430         1620\n",
       " 15291        1510         2210\n",
       " 17509         780          780\n",
       " 11072        2360         2360\n",
       " \n",
       " [4323 rows x 2 columns],\n",
       " 16376    817000.0\n",
       " 12864    319950.0\n",
       " 17163    135000.0\n",
       " 11228    310000.0\n",
       " 8464     306000.0\n",
       "            ...   \n",
       " 14875    419000.0\n",
       " 2688     415000.0\n",
       " 19040    285000.0\n",
       " 19962    445000.0\n",
       " 7816     685900.0\n",
       " Name: price, Length: 17290, dtype: float64,\n",
       " 12201     355000.0\n",
       " 19557     556000.0\n",
       " 7169      180000.0\n",
       " 282      2050000.0\n",
       " 8227      722800.0\n",
       "            ...    \n",
       " 6425      375000.0\n",
       " 1319      600000.0\n",
       " 15291     635250.0\n",
       " 17509     380000.0\n",
       " 11072     290000.0\n",
       " Name: price, Length: 4323, dtype: float64)"
      ]
     },
     "execution_count": 5,
     "metadata": {},
     "output_type": "execute_result"
    }
   ],
   "source": [
    "### Normally, we will split the data to train set and test set. \n",
    "### We will use the train set to build the regression model.\n",
    "### And the test set is used to verify the model.\n",
    "\n",
    "# scikit-learn (formerly scikits.learn and also known as sklearn) is a free software machine learning library for the Python programming language.\n",
    "# It features various classification, regression and clustering algorithms including support-vector machines, \n",
    "# random forests, gradient boosting, k-means and DBSCAN, and is designed to interoperate with the Python numerical and scientific libraries NumPy and SciPy.\n",
    "\n",
    "from sklearn.model_selection import train_test_split\n",
    "X_train, X_test, y_train, y_test = train_test_split(df[['sqft_above', 'sqft_living']], df['price'], train_size = 0.8, random_state = 2024)\n",
    "X_train, X_test, y_train, y_test"
   ]
  },
  {
   "cell_type": "code",
   "execution_count": 3,
   "id": "2d6fd8db-7cc2-4f91-8053-c8ad74beba8c",
   "metadata": {},
   "outputs": [],
   "source": [
    "from sklearn.linear_model import LinearRegression\n",
    "model_above = LinearRegression()\n",
    "model_living = LinearRegression()"
   ]
  },
  {
   "cell_type": "code",
   "execution_count": 12,
   "id": "0f251057-3bd5-42df-82a9-b31c41e581a4",
   "metadata": {},
   "outputs": [
    {
     "data": {
      "text/plain": [
       "LinearRegression()"
      ]
     },
     "execution_count": 12,
     "metadata": {},
     "output_type": "execute_result"
    }
   ],
   "source": [
    "### reshape your data\n",
    "# print(np.array(X_train['sqft_above']).reshape(-1, 1))\n",
    "\n",
    "# train or fit model\n",
    "# model_above.fit(np.array(X_train['sqft_above']).reshape(-1, 1), y_train)\n",
    "# model_living.fit(np.array(X_train['sqft_living']).reshape(-1, 1), y_train)\n",
    "\n",
    "model_above.fit(X_train['sqft_above'].to_numpy().reshape(-1, 1), y_train)\n",
    "model_living.fit(X_train['sqft_living'].to_numpy().reshape(-1, 1), y_train)"
   ]
  },
  {
   "cell_type": "code",
   "execution_count": 13,
   "id": "ad60a44f-a245-4f2d-87cf-89e9b0026a74",
   "metadata": {},
   "outputs": [
    {
     "data": {
      "text/plain": [
       "(59703.71252844081,\n",
       " array([268.38202164]),\n",
       " -38208.55562535033,\n",
       " array([277.95190824]))"
      ]
     },
     "execution_count": 13,
     "metadata": {},
     "output_type": "execute_result"
    }
   ],
   "source": [
    "model_above.intercept_, model_above.coef_, model_living.intercept_, model_living.coef_"
   ]
  },
  {
   "cell_type": "markdown",
   "id": "d1c74652-396a-4c94-9eea-208cd633e27d",
   "metadata": {},
   "source": [
    "For the sqrt_above:<br>\n",
    "$ y = 59703.71252844081 + 268.38202164 * x $\n",
    "\n",
    "For the sqrt_living:<br>\n",
    "$y = -38208.55562535033 + 277.95190824 * x$"
   ]
  },
  {
   "cell_type": "code",
   "execution_count": 14,
   "id": "5b9b003b-deb7-4d16-a87d-59d2f6176970",
   "metadata": {},
   "outputs": [],
   "source": [
    "# Step 7 : predict model\n",
    "above_pred = model_above.predict(np.array(X_train['sqft_above']).reshape(-1, 1))\n",
    "living_pred = model_living.predict(np.array(X_train['sqft_living']).reshape(-1, 1))"
   ]
  },
  {
   "cell_type": "code",
   "execution_count": 15,
   "id": "87822c95-900c-41b7-960f-a40c4d693adb",
   "metadata": {},
   "outputs": [
    {
     "data": {
      "text/plain": [
       "(array([757496.96878057, 346872.47567835, 260990.22875502, ...,\n",
       "        252938.76810595, 497166.4077942 , 674298.54207358]),\n",
       " array([684466.40580257, 259199.98619306, 170255.37555578, ...,\n",
       "        362042.19224242, 564947.08525872, 598301.31424771]))"
      ]
     },
     "execution_count": 15,
     "metadata": {},
     "output_type": "execute_result"
    }
   ],
   "source": [
    "above_pred, living_pred"
   ]
  },
  {
   "cell_type": "code",
   "execution_count": 16,
   "id": "2696cc4f-1695-4f6e-9836-637a331c53ec",
   "metadata": {},
   "outputs": [
    {
     "name": "stdout",
     "output_type": "stream",
     "text": [
      "191438.28644011242 0.40207687851739204 83010030601.4373\n",
      "173769.8124531779 0.36019650622702987 67427467186.305145\n"
     ]
    }
   ],
   "source": [
    "from sklearn.metrics import mean_absolute_error, mean_absolute_percentage_error, mean_squared_error\n",
    "# above\n",
    "print(mean_absolute_error(y_train, above_pred), mean_absolute_percentage_error(y_train, above_pred), mean_squared_error(y_train, above_pred))\n",
    "# living\n",
    "print(mean_absolute_error(y_train, living_pred), mean_absolute_percentage_error(y_train, living_pred), mean_squared_error(y_train, living_pred))"
   ]
  },
  {
   "cell_type": "code",
   "execution_count": 28,
   "id": "2724e621-efbe-44e9-b884-5d4f833dc43e",
   "metadata": {},
   "outputs": [
    {
     "data": {
      "image/png": "[encoded data removed]",
      "text/plain": [
       "<Figure size 800x400 with 2 Axes>"
      ]
     },
     "metadata": {},
     "output_type": "display_data"
    }
   ],
   "source": [
    "# plot the regression model in the decision space.\n",
    "\n",
    "# scatter plot for sqft_lot and price\n",
    "fig, ax = plt.subplots(1, 2, figsize=(8, 4))\n",
    "\n",
    "# Plot for sqft_above\n",
    "ax[0].scatter(X_train['sqft_above'], y_train, color='orange')\n",
    "ax[0].plot(X_train['sqft_above'], above_pred, color='k')\n",
    "ax[0].set_title('sqft_above vs. Price')\n",
    "ax[0].set_xlabel('sqft_above')\n",
    "ax[0].set_ylabel('Price')\n",
    "\n",
    "# Plot for sqft_living\n",
    "ax[1].scatter(X_train['sqft_living'], y_train, color='orange')\n",
    "ax[1].plot(X_train['sqft_living'], living_pred, color='k')\n",
    "ax[1].set_title('sqft_living vs. Price')\n",
    "ax[1].set_xlabel('sqft_living')\n",
    "ax[1].set_ylabel('Price')\n",
    "\n",
    "plt.tight_layout()\n",
    "plt.show()"
   ]
  },
  {
   "cell_type": "code",
   "execution_count": 30,
   "id": "b0f77369-5a70-4da5-ae4c-8d0e91819527",
   "metadata": {},
   "outputs": [
    {
     "name": "stdout",
     "output_type": "stream",
     "text": [
      "195931.62775711145 0.3582507377737192 102266026706.97418\n",
      "171688.24844675415 0.35587611080168413 72510369727.0627\n"
     ]
    }
   ],
   "source": [
    "### check the test set\n",
    "above_test_pred = model_living.predict(np.array(X_test['sqft_above']).reshape(-1, 1))\n",
    "living_test_pred = model_living.predict(np.array(X_test['sqft_living']).reshape(-1, 1))\n",
    "\n",
    "print(mean_absolute_error(y_test, above_test_pred), mean_absolute_percentage_error(y_test, above_test_pred), mean_squared_error(y_test, above_test_pred))\n",
    "# living\n",
    "print(mean_absolute_error(y_test, living_test_pred), mean_absolute_percentage_error(y_test, living_test_pred), mean_squared_error(y_test, living_test_pred))"
   ]
  },
  {
   "cell_type": "markdown",
   "id": "d01fadc8-e9d0-40b4-8990-e5087b4bdd2c",
   "metadata": {},
   "source": [
    "### Let's check the Normality after building the regression model.\n",
    "\n",
    "In linear regression, one of the assumptions is that the residuals (the differences between the observed and predicted values) are normally distributed. If this assumption is violated, it can affect the validity of the statistical inference and predictions made by the model."
   ]
  },
  {
   "cell_type": "code",
   "execution_count": 17,
   "id": "79b52f56-9d09-482a-956e-bdfcd9e0c894",
   "metadata": {},
   "outputs": [
    {
     "name": "stdout",
     "output_type": "stream",
     "text": [
      "Shapiro-Wilk Test:\n",
      "Test Statistic: 0.7548332810401917\n",
      "p-value: 0.0\n",
      "Sample does not look Gaussian (reject H0)\n"
     ]
    }
   ],
   "source": [
    "### if your sample size is less than 5000\n",
    "from scipy import stats\n",
    "\n",
    "# Calculate the residule\n",
    "test_residule = y_test - model_living.predict(np.array(X_test['sqft_above']).reshape(-1, 1))\n",
    "# train_residule = y_train - model_living.predict(np.array(X_traint['sqft_above']).reshape(-1, 1))\n",
    "#residule = y_test - model_living.predict(np.array(X_train['sqft_living']).reshape(-1, 1))\n",
    "                             \n",
    "\n",
    "# Perform Shapiro-Wilk test\n",
    "stat, p = stats.shapiro(test_residule)\n",
    "\n",
    "# Print the results\n",
    "print(\"Shapiro-Wilk Test:\")\n",
    "print(\"Test Statistic:\", stat)\n",
    "print(\"p-value:\", p)\n",
    "\n",
    "# Interpret the results\n",
    "alpha = 0.05\n",
    "if p > alpha:\n",
    "    print(\"Sample looks Gaussian (fail to reject H0)\")\n",
    "else:\n",
    "    print(\"Sample does not look Gaussian (reject H0)\")"
   ]
  },
  {
   "cell_type": "markdown",
   "id": "478543b2-e0c3-470f-85ab-08f7c15a567a",
   "metadata": {},
   "source": [
    "**Impact on Inference:** If the residuals are not normally distributed, it can affect the estimates of the regression coefficients, standard errors, and confidence intervals. This can lead to biased or unreliable results.\n",
    "\n",
    "**Model Fit:** Checking the normality of residuals also helps to assess the overall fit of the regression model. A departure from normality may indicate that the model is not capturing some underlying patterns in the data."
   ]
  },
  {
   "cell_type": "markdown",
   "id": "330a3130-f2b9-4192-9b8a-030ef79bd8fb",
   "metadata": {},
   "source": [
    "### Multiple Linear Regression\n",
    "\n",
    "$y = \\beta_{0} + \\beta_{1}x_1 + \\beta_{2}x_2 + \\beta_{3}x_3 + ... + \\beta_{n}x_n$\n",
    "\n",
    "Model the relationship between two or more independent variables (features) and a dependent variable (target). It extends the concept of simple linear regression, where only one independent variable is used to predict the target variable. In multiple linear regression, the relationship between the independent variables and the target variable is assumed to be linear."
   ]
  },
  {
   "cell_type": "code",
   "execution_count": 16,
   "id": "3c52cdd5-3abd-493b-8df9-298d77e5f133",
   "metadata": {},
   "outputs": [],
   "source": [
    "# convert to numpy array\n",
    "Xtrain = X_train.to_numpy()\n",
    "Xtest = X_test.to_numpy()\n",
    "Ytrain = y_train.to_numpy()\n",
    "Ytest = y_test.to_numpy()"
   ]
  },
  {
   "cell_type": "code",
   "execution_count": 18,
   "id": "ffaad3c5-e584-4fa7-8f46-ef21ac430ee7",
   "metadata": {},
   "outputs": [
    {
     "name": "stdout",
     "output_type": "stream",
     "text": [
      "Intercept: -37159.207848828984\n",
      "Coefficients: [ -7.41219241 283.82493301]\n",
      "Predictions: [371931.64823098 420234.39255189 195027.49425052 ... 578901.48355232\n",
      " 178442.72981485 615174.8599541 ]\n"
     ]
    },
    {
     "name": "stderr",
     "output_type": "stream",
     "text": [
      "C:\\Users\\YJY\\anaconda3\\lib\\site-packages\\sklearn\\base.py:450: UserWarning: X does not have valid feature names, but LinearRegression was fitted with feature names\n",
      "  warnings.warn(\n"
     ]
    }
   ],
   "source": [
    "# Create a linear regression model\n",
    "multimodel = LinearRegression()\n",
    "\n",
    "# Fit the model to the data\n",
    "multimodel.fit(X_train, y_train)\n",
    "\n",
    "# Print the coefficients\n",
    "print(\"Intercept:\", multimodel.intercept_)\n",
    "print(\"Coefficients:\", multimodel.coef_)\n",
    "\n",
    "# Predict the target variable\n",
    "y_pred = multimodel.predict(Xtest)\n",
    "print(\"Predictions:\", y_pred)"
   ]
  },
  {
   "cell_type": "markdown",
   "id": "24661e18-67bb-406f-a641-9a3575d96c86",
   "metadata": {},
   "source": [
    "$y = 37159.207848828984 -7.41219241 * x_{1} + 283.82493301 * x_{2}$"
   ]
  },
  {
   "cell_type": "code",
   "execution_count": null,
   "id": "5dc5ec58-8c1c-46e4-a369-4c13f33e2355",
   "metadata": {},
   "outputs": [],
   "source": []
  },
  {
   "cell_type": "code",
   "execution_count": null,
   "id": "1fe46798-a280-4c5b-902c-98d2a1d2a414",
   "metadata": {},
   "outputs": [],
   "source": []
  },
  {
   "cell_type": "code",
   "execution_count": null,
   "id": "8601fcfc-1207-4d25-86e2-7f1d154d2b86",
   "metadata": {},
   "outputs": [],
   "source": []
  }
 ],
 "metadata": {
  "kernelspec": {
   "display_name": "Python 3 (ipykernel)",
   "language": "python",
   "name": "python3"
  },
  "language_info": {
   "codemirror_mode": {
    "name": "ipython",
    "version": 3
   },
   "file_extension": ".py",
   "mimetype": "text/x-python",
   "name": "python",
   "nbconvert_exporter": "python",
   "pygments_lexer": "ipython3",
   "version": "3.9.13"
  }
 },
 "nbformat": 4,
 "nbformat_minor": 5
}
