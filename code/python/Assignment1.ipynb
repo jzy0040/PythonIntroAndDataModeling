{
 "cells": [
  {
   "cell_type": "code",
   "execution_count": 1,
   "id": "d47add5d",
   "metadata": {},
   "outputs": [
    {
     "name": "stdout",
     "output_type": "stream",
     "text": [
      "hello data analytics\n"
     ]
    }
   ],
   "source": [
    "print('hello data analytics')"
   ]
  },
  {
   "cell_type": "code",
   "execution_count": null,
   "id": "071d5f4c",
   "metadata": {},
   "outputs": [],
   "source": []
  }
 ],
 "metadata": {
  "kernelspec": {
   "display_name": "Python 3",
   "language": "python",
   "name": "python3"
  },
  "language_info": {
   "codemirror_mode": {
    "name": "ipython",
    "version": 3
   },
   "file_extension": ".py",
   "mimetype": "text/x-python",
   "name": "python",
   "nbconvert_exporter": "python",
   "pygments_lexer": "ipython3",
   "version": "3.8.8"
  }
 },
 "nbformat": 4,
 "nbformat_minor": 5
}
