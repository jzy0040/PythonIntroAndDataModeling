{
 "cells": [
  {
   "cell_type": "code",
   "execution_count": 24,
   "id": "1673c973-79ad-45bd-a092-d0881f33a8d8",
   "metadata": {},
   "outputs": [],
   "source": [
    "# All necessary libraries are imported here.\n",
    "# Please don't edit anything in this cell.\n",
    "\n",
    "%matplotlib inline\n",
    "import numpy as np\n",
    "import pandas as pd\n",
    "import yfinance as yf\n",
    "import matplotlib.pyplot as plt\n",
    "import pulp\n",
    "\n",
    "from sklearn.linear_model import LinearRegression\n",
    "from sklearn.model_selection import train_test_split"
   ]
  },
  {
   "cell_type": "markdown",
   "id": "0368d8d2-e50f-4f39-9786-1dd7487bb748",
   "metadata": {},
   "source": [
    "# Problem 1 Tests of Significance:\n",
    "\n",
    "### We are interested in whether the COVID19 pandemic has a significant impact on Apple stock return in 2020.\n",
    "### Based on the historical data, the average daily return for Apple is 0.25% percent, with standard deviation 0.0165.\n",
    "1. Please conduct a Test of Significance model in Python to see whether the COVID19 pandemic has a significant impact on Apple stock return in 2020.\n",
    "2. Please clearly state your Null and Alternative hypothesis in the next cell. \n",
    "3. Please use Python to code this problem in the further cell below. "
   ]
  },
  {
   "cell_type": "code",
   "execution_count": 13,
   "id": "eb2455be-5cfc-4a27-b8c1-d50f3283ffaf",
   "metadata": {},
   "outputs": [],
   "source": [
    "### Your Null and Alternative hypothesis here\n",
    "\n"
   ]
  },
  {
   "cell_type": "code",
   "execution_count": 6,
   "id": "de784872-c938-4c2f-98e4-cb49a4790722",
   "metadata": {},
   "outputs": [
    {
     "name": "stdout",
     "output_type": "stream",
     "text": [
      "[*********************100%***********************]  1 of 1 completed\n",
      "[*********************100%***********************]  1 of 1 completed\n"
     ]
    }
   ],
   "source": [
    "# Do not edit this cell\n",
    "\n",
    "# Please execute this cell to download data\n",
    "tickers = 'AAPL'\n",
    "# Download Apple daily close price after pandemic in 2020\n",
    "closeAfter = yf.download(tickers, start = \"2020-01-01\", end = \"2020-12-31\")['Close']"
   ]
  },
  {
   "cell_type": "markdown",
   "id": "41a53a10-cb78-42ad-9e94-5a75f7fa1539",
   "metadata": {},
   "source": [
    "### Add your Tests of Significance Python code for Problem 1 in the next cell."
   ]
  },
  {
   "cell_type": "code",
   "execution_count": 11,
   "id": "fb43b2de-f044-435b-bb1a-76dbcea5a0c4",
   "metadata": {},
   "outputs": [],
   "source": [
    "### Your code here\n",
    "\n"
   ]
  },
  {
   "cell_type": "markdown",
   "id": "47a15394-8911-4b34-a4c3-b720ac93f089",
   "metadata": {},
   "source": [
    "\n",
    "\n",
    "\n"
   ]
  },
  {
   "cell_type": "markdown",
   "id": "8e44ba4e-dac7-45f6-9ab6-13f3afeb1bf9",
   "metadata": {},
   "source": [
    "# Problem 2 Regression: \n",
    "\n",
    "### You have some random data generated using the code below for a linear regression analysis. \n",
    "1. Please fit a linear regression model to predict for those x_test.\n",
    "2. Please clearly state your model parameters after fitting your regression model, including coefficient, intercept.\n",
    "3. Can you evaluate your model using mean_absolute_error, mean_absolute_percentage_error, and mean_squared_error?\n",
    "4. Can you also create a visualization for your regression model? Add a line to the regresession below will be good. "
   ]
  },
  {
   "cell_type": "code",
   "execution_count": 30,
   "id": "699af83d-d065-4b97-9ee2-a6ba0ffd279c",
   "metadata": {},
   "outputs": [
    {
     "data": {
      "image/png": "[encoded data removed]",
      "text/plain": [
       "<Figure size 800x600 with 1 Axes>"
      ]
     },
     "metadata": {},
     "output_type": "display_data"
    }
   ],
   "source": [
    "# Do not edit this cell\n",
    "\n",
    "# Generate random data\n",
    "X = 2 * np.random.rand(50, 1)\n",
    "y = 3 + 4 * X + np.random.randn(50, 1)\n",
    "\n",
    "X_train, X_test, y_train, y_test = train_test_split(X, y, train_size = 0.8)\n",
    "\n",
    "# Plot the data and the best-fit line\n",
    "plt.figure(figsize=(8, 6))\n",
    "plt.scatter(X_train, y_train, color='blue', label='Train Data points')\n",
    "plt.scatter(X_test, y_test, color='green', label='Test Data points')\n",
    "plt.xlabel('X')\n",
    "plt.ylabel('y')\n",
    "plt.title('Linear Regression Example')\n",
    "plt.legend()\n",
    "plt.show()"
   ]
  },
  {
   "cell_type": "code",
   "execution_count": 31,
   "id": "8d62ad47-b2a0-4831-b831-27a687a9fb7c",
   "metadata": {},
   "outputs": [],
   "source": [
    "# Your regression Python code here. "
   ]
  },
  {
   "cell_type": "markdown",
   "id": "d0701895-f4b7-40c1-8329-3bfd8d70d55c",
   "metadata": {},
   "source": [
    "# Problem 3 Linear Optimization:\n"
   ]
  },
  {
   "cell_type": "code",
   "execution_count": 4,
   "id": "c60d9aaa-22c8-4e13-b53b-4172af4da58c",
   "metadata": {},
   "outputs": [],
   "source": [
    "\n"
   ]
  },
  {
   "cell_type": "markdown",
   "id": "02f3c7d7-0340-4157-934d-edfc15e245cb",
   "metadata": {},
   "source": [
    "# Problem 4 Non-linear Optimization: \n"
   ]
  },
  {
   "cell_type": "markdown",
   "id": "401a81f1-b7ef-44cf-a3b4-6dd209699b0f",
   "metadata": {},
   "source": []
  },
  {
   "cell_type": "markdown",
   "id": "68bbb41d-60ff-489c-a325-7ac75e07e279",
   "metadata": {},
   "source": []
  },
  {
   "cell_type": "code",
   "execution_count": null,
   "id": "b26f3e48-cde8-41eb-8073-c91b862f2307",
   "metadata": {},
   "outputs": [],
   "source": []
  },
  {
   "cell_type": "code",
   "execution_count": null,
   "id": "4fabcf29-0a94-43e6-928b-350ecb2c06d0",
   "metadata": {},
   "outputs": [],
   "source": []
  },
  {
   "cell_type": "code",
   "execution_count": null,
   "id": "b9b59b80-5201-44e8-82dc-37009677115a",
   "metadata": {},
   "outputs": [],
   "source": []
  }
 ],
 "metadata": {
  "kernelspec": {
   "display_name": "Python 3 (ipykernel)",
   "language": "python",
   "name": "python3"
  },
  "language_info": {
   "codemirror_mode": {
    "name": "ipython",
    "version": 3
   },
   "file_extension": ".py",
   "mimetype": "text/x-python",
   "name": "python",
   "nbconvert_exporter": "python",
   "pygments_lexer": "ipython3",
   "version": "3.9.13"
  }
 },
 "nbformat": 4,
 "nbformat_minor": 5
}
