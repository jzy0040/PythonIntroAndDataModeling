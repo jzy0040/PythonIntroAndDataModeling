{
 "cells": [
  {
   "cell_type": "markdown",
   "metadata": {},
   "source": [
    "# Monte Carlo Simulation \n",
    "\n",
    "The Monte Carlo simulation is a mathematical technique that simulate all possible outcomes of an uncertain event. Computer programs use this method to analyze past data and predict a range of future outcomes based on a choice of action. For example, if you want to estimate the first month’s sales of a new product, you can give the Monte Carlo simulation program your historical sales data. The program will estimate different sales values based on factors such as general market conditions, product price, and advertising budget.\n",
    "\n",
    "### What are the components of a Monte Carlo simulation?\n",
    "\n",
    "A Monte Carlo analysis consists of input variables, output variables, and a mathematical model. The computer system feeds independent variables into a mathematical model, simulates them, and produces dependent variables. \n",
    "\n",
    "<span style='color:blue'>Input variables:</span> Input variables are random values that affect the outcome of the Monte Carlo simulation. For example, manufacturing quality and temperature are input variables that influence a smartphone's durability. You can express input variables as a range of random value samples so Monte Carlo methods can simulate the results with random input values. \n",
    "\n",
    "<span style='color:blue'>Output variables:</span> The output variable is the result of the Monte Carlo analysis. For example, an electronic device’s life expectancy is an output variable, with its value being a time such as 6 months or 2 years. The Monte Carlo simulation software shows the output variable in a histogram or graph that distributes the result in a continuous range on the horizontal axis.\n",
    "\n",
    "<span style='color:blue'>Mathematical model:</span> A mathematical model is an equation that describes the relationship between output and input variables in mathematical form. For example, the mathematical model for profitability is Profit = Revenue − Expenses.\n",
    "\n",
    "The Monte Carlo software replaces revenue and expenses with probable values based on the probability distribution type. Then it repeats the simulation to get a highly accurate result. The Monte Carlo simulation can be time consuming with replications depending on the complexity of the mathematical model and number of the random variables. "
   ]
  },
  {
   "cell_type": "markdown",
   "metadata": {},
   "source": [
    "### What are probability distributions in the Monte Carlo simulation(Background Knowledge)?\n",
    "\n",
    "Probability distributions are statistical functions that represent a range of values distributed between limits. Statistics experts use probability distributions to predict the possible occurrence of an uncertain variable, which might consist of discrete or continuous values. The following are common types of probability distributions that a Monte Carlo simulation can model.\n",
    "\n",
    "1. **Normal distribution**, also known as the bell curve, is symmetrically shaped like a bell and represents most real-life events. The possibility of a random value at the median is high, and the probability significantly decreases toward both ends of the bell curve. For example, a repeated random sampling of the weight of students in a particular classroom gives you a normal distribution chart.\n",
    "\n",
    "<div style=\"text-align: center;\">\n",
    "    <img src=\"NormalDistribution.png\" alt=\"Alt Text\" width=\"40%\">\n",
    "</div>\n",
    "\n",
    "2. **Uniform distribution** refers to a statistical representation of random variables with equal chance. When plotted on a chart, the uniformly distributed variables appear as a horizontal flat line across the valid range. For example, the uniform distribution represents the likelihood of rolling and landing on each side of a die.\n",
    "\n",
    "<div style=\"text-align: center;\">\n",
    "    <img src=\"UniformDistribution.png\" alt=\"Alt Text\" width=\"40%\">\n",
    "</div>\n",
    "\n",
    "3. **Triangular distribution** uses minimum, maximum, and most-likely values to represent random variables. Its probability peaks at the most-likely value. For example, companies use triangular distribution to predict upcoming sales volumes by establishing the triangle's minimum, maximum, and peak value.\n",
    "\n",
    "<div style=\"text-align: center;\">\n",
    "    <img src=\"TriangularDistribution.png\" alt=\"Alt Text\" width=\"40%\">\n",
    "</div>\n",
    "\n",
    "5. Other distribution including Exponential Distribution, Possion distribution, "
   ]
  },
  {
   "cell_type": "markdown",
   "metadata": {},
   "source": [
    "### What are the challenges of the Monte Carlo simulation?\n",
    "These are three common challenges when using Monte Carlo simulations: \n",
    "\n",
    "1. The Monte Carlo simulation is highly dependent on the input values and distribution. If mistakes are made when electing the input and probability distribution, it can lead to inaccurate results. \n",
    "\n",
    "2. The Monte Carlo simulation assumes that all random variables are independent and identically distributed (i.i.d.). However, in reality, this assumption is usually implausible. If there exist dependency in the random variables, the simulation results can be inaccurate due the the bias that were introduced by the dependency.\n",
    "\n",
    "3. The Monte Carlo simulation usually requires extensive computational power for the simulation process. The running time can be extremely time consuming depending on the mathematical complexity and number of random variables."
   ]
  },
  {
   "cell_type": "markdown",
   "metadata": {},
   "source": [
    "### A Classic Example of Monte Carlo Simulation--Estimating the value of Pi\n",
    "\n",
    "The idea of estimating the value of pi using MC is to sampling random (x, y) points in a 2-D plane within a square domain. Then, imagine a circle that is inside the square and is tangent to all four sides of the square. We then calculate the ratio of number points that lied inside the circle and total number of generated points. The ratio should equal to the area ratio between the square and the inscribed circle. Refer to the image below:\n",
    "\n",
    "<div style=\"text-align: center;\">\n",
    "    <img src=\"MonteCarlo.png\" alt=\"Alt Text\">\n",
    "</div>"
   ]
  },
  {
   "cell_type": "markdown",
   "metadata": {},
   "source": [
    "### $$Area of a Circle = pi * R^{2}$$\n",
    "### $$(2*R)^{2}$$\n",
    "### $$p = num of dots in the circle/ total number $$\n",
    "### $$ p = pi * R^{2}/(2R)^{2}$$"
   ]
  },
  {
   "cell_type": "code",
   "execution_count": 8,
   "metadata": {},
   "outputs": [
    {
     "data": {
      "text/plain": [
       "3.1430667857666963"
      ]
     },
     "execution_count": 8,
     "metadata": {},
     "output_type": "execute_result"
    }
   ],
   "source": [
    "import numpy as np\n",
    "\n",
    "def estimate_pi(num_iter):\n",
    "\n",
    "    count = 0 # count how many points fall into the circle. \n",
    "    for i in range(num_iter):\n",
    "        rand_x = np.random.uniform(0, 1) # point on the x coordinate\n",
    "        rand_y = np.random.uniform(0, 1) # point on the y coordinate\n",
    "        if (rand_x - 0.5)**2 + (rand_y - 0.5)**2 < 0.25: # calculate the distance and compare to R square\n",
    "            count = count + 1\n",
    "    return 4 * count / num_iter # calculating pi\n",
    "\n",
    "pi = estimate_pi(3999999)\n",
    "pi"
   ]
  },
  {
   "cell_type": "markdown",
   "metadata": {},
   "source": [
    "### Conclusion\n",
    "true pi = 3.1415926 <br>\n",
    "3.1421791421791423 999999 iter<br>\n",
    "3.1421835710917856 1999999 iter<br>\n",
    "3.1431157143719046 2999999 iter<br>\n",
    "3.1411807852951963 3999999 iter<br>\n",
    "3.1430667857666963 3999999 iter<br>\n",
    "closer to value of pi if you run this much times, 9999999999999999999999<br>\n",
    "\n",
    "In theory, if you can do infinite many times for the sampling, you can get the exact value for your estimation. \n",
    "Also, the estimation with a specific number of iteration will be not exact.\n",
    "The idea of MCS is to sacrifice the accuracy but get a good estimation. "
   ]
  },
  {
   "cell_type": "markdown",
   "metadata": {},
   "source": [
    "# Monte Carlo Simulation Example with NumPy\n",
    "Based on a problem defined by Anthony Sun (http://www.geocities.com/WallStreet/9245/vba12.htm used originally with permission.  The link is no longer live, but I include it for completeness.\n",
    "\n",
    "A firm is considering producing and selling a new product under a pure/perfect competition market and the firm wants to know the probability distribution for the profit associated with this product.  The total profit is given by the equation:\n",
    "\n",
    "$TP=(Q \\times P)-(Q \\times V+F)$\n",
    "\n",
    "where $TP$ is the total profit, $Q$ is the quantity sold, $P$ is the selling price, $V$ is the variable cost, and $F$ is the fixed cost.  Since the firm is *predicting* what will happen if they produce the product, some of the profit components are uncertain.  In particular, $Q$, $P$, and $V$ are estimated to be *random variables* with the following distributions:\n",
    "\n",
    "  * $Q$: uniform(8000, 12000)\n",
    "  * $P$: normal(10, 3)\n",
    "  * $V$: normal(7, 2)\n",
    "\n",
    "$F$ is fixed at 5000.\n",
    "\n",
    "The goal is to use Monte Carlo simulation to estimate various descriptive statistics about the total profit associated with the product (if the project were undertaken) and to ultimately proivde information to aid a decision-maker in deciding whether or not to pursue the project."
   ]
  },
  {
   "cell_type": "markdown",
   "metadata": {},
   "source": [
    "## Some Initial Setup"
   ]
  },
  {
   "cell_type": "code",
   "execution_count": 12,
   "metadata": {},
   "outputs": [],
   "source": [
    "%matplotlib inline\n",
    "import random\n",
    "import matplotlib.pyplot as plt\n",
    "\n",
    "#\n",
    "# Define a function to plot a histogram of the observations\n",
    "#\n",
    "def hplot(tps, NumBins = 20) :\n",
    "    # create histogram\n",
    "    plt.hist(tps, bins=NumBins)\n",
    "    # yellow line at the sample mean\n",
    "    plt.axvline(AvgTP, color='y', linestyle='solid', linewidth=4)\n",
    "    # red line at 0\n",
    "    plt.axvline(0, color='r', linestyle='solid', linewidth=2)\n",
    "    plt.show()"
   ]
  },
  {
   "cell_type": "markdown",
   "metadata": {},
   "source": [
    "## Standard Loop-based Version"
   ]
  },
  {
   "cell_type": "code",
   "execution_count": 13,
   "metadata": {},
   "outputs": [],
   "source": [
    "import random\n",
    "#\n",
    "# Define a function to sample an observation (one replication)\n",
    "#\n",
    "def sample() :\n",
    "    q = random.uniform(8000, 12000)\n",
    "    v = random.normalvariate(7, 2)\n",
    "    p = random.normalvariate(10, 3)\n",
    "    return (q * (p - v) - 5000)\n",
    "\n",
    "Replications = 500000\n",
    "tps = [] # list to hold simulation scenarios\n",
    "\n",
    "# Loop\n",
    "for i in range(Replications) :\n",
    "    # sample the value\n",
    "    tp = sample()\n",
    "    # Accumulate for the average\n",
    "    tps.append(tp);\n",
    "# compute average\n",
    "AvgTP = float(sum(tps))/Replications"
   ]
  },
  {
   "cell_type": "code",
   "execution_count": 14,
   "metadata": {},
   "outputs": [
    {
     "name": "stdout",
     "output_type": "stream",
     "text": [
      "\n",
      "Based on 500,000 replications:\n",
      "\tAverage : 24,991.16\n",
      "\tRange   : (-145,137.38, 210,094.42)\n",
      "\tpr(<0)  : 0.2449\n"
     ]
    },
    {
     "data": {
      "image/png": "[encoded data removed]",
      "text/plain": [
       "<Figure size 640x480 with 1 Axes>"
      ]
     },
     "metadata": {},
     "output_type": "display_data"
    }
   ],
   "source": [
    "# show solution\n",
    "print (\"\\nBased on {:,d} replications:\".format(Replications))\n",
    "print (\"\\tAverage : {:,.2f}\".format(AvgTP))\n",
    "print (\"\\tRange   : ({:,.2f}, {:,.2f})\".format(min(tps), max(tps)))\n",
    "print (\"\\tpr(<0)  : {:.4f}\".format(float(len([v for v in tps if v < 0]))/Replications))\n",
    "hplot(tps)"
   ]
  },
  {
   "cell_type": "markdown",
   "metadata": {},
   "source": [
    "## Simple Vector Version Using NumPy"
   ]
  },
  {
   "cell_type": "code",
   "execution_count": 15,
   "metadata": {},
   "outputs": [],
   "source": [
    "# Simple vector version using NumPy\n",
    "# Specify the number of observations/replications to perform\n",
    "obs = 500000\n",
    "# generate the input vectors\n",
    "price = np.random.normal(10, 3, obs)\n",
    "marginal = np.random.normal(7, 2, obs)\n",
    "demand = np.random.uniform(8000, 12000, obs)\n",
    "# compute the expected profit for each replication (using vector operations)\n",
    "tp = demand * (price - marginal) - 5000\n",
    "# compute average\n",
    "AvgTP = float(sum(tp)) / obs"
   ]
  },
  {
   "cell_type": "code",
   "execution_count": 7,
   "metadata": {},
   "outputs": [
    {
     "name": "stdout",
     "output_type": "stream",
     "text": [
      "          Expected profit: $ 24,950.98\n",
      "                Std. Dev.: $ 36,435.01\n",
      "          25th Percentile: $    503.55\n",
      "          75th Percentile: $ 48,952.84\n",
      "     Prob. of losing money: 0.246\n",
      "Prob. of making > $100,000: 0.022\n"
     ]
    },
    {
     "data": {
      "image/png": "[encoded data removed]",
      "text/plain": [
       "<Figure size 640x480 with 1 Axes>"
      ]
     },
     "metadata": {},
     "output_type": "display_data"
    }
   ],
   "source": [
    "# basic display of results\n",
    "# Descriptive Statistics\n",
    "print(\"          Expected profit: ${:10,.2f}\".format(tp.mean()))\n",
    "print(\"                Std. Dev.: ${:10,.2f}\".format(tp.std()))\n",
    "print(\"          25th Percentile: ${:10,.2f}\".format(np.percentile(tp, 25)))\n",
    "print(\"          75th Percentile: ${:10,.2f}\".format(np.percentile(tp, 75)))\n",
    "print(\"     Prob. of losing money: {:.3f}\".format(np.sum(tp < 0)/obs))\n",
    "print(\"Prob. of making > $100,000: {:.3f}\".format(np.sum(tp > 100000)/obs))\n",
    "# histogram\n",
    "hplot(tp)"
   ]
  },
  {
   "cell_type": "markdown",
   "metadata": {},
   "source": [
    "## Aggregate the Individual Arrays into a Single Experiment\n",
    "\n",
    "This will give you a single matrix with rows representing replications and columns presenting the random variable observations."
   ]
  },
  {
   "cell_type": "code",
   "execution_count": 8,
   "metadata": {},
   "outputs": [
    {
     "data": {
      "text/plain": [
       "((500000, 1), (500000, 1), (500000, 1), (500000, 1))"
      ]
     },
     "execution_count": 8,
     "metadata": {},
     "output_type": "execute_result"
    }
   ],
   "source": [
    "# Create 4 single-column arrays from the individual arrays\n",
    "p = price.reshape(obs,1)\n",
    "m = marginal.reshape(obs,1)\n",
    "d = demand.reshape(obs,1)\n",
    "pr = tp.reshape(obs,1)\n",
    "p.shape, m.shape, d.shape, pr.shape"
   ]
  },
  {
   "cell_type": "code",
   "execution_count": null,
   "metadata": {},
   "outputs": [],
   "source": [
    "# Create 4 single-column arrays - A different way to do the reshape operation\n",
    "#p = price[:,np.newaxis]\n",
    "#m = marginal[:, np.newaxis]\n",
    "#d = demand[:, np.newaxis]\n",
    "#pr = tp[:, np.newaxis]\n",
    "#p.shape, m.shape, d.shape, pr.shape"
   ]
  },
  {
   "cell_type": "code",
   "execution_count": 9,
   "metadata": {},
   "outputs": [
    {
     "data": {
      "text/plain": [
       "(500000, 4)"
      ]
     },
     "execution_count": 9,
     "metadata": {},
     "output_type": "execute_result"
    }
   ],
   "source": [
    "# Concatenate the four into a matrix -- each row represents a replication\n",
    "a = np.concatenate([p, m, d, pr], axis=1)\n",
    "a.shape"
   ]
  },
  {
   "cell_type": "code",
   "execution_count": 10,
   "metadata": {},
   "outputs": [
    {
     "data": {
      "text/plain": [
       "array([9.99605115e+00, 7.00073527e+00, 9.99969322e+03, 2.49509834e+04])"
      ]
     },
     "execution_count": 10,
     "metadata": {},
     "output_type": "execute_result"
    }
   ],
   "source": [
    "# mean of each random variable\n",
    "a.mean(axis=0)"
   ]
  },
  {
   "cell_type": "code",
   "execution_count": 2,
   "metadata": {},
   "outputs": [],
   "source": [
    "### Conclusion\n",
    "\n",
    "\n"
   ]
  },
  {
   "cell_type": "code",
   "execution_count": null,
   "metadata": {},
   "outputs": [],
   "source": []
  }
 ],
 "metadata": {
  "kernelspec": {
   "display_name": "Python 3 (ipykernel)",
   "language": "python",
   "name": "python3"
  },
  "language_info": {
   "codemirror_mode": {
    "name": "ipython",
    "version": 3
   },
   "file_extension": ".py",
   "mimetype": "text/x-python",
   "name": "python",
   "nbconvert_exporter": "python",
   "pygments_lexer": "ipython3",
   "version": "3.11.7"
  }
 },
 "nbformat": 4,
 "nbformat_minor": 4
}
