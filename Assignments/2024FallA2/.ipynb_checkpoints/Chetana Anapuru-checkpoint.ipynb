{
 "cells": [
  {
   "cell_type": "markdown",
   "id": "e6e424bf-9ab7-4f13-ab12-6ef210fae0f2",
   "metadata": {
    "scrolled": true
   },
   "source": [
    "TEST OF SIGNIFICANCE\n",
    "1. A company wants to test whether the average time taken to assemble a product has significantly decreased after implementing a new training program. Prior to the training, the average assembly time was 35 minutes with a known population standard deviation of 5 minutes. After the training, a random sample of 40 employees showed a mean assembly time of 33 minutes. Can you help the company to decide whether the new training program is necessary? \n",
    "\n",
    " "
   ]
  },
  {
   "cell_type": "code",
   "execution_count": 108,
   "id": "da45d0e7-089d-4423-9d4e-0ed1d6f77d8f",
   "metadata": {},
   "outputs": [
    {
     "name": "stdout",
     "output_type": "stream",
     "text": [
      "Test Results:\n",
      "Z-score: -2.5298221281347035\n",
      "Critical z-value: -1.6448536269514729\n",
      "P-value: 0.005706018193000826\n",
      "Conclusion: Reject H0: Training likely reduced assembly time.\n"
     ]
    }
   ],
   "source": [
    "from scipy.stats import norm\n",
    "\n",
    "# Develop assumptions and initial data:\n",
    "# Assuming assembly times approximate a normal distribution, justified by the sample size.\n",
    "mu_before = 35               # The Mean time prior to training implementation\n",
    "sigma = 5                    # The Known population standard deviation\n",
    "sample_mean = 33             # Mean time after training from sample\n",
    "n = 40                       # The Number of observations in sample\n",
    "alpha = 0.05                 # The tests selected significance level\n",
    "\n",
    "# Describing Hypothesis:\n",
    "# Null Hypothesis (H0): Mean time has not decreased (mu >= 35)\n",
    "# Alternative Hypothesis (H1): Mean time has decreased (mu < 35)\n",
    "\n",
    "# Determing z-statistic for the test\n",
    "z_score = (sample_mean - mu_before) / (sigma / (n ** 0.5))\n",
    "\n",
    "# find the critical value for z and decision rule\n",
    "critical_z = norm.ppf(alpha)  # Finds z-value threshold for a left-tailed test\n",
    "\n",
    "# Calculating the p-value for the test\n",
    "p_value = norm.cdf(z_score)\n",
    "\n",
    "# Draw a conclusion based on the test statistic and p-value\n",
    "if z_score < critical_z:\n",
    "    result = \"Reject H0: Training likely reduced assembly time.\"\n",
    "else:\n",
    "    result = \"Do not reject H0: No significant evidence of reduced time.\"\n",
    "\n",
    "# Print the outcomes of the final test\n",
    "print(\"Test Results:\")\n",
    "print(f\"Z-score: {z_score}\")\n",
    "print(f\"Critical z-value: {critical_z}\")\n",
    "print(f\"P-value: {p_value}\")\n",
    "print(\"Conclusion:\", result)\n"
   ]
  },
  {
   "cell_type": "markdown",
   "id": "c5d0d46d-1042-4c63-94af-245d4f5d931b",
   "metadata": {},
   "source": [
    "Code Explanation: \n",
    "\n",
    "This code checks to see if training shortened the time needed for assembly. \n",
    "It calculates the z-score, establishes the starting mean and standard deviation, and compares it to the crucial z-value for a left-tailed test at a significance level of 5%. We reject the null hypothesis if the z-score is smaller than the crucial threshold, indicating that training most likely resulted in a shorter assembly time. \n",
    "\n",
    "Output Explanation: The z-score, crucial z-value, p-value, and the conclusion based on these values will be shown by the code. "
   ]
  },
  {
   "cell_type": "markdown",
   "id": "e9ba307b-dcb9-4635-b3e1-bf8be03de89f",
   "metadata": {},
   "source": [
    "2. A university administrator wants to test whether graduate students at the institution study, on average, more than 25 hours per week. To explore this, a random sample of 15 graduate students was surveyed, and the sample mean study time was found to be 27 hours per week, with a sample standard deviation of 4.5 hours. "
   ]
  },
  {
   "cell_type": "code",
   "execution_count": 112,
   "id": "569f0f03-fd9a-4c36-890f-9c9365debe4a",
   "metadata": {
    "scrolled": true
   },
   "outputs": [
    {
     "name": "stdout",
     "output_type": "stream",
     "text": [
      "One-Sample T-Test Results\n",
      "T-statistic: 1.7213259316477407\n",
      "Critical t-value: 1.7613101357748562\n",
      "P-value: 0.05360191367469436\n",
      "Conclusion: Fail to reject H0: No significant evidence that students study more than 25 hours weekly.\n"
     ]
    }
   ],
   "source": [
    "from scipy.stats import t\n",
    "\n",
    "# Step 1: Allocate the given information\n",
    "mu = 25                 # The population mean considered (25 hours)\n",
    "sample_mean = 27        # The sample's average study duration was (27 hours)\n",
    "sample_std = 4.5        # Standard deviation of the sample (4.5 hours)\n",
    "n = 15                  # Quantity of students\n",
    "alpha = 0.05            # Determing significance level to 5%\n",
    "\n",
    "# Step 2: To compare the sample mean to the predicted mean, compute the t-statistic\n",
    "t_statistic = (sample_mean - mu) / (sample_std / (n ** 0.5))\n",
    "\n",
    "# Step 3: Use degrees of freedom (n - 1) to get the crucial t-value for a one-tailed test\n",
    "df = n - 1\n",
    "critical_value = t.ppf(1 - alpha, df)\n",
    "\n",
    "# Step 4: Determine the p-value, which displays the likelihood that the observed t-statistic could take place under H0\n",
    "p_value = 1 - t.cdf(t_statistic, df)\n",
    "\n",
    "# Step 5: Making decisions using the crucial t-value and t-statistic\n",
    "if t_statistic > critical_value:\n",
    "    result = \"Reject H0: Evidence suggests students study more than 25 hours weekly.\"\n",
    "else:\n",
    "    result = \"Fail to reject H0: No significant evidence that students study more than 25 hours weekly.\"\n",
    "\n",
    "# Showing the outcomes\n",
    "print(\"One-Sample T-Test Results\")\n",
    "print(f\"T-statistic: {t_statistic}\")\n",
    "print(f\"Critical t-value: {critical_value}\")\n",
    "print(f\"P-value: {p_value}\")\n",
    "print(\"Conclusion:\", result)\n"
   ]
  },
  {
   "cell_type": "markdown",
   "id": "d9507bd0-6d40-41ad-836f-eddfe61b3021",
   "metadata": {},
   "source": [
    "Code Explanation: \r\n",
    "\r\n",
    "With a sample mean of 27 hours, a sample standard deviation of 4.5, and a sample size of 15, this code runs a one-sample t-test to see if students' study more than 25 hours a week. It determines if there is sufficient evidence to reject the null hypothesis by computing the t-statistic, critical t-value, and p-value.Output Explanationtpu: \r\n",
    "\r\n",
    "T-statistic: Indicates, in standard error units, the difference between the sample mean (27) and the predicted mean (5). \r\n",
    "\r\n",
    "At a 5% significance level, the critical t-value is the value at which the null hypothesis must be rejcted. \r\n",
    "\r\n",
    "P-value: The likelihood that, in the event that the null hypothesis is correct, a t-statistic this extreme will be seen. \r\n",
    "\r\n",
    "The rejection of H0 will occur if the t-statistic is greater than the threshold t-value, indicating evidence that student's study for more than 25 hours per week. "
   ]
  },
  {
   "cell_type": "markdown",
   "id": "2b09ff7d-619e-4947-8bfd-51b15dbc9ab7",
   "metadata": {},
   "source": [
    "REGRESSION\n",
    "a. Fit a simple linear regression model to the data, where the dependent variable (Y) is the exam score, and the independent variable (X) is the hours of study."
   ]
  },
  {
   "cell_type": "code",
   "execution_count": 116,
   "id": "fdf8cd49-298a-4359-a3da-ed56b190c1b2",
   "metadata": {
    "scrolled": true
   },
   "outputs": [
    {
     "name": "stdout",
     "output_type": "stream",
     "text": [
      "                            OLS Regression Results                            \n",
      "==============================================================================\n",
      "Dep. Variable:                  Score   R-squared:                       1.000\n",
      "Model:                            OLS   Adj. R-squared:                  1.000\n",
      "Method:                 Least Squares   F-statistic:                 2.311e+16\n",
      "Date:                Wed, 30 Oct 2024   Prob (F-statistic):          2.20e-210\n",
      "Time:                        18:28:56   Log-Likelihood:                 374.09\n",
      "No. Observations:                  30   AIC:                            -744.2\n",
      "Df Residuals:                      28   BIC:                            -741.4\n",
      "Df Model:                           1                                         \n",
      "Covariance Type:            nonrobust                                         \n",
      "==================================================================================\n",
      "                     coef    std err          t      P>|t|      [0.025      0.975]\n",
      "----------------------------------------------------------------------------------\n",
      "const              2.1221   3.77e-07   5.63e+06      0.000       2.122       2.122\n",
      "Hours_of_Study    10.0000   6.58e-08   1.52e+08      0.000      10.000      10.000\n",
      "==============================================================================\n",
      "Omnibus:                        5.046   Durbin-Watson:                   2.189\n",
      "Prob(Omnibus):                  0.080   Jarque-Bera (JB):                3.450\n",
      "Skew:                           0.771   Prob(JB):                        0.178\n",
      "Kurtosis:                       3.619   Cond. No.                         12.6\n",
      "==============================================================================\n",
      "\n",
      "Notes:\n",
      "[1] Standard Errors assume that the covariance matrix of the errors is correctly specified.\n"
     ]
    }
   ],
   "source": [
    "import pandas as pd\n",
    "import statsmodels.api as sm\n",
    "\n",
    "# Setup of data\n",
    "data = {\n",
    "    'Hours_of_Study': [5, 8, 5, 7, 7, 8, 3, 8, 0, 8, 5, 0, 2, 8, 7, 7, 4, 4, 2, 6, 1, 7, 6, 2, 8, 0, 5, 8, 7, 4],\n",
    "    'Score': [52.1221, 82.1221, 52.1221, 72.1221, 72.1221, 82.1221, 32.1221, 82.1221, 2.122104, 82.1221,\n",
    "              52.1221, 2.122104, 22.1221, 82.1221, 72.1221, 72.1221, 42.1221, 42.1221, 22.1221, 62.1221,\n",
    "              12.1221, 72.1221, 62.1221, 22.1221, 82.1221, 2.122104, 52.1221, 82.1221, 72.1221, 42.1221]\n",
    "}\n",
    "df = pd.DataFrame(data)\n",
    "\n",
    "# Describing the variables that are independent (X) and dependent (Y)\n",
    "X = df['Hours_of_Study']\n",
    "Y = df['Score']\n",
    "\n",
    "# To reflect the model's intercept, add a constant to X\n",
    "X = sm.add_constant(X)\n",
    "\n",
    "# setup the regression model\n",
    "model = sm.OLS(Y, X).fit()\n",
    "\n",
    "# Print model information\n",
    "print(model.summary())\n"
   ]
  },
  {
   "cell_type": "markdown",
   "id": "1f7bf2a3-fe3a-4008-acd8-143dd5dafda0",
   "metadata": {},
   "source": [
    "Code explanation: \r\n",
    "\r\n",
    " Code examines the relationship between study hours and scores using a linear model. After setting up the data, it fits the model with an intercept and defines study hours (X) as the predictor and score (Y) as the outcome. The result of model.summary() demonstrates the importance and strength of this connection. \r\n",
    "\r\n",
    "Summary of the Output: \r\n",
    "\r\n",
    "Coefficients: Display the approximate correlation between study time and grade. \r\n",
    "\r\n",
    "R-squared: A value nearer 1 indicates a better model fit. \r\n",
    "\r\n",
    "P-values: Indicate the variables' statistical significance. \r\n",
    "\r\n",
    " "
   ]
  },
  {
   "cell_type": "markdown",
   "id": "75304c32-bd34-4087-92ee-ae0051034936",
   "metadata": {},
   "source": [
    "b. What are the assumptions of simple linear regression, and do you think they hold for this dataset? \n"
   ]
  },
  {
   "cell_type": "code",
   "execution_count": 120,
   "id": "01147f50-9f64-46f7-b5a4-f7cb052b417f",
   "metadata": {},
   "outputs": [
    {
     "data": {
      "image/png": "[encoded data removed]",
      "text/plain": [
       "<Figure size 640x480 with 1 Axes>"
      ]
     },
     "metadata": {},
     "output_type": "display_data"
    },
    {
     "data": {
      "image/png": "[encoded data removed]",
      "text/plain": [
       "<Figure size 640x480 with 1 Axes>"
      ]
     },
     "metadata": {},
     "output_type": "display_data"
    }
   ],
   "source": [
    "import matplotlib.pyplot as plt\n",
    "import statsmodels.api as sm\n",
    "\n",
    "# Plotting residuals and fitted values\n",
    "residuals = model.resid\n",
    "fitted_values = model.fittedvalues\n",
    "\n",
    "# A linearity and homoscedasticity check plot of residuals vs fitted values\n",
    "plt.scatter(fitted_values, residuals)\n",
    "plt.axhline(y=0, color='r', linestyle='--')\n",
    "plt.xlabel('Predicted Values')\n",
    "plt.ylabel('Residuals')\n",
    "plt.title('Residuals vs. Predicted Values')\n",
    "plt.show()\n",
    "\n",
    "# Q-Q Plot for determining whether residuals are normal\n",
    "sm.qqplot(residuals, line='45')\n",
    "plt.title('Q-Q Plot of Residuals')\n",
    "plt.show()\n"
   ]
  },
  {
   "cell_type": "markdown",
   "id": "116bad8b-07f7-40bc-b053-3c6107012fc4",
   "metadata": {},
   "source": [
    "Code Explanation: \r\n",
    "\r\n",
    "Residuals vs. Fitted Values Plot: Indicates non-linearity and heteroscedasticity with a distinct ascending trend. This implies that the model's presumptions are not fulfilled. \r\n",
    "\r\n",
    "Q-Q Plot: The residuals are not typical as they do not match up with the 45-degree line. \r\n",
    "\r\n",
    " ExplanationOutput: \r\n",
    "\r\n",
    "This data does not fit the requirements of linear regression, indicating that an alternative model or adjustment could be required. "
   ]
  },
  {
   "cell_type": "markdown",
   "id": "56b608f7-fd37-4ab0-997e-c0966f01859b",
   "metadata": {},
   "source": [
    "C. How would outliers in the data affect the regression model? "
   ]
  },
  {
   "cell_type": "code",
   "execution_count": 124,
   "id": "08014f47-ce02-465c-9c9f-15b4ea73e2dc",
   "metadata": {
    "scrolled": true
   },
   "outputs": [
    {
     "data": {
      "image/png": "[encoded data removed]",
      "text/plain": [
       "<Figure size 640x480 with 1 Axes>"
      ]
     },
     "metadata": {},
     "output_type": "display_data"
    },
    {
     "name": "stdout",
     "output_type": "stream",
     "text": [
      "Potential Influential Points: [8, 11, 20, 25]\n"
     ]
    }
   ],
   "source": [
    "# Determining the statistics of influence\n",
    "influence = model.get_influence()\n",
    "cooks_d = influence.cooks_distance[0]\n",
    "\n",
    "# Cook's Distance for each data point is displayed using a stem plot\n",
    "plt.stem(range(len(cooks_d)), cooks_d, markerfmt=\",\", basefmt=\"-\")\n",
    "plt.xlabel('Index')\n",
    "plt.ylabel(\"Cook's Distance\")\n",
    "plt.title(\"Cook's Distance for Outlier Detection\")\n",
    "plt.show()\n",
    "\n",
    "# Determining the most influential points.\n",
    "outliers = [i for i, d in enumerate(cooks_d) if d > 4 / len(cooks_d)]\n",
    "print(\"Potential Influential Points:\", outliers)\n"
   ]
  },
  {
   "cell_type": "markdown",
   "id": "7c211dca-efba-4ee5-9c94-b29a201c7a4b",
   "metadata": {},
   "source": [
    "Code Explanation: \r\n",
    "\r\n",
    "This code uses Cook's Distance to identify significant points in the regression model: \r\n",
    "\r\n",
    "The Cook's Distance Calculation quantifies the impact of every data item on the model. \r\n",
    "\r\n",
    "Cook's Distance values for each point are displayed in a stem plot; high values suggest possible outliers. \r\n",
    "\r\n",
    "Points with Cook's Distance > 4 / sample size are flagged as influential by outlier identification.  Explanation\r\n",
    "\r\n",
    "Output: It will plot the Cook's Distance values and output the indices of high-influence data points (possible outliers). "
   ]
  },
  {
   "cell_type": "markdown",
   "id": "caf4526d-a04d-405a-95d9-ff2adba2f3dd",
   "metadata": {},
   "source": [
    "d. If you need to verify the model what will you need and what will you do? "
   ]
  },
  {
   "cell_type": "code",
   "execution_count": 128,
   "id": "53170bb4-88bc-44e8-b1a3-7b4a4f29f5e9",
   "metadata": {},
   "outputs": [
    {
     "name": "stdout",
     "output_type": "stream",
     "text": [
      "R^2 Scores from Cross-Validation: [1. 1. 1. 1. 1.]\n",
      "Mean R^2 Score: 0.999999999999998\n"
     ]
    }
   ],
   "source": [
    "from sklearn.model_selection import cross_val_score\n",
    "from sklearn.linear_model import LinearRegression\n",
    "import numpy as np\n",
    "\n",
    "# Redesign X and Y to work with the cross-validation feature of scikit-learn\n",
    "X_cv = df[['Hours_of_Study']]\n",
    "Y_cv = df['Score']\n",
    "\n",
    "# Set up the linear regression model\n",
    "linear_model = LinearRegression()\n",
    "\n",
    "# Calculating R^2 scores for each fold by doing fivefold cross-validation\n",
    "cv_scores = cross_val_score(linear_model, X_cv, Y_cv, cv=5, scoring='r2')\n",
    "\n",
    "# Print the outcomes of the cross-validation\n",
    "print(\"R^2 Scores from Cross-Validation:\", cv_scores)\n",
    "print(\"Mean R^2 Score:\", np.mean(cv_scores))\n"
   ]
  },
  {
   "cell_type": "markdown",
   "id": "1b1de977-dc85-44b1-ac7a-2bfc18cfb94e",
   "metadata": {},
   "source": [
    "Code Explanation: \r\n",
    "\n",
    "R2 \n",
    "2\r\n",
    " \r\n",
    " Scores: Indicate how well the model performs across five distinct data splits R2 \r\n",
    "R2\r\n",
    "R\r\n",
    "2\r\n",
    " \r\n",
    "Score: The mean score that represents the overall strength of prediction. \r\n",
    "\r\n",
    "Verificati of the Model: \r\n",
    "\r\n",
    "The model appears to generalize effectively based on hghsistent \r\n",
    "R2\r\n",
    "R\r\n",
    "2\r\n",
    " \r\n",
    " valueso\n",
    "R2 . \r\n",
    "\r\n",
    "Output: \r\n",
    "\r\n",
    "R2\r\n",
    "R\r\n",
    "2\r\n",
    " \r\n",
    " Scores: A value around 1 denotes a strong fit, and a higher consistency across folds indicates that the model hasgo alization. \r\n",
    "\r\n",
    "Average \r\n",
    "R2\r\n",
    "R\r\n",
    "2\r\n",
    " \r\n",
    " Score: While low scores might show that the mod R2'eneralize well, a high mean \r\n",
    "R2\r\n",
    "R\r\n",
    "2\r\n",
    " \r\n",
    " indicates dependable performance. "
   ]
  },
  {
   "cell_type": "markdown",
   "id": "f69e1b9b-0aad-4b3e-8c33-8e48cecf0a93",
   "metadata": {},
   "source": [
    "LINEAR OPTIMIZATION\n",
    "a.Please formulate this problem as a linear programming problem in standard form. \n",
    "b.Solve the problem in Excel. \n",
    "c.The problem is bounded by machine X or Y? If you have a budget to upgrade the machine, will you upgrade machine X or Y? Please explain your answer by exploring the math model.  "
   ]
  },
  {
   "cell_type": "code",
   "execution_count": 132,
   "id": "e8386979-9001-418a-a948-54dbdc97927d",
   "metadata": {},
   "outputs": [
    {
     "name": "stdout",
     "output_type": "stream",
     "text": [
      "Optimal solution found:\n",
      "Units of Product A: 0.00\n",
      "Units of Product B: 7.86\n",
      "Units of Product C: 30.71\n",
      "Maximum production output: 38.57\n",
      "Machine X usage: 100.00 / 100\n",
      "Machine Y usage: 85.00 / 85\n",
      "Machine X is the limiting factor.\n"
     ]
    }
   ],
   "source": [
    "from scipy.optimize import linprog\n",
    "\n",
    "# To maximize total production, define the coefficients of the objective function\n",
    "c = [-1, -1, -1]  # Negative to manage Linprog's maximization\n",
    "\n",
    "# Specify the limitations on the number of hours that Machines X and Y can utilize for each product\n",
    "A = [\n",
    "    [2, 1, 3],  # Machine X usage\n",
    "    [4, 3, 2]   # Machine Y usage\n",
    "]\n",
    "b = [100, 85] # Machine X and Y's available hours\n",
    "\n",
    "# Establishg boundaries for the variables of production (non-negativity constraint)\n",
    "bounds = [(0, None), (0, None), (0, None)]\n",
    "\n",
    "#using linear programming to solve\n",
    "result = linprog(c, A_ub=A, b_ub=b, bounds=bounds, method='highs')\n",
    "\n",
    "# Provide the best possible production values and overall output\n",
    "if result.success:\n",
    "    print(\"Optimal solution found:\")\n",
    "    print(f\"Units of Product A: {result.x[0]:.2f}\")\n",
    "    print(f\"Units of Product B: {result.x[1]:.2f}\")\n",
    "    print(f\"Units of Product C: {result.x[2]:.2f}\")\n",
    "    print(f\"Maximum production output: {-result.fun:.2f}\")\n",
    "\n",
    "  # Determining how many hours each machine has been utilized overall.\n",
    "    total_machine_x_usage = 2 * result.x[0] + 1 * result.x[1] + 3 * result.x[2]\n",
    "    total_machine_y_usage = 4 * result.x[0] + 3 * result.x[1] + 2 * result.x[2]\n",
    "    print(f\"Machine X usage: {total_machine_x_usage:.2f} / 100\")\n",
    "    print(f\"Machine Y usage: {total_machine_y_usage:.2f} / 85\")\n",
    "\n",
    "    # Verify which machine serves as the limiting factor and is fully utilized.\n",
    "    if total_machine_x_usage >= 100:\n",
    "        print(\"Machine X is the limiting factor.\")\n",
    "    elif total_machine_y_usage >= 85:\n",
    "        print(\"Machine Y is the limiting factor.\")\n",
    "else:\n",
    "    print(\"Optimization failed:\", result.message)\n"
   ]
  },
  {
   "cell_type": "markdown",
   "id": "633e6b60-f854-4899-a806-450b08517160",
   "metadata": {},
   "source": [
    "a. Explanation: \r\n",
    "\r\n",
    " Objective Coefficients (c): [-1, -1, -1] means that by reducing its negative, 𝑥𝐴 + 𝑥𝐵 + 𝑥𝐶 x A +x B +x C is maximized. \r\n",
    "\r\n",
    "Constraints (A and b): The hours spent by each machine for each product are represented as coefficients in a matrix. \r\n",
    "\r\n",
    "The maximum number of hours that Machines X and Y can be used is b. \r\n",
    "\r\n",
    "Limitations: Non-negative manufacturing units are required for every pro duct.  Explanation\r\n",
    "\r\n",
    "Output: \r\n",
    "\r\n",
    "The best quantities of Products A, B, and C to ensure maximum output. the highest production value that can be achieved with the limitation\n",
    "\n",
    "b.I have done this in python \n",
    "\n",
    "c. Explanation: \r\n",
    "\r\n",
    "Bounded by: Since both machines are completely employed (Machine X has 100 hours and Machine Y has 85 hours), the problem is confined by both. \r\n",
    "\r\n",
    "It is recommended that Machine X be upgraded. Even though both machines have their limits, Machine X is found to be the main one. It would be more efficient to increase output by increasing Machine X's capacity than by improving Machine Y alone. \r\n",
    "\r\n",
    "In brief: \r\n",
    "\r\n",
    "Since Machine X is the primary barrier to optimizing output in your solution, upgrading it will immediately raise the feasible production. s in place. "
   ]
  },
  {
   "cell_type": "markdown",
   "id": "7aa4397a-1658-4942-8e35-d2c964645fc1",
   "metadata": {},
   "source": [
    "REFERENCE :\n",
    "https://www.youtube.com/watch?v=ZR6bf8_s-hw&ab_channel=ErikMarsja \n",
    "\n",
    "https://chatgpt.com//\r\n",
    "\r\n",
    "https://www.youtube.com/watch?v=-bhfcBvyWoc&ab_channel=KhanAcadey \r\n",
    "\r\n",
    "https://www.youtube.com/watch?v=bHMs0H9uxLA&ab_channel=AddictedtoMachineLearning \r\n",
    "\r\n",
    " \r\n",
    "\r\n",
    " "
   ]
  }
 ],
 "metadata": {
  "kernelspec": {
   "display_name": "Python 3 (ipykernel)",
   "language": "python",
   "name": "python3"
  },
  "language_info": {
   "codemirror_mode": {
    "name": "ipython",
    "version": 3
   },
   "file_extension": ".py",
   "mimetype": "text/x-python",
   "name": "python",
   "nbconvert_exporter": "python",
   "pygments_lexer": "ipython3",
   "version": "3.12.4"
  }
 },
 "nbformat": 4,
 "nbformat_minor": 5
}
