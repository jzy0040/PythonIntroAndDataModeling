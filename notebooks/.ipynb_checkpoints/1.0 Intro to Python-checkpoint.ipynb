{
 "cells": [
  {
   "cell_type": "markdown",
   "metadata": {},
   "source": [
    "# 1.0 Intro to Python\n",
    "\n",
    "This chapter focuses on the Python componemnt of the class.  We will focus exclusively on using Python for interactive data science work rather than on \"programming\" per se."
   ]
  },
  {
   "cell_type": "markdown",
   "metadata": {},
   "source": [
    "## Python Book\n",
    "VanderPlas, J. <i>Python Data Science Handbook: Essential Tools for Working with Data</i>, O'Reilly Media, 2016.  Available on \n",
    "Amazon and at https://jakevdp.github.io/PythonDataScienceHandbook/.\n",
    "\n",
    "Note that this is not a book that teaches Python.  Instead, it's focused on using Python for Data Science. "
   ]
  },
  {
   "cell_type": "markdown",
   "metadata": {},
   "source": [
    "## Key Python Modules\n",
    "We will use several common Python <i>modules</i>.  A modules is similar to a library in other lanugages.  The modules that we will use include:\n",
    "<ul>\n",
    "<li />NumPy\n",
    "<li />Pandas\n",
    "<li />SciPy\n",
    "<li />Matplotlib and Seaborn\n",
    "<li />Scikit-learn\n",
    "</ul>\n",
    "In addition, we will also learn how to create and use our own modules."
   ]
  },
  {
   "cell_type": "markdown",
   "metadata": {},
   "source": [
    "## Introduction to Python"
   ]
  },
  {
   "cell_type": "code",
   "execution_count": 1,
   "metadata": {},
   "outputs": [
    {
     "name": "stdout",
     "output_type": "stream",
     "text": [
      "C:\\Users\\ZXT3080\\GitHub\\PythonIntroAndDataModeling\\notebooks\n"
     ]
    }
   ],
   "source": [
    "import os\n",
    "# To remember this, think \"get current working directory.\"  This is the base\n",
    "# directory that will be used when looking for files.\n",
    "print(os.getcwd())"
   ]
  },
  {
   "cell_type": "code",
   "execution_count": 7,
   "metadata": {},
   "outputs": [
    {
     "name": "stdout",
     "output_type": "stream",
     "text": [
      "Hello World!\n"
     ]
    }
   ],
   "source": [
    "print (\"Hello World!\")"
   ]
  },
  {
   "cell_type": "code",
   "execution_count": 15,
   "metadata": {},
   "outputs": [
    {
     "name": "stdout",
     "output_type": "stream",
     "text": [
      "[1] Hello World!\n",
      "[2] Hello World!\n",
      "[3] Hello World!\n",
      "[4] Hello World!\n",
      "[5] Hello World!\n"
     ]
    }
   ],
   "source": [
    "# Unlike many languages that use {} and other start/end identifers\n",
    "#   to identify blocks, Python uses indentation.  \n",
    "for i in range(5):\n",
    "    j = i + 1\n",
    "    print (\"[{:}] Hello World!\".format(j))"
   ]
  },
  {
   "cell_type": "code",
   "execution_count": 19,
   "metadata": {},
   "outputs": [
    {
     "name": "stdout",
     "output_type": "stream",
     "text": [
      "0\n",
      "1\n",
      "2\n",
      "3\n",
      "4\n"
     ]
    }
   ],
   "source": [
    "for i in range(5):\n",
    "    print(i)"
   ]
  },
  {
   "cell_type": "code",
   "execution_count": 25,
   "metadata": {},
   "outputs": [
    {
     "name": "stdout",
     "output_type": "stream",
     "text": [
      "0\n",
      "2\n",
      "4\n",
      "6\n",
      "8\n",
      "10\n",
      "12\n",
      "14\n",
      "16\n",
      "18\n"
     ]
    }
   ],
   "source": [
    "for i in range(20):\n",
    "    if i % 2 == 0:\n",
    "        print(i)"
   ]
  },
  {
   "cell_type": "markdown",
   "metadata": {},
   "source": [
    "### Python Object types - modules, statements, expressions, objects"
   ]
  },
  {
   "cell_type": "code",
   "execution_count": 29,
   "metadata": {},
   "outputs": [
    {
     "name": "stdout",
     "output_type": "stream",
     "text": [
      "246.77428571428572\n"
     ]
    }
   ],
   "source": [
    "# simple implementation of the pseudo code from Slide 5 of the Intro to \n",
    "# Python slide set.\n",
    "Numbers = [123, 87, 96, 24, 104, 16, 55, 24, 19, 86, 776, 1945, 87.5, 12.34]\n",
    "\n",
    "Total = 0\n",
    "Count = 0\n",
    "for Num in Numbers:\n",
    "    Total = Total + Num\n",
    "    Count=Count+1\n",
    "if Count > 0:\n",
    "    Average = Total/Count\n",
    "else :\n",
    "    Average = \"Can't compute the average of a sample of size 0.\"\n",
    "print(Average)"
   ]
  },
  {
   "cell_type": "markdown",
   "metadata": {},
   "source": [
    "### Initial Core Statements"
   ]
  },
  {
   "cell_type": "code",
   "execution_count": 19,
   "metadata": {},
   "outputs": [
    {
     "data": {
      "text/plain": [
       "(12, 26, [1, 2, 3])"
      ]
     },
     "execution_count": 19,
     "metadata": {},
     "output_type": "execute_result"
    }
   ],
   "source": [
    "# Assignment\n",
    "## this is a process of declaring and initializing. \n",
    "x = 12\n",
    "y = x + 14\n",
    "z = [1, 2, 3]\n",
    "# the following returns the objects as a tuple -- we'll discuss tubles/lists/sets later, but \n",
    "# for now, think of this as a simple way to \"see\" the values of objects.\n",
    "x, y, z"
   ]
  },
  {
   "cell_type": "code",
   "execution_count": 20,
   "metadata": {},
   "outputs": [
    {
     "name": "stdout",
     "output_type": "stream",
     "text": [
      "1\n",
      "2\n",
      "3\n",
      "4\n",
      "5\n"
     ]
    }
   ],
   "source": [
    "# Repitition\n",
    "for j in [1, 2, 3, 4, 5]:\n",
    "    print(j)"
   ]
  },
  {
   "cell_type": "code",
   "execution_count": 21,
   "metadata": {},
   "outputs": [
    {
     "data": {
      "text/plain": [
       "(range(0, 10), range, [0, 1, 2, 3, 4, 5, 6, 7, 8, 9])"
      ]
     },
     "execution_count": 21,
     "metadata": {},
     "output_type": "execute_result"
    }
   ],
   "source": [
    "# Range objects (more on the Range object in the Lists section of the notes)\n",
    "range(10), type(range(10)), list(range(10))"
   ]
  },
  {
   "cell_type": "code",
   "execution_count": 33,
   "metadata": {},
   "outputs": [
    {
     "data": {
      "text/plain": [
       "[2, 4, 6, 8, 10, 12, 14, 16, 18]"
      ]
     },
     "execution_count": 33,
     "metadata": {},
     "output_type": "execute_result"
    }
   ],
   "source": [
    "### by default range function will have range(end = N, start = 0, step = 1)\n",
    "list(range(2, 20, 2))"
   ]
  },
  {
   "cell_type": "code",
   "execution_count": null,
   "metadata": {},
   "outputs": [],
   "source": [
    "for j in range(10):\n",
    "    print (j)"
   ]
  },
  {
   "cell_type": "code",
   "execution_count": null,
   "metadata": {},
   "outputs": [],
   "source": [
    "# Selection\n",
    "x = 5\n",
    "y = 5\n",
    "if x == 12:\n",
    "    y = y + 1\n",
    "x, y"
   ]
  },
  {
   "cell_type": "code",
   "execution_count": null,
   "metadata": {},
   "outputs": [],
   "source": [
    "if x in [1, 2, 3, 4, 5]:\n",
    "    y = 35\n",
    "else:\n",
    "    y = 50\n",
    "x, y    "
   ]
  },
  {
   "cell_type": "markdown",
   "metadata": {},
   "source": [
    "### General Concepts - Dynamically typed, Strongly typed, Mutable vs. Immutable, Namespaces -- Slides/Board"
   ]
  },
  {
   "cell_type": "markdown",
   "metadata": {},
   "source": [
    "### Numbers\n",
    "\n",
    "Numeric and math modules - https://docs.python.org/3.3/library/numeric.html"
   ]
  },
  {
   "cell_type": "code",
   "execution_count": null,
   "metadata": {},
   "outputs": [],
   "source": [
    "# Integers (ints) and floating point numbers (floats)\n",
    "n1 = 3\n",
    "n2 = 3.0\n",
    "n1, n2"
   ]
  },
  {
   "cell_type": "code",
   "execution_count": null,
   "metadata": {},
   "outputs": [],
   "source": [
    "n1 == n2, type(n1) == type(n2)"
   ]
  },
  {
   "cell_type": "code",
   "execution_count": null,
   "metadata": {},
   "outputs": [],
   "source": [
    "# Type converstion\n",
    "n3 = float(n1)\n",
    "n4 = int(n2)\n",
    "n3, n4, type(n3), type(n4)"
   ]
  },
  {
   "cell_type": "code",
   "execution_count": null,
   "metadata": {},
   "outputs": [],
   "source": [
    "# many built-in function in addition to the math module\n",
    "import math\n",
    "math.pi, math.sqrt(227)"
   ]
  },
  {
   "cell_type": "code",
   "execution_count": null,
   "metadata": {},
   "outputs": [],
   "source": [
    "# show the functions in the math module\n",
    "dir(math)"
   ]
  },
  {
   "cell_type": "code",
   "execution_count": null,
   "metadata": {},
   "outputs": [],
   "source": [
    "# Help -- use ? to see the Docstring (bottom of the browser window)\n",
    "math.factorial?"
   ]
  },
  {
   "cell_type": "code",
   "execution_count": null,
   "metadata": {},
   "outputs": [],
   "source": [
    "# More on Namespaces - three different Pi constants ...\n",
    "# Overlap in constants for pi -- one in each namespace\n",
    "import math\n",
    "import numpy as np\n",
    "import scipy as sp\n",
    "math.pi, np.pi, sp.pi"
   ]
  },
  {
   "cell_type": "code",
   "execution_count": null,
   "metadata": {},
   "outputs": [],
   "source": [
    "# Random Numbers (pseudo-random, technically)\n",
    "import random\n",
    "for j in range(10):\n",
    "    print(random.random())"
   ]
  },
  {
   "cell_type": "code",
   "execution_count": null,
   "metadata": {},
   "outputs": [],
   "source": [
    "dir(random)"
   ]
  },
  {
   "cell_type": "code",
   "execution_count": null,
   "metadata": {},
   "outputs": [],
   "source": [
    "# simulating 10 rolls of a fair die.\n",
    "for j in range(10):\n",
    "    print(random.choice(list(range(1,7))))"
   ]
  },
  {
   "cell_type": "markdown",
   "metadata": {},
   "source": [
    "### Strings\n",
    "\n",
    "Common string operations - https://docs.python.org/3.3/library/string.html"
   ]
  },
  {
   "cell_type": "code",
   "execution_count": null,
   "metadata": {},
   "outputs": [],
   "source": [
    "# Create a string object, a variable (s), and a reference from s to\n",
    "#    the string object.\n",
    "s = \"The dog is hungry.\"\n",
    "s"
   ]
  },
  {
   "cell_type": "code",
   "execution_count": null,
   "metadata": {},
   "outputs": [],
   "source": [
    "# Individual elements of the string\n",
    "s[0], s[1], s[2], s[12]"
   ]
  },
  {
   "cell_type": "code",
   "execution_count": null,
   "metadata": {},
   "outputs": [],
   "source": [
    "# string length ... Why doesn't s[len(s)] == '.'?\n",
    "len(s)\n",
    "#s[len(s)]"
   ]
  },
  {
   "cell_type": "code",
   "execution_count": null,
   "metadata": {},
   "outputs": [],
   "source": [
    "# Strings are immutable\n",
    "s[0] = 'x'\n",
    "# But what if I did s = 'x' rather than s[0] = 'x'?\n",
    "# s = 'x'"
   ]
  },
  {
   "cell_type": "code",
   "execution_count": null,
   "metadata": {},
   "outputs": [],
   "source": [
    "# slices - s[i:j] - give me everything from i up to (but not including) j\n",
    "s[4:9]"
   ]
  },
  {
   "cell_type": "code",
   "execution_count": null,
   "metadata": {},
   "outputs": [],
   "source": [
    "a = 6\n",
    "b = len(s) - 1\n",
    "s[a:b]"
   ]
  },
  {
   "cell_type": "code",
   "execution_count": null,
   "metadata": {},
   "outputs": [],
   "source": [
    "# If the intial number is blank, start at the front,\n",
    "#   if the second is blank, go to the end.\n",
    "s[:3]\n",
    "#s[3:]"
   ]
  },
  {
   "cell_type": "code",
   "execution_count": null,
   "metadata": {},
   "outputs": [],
   "source": [
    "# concatenation\n",
    "s + \" So give her some food.\"\n",
    "# note that this does not change s\n",
    "# but what if I assinged the new object to s\n",
    "#s = s + \" So give her some food.\"\n",
    "#s"
   ]
  },
  {
   "cell_type": "code",
   "execution_count": null,
   "metadata": {},
   "outputs": [],
   "source": [
    "# find substring\n",
    "s1 = s + \" So give her some food.\"\n",
    "s1.find('gry')"
   ]
  },
  {
   "cell_type": "code",
   "execution_count": null,
   "metadata": {},
   "outputs": [],
   "source": [
    "s1[s1.find('gry'):]"
   ]
  },
  {
   "cell_type": "code",
   "execution_count": null,
   "metadata": {},
   "outputs": [],
   "source": [
    "# replace\n",
    "s1.replace('dog', 'cat')\n",
    "# note that this creates a new object -- it doesn't change s1\n",
    "#s1\n",
    "# But if I did s1 = s1.replace('dog', 'cat'), what would happen?"
   ]
  },
  {
   "cell_type": "code",
   "execution_count": null,
   "metadata": {},
   "outputs": [],
   "source": [
    "# split - splits a string into substrings\n",
    "s2 = \"eight, nine, 12, seventy, four\"\n",
    "s2.split(',')"
   ]
  },
  {
   "cell_type": "code",
   "execution_count": null,
   "metadata": {},
   "outputs": [],
   "source": [
    "# chaining functions/methods\n",
    "(s + \" So give her some food.\").split()"
   ]
  },
  {
   "cell_type": "code",
   "execution_count": null,
   "metadata": {},
   "outputs": [],
   "source": [
    "# the easiest way to understand this is to go inside-out and left-to-right\n",
    "(s + \" So give her some food.\").replace('.','').split()\n",
    "# Python-eque code makes significant use of chaining -- can be confusing to beginners."
   ]
  },
  {
   "cell_type": "markdown",
   "metadata": {},
   "source": [
    "### The format() method for string objects\n",
    "\n",
    "https://docs.python.org/3.1/library/string.html#format-specification-mini-language"
   ]
  },
  {
   "cell_type": "code",
   "execution_count": null,
   "metadata": {},
   "outputs": [],
   "source": [
    "a= 'Jim'\n",
    "b = 'Carl'\n",
    "c = 'Nancy'\n",
    "\"{:}, {:}, and {:} are going on a trip\".format(a, b, c)"
   ]
  },
  {
   "cell_type": "code",
   "execution_count": null,
   "metadata": {},
   "outputs": [],
   "source": [
    "# Can use modifiers to format the variable display\n",
    "salary = 122000\n",
    "\"{:}'s salary is ${:} per year.\".format(c, salary)"
   ]
  },
  {
   "cell_type": "code",
   "execution_count": null,
   "metadata": {},
   "outputs": [],
   "source": [
    "# Fancier number (currency) formatting\n",
    "\"{:}'s salary is ${:,.2f} per year.\".format(c, salary)"
   ]
  },
  {
   "cell_type": "code",
   "execution_count": null,
   "metadata": {},
   "outputs": [],
   "source": [
    "# use a string format to control the output format.  Note\n",
    "# that this creates a string object\n",
    "math.pi, \"{:.4f}\".format(math.pi)"
   ]
  },
  {
   "cell_type": "code",
   "execution_count": null,
   "metadata": {},
   "outputs": [],
   "source": [
    "# Can also use the round() function to achieve a similar\n",
    "# result, but this function returns a numeric rather than string object\n",
    "round(math.pi, 4)"
   ]
  },
  {
   "cell_type": "code",
   "execution_count": null,
   "metadata": {},
   "outputs": [],
   "source": [
    "# Notice that format() creates a string whereas round \"keeps\" the float.\n",
    "type(\"{:.4f}\".format(math.pi)), type(round(math.pi,4))"
   ]
  },
  {
   "cell_type": "code",
   "execution_count": null,
   "metadata": {},
   "outputs": [],
   "source": []
  }
 ],
 "metadata": {
  "kernelspec": {
   "display_name": "Python [conda env:base] *",
   "language": "python",
   "name": "conda-base-py"
  },
  "language_info": {
   "codemirror_mode": {
    "name": "ipython",
    "version": 3
   },
   "file_extension": ".py",
   "mimetype": "text/x-python",
   "name": "python",
   "nbconvert_exporter": "python",
   "pygments_lexer": "ipython3",
   "version": "3.11.9"
  }
 },
 "nbformat": 4,
 "nbformat_minor": 4
}
