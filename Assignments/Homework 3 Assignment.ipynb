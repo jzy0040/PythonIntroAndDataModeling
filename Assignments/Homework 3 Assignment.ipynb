{
 "cells": [
  {
   "cell_type": "markdown",
   "metadata": {},
   "source": [
    "# Homework Assignment 3\n",
    "\n",
    "2020-09-15: Developed by Jingwie Liu based on a previous homework assignment.\n",
    "<br/>2021-09-07: Updated.\n",
    "\n",
    "Datafile: \"14_Foreign_Exchange_Rates_PureNumeric.csv\"\n",
    "\n",
    "For all problems that involve displaying numerical data, make sure to use an appropriate 'user friendly' data format.  This means use an appropriate number of decimal places, comma sparators on the thousands, etc.  This can easily be done using the string.format() function."
   ]
  },
  {
   "cell_type": "code",
   "execution_count": 1,
   "metadata": {},
   "outputs": [],
   "source": [
    "# Some setup ...\n",
    "# Import some tools\n",
    "import numpy as np\n",
    "import pandas as pd\n",
    "\n",
    "# function to show a NumyPy arrray with its attributes\n",
    "def show(the_array, show_data = 0):\n",
    "    print(\"  Dimension: {:}\".format(the_array.ndim))\n",
    "    print(\"       Size: {:}\".format(the_array.size))\n",
    "    print(\"      Shape: {:}\".format(the_array.shape))    \n",
    "    print(\"  Data Type: {:}\".format(the_array.dtype))    \n",
    "    print(\"  Item Size: {:}\".format(the_array.itemsize))\n",
    "    print(\"Data Buffer: {:}\".format(the_array.data))\n",
    "    if show_data:\n",
    "        print(the_array)"
   ]
  },
  {
   "cell_type": "markdown",
   "metadata": {},
   "source": [
    "## Read the Data and Create the NumPy Arrays"
   ]
  },
  {
   "cell_type": "code",
   "execution_count": 2,
   "metadata": {},
   "outputs": [
    {
     "name": "stdout",
     "output_type": "stream",
     "text": [
      "C:\\Users\\YJY\\eclipse-workspace\\Data-Analytics-and-Modeling\\Homework3\n"
     ]
    }
   ],
   "source": [
    "import os\n",
    "print(os.getcwd())"
   ]
  },
  {
   "cell_type": "code",
   "execution_count": 3,
   "metadata": {},
   "outputs": [
    {
     "data": {
      "text/html": [
       "<div>\n",
       "<style scoped>\n",
       "    .dataframe tbody tr th:only-of-type {\n",
       "        vertical-align: middle;\n",
       "    }\n",
       "\n",
       "    .dataframe tbody tr th {\n",
       "        vertical-align: top;\n",
       "    }\n",
       "\n",
       "    .dataframe thead th {\n",
       "        text-align: right;\n",
       "    }\n",
       "</style>\n",
       "<table border=\"1\" class=\"dataframe\">\n",
       "  <thead>\n",
       "    <tr style=\"text-align: right;\">\n",
       "      <th></th>\n",
       "      <th>Index</th>\n",
       "      <th>Time Serie</th>\n",
       "      <th>AUSTRALIA - AUSTRALIAN DOLLAR/US$</th>\n",
       "      <th>EURO AREA - EURO/US$</th>\n",
       "      <th>NEW ZEALAND - NEW ZELAND DOLLAR/US$</th>\n",
       "      <th>UNITED KINGDOM - UNITED KINGDOM POUND/US$</th>\n",
       "      <th>BRAZIL - REAL/US$</th>\n",
       "      <th>CANADA - CANADIAN DOLLAR/US$</th>\n",
       "      <th>CHINA - YUAN/US$</th>\n",
       "      <th>HONG KONG - HONG KONG DOLLAR/US$</th>\n",
       "      <th>...</th>\n",
       "      <th>SINGAPORE - SINGAPORE DOLLAR/US$</th>\n",
       "      <th>DENMARK - DANISH KRONE/US$</th>\n",
       "      <th>JAPAN - YEN/US$</th>\n",
       "      <th>MALAYSIA - RINGGIT/US$</th>\n",
       "      <th>NORWAY - NORWEGIAN KRONE/US$</th>\n",
       "      <th>SWEDEN - KRONA/US$</th>\n",
       "      <th>SRI LANKA - SRI LANKAN RUPEE/US$</th>\n",
       "      <th>SWITZERLAND - FRANC/US$</th>\n",
       "      <th>TAIWAN - NEW TAIWAN DOLLAR/US$</th>\n",
       "      <th>THAILAND - BAHT/US$</th>\n",
       "    </tr>\n",
       "  </thead>\n",
       "  <tbody>\n",
       "    <tr>\n",
       "      <th>0</th>\n",
       "      <td>0</td>\n",
       "      <td>1/3/2000</td>\n",
       "      <td>1.5172</td>\n",
       "      <td>0.9847</td>\n",
       "      <td>1.9033</td>\n",
       "      <td>0.6146</td>\n",
       "      <td>1.8050</td>\n",
       "      <td>1.4465</td>\n",
       "      <td>8.2798</td>\n",
       "      <td>7.7765</td>\n",
       "      <td>...</td>\n",
       "      <td>1.6563</td>\n",
       "      <td>7.3290</td>\n",
       "      <td>101.70</td>\n",
       "      <td>3.8</td>\n",
       "      <td>7.964</td>\n",
       "      <td>8.4430</td>\n",
       "      <td>72.30</td>\n",
       "      <td>1.5808</td>\n",
       "      <td>31.38</td>\n",
       "      <td>36.97</td>\n",
       "    </tr>\n",
       "    <tr>\n",
       "      <th>1</th>\n",
       "      <td>1</td>\n",
       "      <td>1/4/2000</td>\n",
       "      <td>1.5239</td>\n",
       "      <td>0.9700</td>\n",
       "      <td>1.9238</td>\n",
       "      <td>0.6109</td>\n",
       "      <td>1.8405</td>\n",
       "      <td>1.4518</td>\n",
       "      <td>8.2799</td>\n",
       "      <td>7.7775</td>\n",
       "      <td>...</td>\n",
       "      <td>1.6535</td>\n",
       "      <td>7.2180</td>\n",
       "      <td>103.09</td>\n",
       "      <td>3.8</td>\n",
       "      <td>7.934</td>\n",
       "      <td>8.3600</td>\n",
       "      <td>72.65</td>\n",
       "      <td>1.5565</td>\n",
       "      <td>30.6</td>\n",
       "      <td>37.13</td>\n",
       "    </tr>\n",
       "    <tr>\n",
       "      <th>2</th>\n",
       "      <td>2</td>\n",
       "      <td>1/5/2000</td>\n",
       "      <td>1.5267</td>\n",
       "      <td>0.9676</td>\n",
       "      <td>1.9339</td>\n",
       "      <td>0.6092</td>\n",
       "      <td>1.8560</td>\n",
       "      <td>1.4518</td>\n",
       "      <td>8.2798</td>\n",
       "      <td>7.7780</td>\n",
       "      <td>...</td>\n",
       "      <td>1.6560</td>\n",
       "      <td>7.2080</td>\n",
       "      <td>103.77</td>\n",
       "      <td>3.8</td>\n",
       "      <td>7.935</td>\n",
       "      <td>8.3530</td>\n",
       "      <td>72.95</td>\n",
       "      <td>1.5526</td>\n",
       "      <td>30.8</td>\n",
       "      <td>37.10</td>\n",
       "    </tr>\n",
       "    <tr>\n",
       "      <th>3</th>\n",
       "      <td>3</td>\n",
       "      <td>1/6/2000</td>\n",
       "      <td>1.5291</td>\n",
       "      <td>0.9686</td>\n",
       "      <td>1.9436</td>\n",
       "      <td>0.6070</td>\n",
       "      <td>1.8400</td>\n",
       "      <td>1.4571</td>\n",
       "      <td>8.2797</td>\n",
       "      <td>7.7785</td>\n",
       "      <td>...</td>\n",
       "      <td>1.6655</td>\n",
       "      <td>7.2125</td>\n",
       "      <td>105.19</td>\n",
       "      <td>3.8</td>\n",
       "      <td>7.940</td>\n",
       "      <td>8.3675</td>\n",
       "      <td>72.95</td>\n",
       "      <td>1.5540</td>\n",
       "      <td>31.75</td>\n",
       "      <td>37.62</td>\n",
       "    </tr>\n",
       "    <tr>\n",
       "      <th>4</th>\n",
       "      <td>4</td>\n",
       "      <td>1/7/2000</td>\n",
       "      <td>1.5272</td>\n",
       "      <td>0.9714</td>\n",
       "      <td>1.9380</td>\n",
       "      <td>0.6104</td>\n",
       "      <td>1.8310</td>\n",
       "      <td>1.4505</td>\n",
       "      <td>8.2794</td>\n",
       "      <td>7.7783</td>\n",
       "      <td>...</td>\n",
       "      <td>1.6625</td>\n",
       "      <td>7.2285</td>\n",
       "      <td>105.17</td>\n",
       "      <td>3.8</td>\n",
       "      <td>7.966</td>\n",
       "      <td>8.4150</td>\n",
       "      <td>73.15</td>\n",
       "      <td>1.5623</td>\n",
       "      <td>30.85</td>\n",
       "      <td>37.30</td>\n",
       "    </tr>\n",
       "  </tbody>\n",
       "</table>\n",
       "<p>5 rows × 24 columns</p>\n",
       "</div>"
      ],
      "text/plain": [
       "   Index Time Serie  AUSTRALIA - AUSTRALIAN DOLLAR/US$  EURO AREA - EURO/US$  \\\n",
       "0      0   1/3/2000                             1.5172                0.9847   \n",
       "1      1   1/4/2000                             1.5239                0.9700   \n",
       "2      2   1/5/2000                             1.5267                0.9676   \n",
       "3      3   1/6/2000                             1.5291                0.9686   \n",
       "4      4   1/7/2000                             1.5272                0.9714   \n",
       "\n",
       "   NEW ZEALAND - NEW ZELAND DOLLAR/US$  \\\n",
       "0                               1.9033   \n",
       "1                               1.9238   \n",
       "2                               1.9339   \n",
       "3                               1.9436   \n",
       "4                               1.9380   \n",
       "\n",
       "   UNITED KINGDOM - UNITED KINGDOM POUND/US$  BRAZIL - REAL/US$  \\\n",
       "0                                     0.6146             1.8050   \n",
       "1                                     0.6109             1.8405   \n",
       "2                                     0.6092             1.8560   \n",
       "3                                     0.6070             1.8400   \n",
       "4                                     0.6104             1.8310   \n",
       "\n",
       "   CANADA - CANADIAN DOLLAR/US$  CHINA - YUAN/US$  \\\n",
       "0                        1.4465            8.2798   \n",
       "1                        1.4518            8.2799   \n",
       "2                        1.4518            8.2798   \n",
       "3                        1.4571            8.2797   \n",
       "4                        1.4505            8.2794   \n",
       "\n",
       "   HONG KONG - HONG KONG DOLLAR/US$  ... SINGAPORE - SINGAPORE DOLLAR/US$  \\\n",
       "0                            7.7765  ...                           1.6563   \n",
       "1                            7.7775  ...                           1.6535   \n",
       "2                            7.7780  ...                           1.6560   \n",
       "3                            7.7785  ...                           1.6655   \n",
       "4                            7.7783  ...                           1.6625   \n",
       "\n",
       "   DENMARK - DANISH KRONE/US$  JAPAN - YEN/US$  MALAYSIA - RINGGIT/US$  \\\n",
       "0                      7.3290           101.70                     3.8   \n",
       "1                      7.2180           103.09                     3.8   \n",
       "2                      7.2080           103.77                     3.8   \n",
       "3                      7.2125           105.19                     3.8   \n",
       "4                      7.2285           105.17                     3.8   \n",
       "\n",
       "   NORWAY - NORWEGIAN KRONE/US$  SWEDEN - KRONA/US$  \\\n",
       "0                         7.964              8.4430   \n",
       "1                         7.934              8.3600   \n",
       "2                         7.935              8.3530   \n",
       "3                         7.940              8.3675   \n",
       "4                         7.966              8.4150   \n",
       "\n",
       "   SRI LANKA - SRI LANKAN RUPEE/US$  SWITZERLAND - FRANC/US$  \\\n",
       "0                             72.30                   1.5808   \n",
       "1                             72.65                   1.5565   \n",
       "2                             72.95                   1.5526   \n",
       "3                             72.95                   1.5540   \n",
       "4                             73.15                   1.5623   \n",
       "\n",
       "   TAIWAN - NEW TAIWAN DOLLAR/US$  THAILAND - BAHT/US$  \n",
       "0                           31.38                36.97  \n",
       "1                            30.6                37.13  \n",
       "2                            30.8                37.10  \n",
       "3                           31.75                37.62  \n",
       "4                           30.85                37.30  \n",
       "\n",
       "[5 rows x 24 columns]"
      ]
     },
     "execution_count": 3,
     "metadata": {},
     "output_type": "execute_result"
    }
   ],
   "source": [
    "# Read the data into a Pandas dataframe and show the first 5 rows (just to \"see\" the data)\n",
    "df = pd.read_csv(\"../data/14_Foreign_Exchange_Rates_PureNumeric.csv\")\n",
    "df.head()"
   ]
  },
  {
   "cell_type": "code",
   "execution_count": 4,
   "metadata": {},
   "outputs": [
    {
     "name": "stdout",
     "output_type": "stream",
     "text": [
      "Data Type: <class 'numpy.ndarray'>\n",
      "  Dimension: 1\n",
      "       Size: 5019\n",
      "      Shape: (5019,)\n",
      "  Data Type: float64\n",
      "  Item Size: 8\n",
      "Data Buffer: <memory at 0x000002922316DD00>\n"
     ]
    }
   ],
   "source": [
    "# Grab the 'EURO AREA - EURO/US$'values as a NumPy array\n",
    "EUA = df['EURO AREA - EURO/US$'].values\n",
    "print(\"Data Type: {:}\".format(type(EUA)))\n",
    "show(EUA)"
   ]
  },
  {
   "cell_type": "markdown",
   "metadata": {},
   "source": [
    "**Problem 1**: In the next cell or cells, use the NumPy array functions to compute the mean, standard deviation, min, and max values(descriptive statistics) of \"EURO AREA - EURO/US$\" using the variable **EUA** created above. Make sure that you show the computed values and remember to use appropriate 'user friendly' formats for displaying the numbers."
   ]
  },
  {
   "cell_type": "code",
   "execution_count": 5,
   "metadata": {},
   "outputs": [],
   "source": [
    "# Start your solution here ... add additional cells as necessary"
   ]
  },
  {
   "cell_type": "markdown",
   "metadata": {},
   "source": [
    "### Calculate Mean for Column \"EURO AREA - EURO/US$\"\n"
   ]
  },
  {
   "cell_type": "code",
   "execution_count": 6,
   "metadata": {},
   "outputs": [
    {
     "name": "stdout",
     "output_type": "stream",
     "text": [
      "The mean exchange rate between Euro and US dollar is 0.84.\n"
     ]
    }
   ],
   "source": [
    "eu_us_mean = np.mean(EUA)\n",
    "print(\"The mean exchange rate between Euro and US dollar is {:.2f}.\".format(eu_us_mean))"
   ]
  },
  {
   "cell_type": "markdown",
   "metadata": {},
   "source": [
    "### Calculate Standard Deviation for Column \"EURO AREA - EURO/US$\""
   ]
  },
  {
   "cell_type": "code",
   "execution_count": 7,
   "metadata": {},
   "outputs": [
    {
     "name": "stdout",
     "output_type": "stream",
     "text": [
      "The standard deviation of exchange rate between Euro and US dollar is 0.13.\n"
     ]
    }
   ],
   "source": [
    "eu_us_std = np.std(EUA)\n",
    "print(\"The standard deviation of exchange rate between Euro and US dollar is {:.2f}.\".format(eu_us_std))"
   ]
  },
  {
   "cell_type": "markdown",
   "metadata": {},
   "source": [
    "### Calculate Minimum Value for Column \"EURO AREA - EURO/US$\""
   ]
  },
  {
   "cell_type": "code",
   "execution_count": 8,
   "metadata": {},
   "outputs": [
    {
     "name": "stdout",
     "output_type": "stream",
     "text": [
      "The minimum exchange rate between Euro and US dollar is 0.62.\n"
     ]
    }
   ],
   "source": [
    "eu_us_min = np.amin(EUA)\n",
    "print(\"The minimum exchange rate between Euro and US dollar is {:.2f}.\".format(eu_us_min))"
   ]
  },
  {
   "cell_type": "markdown",
   "metadata": {},
   "source": [
    "### Calculate Maximum Value for Column \"EURO AREA - EURO/US$\""
   ]
  },
  {
   "cell_type": "code",
   "execution_count": 9,
   "metadata": {},
   "outputs": [
    {
     "name": "stdout",
     "output_type": "stream",
     "text": [
      "The maximum exchange rate between Euro and US dollar is 1.21.\n"
     ]
    }
   ],
   "source": [
    "eu_us_max = np.amax(EUA)\n",
    "print(\"The maximum exchange rate between Euro and US dollar is {:.2f}.\".format(eu_us_max))"
   ]
  },
  {
   "cell_type": "code",
   "execution_count": 10,
   "metadata": {},
   "outputs": [
    {
     "name": "stdout",
     "output_type": "stream",
     "text": [
      "  Dimension: 2\n",
      "       Size: 15057\n",
      "      Shape: (5019, 3)\n",
      "  Data Type: float64\n",
      "  Item Size: 8\n",
      "Data Buffer: <memory at 0x000002922320B380>\n"
     ]
    }
   ],
   "source": [
    "# Grab some exchange values from Asian contries: JAPAN,CHINA, and THAILAND , slice as a Pandas dataframe and then store\n",
    "# the values as a NumPy array\n",
    "asiadf = df[['JAPAN - YEN/US$', 'CHINA - YUAN/US$', 'THAILAND - BAHT/US$']]\n",
    "asiaarray = asiadf.values\n",
    "show(asiaarray)"
   ]
  },
  {
   "cell_type": "markdown",
   "metadata": {},
   "source": [
    "**Problem 2**: In the next cell or cells, use the NumPy array functions to compute the mean, standard deviation, min, and max values (descriptive statistics) of the exchange rate of the above three Asian countries using the variable **asiaarray** array created above and then display the computed values. Note that we have three different exchange rates for these three countries - JAPAN, CHINA, and THAILAND - so you need to compute the descriptive statistics for all three countries (hint -- use the axis parameter in the function calls)."
   ]
  },
  {
   "cell_type": "code",
   "execution_count": 11,
   "metadata": {},
   "outputs": [],
   "source": [
    "# Start your solution here ... add additional cells as necessary"
   ]
  },
  {
   "cell_type": "markdown",
   "metadata": {},
   "source": [
    "### Calculate Mean for Those Three Column"
   ]
  },
  {
   "cell_type": "code",
   "execution_count": 12,
   "metadata": {},
   "outputs": [
    {
     "name": "stdout",
     "output_type": "stream",
     "text": [
      "The mean exchange rate between Japanese Yen and US dollar are 106.59.\n",
      "The mean exchange rate between Chinese Yuan and US dollar are 7.20.\n",
      "The mean exchange rate between Thailand Baht and US dollar are 35.52.\n"
     ]
    }
   ],
   "source": [
    "mean_list = np.mean(asiaarray, axis = 0)\n",
    "print(\"The mean exchange rate between Japanese Yen and US dollar are {:.2f}.\".format(mean_list[0]))\n",
    "print(\"The mean exchange rate between Chinese Yuan and US dollar are {:.2f}.\".format(mean_list[1]))\n",
    "print(\"The mean exchange rate between Thailand Baht and US dollar are {:.2f}.\".format(mean_list[2]))"
   ]
  },
  {
   "cell_type": "markdown",
   "metadata": {},
   "source": [
    "### Calculate Standard Deviation for Those Three Column"
   ]
  },
  {
   "cell_type": "code",
   "execution_count": 13,
   "metadata": {},
   "outputs": [
    {
     "name": "stdout",
     "output_type": "stream",
     "text": [
      "The Standard Deviation of exchange rate between Japanese Yen and US dollar are 13.21.\n",
      "The Standard Deviation of exchange rate between Chinese Yuan and US dollar are 0.82.\n",
      "The Standard Deviation of exchange rate between Thailand Baht and US dollar are 4.56.\n"
     ]
    }
   ],
   "source": [
    "std_list = np.std(asiaarray, axis = 0)\n",
    "print(\"The Standard Deviation of exchange rate between Japanese Yen and US dollar are {:.2f}.\".format(std_list[0]))\n",
    "print(\"The Standard Deviation of exchange rate between Chinese Yuan and US dollar are {:.2f}.\".format(std_list[1]))\n",
    "print(\"The Standard Deviation of exchange rate between Thailand Baht and US dollar are {:.2f}.\".format(std_list[2]))"
   ]
  },
  {
   "cell_type": "markdown",
   "metadata": {},
   "source": [
    "### Calculate Minimun Values for Those Three Column"
   ]
  },
  {
   "cell_type": "code",
   "execution_count": 14,
   "metadata": {},
   "outputs": [
    {
     "name": "stdout",
     "output_type": "stream",
     "text": [
      "The minimum exchange rate between Japanese Yen and US dollar are 75.72.\n",
      "The minimum exchange rate between Chinese Yuan and US dollar are 6.04.\n",
      "The minimum exchange rate between Thailand Baht and US dollar are 28.60.\n"
     ]
    }
   ],
   "source": [
    "min_list = np.amin(asiaarray, axis = 0)\n",
    "print(\"The minimum exchange rate between Japanese Yen and US dollar are {:.2f}.\".format(min_list[0]))\n",
    "print(\"The minimum exchange rate between Chinese Yuan and US dollar are {:.2f}.\".format(min_list[1]))\n",
    "print(\"The minimum exchange rate between Thailand Baht and US dollar are {:.2f}.\".format(min_list[2]))"
   ]
  },
  {
   "cell_type": "markdown",
   "metadata": {},
   "source": [
    "### Calculate Maximum Values for Those Three Column"
   ]
  },
  {
   "cell_type": "code",
   "execution_count": 15,
   "metadata": {},
   "outputs": [
    {
     "name": "stdout",
     "output_type": "stream",
     "text": [
      "The maximum exchange rate between Japanese Yen and US dollar are 134.77.\n",
      "The maximum exchange rate between Chinese Yuan and US dollar are 8.28.\n",
      "The maximum exchange rate between Thailand Baht and US dollar are 45.82.\n"
     ]
    }
   ],
   "source": [
    "max_list = np.amax(asiaarray, axis = 0)\n",
    "print(\"The maximum exchange rate between Japanese Yen and US dollar are {:.2f}.\".format(max_list[0]))\n",
    "print(\"The maximum exchange rate between Chinese Yuan and US dollar are {:.2f}.\".format(max_list[1]))\n",
    "print(\"The maximum exchange rate between Thailand Baht and US dollar are {:.2f}.\".format(max_list[2]))"
   ]
  },
  {
   "cell_type": "markdown",
   "metadata": {},
   "source": [
    "**Problem 3**: Suppose you want to take a vacation (**a week**) this Thanksgiving and you plan to choose one as your destination from the above three countries. After some investigation, you find the daily expense in each country is: \n",
    "\n",
    "1.  JAPAN - 7200 YEN/Day;\n",
    "2.  CHINA - 500 YUAN/Day; \n",
    "3.  THAILAND - 2400 BAHT/Day. \n",
    "\n",
    "You decide to choose the destination country who has the lowest cost (in US dollars). You can use mean, max, or min to help you make the final decision. So, answer the following question in the next cell or cells: \n",
    "\n",
    "1.  What country is your choice?\n",
    "2.  What is the total expected cost of your vacation (in US dollars)? \n",
    "3.  Discuss briefly how you made your decision (use a *Markdown* cell for this discussion)."
   ]
  },
  {
   "cell_type": "code",
   "execution_count": 16,
   "metadata": {},
   "outputs": [],
   "source": [
    "# Start your solution here ... add additional cells as necessary"
   ]
  },
  {
   "cell_type": "markdown",
   "metadata": {},
   "source": [
    "### Calculate The Best Choice"
   ]
  },
  {
   "cell_type": "code",
   "execution_count": 17,
   "metadata": {},
   "outputs": [
    {
     "name": "stdout",
     "output_type": "stream",
     "text": [
      "The best choice is Japan.\n"
     ]
    }
   ],
   "source": [
    "# Calculate average cost for each countries per day\n",
    "japan_cost = 7200 / mean_list[0]\n",
    "china_cost = 500 / mean_list[1]\n",
    "thai_cost = 2400 / mean_list[2]\n",
    "country = np.array([\"Japan\", \"China\", \"Thailand\"])\n",
    "cost_list = np.array([japan_cost, china_cost, thai_cost])\n",
    "min_index = np.argmin(cost_list)\n",
    "best_choice = country[min_index]\n",
    "print(\"The best choice is {}.\".format(best_choice))"
   ]
  },
  {
   "cell_type": "markdown",
   "metadata": {},
   "source": [
    "### Calcuate The Expected Vacation Cost"
   ]
  },
  {
   "cell_type": "code",
   "execution_count": 18,
   "metadata": {},
   "outputs": [
    {
     "name": "stdout",
     "output_type": "stream",
     "text": [
      "The expected vacation cost to Japan is $472.84.\n"
     ]
    }
   ],
   "source": [
    "# The expected vacation cost equals to cost per day multiply 7.\n",
    "expected_cost = japan_cost * 7\n",
    "print(\"The expected vacation cost to Japan is ${:,.2f}.\".format(expected_cost))"
   ]
  },
  {
   "cell_type": "markdown",
   "metadata": {},
   "source": [
    "### Explain My Decision\n",
    "I make this decision mainly according to the average cost per day over all period. First, I will calculate the mean exchange rate for all three countries. Then average cost per day for each country is given. Then, I will convert everything as cost in US dollar per day. Finally, the minimum value of cost in US dollar will be my best choice. And it turns out to be Japan."
   ]
  },
  {
   "cell_type": "code",
   "execution_count": 24,
   "metadata": {},
   "outputs": [
    {
     "name": "stdout",
     "output_type": "stream",
     "text": [
      "  Dimension: 1\n",
      "       Size: 5019\n",
      "      Shape: (5019,)\n",
      "  Data Type: float64\n",
      "  Item Size: 8\n",
      "Data Buffer: <memory at 0x000002069CC63400>\n"
     ]
    }
   ],
   "source": [
    "# Create an array for SWITZERLAND - FRANC/US$ \n",
    "switzerland = df['SWITZERLAND - FRANC/US$'].values\n",
    "show(switzerland)"
   ]
  },
  {
   "cell_type": "markdown",
   "metadata": {},
   "source": [
    "**Problem 4**: In the next cell or cells, count the number of days where the exchange rate for Switzerland was greater than 1.5."
   ]
  },
  {
   "cell_type": "code",
   "execution_count": 25,
   "metadata": {},
   "outputs": [],
   "source": [
    "# Start your solution here ... add additional cells as necessary"
   ]
  },
  {
   "cell_type": "markdown",
   "metadata": {},
   "source": [
    "### Count how many days  where the exchange rate for Switzerland was greater than 1.5."
   ]
  },
  {
   "cell_type": "code",
   "execution_count": 29,
   "metadata": {},
   "outputs": [
    {
     "name": "stdout",
     "output_type": "stream",
     "text": [
      "There are 648 days where the exchange rate for Switzerland was greater than 1.5.\n"
     ]
    }
   ],
   "source": [
    "# Numpy.count_nonzero() function will do this for me\n",
    "count = np.count_nonzero(switzerland > 1.5)\n",
    "print(\"There are {:,} days where the exchange rate for Switzerland was greater than 1.5.\".format(count))"
   ]
  },
  {
   "cell_type": "markdown",
   "metadata": {},
   "source": [
    "**Problem 5**: In the next cell or cells, count the number of days where the exchange rate for Switzerland was less than 1.0."
   ]
  },
  {
   "cell_type": "code",
   "execution_count": 30,
   "metadata": {},
   "outputs": [],
   "source": [
    "# Start your solution here ... add additional cells as necessary"
   ]
  },
  {
   "cell_type": "markdown",
   "metadata": {},
   "source": [
    "### Count how many days where the exchange rate for Switzerland was less than 1.0."
   ]
  },
  {
   "cell_type": "code",
   "execution_count": 31,
   "metadata": {},
   "outputs": [
    {
     "name": "stdout",
     "output_type": "stream",
     "text": [
      "There are 2,102 days where the exchange rate for Switzerland was greater than 1.0.\n"
     ]
    }
   ],
   "source": [
    "count = np.count_nonzero(switzerland < 1.0)\n",
    "print(\"There are {:,} days where the exchange rate for Switzerland was greater than 1.0.\".format(count))"
   ]
  },
  {
   "cell_type": "markdown",
   "metadata": {},
   "source": [
    "**Problem 6**: In the next cell or cells, create masks for the 'Time Series' that \"before year 2008\" and \"after year 2008\"(include year 2008) and compute the mean, std. dev., min, and max values of of the exchange rate for Switzerland that **a)** before year 2008; and **b)** after year 2008 (include year 2008).<br>\n",
    "**Hint**: You can use pd.to_datetime() to convert the string in 'Time Series' to a datetime object which is comparable (numerically). "
   ]
  },
  {
   "cell_type": "code",
   "execution_count": 33,
   "metadata": {},
   "outputs": [],
   "source": [
    "# Start your solution here ... add additional cells as necessary"
   ]
  },
  {
   "cell_type": "markdown",
   "metadata": {},
   "source": [
    "### Create a masks to get desired year data."
   ]
  },
  {
   "cell_type": "code",
   "execution_count": 34,
   "metadata": {},
   "outputs": [
    {
     "name": "stdout",
     "output_type": "stream",
     "text": [
      "Index(['1/3/2000', '1/4/2000', '1/5/2000', '1/6/2000', '1/7/2000', '1/10/2000',\n",
      "       '1/11/2000', '1/12/2000', '1/13/2000', '1/14/2000',\n",
      "       ...\n",
      "       '12/17/2019', '12/18/2019', '12/19/2019', '12/20/2019', '12/23/2019',\n",
      "       '12/24/2019', '12/26/2019', '12/27/2019', '12/30/2019', '12/31/2019'],\n",
      "      dtype='object', name='Time Serie', length=5019)\n",
      "DatetimeIndex(['2000-01-03', '2000-01-04', '2000-01-05', '2000-01-06',\n",
      "               '2000-01-07', '2000-01-10', '2000-01-11', '2000-01-12',\n",
      "               '2000-01-13', '2000-01-14',\n",
      "               ...\n",
      "               '2019-12-17', '2019-12-18', '2019-12-19', '2019-12-20',\n",
      "               '2019-12-23', '2019-12-24', '2019-12-26', '2019-12-27',\n",
      "               '2019-12-30', '2019-12-31'],\n",
      "              dtype='datetime64[ns]', name='Time Serie', length=5019, freq=None)\n"
     ]
    }
   ],
   "source": [
    "# set \"Time Serie\" as index first\n",
    "df = df.set_index('Time Serie')\n",
    "print(df.index)\n",
    "# convert index into datetime data type\n",
    "df.index = pd.to_datetime(df.index)\n",
    "print(df.index)"
   ]
  },
  {
   "cell_type": "code",
   "execution_count": 36,
   "metadata": {},
   "outputs": [],
   "source": [
    "# Create a mask to get data\n",
    "year_before_08 = [df['SWITZERLAND - FRANC/US$'].loc[i] for i in df.index if i.year < 2008]\n",
    "year_after_08 = [df['SWITZERLAND - FRANC/US$'].loc[j] for j in df.index if j.year >= 2008]\n",
    "year_before_08 = np.array(year_before_08)\n",
    "year_after_08 = np.array(year_after_08)"
   ]
  },
  {
   "cell_type": "markdown",
   "metadata": {},
   "source": [
    "### Calculate statistics"
   ]
  },
  {
   "cell_type": "code",
   "execution_count": 37,
   "metadata": {},
   "outputs": [
    {
     "name": "stdout",
     "output_type": "stream",
     "text": [
      "The mean exchange rate between Switzerland Franc and US dollar before 2008 is 1.40.\n",
      "The std of exchange rate between Switzerland Franc and US dollar before 2008 is 0.20.\n",
      "The minimum exchange rate between Switzerland Franc and US dollar before 2008 is 1.10.\n",
      "The maximum exchange rate between Switzerland Franc and US dollar before 2008 is 1.82.\n"
     ]
    }
   ],
   "source": [
    "# calculate statistics for date before 2008\n",
    "print(\"The mean exchange rate between Switzerland Franc and US dollar before 2008 is {:.2f}.\".format(np.mean(year_before_08)))\n",
    "print(\"The std of exchange rate between Switzerland Franc and US dollar before 2008 is {:.2f}.\".format(np.std(year_before_08)))\n",
    "print(\"The minimum exchange rate between Switzerland Franc and US dollar before 2008 is {:.2f}.\".format(np.amin(year_before_08)))\n",
    "print(\"The maximum exchange rate between Switzerland Franc and US dollar before 2008 is {:.2f}.\".format(np.amax(year_before_08)))\n"
   ]
  },
  {
   "cell_type": "code",
   "execution_count": 38,
   "metadata": {},
   "outputs": [
    {
     "name": "stdout",
     "output_type": "stream",
     "text": [
      "The mean exchange rate between Switzerland Franc and US dollar before 2008 is 0.98.\n",
      "The std exchange rate between Switzerland Franc and US dollar before 2008 is 0.07.\n",
      "The minimum exchange rate between Switzerland Franc and US dollar before 2008 is 0.73.\n",
      "The maximum exchange rate between Switzerland Franc and US dollar before 2008 is 1.22.\n"
     ]
    }
   ],
   "source": [
    "# calculate statistics for date after 2008\n",
    "print(\"The mean exchange rate between Switzerland Franc and US dollar before 2008 is {:.2f}.\".format(np.mean(year_after_08)))\n",
    "print(\"The std exchange rate between Switzerland Franc and US dollar before 2008 is {:.2f}.\".format(np.std(year_after_08)))\n",
    "print(\"The minimum exchange rate between Switzerland Franc and US dollar before 2008 is {:.2f}.\".format(np.amin(year_after_08)))\n",
    "print(\"The maximum exchange rate between Switzerland Franc and US dollar before 2008 is {:.2f}.\".format(np.amax(year_after_08)))\n"
   ]
  },
  {
   "cell_type": "markdown",
   "metadata": {},
   "source": [
    "### We don't even have to use masks to do this task. There is an easy way to slicing pandas dataframe."
   ]
  },
  {
   "cell_type": "code",
   "execution_count": 31,
   "metadata": {
    "scrolled": true
   },
   "outputs": [
    {
     "name": "stdout",
     "output_type": "stream",
     "text": [
      "Time Serie\n",
      "2000-01-03    1.5808\n",
      "2000-01-04    1.5565\n",
      "2000-01-05    1.5526\n",
      "2000-01-06    1.5540\n",
      "2000-01-07    1.5623\n",
      "               ...  \n",
      "2007-12-24    1.1567\n",
      "2007-12-26    1.1504\n",
      "2007-12-27    1.1409\n",
      "2007-12-28    1.1275\n",
      "2007-12-31    1.1329\n",
      "Name: SWITZERLAND - FRANC/US$, Length: 2013, dtype: float64\n"
     ]
    }
   ],
   "source": [
    "year_before_2008 = df['SWITZERLAND - FRANC/US$'][df['SWITZERLAND - FRANC/US$'].index.year < 2008]\n",
    "print(year_before_2008)"
   ]
  },
  {
   "cell_type": "code",
   "execution_count": null,
   "metadata": {},
   "outputs": [],
   "source": []
  }
 ],
 "metadata": {
  "kernelspec": {
   "display_name": "Python 3 (ipykernel)",
   "language": "python",
   "name": "python3"
  },
  "language_info": {
   "codemirror_mode": {
    "name": "ipython",
    "version": 3
   },
   "file_extension": ".py",
   "mimetype": "text/x-python",
   "name": "python",
   "nbconvert_exporter": "python",
   "pygments_lexer": "ipython3",
   "version": "3.8.8"
  }
 },
 "nbformat": 4,
 "nbformat_minor": 4
}
