{
 "cells": [
  {
   "cell_type": "code",
   "execution_count": 9,
   "id": "2a53a02b-0842-44d1-b2c3-fad3ead2b96a",
   "metadata": {},
   "outputs": [],
   "source": [
    "# Assignment 2 (Test of Significance, Regression, and Optimization)\n",
    "# I started by importing required libraries\n",
    "import numpy as np\n",
    "import pandas as pd\n",
    "import scipy.stats as stats\n",
    "import statsmodels.api as sm\n",
    "from scipy.optimize import linprog"
   ]
  },
  {
   "cell_type": "code",
   "execution_count": 10,
   "id": "442b0f33-bb56-4713-8e9f-076990cd046f",
   "metadata": {},
   "outputs": [
    {
     "name": "stdout",
     "output_type": "stream",
     "text": [
      "Hypothesis Test for Assembly Time\n",
      "Z-score = -2.5298221281347035\n",
      "P-value = 0.005706018193000823\n",
      "Conclusion = Reject null hypothesis: significant reduction in assembly time.\n",
      "\n",
      "\n"
     ]
    }
   ],
   "source": [
    "# SECTION 1 is all about Hypothesis Testing\n",
    "# Hypothesis Test for Reduction in Assembly Time\n",
    "\n",
    "# The given values for assembly time\n",
    "original_mean = 35           #This is the average time before training\n",
    "std_dev = 5                  # Standard deviation of assembly times\n",
    "sample_mean_time = 33        # Sample mean time post-training\n",
    "sample_size = 40             # A sample size\n",
    "alpha = 0.05                 # The significance level for test\n",
    "\n",
    "# Computing the z-score\n",
    "z_score = (sample_mean_time - original_mean) / (std_dev / np.sqrt(sample_size))\n",
    "\n",
    "# Finding the p-value (one-tailed test)\n",
    "p_val = stats.norm.cdf(z_score)\n",
    "\n",
    "# Making a decision based on the p-value and significance level\n",
    "if p_val < alpha:\n",
    "    conclusion = \"Reject null hypothesis: significant reduction in assembly time.\"\n",
    "else:\n",
    "    conclusion = \"Fail to reject null hypothesis: no significant reduction in assembly time.\"\n",
    "\n",
    "print(\"Hypothesis Test for Assembly Time\")\n",
    "print(f\"Z-score = {z_score}\")\n",
    "print(f\"P-value = {p_val}\")\n",
    "print(f\"Conclusion = {conclusion}\")\n",
    "print(\"\\n\")\n"
   ]
  },
  {
   "cell_type": "markdown",
   "id": "1edd7635-4f04-47d3-aa44-6989e6aae705",
   "metadata": {},
   "source": [
    "The goal was to test if the assembly time significantly decreased after a training program.\n",
    "\t•\tZ-score: -2.5290\n",
    "\t•\tP-value: 0.00576\n",
    "\n",
    "Since the p-value is less than the significance level (0.05), we reject the null hypothesis. This result indicates a significant reduction in assembly time following the training.\n"
   ]
  },
  {
   "cell_type": "code",
   "execution_count": 14,
   "id": "1efc68fd-c78f-4435-97ca-aa5e0adc82ad",
   "metadata": {},
   "outputs": [
    {
     "name": "stdout",
     "output_type": "stream",
     "text": [
      "Graduate Student Study Hours Hypothesis Test\n",
      "T-statistic = 1.7213259316477407\n",
      "P-value = 0.05360191367469436\n",
      "Conclusion = Fail to reject null hypothesis: insufficient evidence that study hours exceed 25 hours.\n",
      "\n",
      "\n"
     ]
    }
   ],
   "source": [
    "#Hypothesis Test for Graduate Student Study Hours \n",
    "#Given values for student study hours\n",
    "avg_study_hours = 25         \n",
    "sample_size_students = 15   \n",
    "sample_mean_hours = 27       \n",
    "sample_std_dev = 4.5         \n",
    "\n",
    "#Calculating the t-score\n",
    "t_stat = (sample_mean_hours - avg_study_hours) / (sample_std_dev / np.sqrt(sample_size_students))\n",
    "df = sample_size_students - 1  \n",
    "\n",
    "# Calculating the one-tailed p-value using the t-distribution\n",
    "p_value_study_hours = 1 - stats.t.cdf(t_stat, df=df)\n",
    "\n",
    "# Conclusion for the hypothesis test is decided\n",
    "if p_value_study_hours < alpha:\n",
    "    result = \"Reject null hypothesis: graduate students study significantly more than 25 hours per week.\"\n",
    "else:\n",
    "    result = \"Fail to reject null hypothesis: insufficient evidence that study hours exceed 25 hours.\"\n",
    "\n",
    "print(\"Graduate Student Study Hours Hypothesis Test\")\n",
    "print(f\"T-statistic = {t_stat}\")\n",
    "print(f\"P-value = {p_value_study_hours}\")\n",
    "print(f\"Conclusion = {result}\")\n",
    "print(\"\\n\")"
   ]
  },
  {
   "cell_type": "markdown",
   "id": "bbcc403b-4a7d-4205-9bbb-19c75d4a20fd",
   "metadata": {},
   "source": [
    "The objective was to determine if graduate students study, on average, more than 25 hours per week.\n",
    "\n",
    "\t•\tT-score: 1.7213\n",
    "\t•\tP-value: 0.0536\n",
    "\n",
    "Since the p-value is greater than the significance level (0.05), we fail to reject the null hypothesis. This result suggests insufficient evidence to conclude that graduate students study more than 25 hours per week.\n"
   ]
  },
  {
   "cell_type": "code",
   "execution_count": 19,
   "id": "03a8ca6f-f613-4df7-8047-f9a90761e8c0",
   "metadata": {},
   "outputs": [
    {
     "name": "stdout",
     "output_type": "stream",
     "text": [
      "Regression Analysis Results\n",
      "                            OLS Regression Results                            \n",
      "==============================================================================\n",
      "Dep. Variable:                 Scores   R-squared:                       1.000\n",
      "Model:                            OLS   Adj. R-squared:                  1.000\n",
      "Method:                 Least Squares   F-statistic:                 2.311e+16\n",
      "Date:                Wed, 30 Oct 2024   Prob (F-statistic):          2.20e-210\n",
      "Time:                        17:52:30   Log-Likelihood:                 374.09\n",
      "No. Observations:                  30   AIC:                            -744.2\n",
      "Df Residuals:                      28   BIC:                            -741.4\n",
      "Df Model:                           1                                         \n",
      "Covariance Type:            nonrobust                                         \n",
      "===============================================================================\n",
      "                  coef    std err          t      P>|t|      [0.025      0.975]\n",
      "-------------------------------------------------------------------------------\n",
      "const           2.1221   3.77e-07   5.63e+06      0.000       2.122       2.122\n",
      "Study Hours    10.0000   6.58e-08   1.52e+08      0.000      10.000      10.000\n",
      "==============================================================================\n",
      "Omnibus:                        5.046   Durbin-Watson:                   2.189\n",
      "Prob(Omnibus):                  0.080   Jarque-Bera (JB):                3.450\n",
      "Skew:                           0.771   Prob(JB):                        0.178\n",
      "Kurtosis:                       3.619   Cond. No.                         12.6\n",
      "==============================================================================\n",
      "\n",
      "Notes:\n",
      "[1] Standard Errors assume that the covariance matrix of the errors is correctly specified.\n",
      "\n",
      "\n"
     ]
    }
   ],
   "source": [
    "#SECTION 2 Regression Analysis\n",
    "# Data for hours of study and exam scores stored in python lists\n",
    "hours_study = [5, 8, 5, 7, 7, 8, 3, 8, 0, 8, 5, 0, 2, 8, 7, 7, 4, 4, 2, 6, 1, 7, 6, 2, 8, 0, 5, 8, 7, 4]\n",
    "scores = [52.1221, 82.1221, 52.1221, 72.1221, 72.1221, 82.1221, 32.1221, 82.1221, 2.122104, 82.1221, \n",
    "          52.1221, 2.122104, 22.1221, 82.1221, 72.1221, 72.1221, 42.1221, 42.1221, 22.1221, 62.1221, \n",
    "          12.1221, 72.1221, 62.1221, 22.1221, 82.1221, 2.122104, 52.1221, 82.1221, 72.1221, 42.1221]\n",
    "\n",
    "#Creating DataFrame for regression data\n",
    "df = pd.DataFrame({'Study Hours': hours_study, 'Scores': scores})\n",
    "\n",
    "#Adding a constant to predictor variables \n",
    "X = sm.add_constant(df['Study Hours']) \n",
    "Y = df['Scores']\n",
    "\n",
    "# Fitting my model and displaying a summary\n",
    "regression_model = sm.OLS(Y, X).fit()\n",
    "\n",
    "print(\"Regression Analysis Results\")\n",
    "print(regression_model.summary())\n",
    "print(\"\\n\")\n"
   ]
  },
  {
   "cell_type": "markdown",
   "id": "20098daa-c0de-48e5-8cc1-49e333649e97",
   "metadata": {},
   "source": [
    "The objective was to examine the relationship between hours of study and exam scores using a simple linear regression model.\n",
    "\n",
    "Regression Model Summary:\n",
    "\n",
    "\t•\tDependent Variable: Exam Score\n",
    "\t•\tIndependent Variable: Study Hours\n",
    "\t•\tR-squared: 1.000\n",
    "\t•\tThis value indicates that the model explains 100% of the variance in exam scores, suggesting a perfect linear relationship between study hours and scores.\n",
    "\n",
    "Coefficients:\n",
    "\n",
    "\t•\tIntercept (Constant): 2.1221\n",
    "\t•\tStudy Hours Coefficient: 10.0000\n",
    "\t•\tFor every additional hour of study, the exam score increases by 10 points.\n",
    "\n",
    "Statistical Significance:\n",
    "\n",
    "\t•\tp-values for both the intercept and study hours coefficient are 0.000, indicating that both are statistically significant at any reasonable significance level.\n",
    "\n",
    "Model Diagnostics:\n",
    "\n",
    "\t•\tF-statistic: 2.31e+16 with a p-value of 2.20e-210, confirming that the overall model fit is statistically significant.\n",
    "\t•\tDurbin-Watson: 2.189, suggesting no significant autocorrelation in residuals.\n"
   ]
  },
  {
   "cell_type": "code",
   "execution_count": 8,
   "id": "6d33fc90-b184-4252-8d9c-5832595f4fa6",
   "metadata": {},
   "outputs": [
    {
     "name": "stdout",
     "output_type": "stream",
     "text": [
      "Linear Optimization Results Are\n",
      "Optimal Production Units of Product A = 0.00\n",
      "Optimal Production Units of Product C = 22.14\n",
      "Maximum Production Output = 40.71\n",
      "Optimal Production Units of Product B = 18.57\n"
     ]
    }
   ],
   "source": [
    "# SECTION 3 is linear 0ptimization\n",
    "# We use negative coefficients for maximization in linprog\n",
    "objective = [-1, -1, -1]  \n",
    "\n",
    "# Machine hour constraints for each product X and Y machine hours per unit\n",
    "constraints = [\n",
    "    [4, 3, 2],   #machine Y hours required for every product\n",
    "    [2, 1, 3],  #machine X hours required for each product\n",
    "   \n",
    "]\n",
    "available_hours = [100, 85]  #This are the available hours for Machines X and Y\n",
    "\n",
    "# These are bounds for each variable \n",
    "bounds = [(0, None), (0, None), (0, None)]\n",
    "\n",
    "#Solving the linear programming problem\n",
    "lp_result = linprog(c=objective, A_ub=constraints, b_ub=available_hours, bounds=bounds, method='highs')\n",
    "\n",
    "#Displaying results if the optimization is successful\n",
    "print(\"Linear Optimization Results Are\")\n",
    "if lp_result.success:\n",
    "    print(f\"Optimal Production Units of Product A = {lp_result.x[0]:.2f}\")\n",
    "    print(f\"Optimal Production Units of Product C = {lp_result.x[2]:.2f}\")\n",
    "    print(f\"Maximum Production Output = {-lp_result.fun:.2f}\")\n",
    "    print(f\"Optimal Production Units of Product B = {lp_result.x[1]:.2f}\")    \n",
    "else:\n",
    "    print(\"The optimization failed to find a solution.\")"
   ]
  },
  {
   "cell_type": "markdown",
   "id": "ccdc01dd-a2e3-468c-99fe-8f38a1d1a14b",
   "metadata": {},
   "source": [
    "The objective was to maximize production output for three products (A, B, and C) given the constraints on machine hours for Machine X and Machine Y.\n",
    "\n",
    "Problem Setup:\n",
    "\n",
    "\tObjective Coefficients: [-1, -1, -1] (used as negatives to maximize in linprog)\n",
    "\tConstraints:\n",
    "\t•\tProduct A requires 2 hours on Machine X and 4 hours on Machine Y.\n",
    "\t•\tProduct B requires 1 hour on Machine X and 3 hours on Machine Y.\n",
    "\t•\tProduct C requires 3 hours on Machine X and 2 hours on Machine Y.\n",
    "\tAvailable Hours:\n",
    "\t•\tMachine X: 100 hours\n",
    "\t•\tMachine Y: 85 hours\n",
    "\n",
    "    Results:\n",
    "\n",
    "\tOptimal Production Units:\n",
    "\t•\tProduct A: 0.00 units\n",
    "\t•\tProduct B: 18.57 units\n",
    "\t•\tProduct C: 22.14 units\n",
    "\tMaximum Production Output: 40.71 units\n",
    "\n",
    "This result suggests that to maximize output given the machine constraints, the company should focus on producing Products B and C, with no production of Product A.\n"
   ]
  }
 ],
 "metadata": {
  "kernelspec": {
   "display_name": "Python 3 (ipykernel)",
   "language": "python",
   "name": "python3"
  },
  "language_info": {
   "codemirror_mode": {
    "name": "ipython",
    "version": 3
   },
   "file_extension": ".py",
   "mimetype": "text/x-python",
   "name": "python",
   "nbconvert_exporter": "python",
   "pygments_lexer": "ipython3",
   "version": "3.12.4"
  }
 },
 "nbformat": 4,
 "nbformat_minor": 5
}
