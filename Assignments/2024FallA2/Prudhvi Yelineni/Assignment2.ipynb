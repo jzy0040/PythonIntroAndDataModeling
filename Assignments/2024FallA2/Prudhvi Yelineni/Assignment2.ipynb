{
 "cells": [
  {
   "cell_type": "code",
   "execution_count": null,
   "metadata": {},
   "outputs": [
    {
     "name": "stdout",
     "output_type": "stream",
     "text": [
      "Test Statistic (z): -2.5298221281347035\n",
      "Critical Value: 1.6448536269514722\n",
      "P-value: 0.005706018193000824\n",
      "Reject the null hypothesis: There is significant evidence that the average assembly time has decreased.\n"
     ]
    }
   ],
   "source": [
    "import numpy as np\n",
    "from scipy import stats\n",
    "\n",
    "# 1. Test of Significance for Assembly Time\n",
    "\n",
    "# Given data\n",
    "population_mean = 35\n",
    "sample_mean = 33\n",
    "population_std_dev = 5\n",
    "sample_size = 40\n",
    "\n",
    "# Calculate the test statistic (z-score)\n",
    "z = (sample_mean - population_mean) / (population_std_dev / np.sqrt(sample_size))\n",
    "print(f\"Test Statistic (z): {z}\")\n",
    "\n",
    "# Find the critical value for a one-tailed test at alpha = 0.05\n",
    "alpha = 0.05\n",
    "critical_value = stats.norm.ppf(1 - alpha)\n",
    "print(f\"Critical Value: {critical_value}\")\n",
    "\n",
    "# Calculate the p-value\n",
    "p_value = stats.norm.cdf(z)\n",
    "print(f\"P-value: {p_value}\")\n",
    "\n",
    "# Conclusion\n",
    "if p_value < alpha:\n",
    "    print(\"Reject the null hypothesis: There is significant evidence that the average assembly time has decreased.\")\n",
    "else:\n",
    "    print(\"Fail to reject the null hypothesis: No significant evidence of a decrease in assembly time.\")\n"
   ]
  },
  {
   "cell_type": "code",
   "execution_count": null,
   "metadata": {},
   "outputs": [
    {
     "name": "stdout",
     "output_type": "stream",
     "text": [
      "Test Statistic (t): 1.7213259316477407\n",
      "Critical Value (t): 1.7613101357748562\n",
      "P-value: 0.05360191367469436\n",
      "Fail to reject the null hypothesis: No significant evidence that graduate students study more than 25 hours.\n"
     ]
    }
   ],
   "source": [
    "# 2. Test of Significance for Graduate Students Study Hours\n",
    "# Given data\n",
    "population_mean_study = 25\n",
    "sample_mean_study = 27\n",
    "sample_std_dev = 4.5\n",
    "sample_size_study = 15\n",
    "\n",
    "# Calculate the test statistic (t-score)\n",
    "t = (sample_mean_study - population_mean_study) / (sample_std_dev / np.sqrt(sample_size_study))\n",
    "print(f\"Test Statistic (t): {t}\")\n",
    "\n",
    "# Find the critical value for a one-tailed test at alpha = 0.05 with df = n - 1\n",
    "df = sample_size_study - 1\n",
    "critical_value_study = stats.t.ppf(1 - alpha, df)\n",
    "print(f\"Critical Value (t): {critical_value_study}\")\n",
    "\n",
    "# Calculate the p-value\n",
    "p_value_study = 1 - stats.t.cdf(t, df)\n",
    "print(f\"P-value: {p_value_study}\")\n",
    "\n",
    "# Conclusion\n",
    "if p_value_study < alpha:\n",
    "    print(\"Reject the null hypothesis: There is significant evidence that graduate students study more than 25 hours per week.\")\n",
    "else:\n",
    "    print(\"Fail to reject the null hypothesis: No significant evidence that graduate students study more than 25 hours.\")\n"
   ]
  },
  {
   "cell_type": "code",
   "execution_count": null,
   "metadata": {},
   "outputs": [
    {
     "name": "stdout",
     "output_type": "stream",
     "text": [
      "Length of Hours of Study: 30\n",
      "Length of Score: 30\n",
      "                            OLS Regression Results                            \n",
      "==============================================================================\n",
      "Dep. Variable:                  Score   R-squared:                       0.598\n",
      "Model:                            OLS   Adj. R-squared:                  0.583\n",
      "Method:                 Least Squares   F-statistic:                     41.58\n",
      "Date:                Thu, 31 Oct 2024   Prob (F-statistic):           5.53e-07\n",
      "Time:                        10:34:02   Log-Likelihood:                -126.80\n",
      "No. Observations:                  30   AIC:                             257.6\n",
      "Df Residuals:                      28   BIC:                             260.4\n",
      "Df Model:                           1                                         \n",
      "Covariance Type:            nonrobust                                         \n",
      "==================================================================================\n",
      "                     coef    std err          t      P>|t|      [0.025      0.975]\n",
      "----------------------------------------------------------------------------------\n",
      "const             17.4673      6.491      2.691      0.012       4.172      30.763\n",
      "Hours of Study     7.4806      1.160      6.448      0.000       5.104       9.857\n",
      "==============================================================================\n",
      "Omnibus:                        8.132   Durbin-Watson:                   1.711\n",
      "Prob(Omnibus):                  0.017   Jarque-Bera (JB):                6.470\n",
      "Skew:                           0.934   Prob(JB):                       0.0394\n",
      "Kurtosis:                       4.298   Cond. No.                         11.9\n",
      "==============================================================================\n",
      "\n",
      "Notes:\n",
      "[1] Standard Errors assume that the covariance matrix of the errors is correctly specified.\n"
     ]
    }
   ],
   "source": [
    "import pandas as pd\n",
    "import statsmodels.api as sm\n",
    "\n",
    "\n",
    "# 3. Simple Linear Regression Analysis\n",
    "\n",
    "# Corrected data input\n",
    "data = {\n",
    "    \"Hours of Study\": [5, 5, 7, 3, 0, 5, 2, 7, 4, 2, 1, 6, 8, 5, 7,\n",
    "                       8, 8, 8, 7, 8, 8, 0, 2, 0, 2, 6, 7, 4, 4, 8],\n",
    "    \"Score\": [52.1221, 52.1221, 72.1221, 32.1221, 2.122104, 52.1221,\n",
    "              22.1221, 72.1221, 42.1221, 22.1221, 12.1221, 62.1221,\n",
    "              82.1221, 52.1221, 72.1221, 82.1221, 82.1221, 72.1221,\n",
    "              72.1221, 82.1221, 82.1221, 2.122104, 2.122104, 62.1221,\n",
    "              72.1221, 42.1221, 42.1221, 62.1221, 82.1221, 82.1221]\n",
    "}\n",
    "\n",
    "# Check lengths of data\n",
    "print(f\"Length of Hours of Study: {len(data['Hours of Study'])}\")\n",
    "print(f\"Length of Score: {len(data['Score'])}\")\n",
    "\n",
    "# Create DataFrame\n",
    "df = pd.DataFrame(data)\n",
    "\n",
    "# Fit the model\n",
    "X = sm.add_constant(df[\"Hours of Study\"])  # Add a constant for the intercept\n",
    "y = df[\"Score\"]\n",
    "model = sm.OLS(y, X).fit()\n",
    "\n",
    "# Summary\n",
    "print(model.summary())\n"
   ]
  },
  {
   "cell_type": "code",
   "execution_count": null,
   "metadata": {},
   "outputs": [
    {
     "name": "stdout",
     "output_type": "stream",
     "text": [
      "Status: Optimal\n",
      "Optimal Production of Product A (x1): 0.0\n",
      "Optimal Production of Product B (x2): 7.8571429\n",
      "Optimal Production of Product C (x3): 30.714286\n",
      "Maximum Total Production: 38.5714289\n"
     ]
    }
   ],
   "source": [
    "from pulp import LpProblem, LpMaximize, LpVariable, lpSum, LpStatus, value\n",
    "\n",
    "# 4. Linear Optimization Problem\n",
    "\n",
    "# Create the linear programming problem\n",
    "problem = LpProblem(\"Maximize_Production\", LpMaximize)\n",
    "\n",
    "# Define decision variables\n",
    "x1 = LpVariable('x1', lowBound=0, cat='Continuous')  # Product A\n",
    "x2 = LpVariable('x2', lowBound=0, cat='Continuous')  # Product B\n",
    "x3 = LpVariable('x3', lowBound=0, cat='Continuous')  # Product C\n",
    "\n",
    "# Objective function\n",
    "problem += lpSum([x1 + x2 + x3]), \"Total_Production\"\n",
    "\n",
    "# Constraints\n",
    "problem += (2 * x1 + 1 * x2 + 3 * x3 <= 100, \"Machine_X\")\n",
    "problem += (4 * x1 + 3 * x2 + 2 * x3 <= 85, \"Machine_Y\")\n",
    "\n",
    "# Solve the problem\n",
    "problem.solve()\n",
    "\n",
    "# Output the results\n",
    "print(\"Status:\", LpStatus[problem.status])\n",
    "print(\"Optimal Production of Product A (x1):\", value(x1))\n",
    "print(\"Optimal Production of Product B (x2):\", value(x2))\n",
    "print(\"Optimal Production of Product C (x3):\", value(x3))\n",
    "print(\"Maximum Total Production:\", value(problem.objective))\n"
   ]
  }
 ],
 "metadata": {
  "kernelspec": {
   "display_name": "Python 3 (ipykernel)",
   "language": "python",
   "name": "python3"
  },
  "language_info": {
   "codemirror_mode": {
    "name": "ipython",
    "version": 3
   },
   "file_extension": ".py",
   "mimetype": "text/x-python",
   "name": "python",
   "nbconvert_exporter": "python",
   "pygments_lexer": "ipython3",
   "version": "3.11.7"
  }
 },
 "nbformat": 4,
 "nbformat_minor": 4
}
