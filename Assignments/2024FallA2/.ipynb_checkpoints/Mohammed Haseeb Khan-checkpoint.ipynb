{
 "cells": [
  {
   "cell_type": "code",
   "execution_count": 1,
   "id": "c724dbc8-aaaa-4cf0-918f-6bc63f5bf02f",
   "metadata": {},
   "outputs": [],
   "source": [
    "# Task one is importing the libraries Required for this analysis Analysis\n",
    "import scipy.stats as stats\n",
    "import statsmodels.api as sm\n",
    "from scipy.optimize import linprog\n",
    "import numpy as np\n",
    "import pandas as pd\n"
   ]
  },
  {
   "cell_type": "code",
   "execution_count": 8,
   "id": "69a47415-4998-4946-9aef-1de67c9ecaa8",
   "metadata": {},
   "outputs": [
    {
     "name": "stdout",
     "output_type": "stream",
     "text": [
      "Graduate Students' Study Hours Hypothesis Test\n",
      "T-score is 1.7213259316477407\n",
      "P-value is 0.05360191367469436\n",
      "Conclusion =  Do not reject the null hypothesis due to insufficient evidence for >25 study hours.\n"
     ]
    }
   ],
   "source": [
    "#PART 1\n",
    "#Here we are testing Graduate Students' Study Hours Hypothesis\n",
    "\n",
    "# I first define parameters for study hours hypothesis test\n",
    "expected_study_hours = 25            # Hypothetical average study time\n",
    "observed_study_avg = 27              # Observed average study time\n",
    "observed_study_std_dev = 4.5         #Standard deviation of study times\n",
    "student_sample_size = 15             #Sample size\n",
    "degrees_of_freedom = student_sample_size - 1  \n",
    "\n",
    "#Then we compute the t-score\n",
    "t_statistic = (observed_study_avg - expected_study_hours) / (observed_study_std_dev / np.sqrt(student_sample_size))\n",
    "\n",
    "#Calculating the p-value \n",
    "p_value_study_hours = 1 - stats.t.cdf(t_statistic, df=degrees_of_freedom)\n",
    "\n",
    "# Interpretation considering the p-value and significance level\n",
    "if p_value_study_hours < significance_level:\n",
    "    study_hours_conclusion = \"Reject the null hypothesis since students study significantly more than 25 hours.\"\n",
    "else:\n",
    "    study_hours_conclusion = \"Do not reject the null hypothesis due to insufficient evidence for >25 study hours.\"\n",
    "\n",
    "print(\"Graduate Students' Study Hours Hypothesis Test\")\n",
    "print(f\"T-score is {t_statistic}\")\n",
    "print(f\"P-value is {p_value_study_hours}\")\n",
    "print(f\"Conclusion =  {study_hours_conclusion}\")\n",
    "\n"
   ]
  },
  {
   "cell_type": "code",
   "execution_count": 9,
   "id": "4acc5dac-80ef-4919-a095-46a1ad8258ea",
   "metadata": {},
   "outputs": [
    {
     "name": "stdout",
     "output_type": "stream",
     "text": [
      "Assembly Time Hypothesis Test Results are\n",
      "P-value is equal to 0.005706018193000824\n",
      "Z-score is -2.5298221281347035\n",
      "The final conclusion is Rejecting the null hypothesis since assembly time significantly reduced.\n",
      "\n",
      "\n"
     ]
    }
   ],
   "source": [
    "# PART 2 Hypothesis Testing\n",
    "#Testing Assembly Time Reduction Hypothesis \n",
    "\n",
    "# I defined parameters for assembly time (given values)\n",
    "pre_training_avg_time = 35    #Pre-training mean assembly time\n",
    "time_std_dev = 5              #Known standard deviation of assembly times\n",
    "significance_level = 0.05    \n",
    "post_training_avg_time = 33   # Sample mean assembly time post-training\n",
    "sample_count = 40             #Number of samples in post-training group\n",
    "\n",
    "# Then i calculate the Z-score\n",
    "z_statistic = (post_training_avg_time - pre_training_avg_time) / (time_std_dev / np.sqrt(sample_count))\n",
    "\n",
    "# Computing the p-value \n",
    "p_value_assembly = stats.norm.cdf(z_statistic)\n",
    "\n",
    "#Making decision based on the alpha & p-value \n",
    "if p_value_assembly < significance_level:\n",
    "    assembly_conclusion = \"Rejecting the null hypothesis since assembly time significantly reduced.\"\n",
    "else:\n",
    "    assembly_conclusion = \"Do not reject the null hypothesis since we dont have a significant reduction in assembly time.\"\n",
    "\n",
    "print(\"Assembly Time Hypothesis Test Results are\")\n",
    "print(f\"P-value is equal to {p_value_assembly}\")\n",
    "print(f\"Z-score is {z_statistic}\")\n",
    "print(f\"The final conclusion is {assembly_conclusion}\")\n",
    "print(\"\\n\")"
   ]
  },
  {
   "cell_type": "code",
   "execution_count": 7,
   "id": "a2739568-e7c6-4b9c-a35a-ee9b9127733b",
   "metadata": {},
   "outputs": [
    {
     "name": "stdout",
     "output_type": "stream",
     "text": [
      "Regression Analysis Summary\n",
      "                            OLS Regression Results                            \n",
      "==============================================================================\n",
      "Dep. Variable:                 Scores   R-squared:                       1.000\n",
      "Model:                            OLS   Adj. R-squared:                  1.000\n",
      "Method:                 Least Squares   F-statistic:                 2.311e+16\n",
      "Date:                Tue, 29 Oct 2024   Prob (F-statistic):          2.20e-210\n",
      "Time:                        21:25:47   Log-Likelihood:                 374.09\n",
      "No. Observations:                  30   AIC:                            -744.2\n",
      "Df Residuals:                      28   BIC:                            -741.4\n",
      "Df Model:                           1                                         \n",
      "Covariance Type:            nonrobust                                         \n",
      "===============================================================================\n",
      "                  coef    std err          t      P>|t|      [0.025      0.975]\n",
      "-------------------------------------------------------------------------------\n",
      "const           2.1221   3.77e-07   5.63e+06      0.000       2.122       2.122\n",
      "Study Hours    10.0000   6.58e-08   1.52e+08      0.000      10.000      10.000\n",
      "==============================================================================\n",
      "Omnibus:                        5.046   Durbin-Watson:                   2.189\n",
      "Prob(Omnibus):                  0.080   Jarque-Bera (JB):                3.450\n",
      "Skew:                           0.771   Prob(JB):                        0.178\n",
      "Kurtosis:                       3.619   Cond. No.                         12.6\n",
      "==============================================================================\n",
      "\n",
      "Notes:\n",
      "[1] Standard Errors assume that the covariance matrix of the errors is correctly specified.\n"
     ]
    }
   ],
   "source": [
    "# PART 2 Regression Analysis\n",
    "# Input data for hours of study and exam scores for regression analysis\n",
    "ExamScores = [52.1221, 82.1221, 52.1221, 72.1221, 72.1221, 82.1221, 32.1221, 82.1221, 2.122104, 82.1221, \n",
    "               52.1221, 2.122104, 22.1221, 82.1221, 72.1221, 72.1221, 42.1221, 42.1221, 22.1221, 62.1221, \n",
    "               12.1221, 72.1221, 62.1221, 22.1221, 82.1221, 2.122104, 52.1221, 82.1221, 72.1221, 42.1221]\n",
    "\n",
    "studyHours = [5, 8, 5, 7, 7, 8, 3, 8, 0, 8, 5, 0, 2, 8, 7, 7, 4, 4, 2, 6, 1, 7, 6, 2, 8, 0, 5, 8, 7, 4]\n",
    "\n",
    "# Converting data into a DataFrame for easy manipulation\n",
    "Data = pd.DataFrame({'Study Hours': studyHours, 'Scores': ExamScores})\n",
    "\n",
    "# Set up independent variable (Study Hours) with a constant for regression intercept\n",
    "X_var = sm.add_constant(Data['Study Hours'])  \n",
    "Y_var = Data['Scores']\n",
    "\n",
    "# Fitting the regression model and print summary\n",
    "regressionModel = sm.OLS(Y_var, X_var).fit()\n",
    "\n",
    "print(\"Regression Analysis Summary\")\n",
    "print(regressionModel.summary())\n"
   ]
  },
  {
   "cell_type": "code",
   "execution_count": 6,
   "id": "94fb2564-98b7-4afd-97f4-c2eb97850018",
   "metadata": {},
   "outputs": [
    {
     "name": "stdout",
     "output_type": "stream",
     "text": [
      "Optimal Production of Product A is 0.00\n",
      "Optimal Production of Product B is 7.86\n",
      "Optimal Production of Product C is 30.71\n",
      "Maximum Production Output: 38.57\n"
     ]
    }
   ],
   "source": [
    "#Linear Programming Optimization\n",
    "#Objective function\n",
    "profitCoefficients = [-1, -1, -1]\n",
    "\n",
    "# Constraints based on machine hours needed per product unit\n",
    "constraintsMatrix = [\n",
    "    [2, 1, 3],  #Hours on Machine X per product\n",
    "    [4, 3, 2]   #Hours on Machine Y per product\n",
    "]\n",
    "machineHours = [100, 85]  #total available hours for each machine\n",
    "production_limits = [(0, None), (0, None), (0, None)]\n",
    "\n",
    "# Solvinging the linear programming problem\n",
    "optimization_result = linprog(c=profitCoefficients, A_ub=constraintsMatrix, b_ub=machineHours, bounds=production_limits, method='highs')\n",
    "\n",
    "# printing results after optimization\n",
    "if optimization_result.success:\n",
    "    print(f\"Optimal Production of Product A is {optimization_result.x[0]:.2f}\")\n",
    "    print(f\"Optimal Production of Product B is {optimization_result.x[1]:.2f}\")\n",
    "    print(f\"Optimal Production of Product C is {optimization_result.x[2]:.2f}\")\n",
    "    print(f\"Maximum Production Output: {-optimization_result.fun:.2f}\")\n",
    "else:\n",
    "    print(\"No feasible solution found for the optimization problem.\")"
   ]
  }
 ],
 "metadata": {
  "kernelspec": {
   "display_name": "Python 3 (ipykernel)",
   "language": "python",
   "name": "python3"
  },
  "language_info": {
   "codemirror_mode": {
    "name": "ipython",
    "version": 3
   },
   "file_extension": ".py",
   "mimetype": "text/x-python",
   "name": "python",
   "nbconvert_exporter": "python",
   "pygments_lexer": "ipython3",
   "version": "3.12.4"
  }
 },
 "nbformat": 4,
 "nbformat_minor": 5
}
