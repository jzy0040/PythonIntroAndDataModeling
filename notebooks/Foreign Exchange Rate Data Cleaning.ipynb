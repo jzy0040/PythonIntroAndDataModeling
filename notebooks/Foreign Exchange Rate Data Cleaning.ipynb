{
 "cells": [
  {
   "cell_type": "markdown",
   "metadata": {},
   "source": [
    "# Foreign Exchange Rate Data Cleaning\n",
    "\n",
    "Datafile: \"14_Foreign_Exchange_Rates _WithErrors.csv\"\n",
    "\n",
    "2020-10-20 - Jingwei Liu"
   ]
  },
  {
   "cell_type": "code",
   "execution_count": 1,
   "metadata": {},
   "outputs": [],
   "source": [
    "#import the tools:numpy,pandas and matplotlib\n",
    "%matplotlib inline\n",
    "import numpy as np\n",
    "import pandas as pd\n",
    "import matplotlib.pyplot as plt"
   ]
  },
  {
   "cell_type": "markdown",
   "metadata": {},
   "source": [
    "## At the beginning, understanding the data is very important\n",
    "If you know the meaning of each column, the data type of each column, the range of each column(if applicable), all those can give you a great help in cleaning the data"
   ]
  },
  {
   "cell_type": "markdown",
   "metadata": {},
   "source": [
    "## First, let's read the data as a pandas dataframe\n",
    "Generally, pandas dataframe can provide an easy way for us to check the data. After learning the pandas dataframe, you should know that the columns of a pandas dataframe are homogeneous (if type), which means all cells in a same column have the same data type."
   ]
  },
  {
   "cell_type": "code",
   "execution_count": 2,
   "metadata": {},
   "outputs": [
    {
     "data": {
      "text/html": [
       "<div>\n",
       "<style scoped>\n",
       "    .dataframe tbody tr th:only-of-type {\n",
       "        vertical-align: middle;\n",
       "    }\n",
       "\n",
       "    .dataframe tbody tr th {\n",
       "        vertical-align: top;\n",
       "    }\n",
       "\n",
       "    .dataframe thead th {\n",
       "        text-align: right;\n",
       "    }\n",
       "</style>\n",
       "<table border=\"1\" class=\"dataframe\">\n",
       "  <thead>\n",
       "    <tr style=\"text-align: right;\">\n",
       "      <th></th>\n",
       "      <th>Index</th>\n",
       "      <th>Time Serie</th>\n",
       "      <th>AUSTRALIA - AUSTRALIAN DOLLAR/US$</th>\n",
       "      <th>EURO AREA - EURO/US$</th>\n",
       "      <th>NEW ZEALAND - NEW ZELAND DOLLAR/US$</th>\n",
       "      <th>UNITED KINGDOM - UNITED KINGDOM POUND/US$</th>\n",
       "      <th>BRAZIL - REAL/US$</th>\n",
       "      <th>CANADA - CANADIAN DOLLAR/US$</th>\n",
       "      <th>CHINA - YUAN/US$</th>\n",
       "      <th>HONG KONG - HONG KONG DOLLAR/US$</th>\n",
       "      <th>...</th>\n",
       "      <th>SINGAPORE - SINGAPORE DOLLAR/US$</th>\n",
       "      <th>DENMARK - DANISH KRONE/US$</th>\n",
       "      <th>JAPAN - YEN/US$</th>\n",
       "      <th>MALAYSIA - RINGGIT/US$</th>\n",
       "      <th>NORWAY - NORWEGIAN KRONE/US$</th>\n",
       "      <th>SWEDEN - KRONA/US$</th>\n",
       "      <th>SRI LANKA - SRI LANKAN RUPEE/US$</th>\n",
       "      <th>SWITZERLAND - FRANC/US$</th>\n",
       "      <th>TAIWAN - NEW TAIWAN DOLLAR/US$</th>\n",
       "      <th>THAILAND - BAHT/US$</th>\n",
       "    </tr>\n",
       "  </thead>\n",
       "  <tbody>\n",
       "    <tr>\n",
       "      <th>0</th>\n",
       "      <td>0</td>\n",
       "      <td>1/3/2000</td>\n",
       "      <td>1.5172</td>\n",
       "      <td>0.9847</td>\n",
       "      <td>1.9033</td>\n",
       "      <td>0.6146</td>\n",
       "      <td>1.805</td>\n",
       "      <td>1.4465</td>\n",
       "      <td>8.2798</td>\n",
       "      <td>7.7765</td>\n",
       "      <td>...</td>\n",
       "      <td>1.6563</td>\n",
       "      <td>7.329</td>\n",
       "      <td>101.7</td>\n",
       "      <td>3.8</td>\n",
       "      <td>7.964</td>\n",
       "      <td>8.443</td>\n",
       "      <td>72.3</td>\n",
       "      <td>1.5808</td>\n",
       "      <td>31.38</td>\n",
       "      <td>36.97</td>\n",
       "    </tr>\n",
       "    <tr>\n",
       "      <th>1</th>\n",
       "      <td>1</td>\n",
       "      <td>1/4/2000</td>\n",
       "      <td>1.5239</td>\n",
       "      <td>0.97</td>\n",
       "      <td>1.9238</td>\n",
       "      <td>0.6109</td>\n",
       "      <td>1.8405</td>\n",
       "      <td>1.4518</td>\n",
       "      <td>8.2799</td>\n",
       "      <td>7.7775</td>\n",
       "      <td>...</td>\n",
       "      <td>1.6535</td>\n",
       "      <td>7.218</td>\n",
       "      <td>103.09</td>\n",
       "      <td>3.8</td>\n",
       "      <td>7.934</td>\n",
       "      <td>8.36</td>\n",
       "      <td>72.65</td>\n",
       "      <td>1.5565</td>\n",
       "      <td>30.6</td>\n",
       "      <td>37.13</td>\n",
       "    </tr>\n",
       "    <tr>\n",
       "      <th>2</th>\n",
       "      <td>2</td>\n",
       "      <td>1/5/2000</td>\n",
       "      <td>1.5267</td>\n",
       "      <td>0.9676</td>\n",
       "      <td>1.9339</td>\n",
       "      <td>0.6092</td>\n",
       "      <td>1.856</td>\n",
       "      <td>1.4518</td>\n",
       "      <td>8.2798</td>\n",
       "      <td>7.778</td>\n",
       "      <td>...</td>\n",
       "      <td>1.656</td>\n",
       "      <td>7.208</td>\n",
       "      <td>103.77</td>\n",
       "      <td>3.8</td>\n",
       "      <td>7.935</td>\n",
       "      <td>8.353</td>\n",
       "      <td>72.95</td>\n",
       "      <td>1.5526</td>\n",
       "      <td>30.8</td>\n",
       "      <td>37.1</td>\n",
       "    </tr>\n",
       "    <tr>\n",
       "      <th>3</th>\n",
       "      <td>3</td>\n",
       "      <td>1/6/2000</td>\n",
       "      <td>1.5291</td>\n",
       "      <td>0.9686</td>\n",
       "      <td>1.9436</td>\n",
       "      <td>0.607</td>\n",
       "      <td>1.84</td>\n",
       "      <td>1.4571</td>\n",
       "      <td>8.2797</td>\n",
       "      <td>7.7785</td>\n",
       "      <td>...</td>\n",
       "      <td>1.6655</td>\n",
       "      <td>7.2125</td>\n",
       "      <td>105.19</td>\n",
       "      <td>3.8</td>\n",
       "      <td>7.94</td>\n",
       "      <td>8.3675</td>\n",
       "      <td>72.95</td>\n",
       "      <td>1.554</td>\n",
       "      <td>31.75</td>\n",
       "      <td>37.62</td>\n",
       "    </tr>\n",
       "    <tr>\n",
       "      <th>4</th>\n",
       "      <td>4</td>\n",
       "      <td>1/7/2000</td>\n",
       "      <td>1.5272</td>\n",
       "      <td>0.9714</td>\n",
       "      <td>1.938</td>\n",
       "      <td>0.6104</td>\n",
       "      <td>1.831</td>\n",
       "      <td>1.4505</td>\n",
       "      <td>8.2794</td>\n",
       "      <td>7.7783</td>\n",
       "      <td>...</td>\n",
       "      <td>1.6625</td>\n",
       "      <td>7.2285</td>\n",
       "      <td>105.17</td>\n",
       "      <td>3.8</td>\n",
       "      <td>7.966</td>\n",
       "      <td>8.415</td>\n",
       "      <td>73.15</td>\n",
       "      <td>1.5623</td>\n",
       "      <td>30.85</td>\n",
       "      <td>37.3</td>\n",
       "    </tr>\n",
       "  </tbody>\n",
       "</table>\n",
       "<p>5 rows × 24 columns</p>\n",
       "</div>"
      ],
      "text/plain": [
       "   Index Time Serie AUSTRALIA - AUSTRALIAN DOLLAR/US$ EURO AREA - EURO/US$  \\\n",
       "0      0   1/3/2000                            1.5172               0.9847   \n",
       "1      1   1/4/2000                            1.5239                 0.97   \n",
       "2      2   1/5/2000                            1.5267               0.9676   \n",
       "3      3   1/6/2000                            1.5291               0.9686   \n",
       "4      4   1/7/2000                            1.5272               0.9714   \n",
       "\n",
       "  NEW ZEALAND - NEW ZELAND DOLLAR/US$  \\\n",
       "0                              1.9033   \n",
       "1                              1.9238   \n",
       "2                              1.9339   \n",
       "3                              1.9436   \n",
       "4                               1.938   \n",
       "\n",
       "  UNITED KINGDOM - UNITED KINGDOM POUND/US$ BRAZIL - REAL/US$  \\\n",
       "0                                    0.6146             1.805   \n",
       "1                                    0.6109            1.8405   \n",
       "2                                    0.6092             1.856   \n",
       "3                                     0.607              1.84   \n",
       "4                                    0.6104             1.831   \n",
       "\n",
       "  CANADA - CANADIAN DOLLAR/US$ CHINA - YUAN/US$  \\\n",
       "0                       1.4465           8.2798   \n",
       "1                       1.4518           8.2799   \n",
       "2                       1.4518           8.2798   \n",
       "3                       1.4571           8.2797   \n",
       "4                       1.4505           8.2794   \n",
       "\n",
       "  HONG KONG - HONG KONG DOLLAR/US$  ... SINGAPORE - SINGAPORE DOLLAR/US$  \\\n",
       "0                           7.7765  ...                           1.6563   \n",
       "1                           7.7775  ...                           1.6535   \n",
       "2                            7.778  ...                            1.656   \n",
       "3                           7.7785  ...                           1.6655   \n",
       "4                           7.7783  ...                           1.6625   \n",
       "\n",
       "  DENMARK - DANISH KRONE/US$ JAPAN - YEN/US$ MALAYSIA - RINGGIT/US$  \\\n",
       "0                      7.329           101.7                    3.8   \n",
       "1                      7.218          103.09                    3.8   \n",
       "2                      7.208          103.77                    3.8   \n",
       "3                     7.2125          105.19                    3.8   \n",
       "4                     7.2285          105.17                    3.8   \n",
       "\n",
       "  NORWAY - NORWEGIAN KRONE/US$ SWEDEN - KRONA/US$  \\\n",
       "0                        7.964              8.443   \n",
       "1                        7.934               8.36   \n",
       "2                        7.935              8.353   \n",
       "3                         7.94             8.3675   \n",
       "4                        7.966              8.415   \n",
       "\n",
       "  SRI LANKA - SRI LANKAN RUPEE/US$ SWITZERLAND - FRANC/US$  \\\n",
       "0                             72.3                  1.5808   \n",
       "1                            72.65                  1.5565   \n",
       "2                            72.95                  1.5526   \n",
       "3                            72.95                   1.554   \n",
       "4                            73.15                  1.5623   \n",
       "\n",
       "  TAIWAN - NEW TAIWAN DOLLAR/US$ THAILAND - BAHT/US$  \n",
       "0                          31.38               36.97  \n",
       "1                           30.6               37.13  \n",
       "2                           30.8                37.1  \n",
       "3                          31.75               37.62  \n",
       "4                          30.85                37.3  \n",
       "\n",
       "[5 rows x 24 columns]"
      ]
     },
     "execution_count": 2,
     "metadata": {},
     "output_type": "execute_result"
    }
   ],
   "source": [
    "# Read the dataset as a dataframe\n",
    "fname = \"../data/14_Foreign_Exchange_Rates _WithErrors.csv\"\n",
    "df = pd.read_csv(fname)\n",
    "df.head()"
   ]
  },
  {
   "cell_type": "markdown",
   "metadata": {},
   "source": [
    "We can find that the first column should be index and the second column should be a date. And all other columns are numbers because they are exchange rates."
   ]
  },
  {
   "cell_type": "markdown",
   "metadata": {},
   "source": [
    "## Then, let's check whether all cells in the exchange rates are numbers\n",
    "Generally, we should clean the data column by column rather than row by row. Let's take the column \"AUSTRALIA - AUSTRALIAN DOLLAR/US$\" as an example"
   ]
  },
  {
   "cell_type": "code",
   "execution_count": 3,
   "metadata": {},
   "outputs": [
    {
     "data": {
      "text/plain": [
       "str"
      ]
     },
     "execution_count": 3,
     "metadata": {},
     "output_type": "execute_result"
    }
   ],
   "source": [
    "# Check the data type of the column. We can just check the first element in the column.\n",
    "type(df['AUSTRALIA - AUSTRALIAN DOLLAR/US$'][1])"
   ]
  },
  {
   "cell_type": "code",
   "execution_count": 4,
   "metadata": {},
   "outputs": [
    {
     "data": {
      "text/plain": [
       "count     5217\n",
       "unique    2960\n",
       "top         ND\n",
       "freq       198\n",
       "Name: AUSTRALIA - AUSTRALIAN DOLLAR/US$, dtype: object"
      ]
     },
     "execution_count": 4,
     "metadata": {},
     "output_type": "execute_result"
    }
   ],
   "source": [
    "# OR you can use describe function to check the datatype\n",
    "df['AUSTRALIA - AUSTRALIAN DOLLAR/US$'].describe()"
   ]
  },
  {
   "cell_type": "markdown",
   "metadata": {},
   "source": [
    "Based on our understanding of the data, the data type of the cell should be a number(float) rather than a string(str). In addition, according to this result, we should notice that there are cells which contain some non-number-string values(ND). Now, let's first find those non-number-strings."
   ]
  },
  {
   "cell_type": "markdown",
   "metadata": {},
   "source": [
    "## So, how to find the non-number-strings \n",
    "### Assume we have two strings: '123' and 'abc'. how can we distinguish them?\n",
    "In Python, '123' can be convert to a number(float). "
   ]
  },
  {
   "cell_type": "code",
   "execution_count": 5,
   "metadata": {},
   "outputs": [],
   "source": [
    "str1 = '123'\n",
    "str2 = 'abc'"
   ]
  },
  {
   "cell_type": "code",
   "execution_count": 6,
   "metadata": {},
   "outputs": [
    {
     "data": {
      "text/plain": [
       "123.0"
      ]
     },
     "execution_count": 6,
     "metadata": {},
     "output_type": "execute_result"
    }
   ],
   "source": [
    "float(str1)"
   ]
  },
  {
   "cell_type": "code",
   "execution_count": 7,
   "metadata": {},
   "outputs": [
    {
     "ename": "ValueError",
     "evalue": "could not convert string to float: 'abc'",
     "output_type": "error",
     "traceback": [
      "\u001b[1;31m---------------------------------------------------------------------------\u001b[0m",
      "\u001b[1;31mValueError\u001b[0m                                Traceback (most recent call last)",
      "\u001b[1;32m~\\AppData\\Local\\Temp/ipykernel_8564/1629797754.py\u001b[0m in \u001b[0;36m<module>\u001b[1;34m\u001b[0m\n\u001b[1;32m----> 1\u001b[1;33m \u001b[0mfloat\u001b[0m\u001b[1;33m(\u001b[0m\u001b[0mstr2\u001b[0m\u001b[1;33m)\u001b[0m\u001b[1;33m\u001b[0m\u001b[1;33m\u001b[0m\u001b[0m\n\u001b[0m",
      "\u001b[1;31mValueError\u001b[0m: could not convert string to float: 'abc'"
     ]
    }
   ],
   "source": [
    "float(str2)"
   ]
  },
  {
   "cell_type": "code",
   "execution_count": 8,
   "metadata": {},
   "outputs": [
    {
     "name": "stdout",
     "output_type": "stream",
     "text": [
      "could not convert string abc to float\n"
     ]
    }
   ],
   "source": [
    "try:\n",
    "    float(str2)\n",
    "except ValueError:\n",
    "    print('could not convert string {} to float'.format(str2))"
   ]
  },
  {
   "cell_type": "markdown",
   "metadata": {},
   "source": [
    "You can see that we can use float() function to help us distinguish non-number-strings. And the \"try except\" structure is very powerful in Python. "
   ]
  },
  {
   "cell_type": "markdown",
   "metadata": {},
   "source": [
    "## Now, let's try to locate the cells that contain non-number-strings\n",
    "Let's define a function that can return indices of the cells contain non-number-strings"
   ]
  },
  {
   "cell_type": "code",
   "execution_count": 9,
   "metadata": {},
   "outputs": [],
   "source": [
    "# Define the function that returns indices the non-number strings\n",
    "# column : a column from a dataframe\n",
    "def CheckIfNumInCol(column):\n",
    "    # create a empty list to store the element index \n",
    "    indexlist = []\n",
    "    # from the start to the end\n",
    "    for i in range(column.count()):\n",
    "        # check whether float() function is working\n",
    "        try:\n",
    "            float(column[i])\n",
    "        except ValueError:\n",
    "            # if float() is not working, that cell contain non-number string. Then, we add the cell's index to the list\n",
    "            indexlist.append(i)        \n",
    "    return(indexlist)"
   ]
  },
  {
   "cell_type": "code",
   "execution_count": 10,
   "metadata": {},
   "outputs": [
    {
     "data": {
      "text/plain": [
       "10       ND\n",
       "35       ND\n",
       "89      ABC\n",
       "105      ND\n",
       "131      ND\n",
       "       ... \n",
       "5130     ND\n",
       "5160     ND\n",
       "5180     ND\n",
       "5193     ND\n",
       "5212     ND\n",
       "Name: AUSTRALIA - AUSTRALIAN DOLLAR/US$, Length: 199, dtype: object"
      ]
     },
     "execution_count": 10,
     "metadata": {},
     "output_type": "execute_result"
    }
   ],
   "source": [
    "# Use the above function and get the indices of non-number strings and use the indices list to filter those values out\n",
    "resultlist = CheckIfNumInCol(df['AUSTRALIA - AUSTRALIAN DOLLAR/US$'])\n",
    "df['AUSTRALIA - AUSTRALIAN DOLLAR/US$'][resultlist]"
   ]
  },
  {
   "cell_type": "markdown",
   "metadata": {},
   "source": [
    "Based on the result, we can find that there are 199 cells that contain non-number-strings"
   ]
  },
  {
   "cell_type": "markdown",
   "metadata": {},
   "source": [
    "## Before we move next, you should think about this question: are there perticular meanings for these non-number-strings? Are they supposed to be a number-string? These questions are important because it will affect how you deal with this non-number-strings.\n",
    "### For this perticular data, if you open the csv file and find the rows that contain 'ND', you'll find that their date are all holidays. So, there comes 2 situations: 1. There should be no data in holidays  2. The data provider doesn't record exchange rate during holidays. You need to make a decision.\n",
    "###  For the 89th row that contains 'ABC', this should be a number-string originally."
   ]
  },
  {
   "cell_type": "markdown",
   "metadata": {},
   "source": [
    "## After finding the non-number-strings, all left are number-strings. But how can we know that the cells that contain number-strings are correct?\n",
    "For different data, there is no universal rule to judge wheteher it is correct or not. As indicated at the begining of this code, understanding the data will help you make the decision. For this exchange rate data, here, we will plot the rate values to check if there are abnormal values.\n",
    "Let's first convert those number-strings to float "
   ]
  },
  {
   "cell_type": "code",
   "execution_count": 14,
   "metadata": {},
   "outputs": [],
   "source": [
    "# get the index list of the dataframe\n",
    "dflist = list(df.index)"
   ]
  },
  {
   "cell_type": "code",
   "execution_count": 15,
   "metadata": {},
   "outputs": [],
   "source": [
    "# substract the non-number-strings indices from the above list\n",
    "leftlist = [item for item in dflist if item not in resultlist]"
   ]
  },
  {
   "cell_type": "code",
   "execution_count": 16,
   "metadata": {},
   "outputs": [],
   "source": [
    "# an alternative way to find the number-string indices\n",
    "leftlist= list(set(dflist).difference(resultlist))"
   ]
  },
  {
   "cell_type": "code",
   "execution_count": 17,
   "metadata": {},
   "outputs": [
    {
     "data": {
      "text/plain": [
       "dtype('float64')"
      ]
     },
     "execution_count": 17,
     "metadata": {},
     "output_type": "execute_result"
    }
   ],
   "source": [
    "# convert the number-strings to numbers\n",
    "leftdf = df['AUSTRALIA - AUSTRALIAN DOLLAR/US$'][leftlist]\n",
    "leftdf = leftdf.apply(lambda x: float(x))\n",
    "# check the data type \n",
    "leftdf.dtype"
   ]
  },
  {
   "cell_type": "markdown",
   "metadata": {},
   "source": [
    "### Now we can do the plot to check the values"
   ]
  },
  {
   "cell_type": "code",
   "execution_count": 18,
   "metadata": {},
   "outputs": [
    {
     "data": {
      "image/png": "[encoded data removed]",
      "text/plain": [
       "<Figure size 720x360 with 1 Axes>"
      ]
     },
     "metadata": {
      "needs_background": "light"
     },
     "output_type": "display_data"
    }
   ],
   "source": [
    "# modify the figure size\n",
    "plt.rcParams['figure.figsize'] = (10.0, 5.0)\n",
    "# do plot\n",
    "plt.plot(leftdf,'o');\n",
    "# add x and y axis label\n",
    "plt.xlabel('Observation Index');\n",
    "plt.ylabel('Value');"
   ]
  },
  {
   "cell_type": "markdown",
   "metadata": {},
   "source": [
    "According to the plot, you should find that most values are around 2 but between index 0 to 1000, there is a peak which is greater than 16. We can also use histogram plot to check this. "
   ]
  },
  {
   "cell_type": "code",
   "execution_count": 19,
   "metadata": {},
   "outputs": [
    {
     "data": {
      "image/png": "[encoded data removed]",
      "text/plain": [
       "<Figure size 720x360 with 1 Axes>"
      ]
     },
     "metadata": {
      "needs_background": "light"
     },
     "output_type": "display_data"
    }
   ],
   "source": [
    "# histogram plot\n",
    "plt.hist(leftdf, bins = 50);\n",
    "# add x and y axis label\n",
    "plt.xlabel('Value');\n",
    "plt.ylabel('Frequency');"
   ]
  },
  {
   "cell_type": "code",
   "execution_count": 22,
   "metadata": {},
   "outputs": [
    {
     "name": "stdout",
     "output_type": "stream",
     "text": [
      "0       False\n",
      "1       False\n",
      "2       False\n",
      "3       False\n",
      "4       False\n",
      "        ...  \n",
      "5211    False\n",
      "5213    False\n",
      "5214    False\n",
      "5215    False\n",
      "5216    False\n",
      "Name: AUSTRALIA - AUSTRALIAN DOLLAR/US$, Length: 5018, dtype: bool\n"
     ]
    },
    {
     "data": {
      "text/plain": [
       "120    16.600\n",
       "121    16.565\n",
       "122    16.595\n",
       "123    16.686\n",
       "124    16.767\n",
       "125    16.764\n",
       "126    16.633\n",
       "127    16.603\n",
       "Name: AUSTRALIA - AUSTRALIAN DOLLAR/US$, dtype: float64"
      ]
     },
     "execution_count": 22,
     "metadata": {},
     "output_type": "execute_result"
    }
   ],
   "source": [
    "# find the value greater than 16\n",
    "abnormal = leftdf.apply(lambda x: x>16)\n",
    "print(abnormal)\n",
    "leftdf[abnormal]"
   ]
  },
  {
   "cell_type": "markdown",
   "metadata": {},
   "source": [
    "## Now, we find all wrong values(non-number-strings and abnormal numbers). What should we do next?\n",
    "### Replace them with other values OR just get rid of the wrong values\n",
    "To deal with the wrong values, generally, you can choose either of the above methods. But there are some pros and cons for these two method:\n",
    "\n",
    "For Replaceing wrong values, you need to carefully decide what values you will put into the cells. without careful consideration, the cleaned data may have a negative influence on your future analysis.\n",
    "\n",
    "For getting rid of the wrong values, sometimes you will end up with few observations without any wrong values.\n",
    "\n",
    "Here, we will show both methods."
   ]
  },
  {
   "cell_type": "markdown",
   "metadata": {},
   "source": [
    "## Replacing methods"
   ]
  },
  {
   "cell_type": "code",
   "execution_count": 23,
   "metadata": {},
   "outputs": [],
   "source": [
    "# Replacing wrong values with a constant value. We will replace those wrong values with 1.6\n",
    "# let's define a functions that can help use do this\n",
    "# cell is the value in that cell\n",
    "# value is the constant value\n",
    "def ReplaceWithConstantValue(cell,value = 1.6):\n",
    "    try:\n",
    "        newcell = float(cell)\n",
    "        if newcell > 16:\n",
    "            return(value)\n",
    "        return(newcell)\n",
    "    except:\n",
    "        return(value)\n"
   ]
  },
  {
   "cell_type": "code",
   "execution_count": 24,
   "metadata": {},
   "outputs": [
    {
     "data": {
      "text/plain": [
       "dtype('float64')"
      ]
     },
     "execution_count": 24,
     "metadata": {},
     "output_type": "execute_result"
    }
   ],
   "source": [
    "# apply the function\n",
    "newcol = df['AUSTRALIA - AUSTRALIAN DOLLAR/US$'].apply(lambda x: ReplaceWithConstantValue(x))\n",
    "# check the data type\n",
    "newcol[1].dtype"
   ]
  },
  {
   "cell_type": "markdown",
   "metadata": {},
   "source": [
    "### Now we can plot the new column to check"
   ]
  },
  {
   "cell_type": "code",
   "execution_count": 25,
   "metadata": {},
   "outputs": [
    {
     "data": {
      "text/plain": [
       "[<matplotlib.lines.Line2D at 0x224d43197c0>]"
      ]
     },
     "execution_count": 25,
     "metadata": {},
     "output_type": "execute_result"
    },
    {
     "data": {
      "image/png": "[encoded data removed]",
      "text/plain": [
       "<Figure size 720x360 with 1 Axes>"
      ]
     },
     "metadata": {
      "needs_background": "light"
     },
     "output_type": "display_data"
    }
   ],
   "source": [
    "# plot new column\n",
    "plt.plot(newcol)"
   ]
  },
  {
   "cell_type": "markdown",
   "metadata": {},
   "source": [
    "### We can find that the values are in a reasonable range, but the values are not consistent. \n",
    "We will provide another way to replace the wrong values with a dynamic value (imputed value)"
   ]
  },
  {
   "cell_type": "code",
   "execution_count": 26,
   "metadata": {},
   "outputs": [],
   "source": [
    "# Still first define a function to help us do the replacement\n",
    "# This function will replace the wrong values with the last correct value\n",
    "# cell is the value in that cell\n",
    "# value will be used if the first cell is a wrong value\n",
    "def ReplaceWithDynamicValue(cell, value = 1.6):\n",
    "    # initialize the lastvalue if it doesn't exist yet\n",
    "    if not hasattr(ReplaceWithDynamicValue, \"lastvalue\"):\n",
    "        ReplaceWithDynamicValue.lastvalue = value\n",
    "    try:\n",
    "        newcell = float(cell)\n",
    "        if newcell > 16:\n",
    "            newcell = ReplaceWithDynamicValue.lastvalue\n",
    "    except:\n",
    "            newcell = ReplaceWithDynamicValue.lastvalue\n",
    "    \n",
    "    ReplaceWithDynamicValue.lastvalue = newcell\n",
    "    return(newcell)"
   ]
  },
  {
   "cell_type": "code",
   "execution_count": 27,
   "metadata": {},
   "outputs": [
    {
     "data": {
      "text/plain": [
       "[<matplotlib.lines.Line2D at 0x224d438a130>]"
      ]
     },
     "execution_count": 27,
     "metadata": {},
     "output_type": "execute_result"
    },
    {
     "data": {
      "image/png": "[encoded data removed]",
      "text/plain": [
       "<Figure size 720x360 with 1 Axes>"
      ]
     },
     "metadata": {
      "needs_background": "light"
     },
     "output_type": "display_data"
    }
   ],
   "source": [
    "# apply the function\n",
    "newcol = df['AUSTRALIA - AUSTRALIAN DOLLAR/US$'].apply(lambda x: ReplaceWithDynamicValue(x))\n",
    "# plot the new column\n",
    "plt.plot(newcol)"
   ]
  },
  {
   "cell_type": "markdown",
   "metadata": {},
   "source": [
    "Now, the plot looks consistent and good. Next, we will show the getting rid of wrong values method."
   ]
  },
  {
   "cell_type": "markdown",
   "metadata": {},
   "source": [
    "## Getting rid of the wrong values method"
   ]
  },
  {
   "cell_type": "code",
   "execution_count": null,
   "metadata": {},
   "outputs": [],
   "source": [
    "# Define a function to generate a mask for us to select those correct values\n",
    "def MaskCorrectValue(cell):\n",
    "    try:\n",
    "        newcell = float(cell)\n",
    "        if newcell > 16:\n",
    "            return(False)\n",
    "        return(True)\n",
    "    except:\n",
    "        return(False)"
   ]
  },
  {
   "cell_type": "code",
   "execution_count": null,
   "metadata": {},
   "outputs": [],
   "source": [
    "# Using a mask to filter those correct data\n",
    "mask = df['AUSTRALIA - AUSTRALIAN DOLLAR/US$'].apply(lambda x: MaskCorrectValue(x))\n",
    "df['AUSTRALIA - AUSTRALIAN DOLLAR/US$'][mask]"
   ]
  },
  {
   "cell_type": "code",
   "execution_count": null,
   "metadata": {},
   "outputs": [],
   "source": [
    "# The original column.\n",
    "df['AUSTRALIA - AUSTRALIAN DOLLAR/US$']"
   ]
  },
  {
   "cell_type": "markdown",
   "metadata": {},
   "source": [
    "So, we can find that we remove 207 observations (199 non-numeric values and 8 numeric values greater than 16)"
   ]
  },
  {
   "cell_type": "code",
   "execution_count": null,
   "metadata": {},
   "outputs": [],
   "source": []
  }
 ],
 "metadata": {
  "kernelspec": {
   "display_name": "Python 3",
   "language": "python",
   "name": "python3"
  },
  "language_info": {
   "codemirror_mode": {
    "name": "ipython",
    "version": 3
   },
   "file_extension": ".py",
   "mimetype": "text/x-python",
   "name": "python",
   "nbconvert_exporter": "python",
   "pygments_lexer": "ipython3",
   "version": "3.8.10"
  }
 },
 "nbformat": 4,
 "nbformat_minor": 2
}
