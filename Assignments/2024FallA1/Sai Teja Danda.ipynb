{
 "cells": [
  {
   "cell_type": "markdown",
   "id": "4286b554",
   "metadata": {},
   "source": [
    "\n",
    "## Exploratory Data Analysis (EDA) on Laptop Dataset\n",
    "\n",
    "This notebook presents the exploratory data analysis (EDA) on the laptop dataset. The dataset contains features such as company, screen size, RAM, CPU, and price. The objective of this EDA is to identify relationships between key features and laptop prices.\n"
   ]
  },
  {
   "cell_type": "code",
   "execution_count": null,
   "id": "d99106aa",
   "metadata": {},
   "outputs": [],
   "source": [
    "\n",
    "# Importing required libraries\n",
    "import pandas as pd\n",
    "import matplotlib.pyplot as plt\n",
    "import seaborn as sns\n",
    "\n",
    "# Loading the dataset\n",
    "laptop_data = pd.read_csv('/mnt/data/laptop_prices.csv')\n",
    "\n",
    "# Displaying the first few rows\n",
    "laptop_data.head()\n"
   ]
  },
  {
   "cell_type": "markdown",
   "id": "5527adba",
   "metadata": {},
   "source": [
    "\n",
    "### Price Distribution\n",
    "The price distribution of laptops follows a right-skewed pattern with most laptops priced between €500 and €2000.\n"
   ]
  },
  {
   "cell_type": "code",
   "execution_count": null,
   "id": "491b43b5",
   "metadata": {},
   "outputs": [],
   "source": [
    "\n",
    "# Price distribution plot\n",
    "plt.figure(figsize=(8,6))\n",
    "sns.histplot(laptop_data['Price_euros'], kde=True, bins=30)\n",
    "plt.title('Price Distribution of Laptops')\n",
    "plt.xlabel('Price in Euros')\n",
    "plt.ylabel('Frequency')\n",
    "plt.show()\n"
   ]
  },
  {
   "cell_type": "markdown",
   "id": "1dd5caf9",
   "metadata": {},
   "source": [
    "\n",
    "### RAM vs. Price Analysis\n",
    "The scatter plot shows the correlation between RAM size and laptop prices. We expect to see that laptops with higher RAM tend to cost more.\n"
   ]
  },
  {
   "cell_type": "code",
   "execution_count": null,
   "id": "f1e46229",
   "metadata": {},
   "outputs": [],
   "source": [
    "\n",
    "# RAM vs Price scatter plot\n",
    "plt.figure(figsize=(8,6))\n",
    "sns.scatterplot(x='Ram', y='Price_euros', hue='Company', data=laptop_data)\n",
    "plt.title('RAM vs. Price of Laptops')\n",
    "plt.xlabel('RAM (GB)')\n",
    "plt.ylabel('Price in Euros')\n",
    "plt.show()\n"
   ]
  },
  {
   "cell_type": "markdown",
   "id": "4f4a83fa",
   "metadata": {},
   "source": [
    "\n",
    "### Correlation Heatmap\n",
    "The correlation heatmap helps in identifying strong relationships between features like RAM, screen size, and price.\n"
   ]
  },
  {
   "cell_type": "code",
   "execution_count": null,
   "id": "fa6b6234",
   "metadata": {},
   "outputs": [],
   "source": [
    "\n",
    "# Correlation heatmap\n",
    "plt.figure(figsize=(8,6))\n",
    "corr_matrix = laptop_data.corr()\n",
    "sns.heatmap(corr_matrix, annot=True, cmap='coolwarm', fmt='.2f')\n",
    "plt.title('Correlation Heatmap of Key Features')\n",
    "plt.show()\n"
   ]
  },
  {
   "cell_type": "markdown",
   "id": "64157f8b",
   "metadata": {},
   "source": [
    "\n",
    "### Price Distribution by Laptop Type\n",
    "Different types of laptops (e.g., ultrabook, gaming) are priced differently. This box plot visualizes that.\n"
   ]
  },
  {
   "cell_type": "code",
   "execution_count": null,
   "id": "b53aa8d4",
   "metadata": {},
   "outputs": [],
   "source": [
    "\n",
    "# Price Distribution by Laptop Type\n",
    "plt.figure(figsize=(8,6))\n",
    "sns.boxplot(x='TypeName', y='Price_euros', data=laptop_data)\n",
    "plt.title('Price Distribution by Laptop Type')\n",
    "plt.xlabel('Laptop Type')\n",
    "plt.ylabel('Price in Euros')\n",
    "plt.xticks(rotation=45)\n",
    "plt.show()\n"
   ]
  }
 ],
 "metadata": {
  "kernelspec": {
   "display_name": "Python 3 (ipykernel)",
   "language": "python",
   "name": "python3"
  },
  "language_info": {
   "codemirror_mode": {
    "name": "ipython",
    "version": 3
   },
   "file_extension": ".py",
   "mimetype": "text/x-python",
   "name": "python",
   "nbconvert_exporter": "python",
   "pygments_lexer": "ipython3",
   "version": "3.11.7"
  }
 },
 "nbformat": 4,
 "nbformat_minor": 5
}
