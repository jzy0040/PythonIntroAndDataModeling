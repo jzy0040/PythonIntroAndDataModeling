{
 "cells": [
  {
   "cell_type": "markdown",
   "id": "4e3f7f50-cce6-46b7-8267-c883e778a825",
   "metadata": {},
   "source": [
    "# Introduction to Programming Algorithms\n",
    "\n",
    "Sorting an array is a fundamental programming task in data/computer science. Sorting an array or dataset is very common in business analytics. While sorting might seem like a simple task, it’s a fundamental operation used frequently in Ranking problem, for example, Top 10 customers by revenue, Best 10 selling products, Employees ranked performance score. Besides, trend analysis and extreme analysis also use sorting to identify minimum, maximum or even outliers. "
   ]
  },
  {
   "cell_type": "markdown",
   "id": "49778dd6-21ba-419c-8334-880c7dcfcff0",
   "metadata": {},
   "source": [
    "In decision making, sorting algorithms can be appeared in finance, marketing, and logistics application.\n",
    "1. Sorting stock performance or risk adjust returns\n",
    "2. Sorting delivery orders by priority or deadline\n",
    "3. Sorting routes by delivery time or distance"
   ]
  },
  {
   "cell_type": "markdown",
   "id": "514b30b1-f649-4842-98a4-e85dcdd40de9",
   "metadata": {},
   "source": [
    "### What is an algorithm\n",
    "\n",
    "In mathematics and computer science, an algorithm is a finite sequence of mathematically rigorous instructions, typically used to solve a class of specific problems or to perform a computation.\n",
    "\n",
    "##### ✅ Key Properties of an Algorithm:\n",
    "\n",
    "1. Input: Takes one or more inputs.\n",
    "\n",
    "2. Output: Produces at least one output (a result).\n",
    "\n",
    "3. Finiteness: Terminates after a limited number of steps.\n",
    "\n",
    "4. Definiteness: Each step is clearly and unambiguously defined.\n",
    "\n",
    "5. Effectiveness: Each step is simple enough to be performed in a finite amount of time."
   ]
  },
  {
   "cell_type": "markdown",
   "id": "04ea63d9-1b1a-41e9-9cac-f1021c40c722",
   "metadata": {},
   "source": [
    "##### Task 1: Finding the maximum and minimum value of an Array in Python\n",
    "\n",
    "Given an array, return the mixumum and minimum value of the array. This is a linear search algorithm. \n",
    "\n",
    "To solve this problem, we will compare the current element with the largest/smallest values found by traverse the entire array one element at a time. \n",
    "\n",
    "Note: we may want to check the input and make sure the input is valid, numerical value and non-empty. "
   ]
  },
  {
   "cell_type": "code",
   "execution_count": 1,
   "id": "429eb775-03e6-4822-99c1-33d060f27000",
   "metadata": {},
   "outputs": [],
   "source": [
    "def find_max_min(arr):\n",
    "    \"\"\"\n",
    "    Finding the maximum and minimum value of an Array in Python\n",
    "\n",
    "    Args:\n",
    "        arr: a Python list or Numpy array\n",
    "\n",
    "    Return:\n",
    "        max(float): maximum value in the array\n",
    "        min(float): minimum value in the array\n",
    "    \"\"\"\n",
    "    if not arr:\n",
    "        raise ValueError(\"Input array is empty!\")\n",
    "\n",
    "    for item in arr:\n",
    "        if not isinstance(item, (int, float)):\n",
    "            raise ValueError(f\"Non-numerical value found!: {item}\")\n",
    "            \n",
    "    max_num = arr[0]\n",
    "    min_num = arr[0]\n",
    "    for num in arr:\n",
    "        if num > max_num:\n",
    "            max_num = num\n",
    "        if num < min_num:\n",
    "            min_num = num\n",
    "\n",
    "    return max_num, min_num"
   ]
  },
  {
   "cell_type": "code",
   "execution_count": 2,
   "id": "1e83745b-fd15-49a4-9af9-eba66af9308b",
   "metadata": {},
   "outputs": [
    {
     "name": "stdout",
     "output_type": "stream",
     "text": [
      "Maximum: 8, Minimum: -2\n"
     ]
    }
   ],
   "source": [
    "### useage with no exception\n",
    "try:\n",
    "    values = [3, 5, 1, 8, -2, 0]\n",
    "    max_val, min_val = find_max_min(values)\n",
    "    print(f\"Maximum: {max_val}, Minimum: {min_val}\")\n",
    "except ValueError as e:\n",
    "    print(f\"Error: {e}\")"
   ]
  },
  {
   "cell_type": "code",
   "execution_count": 3,
   "id": "fb05aff1-10ba-48c3-83a1-db2c985eab89",
   "metadata": {},
   "outputs": [
    {
     "name": "stdout",
     "output_type": "stream",
     "text": [
      "Error: Non-numerical value found!: a\n"
     ]
    }
   ],
   "source": [
    "### useage with an exception\n",
    "try:\n",
    "    values = [3, 5, 'a', 8]\n",
    "    find_max_min(values)\n",
    "except ValueError as e:\n",
    "    print(f\"Error: {e}\")  # Output: Error: Non-numerical value found: a\n"
   ]
  },
  {
   "cell_type": "code",
   "execution_count": 4,
   "id": "c809c4ac-55ca-41d4-bf73-bb67ab3e13a9",
   "metadata": {},
   "outputs": [
    {
     "name": "stdout",
     "output_type": "stream",
     "text": [
      "Error: Input array is empty!\n"
     ]
    }
   ],
   "source": [
    "### useage with an exception\n",
    "try:\n",
    "    values = []\n",
    "    find_max_min(values)\n",
    "except ValueError as e:\n",
    "    print(f\"Error: {e}\") "
   ]
  },
  {
   "cell_type": "markdown",
   "id": "1c5b0087-ac19-40d5-8f4a-c6fe4acc4fea",
   "metadata": {},
   "source": [
    "### For all algorithm, there will be costs when executing the program. There are two primary ways to measure the costs, time complexity and space complexity. \n",
    "\n",
    "##### Time Complexity\n",
    "It refers to how the running time of an algorithm increases as the size of the input data (n) increases.\n",
    "\n",
    "Goal: Estimate how fast or slow an algorithm is, without depending on specific hardware.\n",
    "\n",
    "##### Space Complexity\n",
    "Space complexity measures how much additional memory (RAM) an algorithm uses relative to input size.\n",
    "\n",
    "Why it matters: Efficient use of memory is crucial when working with large datasets or limited resources.\n",
    "\n",
    "### Big O Notations\n",
    "\n",
    "Big O notation describes the upper bound of an algorithm's growth rate — how the time or space used by the algorithm scales as the input size n increases. It helps compare algorithms independent of hardware.\n",
    "\n",
    "| Big O Notation | Name              | Example Use Case                  | Scalability             |\n",
    "| -------------- | ----------------- | --------------------------------- | ----------------------- |\n",
    "| **O(1)**       | Constant time     | Accessing an array element        | ⚡ Excellent             |\n",
    "| **O(log n)**   | Logarithmic time  | Binary search                     | 🚀 Very good            |\n",
    "| **O(n)**       | Linear time       | Loop through a list               | 👍 Good                 |\n",
    "| **O(n log n)** | Linearithmic time | Merge sort, Quick sort (avg case) | ⚖️ Balanced             |\n",
    "| **O(n²)**      | Quadratic time    | Nested loops (e.g., Insertion sort)  | 😬 Slower for large `n` |\n",
    "| **O(n³)**      | Cubic time        | Triple nested loops               | 🐌 Very slow            |\n",
    "| **O(2ⁿ)**      | Exponential time  | Recursive Fibonacci               | 🚫 Impractical          |\n",
    "| **O(n!)**      | Factorial time    | Brute-force permutations          | ❌ Extremely bad         |\n",
    "\n",
    "Note: many algorithms in this table are not covered in this class. The following links can be useful if you want to self study those algorithms. \n",
    "\n",
    "1. Merge sort: https://www.geeksforgeeks.org/dsa/merge-sort/\n",
    "2. Insertion sort: https://www.geeksforgeeks.org/dsa/insertion-sort-algorithm/\n",
    "3. Reccursive Fibonacci: https://www.geeksforgeeks.org/dsa/program-for-nth-fibonacci-number/#naive-approach-using-recursion-o2n-time-and-on-space\n",
    "4. Brute force permutation: https://www.geeksforgeeks.org/dsa/traveling-salesman-problem-tsp-in-python/"
   ]
  },
  {
   "cell_type": "markdown",
   "id": "fe3695d4-ef81-4e68-bee9-38d28291abd7",
   "metadata": {},
   "source": [
    "##### Back to our find_max_min function, what is the space and time complexity?\n",
    "Please answer this in Discussion Board 7. "
   ]
  },
  {
   "cell_type": "code",
   "execution_count": 7,
   "id": "6d2667e3-a8ca-4e7f-8b7e-12b54a8283c4",
   "metadata": {},
   "outputs": [
    {
     "name": "stdout",
     "output_type": "stream",
     "text": [
      "array in iteration 0: [5, 12, 3, 8, 7, 1, 15]\n",
      "array swaped: [15, 12, 3, 8, 7, 1, 5]\n",
      "array in iteration 1: [15, 12, 3, 8, 7, 1, 5]\n",
      "array swaped: [15, 12, 3, 8, 7, 1, 5]\n",
      "array in iteration 2: [15, 12, 3, 8, 7, 1, 5]\n",
      "array swaped: [15, 12, 8, 3, 7, 1, 5]\n",
      "array in iteration 3: [15, 12, 8, 3, 7, 1, 5]\n",
      "array swaped: [15, 12, 8, 7, 3, 1, 5]\n",
      "The 4rd maximum value is: 7\n"
     ]
    }
   ],
   "source": [
    "### useage\n",
    "arr = [5, 12, 3, 8, 7, 1, 15]\n",
    "k = 4\n",
    "\n",
    "result = kth_maximum(arr, k)\n",
    "print(f\"The {k}rd maximum value is: {result}\")\n"
   ]
  },
  {
   "cell_type": "markdown",
   "id": "4c61ee64-6676-4c98-9c3f-a9f6fdf38a36",
   "metadata": {},
   "source": [
    "### Complexity analysis\n",
    "What is the complexity of this algorithm?\n",
    "Please answer this question in Discussion Board 7."
   ]
  },
  {
   "cell_type": "markdown",
   "id": "1aac3f44-6161-45e7-8830-88d73e0f3c8a",
   "metadata": {},
   "source": [
    "##### Task 2: Binary Search Algorithm\n",
    "\n",
    "Binary Search is an efficient algorithm for finding an element in a sorted array. It works by repeatedly dividing the search interval in half and comparing the middle element to the target value.\n",
    "\n",
    "### Search Game:\n",
    "Please come up with a random integer number from 0 to 1000. I will guess your number in 10 questions. If I can't, you will get an A in this class and without doing any additional homework. "
   ]
  },
  {
   "cell_type": "code",
   "execution_count": 9,
   "id": "17e9f068-296b-4dc1-9978-256bc26feaea",
   "metadata": {},
   "outputs": [
    {
     "name": "stdout",
     "output_type": "stream",
     "text": [
      "Is the number 50?\n"
     ]
    },
    {
     "name": "stdin",
     "output_type": "stream",
     "text": [
      "Enter 'l' for too low, 'h' for too high, or 'c' for correct:  h\n"
     ]
    },
    {
     "name": "stdout",
     "output_type": "stream",
     "text": [
      "Is the number 24?\n"
     ]
    },
    {
     "name": "stdin",
     "output_type": "stream",
     "text": [
      "Enter 'l' for too low, 'h' for too high, or 'c' for correct:  l\n"
     ]
    },
    {
     "name": "stdout",
     "output_type": "stream",
     "text": [
      "Is the number 37?\n"
     ]
    },
    {
     "name": "stdin",
     "output_type": "stream",
     "text": [
      "Enter 'l' for too low, 'h' for too high, or 'c' for correct:  h\n"
     ]
    },
    {
     "name": "stdout",
     "output_type": "stream",
     "text": [
      "Is the number 30?\n"
     ]
    },
    {
     "name": "stdin",
     "output_type": "stream",
     "text": [
      "Enter 'l' for too low, 'h' for too high, or 'c' for correct:  l\n"
     ]
    },
    {
     "name": "stdout",
     "output_type": "stream",
     "text": [
      "Is the number 33?\n"
     ]
    },
    {
     "name": "stdin",
     "output_type": "stream",
     "text": [
      "Enter 'l' for too low, 'h' for too high, or 'c' for correct:  l\n"
     ]
    },
    {
     "name": "stdout",
     "output_type": "stream",
     "text": [
      "Is the number 35?\n"
     ]
    },
    {
     "name": "stdin",
     "output_type": "stream",
     "text": [
      "Enter 'l' for too low, 'h' for too high, or 'c' for correct:  h\n"
     ]
    },
    {
     "name": "stdout",
     "output_type": "stream",
     "text": [
      "Is the number 34?\n"
     ]
    },
    {
     "name": "stdin",
     "output_type": "stream",
     "text": [
      "Enter 'l' for too low, 'h' for too high, or 'c' for correct:  c\n"
     ]
    },
    {
     "name": "stdout",
     "output_type": "stream",
     "text": [
      "Great! The number was 34.\n"
     ]
    }
   ],
   "source": [
    "### Let's code this game together in Python 36\n",
    "low = 0\n",
    "high = 100\n",
    "\n",
    "while low <= high:\n",
    "    print(low, high)\n",
    "    mid = (low + high) // 2\n",
    "    print(f\"Is the number {mid}?\")\n",
    "    user_input = input(\"Enter 'l' for too low, 'h' for too high, or 'c' for correct: \")\n",
    "\n",
    "    if user_input == 'c':\n",
    "        print(f\"Great! The number was {mid}.\")\n",
    "        break\n",
    "    elif user_input == 'l':\n",
    "        low = mid + 1\n",
    "    elif user_input == 'h':\n",
    "        high = mid - 1\n",
    "    else:\n",
    "        print(\"Invalid input. Please enter 'l', 'h', or 'c'.\")"
   ]
  },
  {
   "cell_type": "markdown",
   "id": "aa8eec5c-bc35-409b-af6d-6e56a37c7db0",
   "metadata": {},
   "source": [
    "### let's see 34\n",
    "$2 ^{10} = 1024$"
   ]
  },
  {
   "cell_type": "markdown",
   "id": "0a16e2af-b809-41b2-88dc-387079be29e6",
   "metadata": {},
   "source": [
    "##### Task 3: Finding the Kth Maximum value in a given array. \n",
    "\n",
    "Given an array, return the kth largest value of the array. \n",
    "\n",
    "To solve this problem, we will sort the first kth elements of the array. We don't need to sort the entire array since once we sort the first kth largest element we will achieve our goal. \n",
    "\n",
    "##### Case analysis\n",
    "If k equals to the length of the array, that means we need to find the smallest element in the array. Our strategy may not look good in this case. And this is the worest case. If k equals to 1, we are actually looking for the largest elements. This is the best case. Yes, there is a trade-off and no free lunch. But, on average case, our strategy performs well. \n",
    "\n",
    "Note: we may want to check the input and make sure the input is valid, numerical value and non-empty. Also, k must be an positive integer and smaller than the length of the array. "
   ]
  },
  {
   "cell_type": "code",
   "execution_count": 6,
   "id": "e991a67b-b5ea-4f19-bd6f-84fad0f5d0bd",
   "metadata": {},
   "outputs": [],
   "source": [
    "### Task 3: Finding the Kth Maximum value in a given array. \n",
    "def kth_maximum(arr, k):\n",
    "    \"\"\"\n",
    "    Finding the Kth Maximum value in a given array\n",
    "\n",
    "    Args:\n",
    "        arr: a Python list or Numpy array\n",
    "        k: kth largest value in the array\n",
    "\n",
    "    Return:\n",
    "        kth_max: kth maximum value in the array\n",
    "    \"\"\"\n",
    "    if not arr:\n",
    "        raise ValueError(\"Input array is empty!\")\n",
    "\n",
    "    for item in arr:\n",
    "        if not isinstance(item, (int, float)):\n",
    "            raise ValueError(f\"Non-numerical value found!: {item}\")\n",
    "\n",
    "    if not isinstance(k, int):\n",
    "        raise ValueError(f\"K is not an integer!: {k}\")\n",
    "    if k > len(arr):\n",
    "        raise ValueError(f\"K must be smaller than or equal to the length of the array!: {k}\")\n",
    "    \n",
    "    # Create a copy to avoid modifying the original array\n",
    "    arr_copy = arr[:]\n",
    "\n",
    "    for i in range(k):\n",
    "        max_index = i\n",
    "        print(f\"array in iteration {i}:\", arr_copy)\n",
    "        for j in range(i + 1, len(arr_copy)):\n",
    "            if arr_copy[j] > arr_copy[max_index]:\n",
    "                max_index = j\n",
    "        # Use a temporary variable to swap\n",
    "        temp = arr_copy[i]\n",
    "        arr_copy[i] = arr_copy[max_index]\n",
    "        arr_copy[max_index] = temp\n",
    "        print(\"array swaped:\", arr_copy)\n",
    "\n",
    "    return arr_copy[k - 1]\n",
    "\n",
    "        \n",
    "### O(k * n)"
   ]
  },
  {
   "cell_type": "markdown",
   "id": "95873c2e-7ca0-4790-98a3-502b9ff10cc1",
   "metadata": {},
   "source": [
    "##### Task 4: Selection Sort\n",
    "\n",
    "Selection Sort repeatedly finds the minimum value from the unsorted part of the list and moves it to the end of the sorted part.\n",
    "\n",
    "🔁 How It Works:\n",
    "For each position i from 0 to n - 1:\n",
    "\n",
    "1. Find the minimum element in the unsorted sublist arr[i:]\n",
    "\n",
    "2. Swap it with the element at position i\n",
    "\n",
    "3. Repeat until the list is sorted"
   ]
  },
  {
   "cell_type": "code",
   "execution_count": 18,
   "id": "8af3f1ff-f6cc-431d-9496-443ab8dc2ee7",
   "metadata": {},
   "outputs": [],
   "source": [
    "def selection_sort(arr):\n",
    "    \"\"\"\n",
    "    Sort the input array to a non-descending order\n",
    "\n",
    "    Args:\n",
    "        arr: a Python list or Numpy array in an unsorted order\n",
    "\n",
    "    Return:\n",
    "        arr: a sorted Python list or Numpy array\n",
    "    \"\"\"\n",
    "    n = len(arr)\n",
    "    for i in range(n):\n",
    "        min_index = i\n",
    "        print('Current min_index', min_index)\n",
    "        for j in range(i + 1, n):\n",
    "            if arr[j] < arr[min_index]:\n",
    "                min_index = j\n",
    "        print(\"smallest index found\", min_index)\n",
    "        print(arr)\n",
    "        arr[i], arr[min_index] = arr[min_index], arr[i] # This line is equivalent to the temp variable in task 3.\n",
    "        print(arr)\n",
    "        print(\"Iteration\", i)\n",
    "    return arr\n",
    "    "
   ]
  },
  {
   "cell_type": "code",
   "execution_count": 19,
   "id": "f56500a3-bbfb-4870-9a13-0539c130edb4",
   "metadata": {
    "scrolled": true
   },
   "outputs": [
    {
     "name": "stdout",
     "output_type": "stream",
     "text": [
      "Current min_index 0\n",
      "smallest index found 4\n",
      "[64, 25, 12, 22, 11]\n",
      "[11, 25, 12, 22, 64]\n",
      "Iteration 0\n",
      "Current min_index 1\n",
      "smallest index found 2\n",
      "[11, 25, 12, 22, 64]\n",
      "[11, 12, 25, 22, 64]\n",
      "Iteration 1\n",
      "Current min_index 2\n",
      "smallest index found 3\n",
      "[11, 12, 25, 22, 64]\n",
      "[11, 12, 22, 25, 64]\n",
      "Iteration 2\n",
      "Current min_index 3\n",
      "smallest index found 3\n",
      "[11, 12, 22, 25, 64]\n",
      "[11, 12, 22, 25, 64]\n",
      "Iteration 3\n",
      "Current min_index 4\n",
      "smallest index found 4\n",
      "[11, 12, 22, 25, 64]\n",
      "[11, 12, 22, 25, 64]\n",
      "Iteration 4\n",
      "[11, 12, 22, 25, 64]\n"
     ]
    }
   ],
   "source": [
    "### Useage\n",
    "arr = [64, 25, 12, 22, 11]\n",
    "sorted_arr = selection_sort(arr)\n",
    "print(sorted_arr)  # Output: [11, 12, 22, 25, 64]\n"
   ]
  },
  {
   "cell_type": "markdown",
   "id": "91ceaf92-4036-4cbe-9338-3305f86ac168",
   "metadata": {},
   "source": [
    "### Complexity analysis\n",
    "What is the complexity of this algorithm?\n",
    "Please answer this question in Discussion Board 7.\n",
    "\n",
    "$O(n^2)$"
   ]
  }
 ],
 "metadata": {
  "kernelspec": {
   "display_name": "Python [conda env:base] *",
   "language": "python",
   "name": "conda-base-py"
  },
  "language_info": {
   "codemirror_mode": {
    "name": "ipython",
    "version": 3
   },
   "file_extension": ".py",
   "mimetype": "text/x-python",
   "name": "python",
   "nbconvert_exporter": "python",
   "pygments_lexer": "ipython3",
   "version": "3.11.9"
  }
 },
 "nbformat": 4,
 "nbformat_minor": 5
}
