{
 "cells": [
  {
   "cell_type": "markdown",
   "id": "8cc5c345-414a-4ce8-a2c3-6f45d644d8c9",
   "metadata": {},
   "source": [
    "# Regression Analysis\n",
    "\n",
    "A set of statistical processes for estimating the relationships between a dependent variable (often called the 'outcome' or 'response' variable, or a 'label' in machine learning parlance) and one or more independent variables (often called 'predictors', 'covariates', 'explanatory variables' or 'features').\n",
    "\n",
    "Linear regression is a common technique for regression analysis. It was used to predict the value of the dependent variable based on the value of independent variables. The dependent variable is the variable you want to estimate. The indipendent variables are used to predict the dependent variable.\n",
    "1. Simple Linear regression\n",
    "2. Multiple linear regression\n",
    "3. Logistic Regression\n",
    "4. Ridge Regression\n",
    "5. Lasso Regression\n",
    " \n",
    "    \n",
    "Nonlinear regression is used when the relationship between the dependent and independent variables cannot be adequately modeled by a linear equation. It allows for more complex functional forms, such as exponential, logarithmic, or sigmoidal curves.\n",
    "1. Polynomial Regression\n",
    "2. Gaussian Regression\n",
    "3. Logarithmic Regression\n",
    "4. Kernel Regression\n",
    "\n",
    "The linearity assumption can be explored using scatter plots. \n",
    "\n",
    "A heatmap can be a nice helper for correlation analysis.\n",
    "\n",
    "We will mainly cover the linear models. If you need more nonlinear topics, please reach out to Dr.Junyao Yang. "
   ]
  },
  {
   "cell_type": "markdown",
   "id": "2f5c88a0-5e81-4c27-98ef-230684b5158b",
   "metadata": {},
   "source": [
    "### Basic Assumptions\n",
    "\n",
    "**Linearity**: The relationship between the independent variables (predictors) and the dependent variable (response) is linear. This means that the change in the response variable is directly proportional to the change in the predictor variables.\n",
    "\n",
    "**Independence**: The observations are independent of each other. In other words, the value of one observation does not influence the value of another observation.\n",
    "\n",
    "**Homoscedasticity**: The variance of the residuals (the differences between the observed and predicted values) is constant across all levels of the predictors. This means that the spread of the residuals is consistent along the range of predictor variables.\n",
    "\n",
    "**Normality**: The residuals are normally distributed. This assumption ensures that the parameter estimates (coefficients) obtained from the regression analysis are unbiased and efficient. Typical checked after the regression analysis.\n",
    "\n",
    "**No multicollinearity**: There is no perfect multicollinearity among the independent variables. Multicollinearity occurs when two or more predictors are highly correlated, which can lead to unstable parameter estimates.\n",
    "\n",
    "**No influential outliers**: The presence of influential outliers (extreme values) in the data can disproportionately influence the parameter estimates and affect the overall fit of the model."
   ]
  },
  {
   "cell_type": "code",
<<<<<<< HEAD
   "execution_count": 1,
=======
   "execution_count": 2,
>>>>>>> 3d47f19baeaf60ed35ba4cbf95e3e2e436e3ff7a
   "id": "5650bca6-20ca-4da7-904b-c0b45da6d394",
   "metadata": {},
   "outputs": [
    {
     "data": {
      "text/html": [
       "<div>\n",
       "<style scoped>\n",
       "    .dataframe tbody tr th:only-of-type {\n",
       "        vertical-align: middle;\n",
       "    }\n",
       "\n",
       "    .dataframe tbody tr th {\n",
       "        vertical-align: top;\n",
       "    }\n",
       "\n",
       "    .dataframe thead th {\n",
       "        text-align: right;\n",
       "    }\n",
       "</style>\n",
       "<table border=\"1\" class=\"dataframe\">\n",
       "  <thead>\n",
       "    <tr style=\"text-align: right;\">\n",
       "      <th></th>\n",
       "      <th>id</th>\n",
       "      <th>date</th>\n",
       "      <th>price</th>\n",
       "      <th>bedrooms</th>\n",
       "      <th>bathrooms</th>\n",
       "      <th>sqft_living</th>\n",
       "      <th>sqft_lot</th>\n",
       "      <th>floors</th>\n",
       "      <th>waterfront</th>\n",
       "      <th>view</th>\n",
       "      <th>...</th>\n",
       "      <th>grade</th>\n",
       "      <th>sqft_above</th>\n",
       "      <th>sqft_basement</th>\n",
       "      <th>yr_built</th>\n",
       "      <th>yr_renovated</th>\n",
       "      <th>zipcode</th>\n",
       "      <th>lat</th>\n",
       "      <th>long</th>\n",
       "      <th>sqft_living15</th>\n",
       "      <th>sqft_lot15</th>\n",
       "    </tr>\n",
       "  </thead>\n",
       "  <tbody>\n",
       "    <tr>\n",
       "      <th>0</th>\n",
       "      <td>7129300520</td>\n",
       "      <td>20141013T000000</td>\n",
       "      <td>221900.0</td>\n",
       "      <td>3</td>\n",
       "      <td>1.00</td>\n",
       "      <td>1180</td>\n",
       "      <td>5650</td>\n",
       "      <td>1.0</td>\n",
       "      <td>0</td>\n",
       "      <td>0</td>\n",
       "      <td>...</td>\n",
       "      <td>7</td>\n",
       "      <td>1180</td>\n",
       "      <td>0</td>\n",
       "      <td>1955</td>\n",
       "      <td>0</td>\n",
       "      <td>98178</td>\n",
       "      <td>47.5112</td>\n",
       "      <td>-122.257</td>\n",
       "      <td>1340</td>\n",
       "      <td>5650</td>\n",
       "    </tr>\n",
       "    <tr>\n",
       "      <th>1</th>\n",
       "      <td>6414100192</td>\n",
       "      <td>20141209T000000</td>\n",
       "      <td>538000.0</td>\n",
       "      <td>3</td>\n",
       "      <td>2.25</td>\n",
       "      <td>2570</td>\n",
       "      <td>7242</td>\n",
       "      <td>2.0</td>\n",
       "      <td>0</td>\n",
       "      <td>0</td>\n",
       "      <td>...</td>\n",
       "      <td>7</td>\n",
       "      <td>2170</td>\n",
       "      <td>400</td>\n",
       "      <td>1951</td>\n",
       "      <td>1991</td>\n",
       "      <td>98125</td>\n",
       "      <td>47.7210</td>\n",
       "      <td>-122.319</td>\n",
       "      <td>1690</td>\n",
       "      <td>7639</td>\n",
       "    </tr>\n",
       "    <tr>\n",
       "      <th>2</th>\n",
       "      <td>5631500400</td>\n",
       "      <td>20150225T000000</td>\n",
       "      <td>180000.0</td>\n",
       "      <td>2</td>\n",
       "      <td>1.00</td>\n",
       "      <td>770</td>\n",
       "      <td>10000</td>\n",
       "      <td>1.0</td>\n",
       "      <td>0</td>\n",
       "      <td>0</td>\n",
       "      <td>...</td>\n",
       "      <td>6</td>\n",
       "      <td>770</td>\n",
       "      <td>0</td>\n",
       "      <td>1933</td>\n",
       "      <td>0</td>\n",
       "      <td>98028</td>\n",
       "      <td>47.7379</td>\n",
       "      <td>-122.233</td>\n",
       "      <td>2720</td>\n",
       "      <td>8062</td>\n",
       "    </tr>\n",
       "    <tr>\n",
       "      <th>3</th>\n",
       "      <td>2487200875</td>\n",
       "      <td>20141209T000000</td>\n",
       "      <td>604000.0</td>\n",
       "      <td>4</td>\n",
       "      <td>3.00</td>\n",
       "      <td>1960</td>\n",
       "      <td>5000</td>\n",
       "      <td>1.0</td>\n",
       "      <td>0</td>\n",
       "      <td>0</td>\n",
       "      <td>...</td>\n",
       "      <td>7</td>\n",
       "      <td>1050</td>\n",
       "      <td>910</td>\n",
       "      <td>1965</td>\n",
       "      <td>0</td>\n",
       "      <td>98136</td>\n",
       "      <td>47.5208</td>\n",
       "      <td>-122.393</td>\n",
       "      <td>1360</td>\n",
       "      <td>5000</td>\n",
       "    </tr>\n",
       "    <tr>\n",
       "      <th>4</th>\n",
       "      <td>1954400510</td>\n",
       "      <td>20150218T000000</td>\n",
       "      <td>510000.0</td>\n",
       "      <td>3</td>\n",
       "      <td>2.00</td>\n",
       "      <td>1680</td>\n",
       "      <td>8080</td>\n",
       "      <td>1.0</td>\n",
       "      <td>0</td>\n",
       "      <td>0</td>\n",
       "      <td>...</td>\n",
       "      <td>8</td>\n",
       "      <td>1680</td>\n",
       "      <td>0</td>\n",
       "      <td>1987</td>\n",
       "      <td>0</td>\n",
       "      <td>98074</td>\n",
       "      <td>47.6168</td>\n",
       "      <td>-122.045</td>\n",
       "      <td>1800</td>\n",
       "      <td>7503</td>\n",
       "    </tr>\n",
       "  </tbody>\n",
       "</table>\n",
       "<p>5 rows × 21 columns</p>\n",
       "</div>"
      ],
      "text/plain": [
       "           id             date     price  bedrooms  bathrooms  sqft_living  \\\n",
       "0  7129300520  20141013T000000  221900.0         3       1.00         1180   \n",
       "1  6414100192  20141209T000000  538000.0         3       2.25         2570   \n",
       "2  5631500400  20150225T000000  180000.0         2       1.00          770   \n",
       "3  2487200875  20141209T000000  604000.0         4       3.00         1960   \n",
       "4  1954400510  20150218T000000  510000.0         3       2.00         1680   \n",
       "\n",
       "   sqft_lot  floors  waterfront  view  ...  grade  sqft_above  sqft_basement  \\\n",
       "0      5650     1.0           0     0  ...      7        1180              0   \n",
       "1      7242     2.0           0     0  ...      7        2170            400   \n",
       "2     10000     1.0           0     0  ...      6         770              0   \n",
       "3      5000     1.0           0     0  ...      7        1050            910   \n",
       "4      8080     1.0           0     0  ...      8        1680              0   \n",
       "\n",
       "   yr_built  yr_renovated  zipcode      lat     long  sqft_living15  \\\n",
       "0      1955             0    98178  47.5112 -122.257           1340   \n",
       "1      1951          1991    98125  47.7210 -122.319           1690   \n",
       "2      1933             0    98028  47.7379 -122.233           2720   \n",
       "3      1965             0    98136  47.5208 -122.393           1360   \n",
       "4      1987             0    98074  47.6168 -122.045           1800   \n",
       "\n",
       "   sqft_lot15  \n",
       "0        5650  \n",
       "1        7639  \n",
       "2        8062  \n",
       "3        5000  \n",
       "4        7503  \n",
       "\n",
       "[5 rows x 21 columns]"
      ]
     },
<<<<<<< HEAD
     "execution_count": 1,
=======
     "execution_count": 2,
>>>>>>> 3d47f19baeaf60ed35ba4cbf95e3e2e436e3ff7a
     "metadata": {},
     "output_type": "execute_result"
    }
   ],
   "source": [
    "# Loading libraries and data\n",
    "import numpy as np\n",
    "import pandas as pd\n",
    "import matplotlib.pyplot as plt\n",
    "\n",
    "fname = \"../data/kc_house_data.csv\"\n",
    "df = pd.read_csv(fname)\n",
    "df.head()"
   ]
  },
  {
   "cell_type": "code",
<<<<<<< HEAD
   "execution_count": 2,
=======
   "execution_count": 3,
>>>>>>> 3d47f19baeaf60ed35ba4cbf95e3e2e436e3ff7a
   "id": "fbb181a3-4552-4e7d-b884-1303994c75aa",
   "metadata": {},
   "outputs": [
    {
     "data": {
      "image/png": "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",
      "text/plain": [
       "<Figure size 640x480 with 3 Axes>"
      ]
     },
     "metadata": {},
     "output_type": "display_data"
    }
   ],
   "source": [
    "# scatter plot for sqft_lot and price\n",
    "fig, ax = plt.subplots(1, 3)\n",
    "\n",
    "ax[0].scatter(df['sqft_lot'], df['price'])\n",
    "\n",
    "ax[1].scatter(df['sqft_above'], df['price'])\n",
    "ax[2].scatter(df['sqft_living'], df['price'])\n",
    "plt.show()"
   ]
  },
  {
   "cell_type": "markdown",
   "id": "f89e1830-7a4f-4436-b698-939dfef08e3a",
   "metadata": {},
   "source": [
    "As we talked before, it looks like that the sqft_above and sqft_living have some linear relation to price. <br>\n",
    "We can create a simple linear regression model for each of the variables. "
   ]
  },
  {
   "cell_type": "code",
<<<<<<< HEAD
   "execution_count": 5,
=======
   "execution_count": 4,
>>>>>>> 3d47f19baeaf60ed35ba4cbf95e3e2e436e3ff7a
   "id": "e4b41d43-e922-45a6-b9eb-0b076549992e",
   "metadata": {},
   "outputs": [
    {
     "data": {
      "text/plain": [
       "(       sqft_above  sqft_living\n",
       " 16376        2600         2600\n",
       " 12864        1070         1070\n",
       " 17163         750          750\n",
       " 11228         720          720\n",
       " 8464         1010         1450\n",
       " ...           ...          ...\n",
       " 14875        2690         2690\n",
       " 2688         1730         2240\n",
       " 19040         720         1440\n",
       " 19962        1630         2170\n",
       " 7816         2290         2290\n",
       " \n",
       " [17290 rows x 2 columns],\n",
       "        sqft_above  sqft_living\n",
       " 12201        1480         1480\n",
       " 19557        1090         1640\n",
       " 7169          840          840\n",
       " 282          2630         3830\n",
       " 8227         3630         4330\n",
       " ...           ...          ...\n",
       " 6425         1230         2230\n",
       " 1319         1430         1620\n",
       " 15291        1510         2210\n",
       " 17509         780          780\n",
       " 11072        2360         2360\n",
       " \n",
       " [4323 rows x 2 columns],\n",
       " 16376    817000.0\n",
       " 12864    319950.0\n",
       " 17163    135000.0\n",
       " 11228    310000.0\n",
       " 8464     306000.0\n",
       "            ...   \n",
       " 14875    419000.0\n",
       " 2688     415000.0\n",
       " 19040    285000.0\n",
       " 19962    445000.0\n",
       " 7816     685900.0\n",
       " Name: price, Length: 17290, dtype: float64,\n",
       " 12201     355000.0\n",
       " 19557     556000.0\n",
       " 7169      180000.0\n",
       " 282      2050000.0\n",
       " 8227      722800.0\n",
       "            ...    \n",
       " 6425      375000.0\n",
       " 1319      600000.0\n",
       " 15291     635250.0\n",
       " 17509     380000.0\n",
       " 11072     290000.0\n",
       " Name: price, Length: 4323, dtype: float64)"
      ]
     },
<<<<<<< HEAD
     "execution_count": 5,
=======
     "execution_count": 4,
>>>>>>> 3d47f19baeaf60ed35ba4cbf95e3e2e436e3ff7a
     "metadata": {},
     "output_type": "execute_result"
    }
   ],
   "source": [
    "### Normally, we will split the data to train set and test set. \n",
    "### We will use the train set to build the regression model.\n",
    "### And the test set is used to verify the model.\n",
    "\n",
    "# scikit-learn (formerly scikits.learn and also known as sklearn) is a free software machine learning library for the Python programming language.\n",
    "# It features various classification, regression and clustering algorithms including support-vector machines, \n",
    "# random forests, gradient boosting, k-means and DBSCAN, and is designed to interoperate with the Python numerical and scientific libraries NumPy and SciPy.\n",
    "\n",
    "from sklearn.model_selection import train_test_split\n",
    "X_train, X_test, y_train, y_test = train_test_split(df[['sqft_above', 'sqft_living']], df['price'], train_size = 0.8, random_state = 2024)\n",
    "X_train, X_test, y_train, y_test"
   ]
  },
  {
   "cell_type": "code",
<<<<<<< HEAD
   "execution_count": 3,
=======
   "execution_count": 5,
>>>>>>> 3d47f19baeaf60ed35ba4cbf95e3e2e436e3ff7a
   "id": "2d6fd8db-7cc2-4f91-8053-c8ad74beba8c",
   "metadata": {},
   "outputs": [],
   "source": [
    "from sklearn.linear_model import LinearRegression\n",
    "model_above = LinearRegression()\n",
    "model_living = LinearRegression()"
   ]
  },
  {
   "cell_type": "code",
<<<<<<< HEAD
   "execution_count": 12,
=======
   "execution_count": 6,
>>>>>>> 3d47f19baeaf60ed35ba4cbf95e3e2e436e3ff7a
   "id": "0f251057-3bd5-42df-82a9-b31c41e581a4",
   "metadata": {},
   "outputs": [
    {
     "data": {
      "text/plain": [
       "LinearRegression()"
      ]
     },
<<<<<<< HEAD
     "execution_count": 12,
=======
     "execution_count": 6,
>>>>>>> 3d47f19baeaf60ed35ba4cbf95e3e2e436e3ff7a
     "metadata": {},
     "output_type": "execute_result"
    }
   ],
   "source": [
    "### reshape your data\n",
    "# print(np.array(X_train['sqft_above']).reshape(-1, 1))\n",
    "\n",
    "# train or fit model\n",
    "# model_above.fit(np.array(X_train['sqft_above']).reshape(-1, 1), y_train)\n",
    "# model_living.fit(np.array(X_train['sqft_living']).reshape(-1, 1), y_train)\n",
    "\n",
    "model_above.fit(X_train['sqft_above'].to_numpy().reshape(-1, 1), y_train)\n",
    "model_living.fit(X_train['sqft_living'].to_numpy().reshape(-1, 1), y_train)"
   ]
  },
  {
   "cell_type": "code",
<<<<<<< HEAD
   "execution_count": 13,
=======
   "execution_count": 7,
>>>>>>> 3d47f19baeaf60ed35ba4cbf95e3e2e436e3ff7a
   "id": "ad60a44f-a245-4f2d-87cf-89e9b0026a74",
   "metadata": {},
   "outputs": [
    {
     "data": {
      "text/plain": [
       "(59703.71252844093,\n",
       " array([268.38202164]),\n",
       " -38208.55562535068,\n",
       " array([277.95190824]))"
      ]
     },
<<<<<<< HEAD
     "execution_count": 13,
=======
     "execution_count": 7,
>>>>>>> 3d47f19baeaf60ed35ba4cbf95e3e2e436e3ff7a
     "metadata": {},
     "output_type": "execute_result"
    }
   ],
   "source": [
    "model_above.intercept_, model_above.coef_, model_living.intercept_, model_living.coef_"
   ]
  },
  {
   "cell_type": "markdown",
   "id": "d1c74652-396a-4c94-9eea-208cd633e27d",
   "metadata": {},
   "source": [
    "For the sqrt_above:<br>\n",
    "$ y = 59703.71252844081 + 268.38202164 * x $\n",
    "\n",
    "For the sqrt_living:<br>\n",
    "$y = -38208.55562535033 + 277.95190824 * x$"
   ]
  },
  {
   "cell_type": "code",
<<<<<<< HEAD
   "execution_count": 14,
=======
   "execution_count": 8,
>>>>>>> 3d47f19baeaf60ed35ba4cbf95e3e2e436e3ff7a
   "id": "5b9b003b-deb7-4d16-a87d-59d2f6176970",
   "metadata": {},
   "outputs": [],
   "source": [
    "# Step 7 : predict model\n",
    "above_pred = model_above.predict(np.array(X_test['sqft_above']).reshape(-1, 1))\n",
    "living_pred = model_living.predict(np.array(X_test['sqft_living']).reshape(-1, 1))"
   ]
  },
  {
   "cell_type": "code",
<<<<<<< HEAD
   "execution_count": 15,
=======
   "execution_count": 9,
>>>>>>> 3d47f19baeaf60ed35ba4cbf95e3e2e436e3ff7a
   "id": "87822c95-900c-41b7-960f-a40c4d693adb",
   "metadata": {},
   "outputs": [
    {
     "data": {
      "text/plain": [
       "(array([456909.10454888, 352240.11611106, 285144.6107022 , ...,\n",
       "        464960.56519795, 269041.68940408, 693085.28358806]),\n",
       " array([373160.26857208, 417632.57389072, 195271.04729752, ...,\n",
       "        576065.16158839, 178593.93280303, 617757.94782461]))"
      ]
     },
<<<<<<< HEAD
     "execution_count": 15,
=======
     "execution_count": 9,
>>>>>>> 3d47f19baeaf60ed35ba4cbf95e3e2e436e3ff7a
     "metadata": {},
     "output_type": "execute_result"
    }
   ],
   "source": [
    "above_pred, living_pred"
   ]
  },
  {
   "cell_type": "code",
<<<<<<< HEAD
   "execution_count": 16,
=======
   "execution_count": 10,
>>>>>>> 3d47f19baeaf60ed35ba4cbf95e3e2e436e3ff7a
   "id": "2696cc4f-1695-4f6e-9836-637a331c53ec",
   "metadata": {},
   "outputs": [
    {
     "name": "stdout",
     "output_type": "stream",
     "text": [
      "193549.97661653874 0.4026326187239139 95269060643.77367\n",
      "171688.24844675415 0.35587611080168424 72510369727.06268\n"
     ]
    }
   ],
   "source": [
    "from sklearn.metrics import mean_absolute_error, mean_absolute_percentage_error, mean_squared_error\n",
    "# above\n",
    "print(mean_absolute_error(y_test, above_pred), mean_absolute_percentage_error(y_test, above_pred), mean_squared_error(y_test, above_pred))\n",
    "# living\n",
    "print(mean_absolute_error(y_test, living_pred), mean_absolute_percentage_error(y_test, living_pred), mean_squared_error(y_test, living_pred))"
   ]
  },
  {
   "cell_type": "code",
   "execution_count": 11,
   "id": "2724e621-efbe-44e9-b884-5d4f833dc43e",
   "metadata": {},
   "outputs": [
    {
     "data": {
      "image/png": "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",
      "text/plain": [
       "<Figure size 800x400 with 2 Axes>"
      ]
     },
     "metadata": {},
     "output_type": "display_data"
    }
   ],
   "source": [
    "# plot the regression model in the decision space.\n",
    "\n",
    "# scatter plot for sqft_lot and price\n",
    "fig, ax = plt.subplots(1, 2, figsize=(8, 4))\n",
    "\n",
    "# Plot for sqft_above\n",
    "ax[0].scatter(X_train['sqft_above'], y_train, color='orange')\n",
    "ax[0].plot(X_train['sqft_above'], model_above.predict(np.array(X_train['sqft_above']).reshape(-1, 1)), color='k')\n",
    "ax[0].set_title('sqft_above vs. Price')\n",
    "ax[0].set_xlabel('sqft_above')\n",
    "ax[0].set_ylabel('Price')\n",
    "\n",
    "# Plot for sqft_living\n",
    "ax[1].scatter(X_train['sqft_living'], y_train, color='orange')\n",
    "ax[1].plot(X_train['sqft_living'], model_living.predict(np.array(X_train['sqft_living']).reshape(-1, 1)), color='k')\n",
    "ax[1].set_title('sqft_living vs. Price')\n",
    "ax[1].set_xlabel('sqft_living')\n",
    "ax[1].set_ylabel('Price')\n",
    "\n",
    "plt.tight_layout()\n",
    "plt.show()"
   ]
  },
  {
   "cell_type": "markdown",
   "id": "d01fadc8-e9d0-40b4-8990-e5087b4bdd2c",
   "metadata": {},
   "source": [
    "### Let's check the Normality after building the regression model.\n",
    "\n",
    "In linear regression, one of the assumptions is that the residuals (the differences between the observed and predicted values) are normally distributed. If this assumption is violated, it can affect the validity of the statistical inference and predictions made by the model."
   ]
  },
  {
   "cell_type": "code",
   "execution_count": 17,
   "id": "79b52f56-9d09-482a-956e-bdfcd9e0c894",
   "metadata": {},
   "outputs": [
    {
     "name": "stdout",
     "output_type": "stream",
     "text": [
      "Shapiro-Wilk Test:\n",
      "Test Statistic: 0.7548332810401917\n",
      "p-value: 0.0\n",
      "Sample does not look Gaussian (reject H0)\n"
     ]
    }
   ],
   "source": [
    "### if your sample size is less than 5000\n",
    "from scipy import stats\n",
    "\n",
    "# Calculate the residule\n",
<<<<<<< HEAD
    "test_residule = y_test - model_living.predict(np.array(X_test['sqft_above']).reshape(-1, 1))\n",
    "# train_residule = y_train - model_living.predict(np.array(X_traint['sqft_above']).reshape(-1, 1))\n",
    "#residule = y_test - model_living.predict(np.array(X_train['sqft_living']).reshape(-1, 1))\n",
=======
    "residule = y_test - model_living.predict(np.array(X_test['sqft_above']).reshape(-1, 1))\n",
    "#residule = y_test - model_living.predict(np.array(X_test['sqft_living']).reshape(-1, 1))\n",
>>>>>>> 3d47f19baeaf60ed35ba4cbf95e3e2e436e3ff7a
    "                             \n",
    "\n",
    "# Perform Shapiro-Wilk test\n",
    "stat, p = stats.shapiro(test_residule)\n",
    "\n",
    "# Print the results\n",
    "print(\"Shapiro-Wilk Test:\")\n",
    "print(\"Test Statistic:\", stat)\n",
    "print(\"p-value:\", p)\n",
    "\n",
    "# Interpret the results\n",
    "alpha = 0.05\n",
    "if p > alpha:\n",
    "    print(\"Sample looks Gaussian (fail to reject H0)\")\n",
    "else:\n",
    "    print(\"Sample does not look Gaussian (reject H0)\")"
   ]
  },
  {
   "cell_type": "markdown",
   "id": "478543b2-e0c3-470f-85ab-08f7c15a567a",
   "metadata": {},
   "source": [
    "**Impact on Inference:** If the residuals are not normally distributed, it can affect the estimates of the regression coefficients, standard errors, and confidence intervals. This can lead to biased or unreliable results.\n",
    "\n",
    "**Model Fit:** Checking the normality of residuals also helps to assess the overall fit of the regression model. A departure from normality may indicate that the model is not capturing some underlying patterns in the data."
   ]
  },
  {
   "cell_type": "markdown",
   "id": "24ea7115-ec0b-4315-994f-1aa66e7abb75",
   "metadata": {},
   "source": [
    "### Heatmap\n",
    "\n",
    "A heatmap is a graphical representation of data where the individual values contained in a matrix are represented as colors. Heatmaps are useful for visualizing data patterns, such as correlations, across two dimensions (e.g., rows and columns of a matrix).\n",
    "\n",
    "In a heatmap, each cell is colored based on its value, typically using a color gradient. The color intensity represents the magnitude of the value, with brighter colors indicating higher values and darker colors indicating lower values. Heatmaps are commonly used in various fields, including data analysis, biology, and finance, to visualize complex data and identify trends or patterns.\n",
    "\n",
    "In our example, we want to explore the correlation between the features. Recall that if there is a strong correlation among the independent variables, our regression may be baised or unreliable. So it is necessary for us to check the correlation before regression analysis.\n",
    "\n",
    "We will consider three features/independent variables for a heatmap construction using the house data, sqrt_lot, sqrt_living, and sqrt_above.\n",
    "Thus, we will have 3 by 3 heatmap. "
   ]
  },
  {
   "cell_type": "code",
   "execution_count": 23,
   "id": "2b10473f-84ff-47fa-af94-ff500482aa9b",
   "metadata": {},
   "outputs": [
    {
     "data": {
      "image/png": "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",
      "text/plain": [
       "<Figure size 600x600 with 2 Axes>"
      ]
     },
     "metadata": {},
     "output_type": "display_data"
    }
   ],
   "source": [
    "import seaborn as sns\n",
    "# Calculate the correlation matrix\n",
    "corr_matrix = df[[\"sqft_lot\", \"sqft_living\", \"sqft_above\"]].corr()\n",
    "\n",
    "# construct the heatmap\n",
    "plt.figure(figsize=(6, 6))\n",
    "sns.heatmap(corr_matrix, annot=True, cmap='coolwarm', vmin=-1, vmax=1)\n",
    "plt.title('Correlation Heatmap of House Data')\n",
    "plt.show()"
   ]
  },
  {
   "cell_type": "markdown",
   "id": "712d2d40-36c3-42a8-a191-322b4b810bd3",
   "metadata": {},
   "source": [
    "As showing above, we use the heatmap with numbers labels in each area to show the correlation among these three independent variables.\n",
    "\n",
    "A heatmaps will always have a value of 1 for all diagonal line. Because it represents the correlation that is calculated using itself. \n",
    "\n",
    "A correlation coefficient of 1 indicates a perfect positive linear relationship between two variables. It means that as one variable increases, the other variable also increases proportionally, and vice versa. However, it does not necessarily mean that the two variables are the same.\n",
    "\n",
    "For example, it reads 0.18, close to 0, for the first row and third area, which indicates a less or none correlation between sqft_above and sqft_lot. But for sqft_above and sqft_living, 0.88, close to 1, indicates a strong positive correlation. If you see a correlation value, for example, -0.88, it means a strong negative correlation.\n",
    "\n",
    "Indeed, this heatmap indicates multicollinearity between sqft_above and sqft_living, which may cause issues in our linear regression model. The reaults may not be reliable. \n",
    "\n",
    "If multicollinearity is detected, there are several steps that can be taken to address it, such as removing one of the correlated variables, combining the variables into a single variable, or using regularization techniques like ridge regression."
   ]
  },
  {
<<<<<<< HEAD
   "cell_type": "markdown",
   "id": "24661e18-67bb-406f-a641-9a3575d96c86",
   "metadata": {},
   "source": [
    "$y = 37159.207848828984 -7.41219241 * x_{1} + 283.82493301 * x_{2}$"
   ]
  },
  {
   "cell_type": "code",
   "execution_count": null,
   "id": "5dc5ec58-8c1c-46e4-a369-4c13f33e2355",
   "metadata": {},
   "outputs": [],
   "source": []
  },
  {
   "cell_type": "code",
   "execution_count": null,
   "id": "1fe46798-a280-4c5b-902c-98d2a1d2a414",
   "metadata": {},
   "outputs": [],
   "source": []
  },
  {
   "cell_type": "code",
   "execution_count": null,
   "id": "8601fcfc-1207-4d25-86e2-7f1d154d2b86",
=======
   "cell_type": "code",
   "execution_count": null,
   "id": "9c2c5abc-69ce-4171-9d0d-4328f588a771",
>>>>>>> 3d47f19baeaf60ed35ba4cbf95e3e2e436e3ff7a
   "metadata": {},
   "outputs": [],
   "source": []
  }
 ],
 "metadata": {
  "kernelspec": {
   "display_name": "Python 3 (ipykernel)",
   "language": "python",
   "name": "python3"
  },
  "language_info": {
   "codemirror_mode": {
    "name": "ipython",
    "version": 3
   },
   "file_extension": ".py",
   "mimetype": "text/x-python",
   "name": "python",
   "nbconvert_exporter": "python",
   "pygments_lexer": "ipython3",
   "version": "3.9.13"
  }
 },
 "nbformat": 4,
 "nbformat_minor": 5
}
