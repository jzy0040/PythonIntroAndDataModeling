{
 "cells": [
  {
   "cell_type": "markdown",
   "id": "d7ae1871-d114-4700-a643-a0a5289616d5",
   "metadata": {
    "editable": true,
    "slideshow": {
     "slide_type": ""
    },
    "tags": []
   },
   "source": [
    "# Assignment 1 Python Introduction\n",
    "\n",
    "### Please note all assignemnts in this class are individual works. NO Collaboration is Allowed. \n"
   ]
  },
  {
   "cell_type": "markdown",
   "id": "01e02834-bff0-414c-9d7b-b962275bb5e0",
   "metadata": {},
   "source": [
    "Assignment Policy:\n",
    "1. Please answer the following question using your Coding work and Comments. Coding with no comment or little comments can be hard to follow and will be assigned 0.\n",
    "2. Please finish the work using the file provided. Any unauthorized document will not be graded.\n",
    "3. Ask questions if you don't know how to do the assignment.\n",
    "4. You are allowed to use any Generative AI.\n",
    "5. You must be able to explain all your code submitted to the instructor. If your explanation can't be provided, no credits will be assigned.\n",
    "6. All submission will be proceed with Plagiarism Detection Software. F grade will be assigned if any plagiarism behavior detected.\n"
   ]
  },
  {
   "cell_type": "markdown",
   "id": "55b864ca-205a-462f-b5e4-366a9e838682",
   "metadata": {},
   "source": [
    "##### Python Basic"
   ]
  },
  {
   "cell_type": "code",
   "execution_count": null,
   "id": "4ab03007-19e9-4071-82b1-8d0e3d49c554",
   "metadata": {},
   "outputs": [],
   "source": [
    "### 1. Please create Python variables to hold the following personal info\n",
    "###    Note: you need to choose the best data type for what you are creating.\n",
    "### \n",
    "###     1. First Name and Last Name; \n",
    "###     2. Major; \n",
    "###     3. Rate of your programming skills from 1 to 10 while 1 means completely new and 10 means super confident. \n",
    "###     4. What is your expectation/goal by taking this class?\n",
    "\n",
    "\n"
   ]
  },
  {
   "cell_type": "code",
   "execution_count": null,
   "id": "f2607caf-56cf-4e36-87d9-763cebe46007",
   "metadata": {},
   "outputs": [],
   "source": [
    "### 2. Please use Python code to print the above information, name, major, rate of your programming skills.\n",
    "###    One info in each line\n"
   ]
  },
  {
   "cell_type": "markdown",
   "id": "9cf1b2da-464e-4033-bcb6-81243eadd593",
   "metadata": {},
   "source": [
    "##### Python List"
   ]
  },
  {
   "cell_type": "code",
   "execution_count": null,
   "id": "b82013b1-3dd2-457d-b132-4a80aed9e6b3",
   "metadata": {},
   "outputs": [],
   "source": [
    "### 1. Please create a list that contains at least 5 of your favourite movies\n",
    "###    The first one should be your top selection, then second, third, and \n",
    "###    Note: you need to choose the best data type for what you are creating.\n",
    "\n"
   ]
  },
  {
   "cell_type": "code",
   "execution_count": null,
   "id": "bfb6be53-d1d2-4731-a4c1-06ac5fca3d8b",
   "metadata": {},
   "outputs": [],
   "source": [
    "### 2. Can you use Python code to add 2 more movies to the list? \n",
    "###    Do please use comments to explain your code.\n",
    "\n"
   ]
  },
  {
   "cell_type": "code",
   "execution_count": null,
   "id": "7777b3e5-b795-4ea7-bca9-3307b8ed7af8",
   "metadata": {},
   "outputs": [],
   "source": [
    "### 3. Now you should have 7 movies in the list.\n",
    "###    You suddently come up with a movie that should be your top selection but isn't in the list yet. \n",
    "###    Can you add the new movie to the list as your top selection? \n",
    "\n",
    "\n"
   ]
  },
  {
   "cell_type": "code",
   "execution_count": null,
   "id": "5a3285a3-adfa-4898-abd9-bc001b2c9a6b",
   "metadata": {},
   "outputs": [],
   "source": [
    "### Optional: can you use another method to do the same thing in the previous problem? \n",
    "### Do please use comments to explain your code for this question. \n",
    "\n"
   ]
  },
  {
   "cell_type": "code",
   "execution_count": null,
   "id": "d6ee1d49-6677-49d0-a07e-39d816f7acad",
   "metadata": {},
   "outputs": [],
   "source": [
    "### 4. Now you should have 8 movies in your list.\n",
    "###    You realize that the last movie was nothing but just an average. \n",
    "###    Can you remove the last movie from the list using at least 3 method?\n",
    "###    Do please use comments to explain your code.\n",
    "\n",
    "\n"
   ]
  },
  {
   "cell_type": "code",
   "execution_count": null,
   "id": "356f88d1-8297-4557-9a7e-eaa452ffb853",
   "metadata": {},
   "outputs": [],
   "source": [
    "### 5. Now you should have 7 movies in your list.\n",
    "###    Can you print all 7 list using list iterator with a for loop. "
   ]
  },
  {
   "cell_type": "markdown",
   "id": "b846f741-6237-46d8-bb9b-964072b427d2",
   "metadata": {},
   "source": [
    "##### Python Dictionary"
   ]
  },
  {
   "cell_type": "code",
   "execution_count": null,
   "id": "50e2dad0-e61d-4373-a5d5-c3939859830f",
   "metadata": {},
   "outputs": [],
   "source": [
    "### To complete this problem, you must run this cell block before going down. \n",
    "\n",
    "### The following Python dictionary is a midterm gradebook for a graduate class. \n",
    "gradebook = {\n",
    "    \"Alice\": 85,\n",
    "    \"Bob\": 92,\n",
    "    \"Charlie\": 78,\n",
    "    \"Diana\": 88,\n",
    "    \"Ethan\": 65\n",
    "}"
   ]
  },
  {
   "cell_type": "code",
   "execution_count": null,
   "id": "27f06536-ce05-4c99-b720-5c0dadf2a0e9",
   "metadata": {},
   "outputs": [],
   "source": [
    "### 1. For some reason, one student was missing from the grade book. \n",
    "###    His name is Jack and he got 98 in this course. \n",
    "###    Can you add Jack to this gradebook?\n",
    "\n"
   ]
  },
  {
   "cell_type": "code",
   "execution_count": null,
   "id": "c3fffe22-c42b-4941-8edd-96e88e34a3e4",
   "metadata": {},
   "outputs": [],
   "source": [
    "### 2. Bob's grade was entered incorrectly. \n",
    "###    The correct grade should be 75. \n",
    "###    Can you update Bob's grade in this gradebook?\n",
    "\n"
   ]
  },
  {
   "cell_type": "code",
   "execution_count": null,
   "id": "3e59865a-5588-4672-b318-461ee0b3c82c",
   "metadata": {},
   "outputs": [],
   "source": [
    "### 3. Ethan is under the risk of failing this course. \n",
    "###    He made a wisely choice to drop this class and retake it later. \n",
    "###    Can you remove Ethan from this gradebook for the final?"
   ]
  },
  {
   "cell_type": "code",
   "execution_count": null,
   "id": "5148eb8a-0bc5-4d75-afb1-8face81680ad",
   "metadata": {},
   "outputs": [],
   "source": [
    "### 4. What's the low, high, average score of this class. \n"
   ]
  },
  {
   "cell_type": "code",
   "execution_count": null,
   "id": "78912ec4-3f62-4d0a-b41a-f760b630702f",
   "metadata": {},
   "outputs": [],
   "source": [
    "### 5. Can you print the roster of this class?\n",
    "\n"
   ]
  },
  {
   "cell_type": "markdown",
   "id": "f2b9424c-d3cb-4533-aa60-6a442a5d01c9",
   "metadata": {},
   "source": [
    "##### Condition Expression"
   ]
  },
  {
   "cell_type": "code",
   "execution_count": null,
   "id": "156e7388-1bae-4212-bcda-92aac6eed723",
   "metadata": {},
   "outputs": [],
   "source": [
    "### Please use the gradebook dictionary above to solve this problem. \n",
    "### For each student, determine their letter grade using conditionals:\n",
    "\n",
    "###     1. 90–100: A\n",
    "###     2. 80–89: B\n",
    "###     3. 70–79: C\n",
    "###     4. 60–69: D\n",
    "###     5. Below 60: F\n",
    "### Then, store the grades in a new dictionary:\n",
    "\n",
    "\n"
   ]
  },
  {
   "cell_type": "markdown",
   "id": "12132f4a-32dd-4f84-af6d-3a266ed5c35f",
   "metadata": {},
   "source": [
    "##### Loops"
   ]
  },
  {
   "cell_type": "code",
   "execution_count": 10,
   "id": "f5cdd40b-c499-4e22-8f6f-61ede61660c1",
   "metadata": {},
   "outputs": [],
   "source": [
    "### You’re building a simple ATM simulator that allows users to:\n",
    "\n",
    "### 1. Check balance\n",
    "### 2. Deposit money\n",
    "### 3. Withdraw money\n",
    "### 4. Exit the system\n",
    "\n",
    "### Assume a customer, John, has $1000 current balance.\n",
    "### John plans to check his balance, deposit a check, then make a withdraw for his car purchase. \n",
    "### After the withdraw, John will exit the system. \n",
    "### Please note the withdraw must be less or equal to the current balance. \n",
    "### All ATM have a limitation of one time deposit of $10k. \n",
    "### When enter the system, the system will print a welcome statement and \n",
    "### ask the user to provide an integer to indicate the purpose of visit(the above 4 options).\n",
    "### When John finishes one activity, the system will go back to the beginning, then print the welcome and ask statement\n",
    "### When John exits the system, the system should print a goodbye statement. \n",
    "### Please design a Python loop for this problem. Ignore the passcode process while entering the system. "
   ]
  },
  {
   "cell_type": "code",
   "execution_count": null,
   "id": "fd25615c-44f5-4237-904e-1b52e3b37818",
   "metadata": {},
   "outputs": [],
   "source": []
  },
  {
   "cell_type": "code",
   "execution_count": null,
   "id": "52b7e7a2-5a2c-4530-93c9-7052ff904e69",
   "metadata": {},
   "outputs": [],
   "source": []
  },
  {
   "cell_type": "code",
   "execution_count": null,
   "id": "28bc9654-c8dd-43b2-a2e8-ed1c058ddd1a",
   "metadata": {},
   "outputs": [],
   "source": []
  },
  {
   "cell_type": "code",
   "execution_count": null,
   "id": "50e890c6-6ef4-4c2c-b7b2-df9346af0009",
   "metadata": {},
   "outputs": [],
   "source": []
  },
  {
   "cell_type": "markdown",
   "id": "e7aa3fe6-fcbd-405e-ab13-4d0e235bb86f",
   "metadata": {},
   "source": [
    "##### Extra Credit\n",
    "\n",
    "Given an array of integers nums and an integer target, return indices of the two numbers such that they add up to target.\n",
    "\n",
    "You may assume that each input would have exactly one solution, and you may not use the same element twice.\n",
    "\n",
    "You can return the answer in any order.\n",
    "\n",
    "Example 1:\n",
    "\n",
    "Input: nums = [2,7,11,15], target = 9\n",
    "Output: [0,1]\n",
    "Explanation: Because nums[0] + nums[1] == 9, we return [0, 1].\n",
    "\n",
    "Example 2:\n",
    "\n",
    "Input: nums = [3,2,4], target = 6\n",
    "Output: [1,2]"
   ]
  },
  {
   "cell_type": "markdown",
   "id": "56dfeea5-685a-4807-9a2e-959faacb72a4",
   "metadata": {},
   "source": []
  }
 ],
 "metadata": {
  "kernelspec": {
   "display_name": "Python [conda env:base] *",
   "language": "python",
   "name": "conda-base-py"
  },
  "language_info": {
   "codemirror_mode": {
    "name": "ipython",
    "version": 3
   },
   "file_extension": ".py",
   "mimetype": "text/x-python",
   "name": "python",
   "nbconvert_exporter": "python",
   "pygments_lexer": "ipython3",
   "version": "3.11.9"
  }
 },
 "nbformat": 4,
 "nbformat_minor": 5
}
