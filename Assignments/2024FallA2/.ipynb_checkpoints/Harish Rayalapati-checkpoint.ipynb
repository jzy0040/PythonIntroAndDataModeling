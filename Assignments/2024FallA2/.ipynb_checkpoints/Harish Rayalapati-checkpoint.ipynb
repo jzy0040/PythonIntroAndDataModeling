{
 "cells": [
  {
   "cell_type": "code",
   "execution_count": 3,
   "id": "fa292e7e-5e7f-4575-9ffd-337219edbaff",
   "metadata": {},
   "outputs": [],
   "source": [
    "from scipy.optimize import linprog"
   ]
  },
  {
   "cell_type": "code",
   "execution_count": 3,
   "id": "e2d6dff0-b271-47c0-a7f9-22c0efca9cb7",
   "metadata": {},
   "outputs": [
    {
     "data": {
      "text/plain": [
       "(array([ 0.        ,  7.85714286, 30.71428571]), 38.57142857142857)"
      ]
     },
     "execution_count": 3,
     "metadata": {},
     "output_type": "execute_result"
    }
   ],
   "source": [
    "c = [-1, -1, -1]  # Negative sign for maximization in linprog\n",
    "\n",
    "# Coefficients of inequality constraints\n",
    "A = [\n",
    "    [2, 1, 3],  # Machine X constraint\n",
    "    [4, 3, 2]   # Machine Y constraint\n",
    "]\n",
    "\n",
    "# Right-hand side of the constraints\n",
    "b = [100, 85]\n",
    "\n",
    "x_bounds = (0, None)\n",
    "bounds = [x_bounds, x_bounds, x_bounds]\n",
    "\n",
    "result = linprog(c, A_ub=A, b_ub=b, bounds=bounds, method=\"highs\")\n",
    "\n",
    "# Output results\n",
    "production_units = result.x\n",
    "total_production = -result.fun  # Convert back to positive for maximization\n",
    "\n",
    "production_units, total_production"
   ]
  },
  {
   "cell_type": "code",
   "execution_count": null,
   "id": "4fafff59-5ba6-437e-be1b-e8366ed453b3",
   "metadata": {},
   "outputs": [],
   "source": []
  }
 ],
 "metadata": {
  "kernelspec": {
   "display_name": "Python 3 (ipykernel)",
   "language": "python",
   "name": "python3"
  },
  "language_info": {
   "codemirror_mode": {
    "name": "ipython",
    "version": 3
   },
   "file_extension": ".py",
   "mimetype": "text/x-python",
   "name": "python",
   "nbconvert_exporter": "python",
   "pygments_lexer": "ipython3",
   "version": "3.12.7"
  }
 },
 "nbformat": 4,
 "nbformat_minor": 5
}
