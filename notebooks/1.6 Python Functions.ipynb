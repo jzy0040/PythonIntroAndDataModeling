{
 "cells": [
  {
   "cell_type": "markdown",
   "id": "ed14003e-5b1f-4027-91b2-0baf2709d4db",
   "metadata": {},
   "source": [
    "# Python Functions\n",
    "\n",
    "A **function** is a reusable block of code that performs a specific task. It helps make your code more modular, readable, and easier to debug.\n",
    "\n",
    "### Why Python functions?\n",
    "- Avoid repeating code\n",
    "- Improve code clarity\n",
    "- Break down complex problems\n",
    "- Support testing and reuse\n",
    "\n",
    "### Defining a Function in Python\n",
    "<div style=\"text-align: center;\">\n",
    "    <img src=\"PythonFunction.png\" style=\"width: 50%; display: block; margin: auto;\" alt=\"Alt Text\">\n",
    "</div>\n",
    "\n"
   ]
  },
  {
   "cell_type": "code",
   "execution_count": 11,
   "id": "98a97dac-298c-4a6b-9fe5-15ab44e515da",
   "metadata": {},
   "outputs": [],
   "source": [
    "### Creating a function\n",
    "### In Python a function is defined using the def keyword:\n",
    "\n",
    "def MyFirstFunction():\n",
    "    print(\"This is my first Python function\")"
   ]
  },
  {
   "cell_type": "code",
   "execution_count": 13,
   "id": "0f8e5651-d25b-4b0f-8e2c-6d26709cf623",
   "metadata": {},
   "outputs": [
    {
     "name": "stdout",
     "output_type": "stream",
     "text": [
      "This is my first Python function\n"
     ]
    }
   ],
   "source": [
    "### Call a function\n",
    "### To call a function, use the function name followed by parenthesis:\n",
    "\n",
    "MyFirstFunction()"
   ]
  },
  {
   "cell_type": "code",
   "execution_count": 7,
   "id": "93fe874a-4414-4bc7-a2a0-9bab5f6658e9",
   "metadata": {},
   "outputs": [
    {
     "name": "stdout",
     "output_type": "stream",
     "text": [
      "My name is Emil\n",
      "My name is Tobias\n",
      "My name is Linus\n"
     ]
    }
   ],
   "source": [
    "### Arguments/Parameters\n",
    "### Information can be passed into functions as arguments.\n",
    "\n",
    "### Arguments are specified after the function name, inside the parentheses. You can add as many arguments as you want, just separate them with a comma.\n",
    "\n",
    "def MyNameFunction(Name):\n",
    "  print(\"My name is \" + Name)\n",
    "\n",
    "MyNameFunction(\"Jack\")\n",
    "MyNameFunction(\"Ross\")\n",
    "MyNameFunction(\"Titanic\")"
   ]
  },
  {
   "cell_type": "markdown",
   "id": "643b6d42-b6dc-48a3-baa5-f1960b4d8a9a",
   "metadata": {},
   "source": [
    "### The terms parameter and argument can be used for the same thing: information that are passed into a function.\n",
    "\n",
    "### From a function's perspective:\n",
    "\n",
    "1. A parameter is the variable listed inside the parentheses in the function definition.\n",
    "2. An argument is the value that is sent to the function when it is called."
   ]
  },
  {
   "cell_type": "code",
   "execution_count": null,
   "id": "f5d8640b-1c2e-46cc-a3ed-6511d4a448da",
   "metadata": {},
   "outputs": [],
   "source": [
    "### By default, a function must be called with the correct number of arguments. \n",
    "### Meaning that if your function expects 2 arguments, you have to call the function with 2 arguments, not more, and not less.\n",
    "\n",
    "def ClassName(Class1, Class2, Class3):\n",
    "  print(\"I have 3 classes this semester, \" + Class1 + \", \" + Class2 + \", and \" + Class3 + \".\")\n",
    "\n",
    "ClassName(Class1 = \"MIS2101\", Class2 = \"BAN7101\", Class3 = \"BAN7201\")\n",
    "\n"
   ]
  }
 ],
 "metadata": {
  "kernelspec": {
   "display_name": "Python [conda env:base] *",
   "language": "python",
   "name": "conda-base-py"
  },
  "language_info": {
   "codemirror_mode": {
    "name": "ipython",
    "version": 3
   },
   "file_extension": ".py",
   "mimetype": "text/x-python",
   "name": "python",
   "nbconvert_exporter": "python",
   "pygments_lexer": "ipython3",
   "version": "3.11.9"
  }
 },
 "nbformat": 4,
 "nbformat_minor": 5
}
