{
 "cells": [
  {
   "cell_type": "code",
   "execution_count": 5,
   "id": "4fa3d790-e13b-4674-bc12-e4c8ba19bcbd",
   "metadata": {},
   "outputs": [],
   "source": [
    "#PART1"
   ]
  },
  {
   "cell_type": "code",
   "execution_count": 73,
   "id": "95bd424d-97fb-4953-a15d-a51e316b1759",
   "metadata": {},
   "outputs": [],
   "source": [
    "# Step 1: State the initial assumption of population distribution\n",
    "# We assume the population is normally distributed.\n",
    "# Step 2: State the null and alternative hypotheses\n",
    "# Null Hypothesis (H0): μ = 35 (The average assembly time has not decreased)\n",
    "# Alternative Hypothesis (H1): μ < 35 (The average assembly time has decreased)"
   ]
  },
  {
   "cell_type": "code",
   "execution_count": 19,
   "id": "cbb52157-db3f-4668-b107-f46609444aa2",
   "metadata": {},
   "outputs": [
    {
     "name": "stdout",
     "output_type": "stream",
     "text": [
      "Test Statistic (z): -2.5298\n"
     ]
    }
   ],
   "source": [
    "import scipy.stats as stats\n",
    "\n",
    "# Given data\n",
    "pre_training_mean = 35  # Population mean before training\n",
    "sample_mean = 33        # Sample mean after training\n",
    "population_std_dev = 5  # Population standard deviation\n",
    "sample_size = 40        # Sample size after training\n",
    "significance_level = 0.05  # Significance level\n",
    "\n",
    "# Step 3: Determine the test statistic (Z-test for population mean)\n",
    "z = (sample_mean - pre_training_mean) / (population_std_dev / (sample_size ** 0.5))\n",
    "print(f\"Test Statistic (z): {z:.4f}\")"
   ]
  },
  {
   "cell_type": "code",
   "execution_count": 17,
   "id": "5d85a5e2-e9f4-4b6b-b7a3-a5a6c40994a5",
   "metadata": {},
   "outputs": [
    {
     "name": "stdout",
     "output_type": "stream",
     "text": [
      "Critical Value: -1.6449\n"
     ]
    }
   ],
   "source": [
    "# Step 4: Find the critical value(s) and decision rule\n",
    "# Since this is a left-tailed test, we find the critical z-value for the given significance level.\n",
    "critical_value = stats.norm.ppf(significance_level)\n",
    "print(f\"Critical Value: {critical_value:.4f}\")"
   ]
  },
  {
   "cell_type": "code",
   "execution_count": 15,
   "id": "31ccb0b7-5f2a-40af-88be-7f5b9c8c4568",
   "metadata": {},
   "outputs": [
    {
     "name": "stdout",
     "output_type": "stream",
     "text": [
      "P-value: 0.0057\n"
     ]
    }
   ],
   "source": [
    "# Step 5: Calculate the p-value\n",
    "p_value = stats.norm.cdf(z)\n",
    "print(f\"P-value: {p_value:.4f}\")"
   ]
  },
  {
   "cell_type": "code",
   "execution_count": 21,
   "id": "f1ee50aa-9a87-49a1-891e-6c712f556242",
   "metadata": {},
   "outputs": [
    {
     "name": "stdout",
     "output_type": "stream",
     "text": [
      "Conclusion: Reject the null hypothesis. The new training program significantly decreased the assembly time.\n"
     ]
    }
   ],
   "source": [
    "# Step 6: Draw a conclusion based on the significance level\n",
    "if p_value < significance_level:\n",
    "    conclusion = \"Reject the null hypothesis. The new training program significantly decreased the assembly time.\"\n",
    "else:\n",
    "    conclusion = \"Fail to reject the null hypothesis. The new training program did not significantly decrease the assembly time.\"\n",
    "print(\"Conclusion:\", conclusion)\n"
   ]
  },
  {
   "cell_type": "code",
   "execution_count": null,
   "id": "7a5b30da-0fac-481d-b214-d59a18354188",
   "metadata": {},
   "outputs": [],
   "source": []
  },
  {
   "cell_type": "code",
   "execution_count": 35,
   "id": "2779014d-cbdb-4578-b854-333a1ccdb82a",
   "metadata": {},
   "outputs": [],
   "source": [
    "#A university administrator wants to test whether graduate students at the institution study, on average, more than 25 hours per week. \n",
    "#To explore this, a random sample of 15 graduate students was surveyed, \n",
    "#and the sample mean study time was found to be 27 hours per week, with a sample standard deviation of 4.5 hours."
   ]
  },
  {
   "cell_type": "code",
   "execution_count": 37,
   "id": "8692f7f9-865a-41db-8bb5-6072ef44dfee",
   "metadata": {},
   "outputs": [],
   "source": [
    "# Step 1: State the initial assumption of population distribution\n",
    "# We assume that the population of study times is approximately normally distributed."
   ]
  },
  {
   "cell_type": "code",
   "execution_count": 39,
   "id": "ab843a5a-2205-40f6-b8d7-55087e9a71b3",
   "metadata": {},
   "outputs": [],
   "source": [
    "# Step 2: State the null and alternative hypotheses\n",
    "# Null Hypothesis (H0): μ = 25 (The average study time is 25 hours per week)\n",
    "# Alternative Hypothesis (H1): μ > 25 (The average study time is more than 25 hours per week)"
   ]
  },
  {
   "cell_type": "code",
   "execution_count": 41,
   "id": "906a3d94-6385-4010-88ba-5f758f4d60a9",
   "metadata": {},
   "outputs": [
    {
     "name": "stdout",
     "output_type": "stream",
     "text": [
      "Test Statistic (t): 1.72\n"
     ]
    }
   ],
   "source": [
    "# Step 3: Determine the test statistic (t-test for population mean with unknown population standard deviation)\n",
    "import scipy.stats as stats\n",
    "\n",
    "# Given data\n",
    "hypothesized_mean = 25       # Null hypothesis mean (average study hours per week)\n",
    "sample_mean = 27             # Sample mean study time\n",
    "sample_std_dev = 4.5         # Sample standard deviation\n",
    "sample_size = 15             # Sample size\n",
    "significance_level = 0.05    # Significance level\n",
    "\n",
    "\n",
    "t_statistic = (sample_mean - hypothesized_mean) / (sample_std_dev / (sample_size ** 0.5))\n",
    "print(f\"Test Statistic (t): {t_statistic:.2f}\")"
   ]
  },
  {
   "cell_type": "code",
   "execution_count": 43,
   "id": "0923a8b2-dd66-4987-b4a5-1a08019733d3",
   "metadata": {},
   "outputs": [
    {
     "name": "stdout",
     "output_type": "stream",
     "text": [
      "Critical Value: 1.76\n"
     ]
    }
   ],
   "source": [
    "# Step 4: Find the critical value(s) and decision rule\n",
    "# Since this is a right-tailed test, we find the critical t-value for the given significance level.\n",
    "degrees_of_freedom = sample_size - 1\n",
    "critical_value = stats.t.ppf(1 - significance_level, degrees_of_freedom)\n",
    "print(f\"Critical Value: {critical_value:.2f}\")"
   ]
  },
  {
   "cell_type": "code",
   "execution_count": 45,
   "id": "dcc4ba86-e6a6-412b-89db-26ad5ed1931d",
   "metadata": {},
   "outputs": [
    {
     "name": "stdout",
     "output_type": "stream",
     "text": [
      "P-value: 0.0536\n"
     ]
    }
   ],
   "source": [
    "\n",
    "# Step 5: Calculate the p-value\n",
    "p_value = 1 - stats.t.cdf(t_statistic, degrees_of_freedom)\n",
    "print(f\"P-value: {p_value:.4f}\")"
   ]
  },
  {
   "cell_type": "code",
   "execution_count": 47,
   "id": "a5818b51-2717-4118-b2d6-28ca5af18bd6",
   "metadata": {},
   "outputs": [
    {
     "name": "stdout",
     "output_type": "stream",
     "text": [
      "Conclusion: Fail to reject the null hypothesis. There is insufficient evidence to conclude that graduate students study more than 25 hours per week.\n"
     ]
    }
   ],
   "source": [
    "# Step 6: Draw a conclusion based on the significance level\n",
    "if p_value < significance_level:\n",
    "    conclusion = \"Reject the null hypothesis. Graduate students study, on average, more than 25 hours per week.\"\n",
    "else:\n",
    "    conclusion = \"Fail to reject the null hypothesis. There is insufficient evidence to conclude that graduate students study more than 25 hours per week.\"\n",
    "print(\"Conclusion:\", conclusion)\n"
   ]
  },
  {
   "cell_type": "code",
   "execution_count": null,
   "id": "256931cf-0b62-4363-9331-3b5bf92a4253",
   "metadata": {},
   "outputs": [],
   "source": []
  },
  {
   "cell_type": "code",
   "execution_count": null,
   "id": "462734eb-a3a1-402f-a212-9e5ddd7ca22e",
   "metadata": {},
   "outputs": [],
   "source": [
    "#PART-II"
   ]
  },
  {
   "cell_type": "code",
   "execution_count": 71,
   "id": "17462490-1414-454f-967a-3f9c7f0fb987",
   "metadata": {},
   "outputs": [
    {
     "name": "stdout",
     "output_type": "stream",
     "text": [
      "                            OLS Regression Results                            \n",
      "==============================================================================\n",
      "Dep. Variable:                  Score   R-squared:                       1.000\n",
      "Model:                            OLS   Adj. R-squared:                  1.000\n",
      "Method:                 Least Squares   F-statistic:                 2.311e+16\n",
      "Date:                Wed, 30 Oct 2024   Prob (F-statistic):          2.20e-210\n",
      "Time:                        20:54:58   Log-Likelihood:                 374.09\n",
      "No. Observations:                  30   AIC:                            -744.2\n",
      "Df Residuals:                      28   BIC:                            -741.4\n",
      "Df Model:                           1                                         \n",
      "Covariance Type:            nonrobust                                         \n",
      "==================================================================================\n",
      "                     coef    std err          t      P>|t|      [0.025      0.975]\n",
      "----------------------------------------------------------------------------------\n",
      "const              2.1221   3.77e-07   5.63e+06      0.000       2.122       2.122\n",
      "Hours of Study    10.0000   6.58e-08   1.52e+08      0.000      10.000      10.000\n",
      "==============================================================================\n",
      "Omnibus:                        5.046   Durbin-Watson:                   1.776\n",
      "Prob(Omnibus):                  0.080   Jarque-Bera (JB):                3.450\n",
      "Skew:                           0.771   Prob(JB):                        0.178\n",
      "Kurtosis:                       3.619   Cond. No.                         12.6\n",
      "==============================================================================\n",
      "\n",
      "Notes:\n",
      "[1] Standard Errors assume that the covariance matrix of the errors is correctly specified.\n",
      "Regression Equation: Score = 2.12 + 10.00 * (Hours of Study)\n"
     ]
    }
   ],
   "source": [
    "import numpy as np\n",
    "import pandas as pd\n",
    "import statsmodels.api as sm\n",
    "import matplotlib.pyplot as plt\n",
    "import seaborn as sns\n",
    "\n",
    "# Given data\n",
    "hours_of_study = [5, 5, 7, 3, 0, 5, 2, 7, 4, 2, 1, 6, 8, 5, 7, 8, 7, 8, 8, 8, 0, 8, 4, 6, 7, 2, 8, 0, 7, 4]\n",
    "scores = [52.1221, 52.1221, 72.1221, 32.1221, 2.122104, 52.1221, 22.1221, 72.1221, 42.1221, 22.1221, \n",
    "          12.1221, 62.1221, 82.1221, 52.1221, 72.1221, 82.1221, 72.1221, 82.1221, 82.1221, 82.1221,\n",
    "          2.122104, 82.1221, 42.1221, 62.1221, 72.1221, 22.1221, 82.1221, 2.122104, 72.1221, 42.1221]\n",
    "\n",
    "# Convert data into a DataFrame\n",
    "data = pd.DataFrame({\"Hours of Study\": hours_of_study, \"Score\": scores})\n",
    "\n",
    "# Question a: Fit a simple linear regression model\n",
    "X = data[\"Hours of Study\"]\n",
    "y = data[\"Score\"]\n",
    "X = sm.add_constant(X)  # Add a constant for the intercept\n",
    "\n",
    "# Fit the regression model\n",
    "model = sm.OLS(y, X).fit()\n",
    "\n",
    "# Print the model summary\n",
    "print(model.summary())\n",
    "\n",
    "# Regression Equation\n",
    "intercept = model.params.iloc[0]\n",
    "slope = model.params.iloc[1]\n",
    "print(f\"Regression Equation: Score = {intercept:.2f} + {slope:.2f} * (Hours of Study)\")\n"
   ]
  },
  {
   "cell_type": "code",
   "execution_count": 53,
   "id": "e1edddcc-8ac0-4102-8a37-63b5cb8630dd",
   "metadata": {},
   "outputs": [],
   "source": [
    "# Question b: Assumptions of simple linear regression\n",
    "#1. Linearity: The relationship between X and Y should be linear.\n",
    "#2. Independence: Observations should be independent of each other.\n",
    "#3. Homoscedasticity: Constant variance of residuals.\n",
    "#4. Normality: Residuals should be approximately normally distributed.\n",
    "#5. No multicollinearity: Only one predictor variable in this simple linear regression."
   ]
  },
  {
   "cell_type": "code",
   "execution_count": 55,
   "id": "89938d57-5eed-4368-b94d-8d32594bbbc2",
   "metadata": {},
   "outputs": [],
   "source": [
    "# Question c:\n",
    "#Outliers can significantly impact a regression model by distorting the slope and intercept, which can make the line less representative of the \n",
    "#overall data trend. They increase the error variance, leading to a lower R-squared value and reduced model fit. \n",
    "#Outliers can also skew p-values and widen confidence intervals, potentially leading to incorrect conclusions about the significance of predictors. \n",
    "#Additionally, they reduce the model's predictive accuracy, as the regression line may no longer reflect the true relationship between the variables."
   ]
  },
  {
   "cell_type": "code",
   "execution_count": 57,
   "id": "e1aecd44-086d-4c08-979a-0a44add12ec5",
   "metadata": {},
   "outputs": [],
   "source": [
    "# Question d: To verify the model, we would check:\n",
    "# 1. R-squared value (model fit)\n",
    "# 2. Residual plots for homoscedasticity\n",
    "# 3. Normal Q-Q plot for normality\n",
    "# 4. Potential outliers or influential points"
   ]
  },
  {
   "cell_type": "code",
   "execution_count": null,
   "id": "5f88053e-bd80-43c2-aac9-0d6fa79117fd",
   "metadata": {},
   "outputs": [],
   "source": []
  },
  {
   "cell_type": "code",
   "execution_count": 75,
   "id": "187ea14c-0416-466e-b28d-f1b91e110c6c",
   "metadata": {},
   "outputs": [
    {
     "name": "stdout",
     "output_type": "stream",
     "text": [
      "Requirement already satisfied: pulp in c:\\users\\ravic\\anaconda3\\lib\\site-packages (2.9.0)\n",
      "Note: you may need to restart the kernel to use updated packages.\n"
     ]
    }
   ],
   "source": [
    "pip install pulp\n"
   ]
  },
  {
   "cell_type": "code",
   "execution_count": 83,
   "id": "60728a1f-0537-42b4-b6e7-e12346aef537",
   "metadata": {},
   "outputs": [
    {
     "name": "stdout",
     "output_type": "stream",
     "text": [
      "Status: Optimal\n",
      "Units of Product A to produce: 0.0\n",
      "Units of Product B to produce: 7.8571429\n",
      "Units of Product C to produce: 30.714286\n",
      "Maximum total production: 38.5714289\n",
      "Machine X hours used: 100.0000009 / 100\n",
      "Machine Y hours used: 85.0000007 / 85\n",
      "Both machines are utilized fully; further analysis may be required.\n",
      "Recommendation: Upgrade Machine Y to increase production capacity.\n"
     ]
    }
   ],
   "source": [
    "import pulp  # Importing the PuLP library for linear programming\n",
    "\n",
    "# Create a linear programming problem to maximize production\n",
    "model = pulp.LpProblem(\"Maximize_Production\", pulp.LpMaximize)\n",
    "\n",
    "# Decision variables for the quantities of each product\n",
    "x_A = pulp.LpVariable('x_A', lowBound=0)  # Product A: Quantity produced\n",
    "x_B = pulp.LpVariable('x_B', lowBound=0)  # Product B: Quantity produced\n",
    "x_C = pulp.LpVariable('x_C', lowBound=0)  # Product C: Quantity produced\n",
    "\n",
    "# Objective function: Maximize total production output\n",
    "model += x_A + x_B + x_C, \"Total_Production\"\n",
    "\n",
    "# Constraints for Machine X\n",
    "# Each unit of A requires 2 hours, B requires 1 hour, and C requires 3 hours\n",
    "model += 2 * x_A + 1 * x_B + 3 * x_C <= 100, \"Machine_X_Hours\"\n",
    "\n",
    "# Constraints for Machine Y\n",
    "# Each unit of A requires 4 hours, B requires 3 hours, and C requires 2 hours\n",
    "model += 4 * x_A + 3 * x_B + 2 * x_C <= 85, \"Machine_Y_Hours\"\n",
    "\n",
    "# Solve the linear programming problem\n",
    "model.solve()\n",
    "\n",
    "# Print the results of the optimization\n",
    "print(f\"Status: {pulp.LpStatus[model.status]}\")  # Status of the optimization\n",
    "print(f\"Units of Product A to produce: {x_A.varValue}\")  # Optimal quantity of Product A\n",
    "print(f\"Units of Product B to produce: {x_B.varValue}\")  # Optimal quantity of Product B\n",
    "print(f\"Units of Product C to produce: {x_C.varValue}\")  # Optimal quantity of Product C\n",
    "print(f\"Maximum total production: {pulp.value(model.objective)}\")  # Maximum production output\n",
    "\n",
    "# Calculate machine usage based on the optimal solution\n",
    "# Total hours used for Machine X\n",
    "machine_x_used = 2 * x_A.varValue + 1 * x_B.varValue + 3 * x_C.varValue\n",
    "# Total hours used for Machine Y\n",
    "machine_y_used = 4 * x_A.varValue + 3 * x_B.varValue + 2 * x_C.varValue\n",
    "\n",
    "# Print the usage of each machine\n",
    "print(f\"Machine X hours used: {machine_x_used} / 100\")  # Used hours vs. available hours for Machine X\n",
    "print(f\"Machine Y hours used: {machine_y_used} / 85\")    # Used hours vs. available hours for Machine Y\n",
    "\n"
   ]
  },
  {
   "cell_type": "code",
   "execution_count": 87,
   "id": "8f3a6fbf-bfc1-4079-9ead-c92f4ef8b41d",
   "metadata": {},
   "outputs": [
    {
     "name": "stdout",
     "output_type": "stream",
     "text": [
      "Both machines are utilized fully; further analysis may be required.\n"
     ]
    }
   ],
   "source": [
    "# Determine which machine is the binding constraint\n",
    "if machine_x_used >= 100 and machine_y_used < 85:\n",
    "    print(\"Machine Y is the binding constraint.\")  # If Machine Y usage is at capacity\n",
    "elif machine_y_used >= 85 and machine_x_used < 100:\n",
    "    print(\"Machine X is the binding constraint.\")  # If Machine X usage is at capacity\n",
    "else:\n",
    "    print(\"Both machines are utilized fully; further analysis may be required.\")\n",
    "\n"
   ]
  },
  {
   "cell_type": "code",
   "execution_count": 89,
   "id": "2f664d60-0506-417d-897a-7492d02462d1",
   "metadata": {},
   "outputs": [
    {
     "name": "stdout",
     "output_type": "stream",
     "text": [
      "Recommendation: Upgrade Machine Y to increase production capacity.\n"
     ]
    }
   ],
   "source": [
    "# Recommendation for upgrades based on the binding constraint\n",
    "if machine_y_used >= 85:\n",
    "    print(\"Recommendation: Upgrade Machine Y to increase production capacity.\")  # Prioritize upgrading Machine Y\n",
    "else:\n",
    "    print(\"Recommendation: Upgrade Machine X may provide some benefit, but focus on Machine Y first.\")  # Upgrade Machine X if it can help\n"
   ]
  },
  {
   "cell_type": "code",
   "execution_count": null,
   "id": "669df117-7c49-4604-a041-e2a483a08a9f",
   "metadata": {},
   "outputs": [],
   "source": []
  }
 ],
 "metadata": {
  "kernelspec": {
   "display_name": "Python 3 (ipykernel)",
   "language": "python",
   "name": "python3"
  },
  "language_info": {
   "codemirror_mode": {
    "name": "ipython",
    "version": 3
   },
   "file_extension": ".py",
   "mimetype": "text/x-python",
   "name": "python",
   "nbconvert_exporter": "python",
   "pygments_lexer": "ipython3",
   "version": "3.12.4"
  }
 },
 "nbformat": 4,
 "nbformat_minor": 5
}
