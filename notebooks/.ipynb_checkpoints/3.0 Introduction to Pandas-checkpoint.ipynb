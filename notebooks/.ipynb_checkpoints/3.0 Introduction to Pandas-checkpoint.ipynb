{
 "cells": [
  {
   "cell_type": "markdown",
   "metadata": {},
   "source": [
    "# Introduction to Pandas\n",
    "\n",
    "Pandas documentation: http://pandas.pydata.org/pandas-docs/stable/ (homepage: https://pandas.pydata.org/)\n",
    "\n",
    "Notes from Chapter 3 of https://jakevdp.github.io/PythonDataScienceHandbook/"
   ]
  },
  {
   "cell_type": "code",
   "execution_count": 1,
   "metadata": {},
   "outputs": [
    {
     "data": {
      "text/plain": [
       "('1.26.4', '2.2.3')"
      ]
     },
     "execution_count": 1,
     "metadata": {},
     "output_type": "execute_result"
    }
   ],
   "source": [
    "import numpy as np\n",
    "import pandas as pd\n",
    "np.__version__, pd.__version__"
   ]
  },
  {
   "cell_type": "code",
   "execution_count": 2,
   "metadata": {},
   "outputs": [],
   "source": [
    "# show\n",
    "def show(data, show_data = 0):\n",
    "    print (\"  Type: {:}\".format (type(data)))\n",
    "    print (\" Index: {:}\".format(data.index))\n",
    "    if type(data) == pd.core.frame.DataFrame:\n",
    "        print (\"Columns: {:}\".format(data.columns))\n",
    "    print (\" Shape: {:}\".format(data.shape))\n",
    "    if show_data:\n",
    "        print(\"  Data: {:}\".format(data.values))"
   ]
  },
  {
   "cell_type": "markdown",
   "metadata": {},
   "source": [
    "## Pandas Series Objects"
   ]
  },
  {
   "cell_type": "code",
   "execution_count": 3,
   "metadata": {},
   "outputs": [
    {
     "name": "stdout",
     "output_type": "stream",
     "text": [
      "  Type: <class 'pandas.core.series.Series'>\n",
      " Index: RangeIndex(start=0, stop=4, step=1)\n",
      " Shape: (4,)\n",
      "  Data: [0.25 0.5  0.75 1.  ]\n"
     ]
    }
   ],
   "source": [
    "# Create a Pandas Series object - uses the default (implicit) index\n",
    "d1 = pd.Series([0.25, 0.5, 0.75, 1.0])\n",
    "show(d1, 1)"
   ]
  },
  {
   "cell_type": "code",
   "execution_count": 4,
   "metadata": {},
   "outputs": [
    {
     "data": {
      "text/plain": [
       "0    0.25\n",
       "1    0.50\n",
       "2    0.75\n",
       "3    1.00\n",
       "dtype: float64"
      ]
     },
     "execution_count": 4,
     "metadata": {},
     "output_type": "execute_result"
    }
   ],
   "source": [
    "d1"
   ]
  },
  {
   "cell_type": "code",
   "execution_count": 5,
   "metadata": {},
   "outputs": [
    {
     "data": {
      "text/plain": [
       "(pandas.core.series.Series,\n",
       " numpy.ndarray,\n",
       " pandas.core.indexes.range.RangeIndex)"
      ]
     },
     "execution_count": 5,
     "metadata": {},
     "output_type": "execute_result"
    }
   ],
   "source": [
    "# So, what exactly is a Pandas Series?\n",
    "# See the data types for the Series and its components\n",
    "type(d1), type(d1.values), type(d1.index)"
   ]
  },
  {
   "cell_type": "code",
   "execution_count": 6,
   "metadata": {},
   "outputs": [
    {
     "data": {
      "text/plain": [
       "['ABCDataFrame',\n",
       " 'ABCSeries',\n",
       " 'Any',\n",
       " 'Appender',\n",
       " 'CachedAccessor',\n",
       " 'Callable',\n",
       " 'CategoricalAccessor',\n",
       " 'CategoricalDtype',\n",
       " 'ChainedAssignmentError',\n",
       " 'CombinedDatetimelikeProperties',\n",
       " 'DatetimeIndex',\n",
       " 'ExtensionArray',\n",
       " 'ExtensionDtype',\n",
       " 'Hashable',\n",
       " 'INFO_DOCSTRING',\n",
       " 'IO',\n",
       " 'Index',\n",
       " 'InvalidIndexError',\n",
       " 'Iterable',\n",
       " 'ListAccessor',\n",
       " 'Literal',\n",
       " 'LossySetitemError',\n",
       " 'Mapping',\n",
       " 'MultiIndex',\n",
       " 'NDFrame',\n",
       " 'PYPY',\n",
       " 'PeriodIndex',\n",
       " 'REF_COUNT',\n",
       " 'Sequence',\n",
       " 'Series',\n",
       " 'SeriesApply',\n",
       " 'SeriesInfo',\n",
       " 'SingleArrayManager',\n",
       " 'SingleBlockManager',\n",
       " 'SparseAccessor',\n",
       " 'SparseDtype',\n",
       " 'StringDtype',\n",
       " 'StringMethods',\n",
       " 'StructAccessor',\n",
       " 'Substitution',\n",
       " 'TYPE_CHECKING',\n",
       " '__all__',\n",
       " '__builtins__',\n",
       " '__cached__',\n",
       " '__doc__',\n",
       " '__file__',\n",
       " '__loader__',\n",
       " '__name__',\n",
       " '__package__',\n",
       " '__spec__',\n",
       " '_chained_assignment_method_msg',\n",
       " '_chained_assignment_msg',\n",
       " '_chained_assignment_warning_method_msg',\n",
       " '_chained_assignment_warning_msg',\n",
       " '_check_cacher',\n",
       " '_coerce_method',\n",
       " '_get_option',\n",
       " '_shared_doc_kwargs',\n",
       " '_shared_docs',\n",
       " 'algorithms',\n",
       " 'annotations',\n",
       " 'astype_is_view',\n",
       " 'base',\n",
       " 'cast',\n",
       " 'check_bool_indexer',\n",
       " 'check_dict_or_set_indexers',\n",
       " 'com',\n",
       " 'construct_1d_arraylike_from_scalar',\n",
       " 'dedent',\n",
       " 'default_index',\n",
       " 'deprecate_nonkeyword_arguments',\n",
       " 'disallow_ndim_indexing',\n",
       " 'doc',\n",
       " 'ensure_index',\n",
       " 'ensure_key_mapped',\n",
       " 'extract_array',\n",
       " 'find_common_type',\n",
       " 'find_stack_level',\n",
       " 'fmt',\n",
       " 'ibase',\n",
       " 'import_optional_dependency',\n",
       " 'infer_dtype_from',\n",
       " 'is_dict_like',\n",
       " 'is_hashable',\n",
       " 'is_integer',\n",
       " 'is_iterator',\n",
       " 'is_list_like',\n",
       " 'is_object_dtype',\n",
       " 'is_range_indexer',\n",
       " 'is_scalar',\n",
       " 'isna',\n",
       " 'lib',\n",
       " 'make_doc',\n",
       " 'maybe_box_native',\n",
       " 'maybe_cast_pointwise_result',\n",
       " 'maybe_droplevels',\n",
       " 'missing',\n",
       " 'na_value_for_dtype',\n",
       " 'nanops',\n",
       " 'nargsort',\n",
       " 'notna',\n",
       " 'np',\n",
       " 'nv',\n",
       " 'operator',\n",
       " 'ops',\n",
       " 'overload',\n",
       " 'pandas',\n",
       " 'pandas_dtype',\n",
       " 'pd_array',\n",
       " 'properties',\n",
       " 'remove_na_arraylike',\n",
       " 'reshape',\n",
       " 'roperator',\n",
       " 'sanitize_array',\n",
       " 'selectn',\n",
       " 'series_sub_kwargs',\n",
       " 'sys',\n",
       " 'to_datetime',\n",
       " 'unpack_1tuple',\n",
       " 'using_copy_on_write',\n",
       " 'validate_all_hashable',\n",
       " 'validate_ascending',\n",
       " 'validate_bool_kwarg',\n",
       " 'validate_percentile',\n",
       " 'warn_copy_on_write',\n",
       " 'warnings',\n",
       " 'weakref']"
      ]
     },
     "execution_count": 6,
     "metadata": {},
     "output_type": "execute_result"
    }
   ],
   "source": [
    "# What is this pandas.core.series?\n",
    "dir(pd.core.series)"
   ]
  },
  {
   "cell_type": "code",
   "execution_count": 7,
   "metadata": {},
   "outputs": [
    {
     "data": {
      "text/plain": [
       "['__builtins__',\n",
       " '__cached__',\n",
       " '__doc__',\n",
       " '__file__',\n",
       " '__loader__',\n",
       " '__name__',\n",
       " '__package__',\n",
       " '__path__',\n",
       " '__spec__',\n",
       " 'accessors',\n",
       " 'api',\n",
       " 'base',\n",
       " 'category',\n",
       " 'datetimelike',\n",
       " 'datetimes',\n",
       " 'extension',\n",
       " 'frozen',\n",
       " 'interval',\n",
       " 'multi',\n",
       " 'period',\n",
       " 'range',\n",
       " 'timedeltas']"
      ]
     },
     "execution_count": 7,
     "metadata": {},
     "output_type": "execute_result"
    }
   ],
   "source": [
    "# pandas.core indexes?\n",
    "dir(pd.core.indexes)"
   ]
  },
  {
   "cell_type": "code",
   "execution_count": 8,
   "metadata": {},
   "outputs": [
    {
     "data": {
      "text/plain": [
       "['ABCTimedeltaIndex',\n",
       " 'Any',\n",
       " 'Callable',\n",
       " 'Hashable',\n",
       " 'Index',\n",
       " 'Iterator',\n",
       " 'Literal',\n",
       " 'RangeIndex',\n",
       " 'TYPE_CHECKING',\n",
       " '__builtins__',\n",
       " '__cached__',\n",
       " '__doc__',\n",
       " '__file__',\n",
       " '__loader__',\n",
       " '__name__',\n",
       " '__package__',\n",
       " '__spec__',\n",
       " '_dtype_int64',\n",
       " '_empty_range',\n",
       " 'annotations',\n",
       " 'cache_readonly',\n",
       " 'cast',\n",
       " 'com',\n",
       " 'deprecate_nonkeyword_arguments',\n",
       " 'doc',\n",
       " 'ensure_platform_int',\n",
       " 'ensure_python_int',\n",
       " 'extract_array',\n",
       " 'getsizeof',\n",
       " 'ibase',\n",
       " 'is_float',\n",
       " 'is_integer',\n",
       " 'is_scalar',\n",
       " 'is_signed_integer_dtype',\n",
       " 'lib',\n",
       " 'libindex',\n",
       " 'maybe_extract_name',\n",
       " 'no_default',\n",
       " 'np',\n",
       " 'nv',\n",
       " 'operator',\n",
       " 'ops',\n",
       " 'overload',\n",
       " 'timedelta',\n",
       " 'unique_deltas',\n",
       " 'unpack_zerodim_and_defer']"
      ]
     },
     "execution_count": 8,
     "metadata": {},
     "output_type": "execute_result"
    }
   ],
   "source": [
    "# pandas.core.indexes.range\n",
    "dir(pd.core.indexes.range)"
   ]
  },
  {
   "cell_type": "markdown",
   "metadata": {},
   "source": [
    "Note that we did not explicitly define an index -- the index was created implicitly when we created the Series object."
   ]
  },
  {
   "cell_type": "markdown",
   "metadata": {},
   "source": [
    "### Series as Generalized NumPy Arrays and Generalized Python Dictionaries"
   ]
  },
  {
   "cell_type": "code",
   "execution_count": 10,
   "metadata": {},
   "outputs": [
    {
     "name": "stdout",
     "output_type": "stream",
     "text": [
      "  Type: <class 'pandas.core.series.Series'>\n",
      " Index: Index(['a', 'b', 'c', 'd'], dtype='object')\n",
      " Shape: (4,)\n",
      "  Data: [0.25 0.5  0.75 1.  ]\n"
     ]
    }
   ],
   "source": [
    "# Series as generalized NumPy arrays\n",
    "# Create the Series with the specfied (explicit) index values\n",
    "# The \"generalization\" here is that we are defining a custom index.\n",
    "d2 = pd.Series([0.25, 0.5, 0.75, 1.0],\n",
    "               index=['a', 'b', 'c', 'd'])\n",
    "show(d2, 1)"
   ]
  },
  {
   "cell_type": "code",
   "execution_count": 11,
   "metadata": {},
   "outputs": [
    {
     "data": {
      "text/plain": [
       "a    0.25\n",
       "b    0.50\n",
       "c    0.75\n",
       "d    1.00\n",
       "dtype: float64"
      ]
     },
     "execution_count": 11,
     "metadata": {},
     "output_type": "execute_result"
    }
   ],
   "source": [
    "d2"
   ]
  },
  {
   "cell_type": "code",
   "execution_count": 13,
   "metadata": {},
   "outputs": [
    {
     "name": "stderr",
     "output_type": "stream",
     "text": [
      "C:\\Users\\ZXT3080\\AppData\\Local\\Temp\\ipykernel_15472\\2426849468.py:1: FutureWarning: Series.__getitem__ treating keys as positions is deprecated. In a future version, integer keys will always be treated as labels (consistent with DataFrame behavior). To access a value by position, use `ser.iloc[pos]`\n",
      "  d2[3]\n"
     ]
    },
    {
     "data": {
      "text/plain": [
       "1.0"
      ]
     },
     "execution_count": 13,
     "metadata": {},
     "output_type": "execute_result"
    }
   ],
   "source": [
    "d2[3]\n",
    "# As expected, this is the 4th element, with (implicit) index 3\n",
    "# This might trigger a FutureWarning message\n",
    "# All Python libraries do need update and maintenance.\n",
    "# FutureWarning message gives user a headsup what change will be made in the future. \n",
    "# However, under current useage, we are on good hand. "
   ]
  },
  {
   "cell_type": "code",
   "execution_count": 14,
   "metadata": {},
   "outputs": [
    {
     "data": {
      "text/plain": [
       "1.0"
      ]
     },
     "execution_count": 14,
     "metadata": {},
     "output_type": "execute_result"
    }
   ],
   "source": [
    "### this will avoid the FutureWarning message. \n",
    "d2.iloc[3]"
   ]
  },
  {
   "cell_type": "code",
   "execution_count": 15,
   "metadata": {},
   "outputs": [
    {
     "data": {
      "text/plain": [
       "b    0.50\n",
       "c    0.75\n",
       "dtype: float64"
      ]
     },
     "execution_count": 15,
     "metadata": {},
     "output_type": "execute_result"
    }
   ],
   "source": [
    "# Slicing - Note that element 3 is not inlcuded (as we expect)\n",
    "d2[1:3]"
   ]
  },
  {
   "cell_type": "code",
   "execution_count": 16,
   "metadata": {},
   "outputs": [
    {
     "data": {
      "text/plain": [
       "b    0.50\n",
       "c    0.75\n",
       "dtype: float64"
      ]
     },
     "execution_count": 16,
     "metadata": {},
     "output_type": "execute_result"
    }
   ],
   "source": [
    "### Although the above cell doesn't have any FutureWarning message. \n",
    "### It's always good to follow the updated coding habit. \n",
    "d2.iloc[1:3]"
   ]
  },
  {
   "cell_type": "code",
   "execution_count": null,
   "metadata": {},
   "outputs": [],
   "source": [
    "# Using the explicit index, we directly access the values using the defined index (similar to a dictionary)\n",
    "d2['d']"
   ]
  },
  {
   "cell_type": "code",
   "execution_count": null,
   "metadata": {},
   "outputs": [],
   "source": [
    "# Note that element 'c' is included here - More on this below (loc, iloc)\n",
    "d2['b':'c']"
   ]
  },
  {
   "cell_type": "code",
   "execution_count": null,
   "metadata": {},
   "outputs": [],
   "source": [
    "# Note that the indices don't have to be numerical or \"alphabetic\" in the sequence-sense\n",
    "pets = pd.Series(['dog', 'cat', 'fish', 'hamster'],\n",
    "               index=['best', 'worst', 'useless', 'why'])\n",
    "show(pets, 1)\n",
    "pets"
   ]
  },
  {
   "cell_type": "code",
   "execution_count": null,
   "metadata": {},
   "outputs": [],
   "source": [
    "# access single object\n",
    "pets['useless'], type(pets['useless'])"
   ]
  },
  {
   "cell_type": "code",
   "execution_count": null,
   "metadata": {},
   "outputs": [],
   "source": [
    "# slice\n",
    "pets['useless':]"
   ]
  },
  {
   "cell_type": "code",
   "execution_count": null,
   "metadata": {},
   "outputs": [],
   "source": [
    "type(pets['useless':])"
   ]
  },
  {
   "cell_type": "code",
   "execution_count": null,
   "metadata": {},
   "outputs": [],
   "source": [
    "pets['best':'useless']"
   ]
  },
  {
   "cell_type": "markdown",
   "metadata": {},
   "source": [
    "#### Creating a Series from a Dictionary"
   ]
  },
  {
   "cell_type": "code",
   "execution_count": null,
   "metadata": {},
   "outputs": [],
   "source": [
    "# Creating a Series from a dictionary - keys -> Index; values -> Values.  \n",
    "# Note that that Pandas object used to sort the series using the dictionary key sort order.\n",
    "# As of version 0.23 -- it now maintains the order specified in the\n",
    "# dict defintion -- see the documentation for details)\n",
    "population_dict = {'California': 38332521,\n",
    "                   'Texas'     : 26448193,\n",
    "                   'New York'  : 19651127,\n",
    "                   'Florida'   : 19552860,\n",
    "                   'Illinois'  : 12882135}\n",
    "population = pd.Series(population_dict)\n",
    "show(population, 1)"
   ]
  },
  {
   "cell_type": "code",
   "execution_count": null,
   "metadata": {},
   "outputs": [],
   "source": [
    "population"
   ]
  },
  {
   "cell_type": "code",
   "execution_count": null,
   "metadata": {},
   "outputs": [],
   "source": [
    "# Note again that the Pandas object no longer stores in sort order.\n",
    "sorted(population_dict.keys())"
   ]
  },
  {
   "cell_type": "code",
   "execution_count": null,
   "metadata": {},
   "outputs": [],
   "source": [
    "# Looks like a dictionary ....\n",
    "population['Illinois']"
   ]
  },
  {
   "cell_type": "code",
   "execution_count": null,
   "metadata": {},
   "outputs": [],
   "source": [
    "# but with list-like slicing\n",
    "population['Florida':'Illinois']"
   ]
  },
  {
   "cell_type": "code",
   "execution_count": null,
   "metadata": {},
   "outputs": [],
   "source": [
    "# along with \"regular\" slicing\n",
    "population[3:5]"
   ]
  },
  {
   "cell_type": "code",
   "execution_count": null,
   "metadata": {},
   "outputs": [],
   "source": [
    "# Create a second series with geographical area\n",
    "area_dict = {'California': 423967, 'Texas': 695662, 'New York': 141297,\n",
    "             'Florida': 170312, 'Illinois': 149995}\n",
    "area = pd.Series(area_dict)\n",
    "show(area,1)\n",
    "area"
   ]
  },
  {
   "cell_type": "code",
   "execution_count": null,
   "metadata": {},
   "outputs": [],
   "source": [
    "# So, now we have two series that use the same index for different categories\n",
    "# of values (population, area)\n",
    "print(\"{:}\\n\\n{:}\".format(population, area))\n",
    "# Hopefully the direction is clear --> let's combine these using meaningful names."
   ]
  },
  {
   "cell_type": "markdown",
   "metadata": {},
   "source": [
    "## Pandas DataFrame Objects\n",
    "\n",
    "Definition - Slides"
   ]
  },
  {
   "cell_type": "code",
   "execution_count": null,
   "metadata": {},
   "outputs": [],
   "source": [
    "# DataFrame is the ticket\n",
    "states = pd.DataFrame({'population': population,'area': area})\n",
    "show(states,1)"
   ]
  },
  {
   "cell_type": "code",
   "execution_count": null,
   "metadata": {},
   "outputs": [],
   "source": [
    "# Or in a user-friendly display\n",
    "states"
   ]
  },
  {
   "cell_type": "code",
   "execution_count": null,
   "metadata": {},
   "outputs": [],
   "source": [
    "# Closer look at the DataFrame components and respective data types (note that these are they things\n",
    "# that are shown using the show() function.)\n",
    "states.index"
   ]
  },
  {
   "cell_type": "code",
   "execution_count": null,
   "metadata": {},
   "outputs": [],
   "source": [
    "states.columns"
   ]
  },
  {
   "cell_type": "code",
   "execution_count": null,
   "metadata": {},
   "outputs": [],
   "source": [
    "states.values"
   ]
  },
  {
   "cell_type": "code",
   "execution_count": null,
   "metadata": {},
   "outputs": [],
   "source": [
    "type(states), type(states.index), type(states.columns), type(states.values)\n",
    "# Note here that both the index and the column sequence are defined as index objects"
   ]
  },
  {
   "cell_type": "code",
   "execution_count": null,
   "metadata": {},
   "outputs": [],
   "source": [
    "# extract one of the two Series using its column name\n",
    "states['area']"
   ]
  },
  {
   "cell_type": "code",
   "execution_count": null,
   "metadata": {},
   "outputs": [],
   "source": [
    "# now the other Series ...\n",
    "states['population']"
   ]
  },
  {
   "cell_type": "code",
   "execution_count": null,
   "metadata": {},
   "outputs": [],
   "source": [
    "# and the respective types\n",
    "type(states), type(states['area']), type(states['population'])"
   ]
  },
  {
   "cell_type": "code",
   "execution_count": null,
   "metadata": {},
   "outputs": [],
   "source": [
    "# let's add another colum -- this time of non-numeric data\n",
    "color_dict = {'California': 'blue', 'Texas': 'red', 'New York': 'blue',\n",
    "             'Florida': 'purple', 'Illinois': 'purple'}\n",
    "color = pd.Series(color_dict)\n",
    "show(color,1)\n",
    "color"
   ]
  },
  {
   "cell_type": "code",
   "execution_count": null,
   "metadata": {},
   "outputs": [],
   "source": [
    "# add our new column to the DataFrame\n",
    "states['color'] = color.values\n",
    "show(states,1)"
   ]
  },
  {
   "cell_type": "code",
   "execution_count": null,
   "metadata": {},
   "outputs": [],
   "source": [
    "# user-friendly form\n",
    "states"
   ]
  },
  {
   "cell_type": "code",
   "execution_count": null,
   "metadata": {},
   "outputs": [],
   "source": [
    "# since NumPy arrays are homogeneous, the values array is now of type 'object'\n",
    "states.values, type(states.values)"
   ]
  },
  {
   "cell_type": "code",
   "execution_count": null,
   "metadata": {},
   "outputs": [],
   "source": [
    "# but the individual series datatypes reflect the series data types.\n",
    "states['area'].values, states['population'].values, states['color'].values"
   ]
  },
  {
   "cell_type": "markdown",
   "metadata": {},
   "source": [
    "## Pandas Index Objects\n",
    "\n",
    "From VP 03.01 - \"The index object ... can be thought of as an immutable array or an ordered set (technically as a multi-set, as Index objects can have repeat values)."
   ]
  },
  {
   "cell_type": "code",
   "execution_count": null,
   "metadata": {},
   "outputs": [],
   "source": [
    "ind1 = states.index\n",
    "ind1, type(ind1)"
   ]
  },
  {
   "cell_type": "code",
   "execution_count": null,
   "metadata": {},
   "outputs": [],
   "source": [
    "# Array-type operations\n",
    "ind1[2:]"
   ]
  },
  {
   "cell_type": "code",
   "execution_count": null,
   "metadata": {},
   "outputs": [],
   "source": [
    "ind1[-2:]"
   ]
  },
  {
   "cell_type": "code",
   "execution_count": null,
   "metadata": {},
   "outputs": [],
   "source": [
    "ind1[::2]"
   ]
  },
  {
   "cell_type": "code",
   "execution_count": null,
   "metadata": {},
   "outputs": [],
   "source": [
    "# immutable\n",
    "ind1[1] = 'Alabama'"
   ]
  },
  {
   "cell_type": "code",
   "execution_count": null,
   "metadata": {},
   "outputs": [],
   "source": [
    "# Set operations -- union, intersection, etc.\n",
    "indA = pd.Index([1, 3, 5, 7, 9])\n",
    "indB = pd.Index([2, 3, 5, 7, 11])"
   ]
  },
  {
   "cell_type": "code",
   "execution_count": null,
   "metadata": {},
   "outputs": [],
   "source": [
    "indA & indB  # intersection\n",
    "# Depending on your version of Python, may cause a \"Deprecation Warning\""
   ]
  },
  {
   "cell_type": "code",
   "execution_count": null,
   "metadata": {},
   "outputs": [],
   "source": [
    "indA.intersection(indB)"
   ]
  },
  {
   "cell_type": "code",
   "execution_count": null,
   "metadata": {},
   "outputs": [],
   "source": [
    "indA | indB  # union"
   ]
  },
  {
   "cell_type": "code",
   "execution_count": null,
   "metadata": {},
   "outputs": [],
   "source": [
    "indA.union(indB)"
   ]
  },
  {
   "cell_type": "code",
   "execution_count": null,
   "metadata": {},
   "outputs": [],
   "source": [
    "indA ^ indB  # symmetric difference"
   ]
  },
  {
   "cell_type": "code",
   "execution_count": null,
   "metadata": {},
   "outputs": [],
   "source": [
    "indA.symmetric_difference(indB)"
   ]
  },
  {
   "cell_type": "markdown",
   "metadata": {},
   "source": [
    "## Indexers - loc and iloc\n",
    "\n",
    "<span style=\"color:red\">This is important and confusing -- at first</span>"
   ]
  },
  {
   "cell_type": "code",
   "execution_count": null,
   "metadata": {},
   "outputs": [],
   "source": [
    "# Consider this example from VanderPlas\n",
    "data = pd.Series(['a', 'b', 'c', 'd'], index=[1, 3, 5, 7])\n",
    "show(data)\n",
    "data"
   ]
  },
  {
   "cell_type": "code",
   "execution_count": null,
   "metadata": {},
   "outputs": [],
   "source": [
    "# Explicit index - note that with a zero-based indexing, we \n",
    "# would expect the second element of the list.\n",
    "data[1]"
   ]
  },
  {
   "cell_type": "code",
   "execution_count": null,
   "metadata": {},
   "outputs": [],
   "source": [
    "# Implicit indexing when slicing - now we get the second and third \n",
    "# elements.\n",
    "data[1:3]"
   ]
  },
  {
   "cell_type": "markdown",
   "metadata": {},
   "source": [
    "This can cause confusion -- when is explicit indexing used and when is implicit indexing used ... Hence, loc and iloc."
   ]
  },
  {
   "cell_type": "code",
   "execution_count": null,
   "metadata": {},
   "outputs": [],
   "source": [
    "# loc - always uses the explicit index \n",
    "data.loc[1]"
   ]
  },
  {
   "cell_type": "code",
   "execution_count": null,
   "metadata": {},
   "outputs": [],
   "source": [
    "data.loc[1:3]"
   ]
  },
  {
   "cell_type": "code",
   "execution_count": null,
   "metadata": {},
   "outputs": [],
   "source": [
    "# iloc - always uses the implicit Python-style index\n",
    "data.iloc[1]"
   ]
  },
  {
   "cell_type": "code",
   "execution_count": null,
   "metadata": {},
   "outputs": [],
   "source": [
    "data.iloc[1:3]"
   ]
  },
  {
   "cell_type": "code",
   "execution_count": null,
   "metadata": {},
   "outputs": [],
   "source": [
    "# Note that even with non-integer indexes the slicing behavior is still different\n",
    "data1 = pd.Series(['a', 'b', 'c', 'd'], index=['h','i','j','k'])\n",
    "data1"
   ]
  },
  {
   "cell_type": "code",
   "execution_count": null,
   "metadata": {},
   "outputs": [],
   "source": [
    "data1[1:3]"
   ]
  },
  {
   "cell_type": "code",
   "execution_count": null,
   "metadata": {},
   "outputs": [],
   "source": [
    "data1.iloc[1:3]"
   ]
  },
  {
   "cell_type": "code",
   "execution_count": null,
   "metadata": {},
   "outputs": [],
   "source": [
    "data1.loc['i':'k']"
   ]
  },
  {
   "cell_type": "markdown",
   "metadata": {},
   "source": [
    "## Data selection in a DataFrame"
   ]
  },
  {
   "cell_type": "code",
   "execution_count": null,
   "metadata": {},
   "outputs": [],
   "source": [
    "# Recreate our states DataFrame ...\n",
    "area = pd.Series({'California': 423967, 'Texas': 695662,\n",
    "                  'New York': 141297, 'Florida': 170312,\n",
    "                  'Illinois': 149995})\n",
    "pop = pd.Series({'California': 38332521, 'Texas': 26448193,\n",
    "                 'New York': 19651127, 'Florida': 19552860,\n",
    "                 'Illinois': 12882135})\n",
    "color = pd.Series({'California': 'blue', 'Texas': 'red',\n",
    "                 'New York': 'blue', 'Florida': 'red',\n",
    "                 'Illinois': 'purple'})\n",
    "data = pd.DataFrame({'area':area, 'pop':pop, 'color':color})\n",
    "show(data)\n",
    "data"
   ]
  },
  {
   "cell_type": "code",
   "execution_count": null,
   "metadata": {},
   "outputs": [],
   "source": [
    "# dictionary style indexing -- picking columns\n",
    "data['area']"
   ]
  },
  {
   "cell_type": "code",
   "execution_count": null,
   "metadata": {},
   "outputs": [],
   "source": [
    "# works in cases where column names are character-based and\n",
    "# are not reserve works\n",
    "data.area"
   ]
  },
  {
   "cell_type": "code",
   "execution_count": null,
   "metadata": {},
   "outputs": [],
   "source": [
    "# What is the column that is returned\n",
    "type(data.area)"
   ]
  },
  {
   "cell_type": "code",
   "execution_count": null,
   "metadata": {},
   "outputs": [],
   "source": [
    "# lists of columns -- note that you can specify the order and note\n",
    "# the double brackets.\n",
    "data[['pop', 'area']]"
   ]
  },
  {
   "cell_type": "code",
   "execution_count": null,
   "metadata": {},
   "outputs": [],
   "source": [
    "# and what is the type of the returned object?\n",
    "type(data[['pop', 'area']])"
   ]
  },
  {
   "cell_type": "code",
   "execution_count": null,
   "metadata": {},
   "outputs": [],
   "source": [
    "# Add a new series using existing series\n",
    "data['density'] = data['pop'] / data['area']\n",
    "data\n",
    "# Note the ufunc (universal function) behavior"
   ]
  },
  {
   "cell_type": "code",
   "execution_count": null,
   "metadata": {},
   "outputs": [],
   "source": [
    "# loc and iloc do element selection and slicing (rows)\n",
    "data.iloc[1,2]"
   ]
  },
  {
   "cell_type": "code",
   "execution_count": null,
   "metadata": {},
   "outputs": [],
   "source": [
    "data.iloc[:3, :2]"
   ]
  },
  {
   "cell_type": "code",
   "execution_count": null,
   "metadata": {},
   "outputs": [],
   "source": [
    "data.iloc[1:3]"
   ]
  },
  {
   "cell_type": "code",
   "execution_count": null,
   "metadata": {},
   "outputs": [],
   "source": [
    "# Oops -- not using numerical index!\n",
    "data.loc[1:3]"
   ]
  },
  {
   "cell_type": "code",
   "execution_count": null,
   "metadata": {},
   "outputs": [],
   "source": [
    "# Notice that this slice includes the \"ending row\" where the\n",
    "# iloc-based slicing did not (it used standard Python slicing)\n",
    "data.loc['Texas':'Florida']"
   ]
  },
  {
   "cell_type": "code",
   "execution_count": null,
   "metadata": {},
   "outputs": [],
   "source": [
    "# Masking\n",
    "data[data.density > 100]\n",
    "# what does 'data.density > 100' return (it's an expression that\n",
    "# is evaluated)?"
   ]
  },
  {
   "cell_type": "code",
   "execution_count": null,
   "metadata": {},
   "outputs": [],
   "source": [
    "# when in doubt, check it out!\n",
    "data.density > 100"
   ]
  },
  {
   "cell_type": "code",
   "execution_count": null,
   "metadata": {},
   "outputs": [],
   "source": [
    "data[(data.density > 100) & (data.area < 150000)]"
   ]
  },
  {
   "cell_type": "code",
   "execution_count": null,
   "metadata": {},
   "outputs": [],
   "source": [
    "# Masking + column selection\n",
    "data.loc[data.density > 100, ['color', 'density']]"
   ]
  },
  {
   "cell_type": "code",
   "execution_count": null,
   "metadata": {},
   "outputs": [],
   "source": [
    "# let's look at the object\n",
    "type(data.loc[data.density > 100, ['color', 'density']])"
   ]
  },
  {
   "cell_type": "code",
   "execution_count": null,
   "metadata": {},
   "outputs": [],
   "source": [
    "# lets create a named slice\n",
    "high_density = data.loc[data.density > 100, ['color', 'density']]\n",
    "high_density"
   ]
  },
  {
   "cell_type": "code",
   "execution_count": null,
   "metadata": {},
   "outputs": [],
   "source": [
    "# and change something\n",
    "high_density.iloc[0,0] = \"purple\"\n",
    "high_density"
   ]
  },
  {
   "cell_type": "code",
   "execution_count": null,
   "metadata": {},
   "outputs": [],
   "source": [
    "# what about the original?\n",
    "data"
   ]
  },
  {
   "cell_type": "markdown",
   "metadata": {},
   "source": [
    "Hmmmm ... So the slice is a copy and not a view.  What are the rules here (for Pandas slices)?\n",
    "https://stackoverflow.com/questions/23296282/what-rules-does-pandas-use-to-generate-a-view-vs-a-copy"
   ]
  },
  {
   "cell_type": "markdown",
   "metadata": {},
   "source": [
    "## See Data Indexing and Selection Examples notebook for more examples of indexing and data selection."
   ]
  },
  {
   "cell_type": "markdown",
   "metadata": {},
   "source": [
    "## Handling Missing Data"
   ]
  },
  {
   "cell_type": "code",
   "execution_count": null,
   "metadata": {},
   "outputs": [],
   "source": [
    "data = pd.Series([1, np.nan, 'hello', None])\n",
    "show(data)\n",
    "data"
   ]
  },
  {
   "cell_type": "code",
   "execution_count": null,
   "metadata": {},
   "outputs": [],
   "source": [
    "data.isnull()"
   ]
  },
  {
   "cell_type": "code",
   "execution_count": null,
   "metadata": {},
   "outputs": [],
   "source": [
    "# masking\n",
    "data[data.notnull()]"
   ]
  },
  {
   "cell_type": "code",
   "execution_count": null,
   "metadata": {},
   "outputs": [],
   "source": [
    "# remove the missing data elements\n",
    "data.dropna()"
   ]
  },
  {
   "cell_type": "code",
   "execution_count": null,
   "metadata": {},
   "outputs": [],
   "source": [
    "# dropna() created a new Series object -- the original is unchanged\n",
    "data"
   ]
  },
  {
   "cell_type": "code",
   "execution_count": null,
   "metadata": {},
   "outputs": [],
   "source": []
  }
 ],
 "metadata": {
  "kernelspec": {
   "display_name": "Python [conda env:base] *",
   "language": "python",
   "name": "conda-base-py"
  },
  "language_info": {
   "codemirror_mode": {
    "name": "ipython",
    "version": 3
   },
   "file_extension": ".py",
   "mimetype": "text/x-python",
   "name": "python",
   "nbconvert_exporter": "python",
   "pygments_lexer": "ipython3",
   "version": "3.11.9"
  }
 },
 "nbformat": 4,
 "nbformat_minor": 4
}
