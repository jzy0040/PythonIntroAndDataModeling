{
 "cells": [
  {
   "cell_type": "markdown",
   "id": "fcbd3d23-e950-4ca9-9803-e3cb1a59146f",
   "metadata": {},
   "source": [
    "1.\tA company wants to test whether the average time taken to assemble a product has significantly decreased after implementing a new training program. Prior to the training, the average assembly time was 35 minutes with a known population standard deviation of 5 minutes. After the training, a random sample of 40 employees showed a mean assembly time of 33 minutes. Can you help the company to decide whether the new training program is necessary?"
   ]
  },
  {
   "cell_type": "code",
   "execution_count": 23,
   "id": "56e5d347-f95a-4de3-9851-e7a75ab3cd71",
   "metadata": {},
   "outputs": [
    {
     "name": "stdout",
     "output_type": "stream",
     "text": [
      "Hypothesis Test Results:\n",
      "Z-statistic: -2.53\n",
      "Critical Value (α = 0.05): -1.64\n",
      "P-value: 0.0057\n",
      "Decision: Reject the null hypothesis.\n",
      "Conclusion: The training program significantly reduced assembly time.\n"
     ]
    }
   ],
   "source": [
    "import scipy.stats as stats\n",
    "\n",
    "# Given\n",
    "# average time (before training) \n",
    "avg_mean = 35              \n",
    "# standard deviation\n",
    "std = 5                    \n",
    "# Mean time (after training)\n",
    "mean = 33                \n",
    "# random sample \n",
    "number_of_emp = 40           \n",
    "# alpha\n",
    "significance_level = 0.05  \n",
    "\n",
    "# Determing the test statistic\n",
    "z_statistic = (mean - avg_mean) / (std / (number_of_emp ** 0.5))\n",
    "\n",
    "# Critical value and p-value \n",
    "critical_val = stats.norm.ppf(significance_level)\n",
    "p_val = stats.norm.cdf(z_statistic)\n",
    "\n",
    "# Results\n",
    "print(\"Hypothesis Test Results:\")\n",
    "print(f\"Z-statistic: {z_statistic:.2f}\")\n",
    "print(f\"Critical Value (α = {significance_level}): {critical_val:.2f}\")\n",
    "print(f\"P-value: {p_val:.4f}\")\n",
    "\n",
    "\n",
    "# Conclusion\n",
    "if z_statistic < critical_val:\n",
    "    print(\"Decision: Reject the null hypothesis.\")\n",
    "    print(\"Conclusion: The training program significantly reduced assembly time.\")\n",
    "else:\n",
    "    print(\"Decision: Fail to reject the null hypothesis.\")\n",
    "    print(\"Conclusion: No significant reduction in assembly time after training.\")"
   ]
  },
  {
   "cell_type": "markdown",
   "id": "d38419c5-4108-4dd5-b75d-69de05c580da",
   "metadata": {},
   "source": [
    "EXPLANATION :   \n",
    "\n",
    "We determine whether the observed decrease in assembly time (from 35 to 33 minutes) is statistically significant by calculating the Z-score and p-value following the Z-test. We have sufficient evidence to reject the null hypothesis (H0) if the p-value is less than 0.05 and the Z-score is greater than the critical Z-value (for a one-tailed test at a 0.05 significance level). This suggests that the training program most likely played a significant role in reducing assembly time. We cannot verify the efficacy of the training, though, if the Z-score and p-value fall short of these requirements, which would prevent us from rejecting H0 and leave the observed decrease open to chance. This test offers a methodical framework for assessing the program's effectiveness."
   ]
  },
  {
   "cell_type": "markdown",
   "id": "8a5d240c-25ea-4c0e-915b-a5dfcf695574",
   "metadata": {},
   "source": [
    "2.\tA university administrator wants to test whether graduate students at the institution study, on average, more than 25 hours per week. To explore this, a random sample of 15 graduate students was surveyed, and the sample mean study time was found to be 27 hours per week, with a sample standard deviation of 4.5 hours.\r\n",
    "\r\n"
   ]
  },
  {
   "cell_type": "code",
   "execution_count": 18,
   "id": "6c75dbc2-2c15-4826-8a18-5a590335ea1d",
   "metadata": {},
   "outputs": [
    {
     "name": "stdout",
     "output_type": "stream",
     "text": [
      "Hypothesis Test Results:\n",
      "T-score: 1.72\n",
      "Critical Value (for 5% significance level): 1.76\n",
      "P-value: 0.0536\n",
      "Result: We don't have enough proof that students study more than 25 hours per week.\n"
     ]
    }
   ],
   "source": [
    "import scipy.stats as stats\n",
    "\n",
    "# Given \n",
    "# Expected average study hours (before survey)\n",
    "expected_mean = 25         \n",
    "# Sample average study hours (after survey)\n",
    "sample_average = 27        \n",
    "# standard deviation\n",
    "std = 4.5                  \n",
    "# Total number of students\n",
    "total_sample = 15         \n",
    "# Alpha\n",
    "significance = 0.05       \n",
    "\n",
    "# Determining the test statistic\n",
    "t_score = (sample_average - expected_mean) / (std / (total_sample ** 0.5))\n",
    "\n",
    "# Crtical value and p-value\n",
    "degrees_of_freedom = total_sample - 1\n",
    "critical_threshold = stats.t.ppf(1 - significance, degrees_of_freedom)\n",
    "p_value = 1 - stats.t.cdf(t_score, degrees_of_freedom)\n",
    "\n",
    "# Print results\n",
    "print(\"Hypothesis Test Results:\")\n",
    "print(f\"T-score: {t_score:.2f}\")\n",
    "print(f\"Critical Value (for 5% significance level): {critical_threshold:.2f}\")\n",
    "print(f\"P-value: {p_value:.4f}\")\n",
    "\n",
    "# Conclusion\n",
    "if t_score > critical_threshold:\n",
    "    print(\"Result: We reject the idea that students study 25 hours or less. They study significantly more.\")\n",
    "else:\n",
    "    print(\"Result: We don't have enough proof that students study more than 25 hours per week.\")\n"
   ]
  },
  {
   "cell_type": "markdown",
   "id": "84b6e658-a11c-45f7-ad45-6b3be009a9c5",
   "metadata": {},
   "source": [
    "EXPLANATION :     \n",
    "By computing a t-score to determine how far the sample mean (27 hours) deviates from the hypothesized mean (25 hours), the method determines if graduate students study more than 25 hours per week. After that, it determines significance by calculating a crucial t-value and p-value. We infer that students probably study more than 25 hours per week if the t-score is greater than the critical value and the p-value is less than 0.05; if not, the assertion is not sufficiently supported by the data.\n",
    "\n",
    "The t-score and p-value help us determine if the average study time of 27 hours is statistically greater than 25 hours per week. If the t-score exceeds the critical t-value for a 0.05 significance level (one-tailed), and the p-value is less than 0.05, we have enough evidence to reject the null hypothesis that graduate students study 25 hours or less on average. This would support the claim that graduate students are studying more than 25 hours per week. If not, we fail to reject the null hypothesis, meaning the data does not provide sufficient evidence for the claim.\n"
   ]
  },
  {
   "cell_type": "markdown",
   "id": "3ce49c88-1dd6-4138-b638-48da842e58fa",
   "metadata": {},
   "source": [
    "REGRESSION\n",
    "\n",
    "A researcher is studying the relationship between hours of study and exam scores for graduate students. The above data was collected from a sample of 30 students. "
   ]
  },
  {
   "cell_type": "markdown",
   "id": "85c3c5ce-cc56-4a74-999c-58407852b4a6",
   "metadata": {},
   "source": [
    "a.\tFit a simple linear regression model to the data, where the dependent variable (Y) is the exam score, and the independent variable (X) is the hours of study."
   ]
  },
  {
   "cell_type": "code",
   "execution_count": 49,
   "id": "16268de5-4a15-49d4-901d-277bb5bab8d3",
   "metadata": {},
   "outputs": [
    {
     "name": "stdout",
     "output_type": "stream",
     "text": [
      "Intercept (b0): 21.272712054280476\n",
      "Slope (b1): 6.43156302094153\n",
      "Predicted Exam Scores: [53.43052716 53.43052716 66.2936532  72.72521622 72.72521622 66.2936532\n",
      " 40.56740112 72.72521622 72.72521622 72.72521622 72.72521622 53.43052716\n",
      " 21.27271205 53.43052716 34.1358381  72.72521622 66.2936532  66.2936532\n",
      " 46.99896414 72.72521622 34.1358381  46.99896414 59.86209018 66.2936532\n",
      " 27.70427508 59.86209018 34.1358381  72.72521622 21.27271205 46.99896414]\n"
     ]
    }
   ],
   "source": [
    "import pandas as pd\n",
    "from sklearn.linear_model import LinearRegression\n",
    "import numpy as np\n",
    "\n",
    "# Given data\n",
    "data = {\n",
    "    'Num_of_hrs': [5, 5, 7, 8, 8, 7, 3, 8, 8, 8, 8, 5, 0, 5, 2, 8, 7, 7, 4, 8, 2, 4, 6, 7, 1, 6, 2, 8, 0, 4],\n",
    "    'Exam_Score': [52.1221, 52.1221, 72.1221, 82.1221, 82.1221, 72.1221, 32.1221, 82.1221, 82.1221, 82.1221, 82.1221,\n",
    "                   52.1221, 2.122104, 52.1221, 22.1221, 82.1221, 72.1221, 42.1221, 42.1221, 82.1221, 22.1221, 62.1221,\n",
    "                   62.1221, 72.1221, 12.1221, 72.1221, 22.1221, 2.122104, 82.1221, 42.1221]\n",
    "}\n",
    "df = pd.DataFrame(data)\n",
    "\n",
    "# X (hours of study) and Y (exam scores)\n",
    "X = np.array(df['Num_of_hrs']).reshape(-1, 1)\n",
    "Y = np.array(df['Exam_Score'])\n",
    "\n",
    "# Linear Regression model\n",
    "model = LinearRegression()\n",
    "\n",
    "# Apply the model to the data\n",
    "model.fit(X, Y)\n",
    "\n",
    "# Calculate the coefficient and intercept values\n",
    "intercept = model.intercept_\n",
    "slope = model.coef_[0]\n",
    "\n",
    "# output results\n",
    "print(\"Intercept (b0):\", intercept)\n",
    "print(\"Slope (b1):\", slope)\n",
    "\n",
    "# Calculate scores according to the model\n",
    "predicted_scores = model.predict(X)\n",
    "\n",
    "# Output predictions\n",
    "print(\"Predicted Exam Scores:\", predicted_scores)\n"
   ]
  },
  {
   "cell_type": "markdown",
   "id": "93beac5d-f10b-4f60-81ae-a5375b1db904",
   "metadata": {},
   "source": [
    "EXPLANATION : \n",
    "\n",
    "To begin, the code imports the libraries required to deal with the data and carry out the regression. Two columns are created in the dataset: one for study hours and another for test results. Exam scores (Y) are the dependent variable, and study hours (X) are the independent variable. After that, the code incorporates the intercept into the model by appending a constant to the data. It uses these variables to fit a linear regression model and outputs the results. A few statistical metrics that assist assess how well the model fits the data are included in the output, along with the intercept and slope values that show us how exam scores vary with study hours."
   ]
  },
  {
   "cell_type": "markdown",
   "id": "6eee85d2-cf33-4f32-b243-7ece06bd5820",
   "metadata": {},
   "source": [
    "b.\tWhat are the assumptions of simple linear regression, and do you think they hold for this dataset?"
   ]
  },
  {
   "cell_type": "code",
   "execution_count": 51,
   "id": "cc5befb7-0c93-45ae-8a89-d6ce59799b0c",
   "metadata": {},
   "outputs": [
    {
     "data": {
      "image/png": "[encoded data removed]",
      "text/plain": [
       "<Figure size 640x480 with 1 Axes>"
      ]
     },
     "metadata": {},
     "output_type": "display_data"
    },
    {
     "data": {
      "image/png": "[encoded data removed]",
      "text/plain": [
       "<Figure size 640x480 with 1 Axes>"
      ]
     },
     "metadata": {},
     "output_type": "display_data"
    },
    {
     "data": {
      "image/png": "[encoded data removed]",
      "text/plain": [
       "<Figure size 640x480 with 1 Axes>"
      ]
     },
     "metadata": {},
     "output_type": "display_data"
    },
    {
     "name": "stdout",
     "output_type": "stream",
     "text": [
      "Shapiro-Wilk Test: Statistics = 0.8065149643774119 , p-value = 8.63705400417993e-05\n"
     ]
    }
   ],
   "source": [
    "import matplotlib.pyplot as plt\n",
    "import seaborn as sns\n",
    "from scipy.stats import shapiro\n",
    "\n",
    "# Draw a graph depicting the relationship between Hours of Study and Exam Scores\n",
    "plt.scatter(X, Y)\n",
    "plt.plot(X, predicted_scores, color='red')  # Regression line\n",
    "plt.xlabel(\"Num_of_hrs\")\n",
    "plt.ylabel(\"Exam_Score\")\n",
    "plt.title(\"Num_of_hrs vs Exam_score\")\n",
    "plt.show()\n",
    "\n",
    "# Create a residual plot to analyze distribution patterns and independence\n",
    "residuals = Y - predicted_scores\n",
    "plt.scatter(X, residuals)\n",
    "plt.axhline(y=0, color='r', linestyle='-')\n",
    "plt.xlabel(\"Num_of_hrs\")\n",
    "plt.ylabel(\"Residuals\")\n",
    "plt.title(\"Residuals vs Num_of_hrs\")\n",
    "plt.show()\n",
    "\n",
    "# Analyze if residuals fit a normal distribution with the help of a histogram and Shapiro-Wilk test\n",
    "sns.histplot(residuals, kde=True)\n",
    "plt.xlabel(\"Residuals\")\n",
    "plt.title(\"Distribution of Residuals\")\n",
    "plt.show()\n",
    "\n",
    "# Shapiro-Wilk normality test\n",
    "stat, p_value = shapiro(residuals)\n",
    "print(\"Shapiro-Wilk Test: Statistics =\", stat, \", p-value =\", p_value)\n"
   ]
  },
  {
   "cell_type": "markdown",
   "id": "3ed1b3b7-1953-4401-af69-31de69baa800",
   "metadata": {},
   "source": [
    "EXPLANATION : \n",
    "\n",
    "Here are some basic explanations of the assumptions of simple linear regression:\n",
    "Exam scores and study hours should have a linear relationship, which means that as study hours rise, test scores should rise steadily as well.\n",
    "\n",
    "Independence: No student's exam result should be influenced by that of another student. Every observation need to be distinct from the others.\n",
    "\n",
    "Residual Normality: A bell-shaped curve (normal distribution) should be followed by the errors. Accordingly, only a tiny percentage of errors should be either large or extremely small, with the majority being minor.\n"
   ]
  },
  {
   "cell_type": "markdown",
   "id": "cba30850-3504-4ac8-8d82-3fb5ff60b666",
   "metadata": {},
   "source": [
    "c.\tHow would outliers in the data affect the regression model?"
   ]
  },
  {
   "cell_type": "code",
   "execution_count": 40,
   "id": "4048240a-feef-4976-8f29-fa27dd5c4d4f",
   "metadata": {},
   "outputs": [
    {
     "name": "stdout",
     "output_type": "stream",
     "text": [
      "Potential Outliers:\n",
      "     Hours_Study  Exam_Score  Residuals   Z_Score\n",
      "27            8    2.122104 -70.603112 -3.580271\n",
      "28            0   82.122100  60.849388  3.085661\n",
      "Intercept without outliers: 4.469240915187399\n",
      "Slope without outliers: 9.570457897874203\n"
     ]
    }
   ],
   "source": [
    "from scipy.stats import zscore\n",
    "\n",
    "# Use Z-score detection to examine data for outliers.\n",
    "df['Residuals'] = residuals\n",
    "df['Z_Score'] = zscore(df['Residuals'])\n",
    "# Z-scores greater than 2 are considered outliers\n",
    "outliers = df[np.abs(df['Z_Score']) > 2]  \n",
    "print(\"Potential Outliers:\\n\", outliers)\n",
    "\n",
    "# Modify the model and eliminate outliers to observe the difference.\n",
    "df_without_outliers = df[np.abs(df['Z_Score']) <= 2]\n",
    "X_no_outliers = np.array(df_without_outliers['Num_of_hrs']).reshape(-1, 1)\n",
    "Y_no_outliers = np.array(df_without_outliers['Exam_Score'])\n",
    "\n",
    "model_no_outliers = LinearRegression()\n",
    "model_no_outliers.fit(X_no_outliers, Y_no_outliers)\n",
    "\n",
    "print(\"Intercept without outliers:\", model_no_outliers.intercept_)\n",
    "print(\"Slope without outliers:\", model_no_outliers.coef_[0])\n"
   ]
  },
  {
   "cell_type": "markdown",
   "id": "9a638233-06f4-4db2-961b-b1f4e9b939e1",
   "metadata": {},
   "source": [
    "EXPLANATION : \n",
    "\n",
    "Outliers have the ability to significantly affect the regression model by distorting the intercept and slope. As a result, there may be more residual variance and perhaps less predictive accuracy if the model doesn't adequately capture the link for most data points."
   ]
  },
  {
   "cell_type": "markdown",
   "id": "8a357dc3-9378-4c45-9c7c-9091787ddf79",
   "metadata": {},
   "source": [
    "d.\tIf you need to verify the model what will you need and what will you do?"
   ]
  },
  {
   "cell_type": "code",
   "execution_count": 43,
   "id": "08ee8474-d1c4-41f0-a586-7454d36928fd",
   "metadata": {},
   "outputs": [
    {
     "name": "stdout",
     "output_type": "stream",
     "text": [
      "Cross-Validation R-squared Scores: [ 0.56574655  0.681273    0.61840209  0.74760884 -1.28729498]\n",
      "Average R-squared from Cross-Validation: 0.26514709926462804\n"
     ]
    }
   ],
   "source": [
    "from sklearn.model_selection import cross_val_score\n",
    "\n",
    "# Cross-validation should be done to evaluate the accuracy of the model.\n",
    "scores = cross_val_score(model, X, Y, cv=5, scoring='r2')\n",
    "print(\"Cross-Validation R-squared Scores:\", scores)\n",
    "print(\"Average R-squared from Cross-Validation:\", scores.mean())\n"
   ]
  },
  {
   "cell_type": "markdown",
   "id": "5ea1abc1-daa5-4fab-a0bc-fe6440f10450",
   "metadata": {},
   "source": [
    "EXPLANATION : \n",
    "\n",
    "The model's verification would require you to:\n",
    "Residual Analysis: Examine residuals for trends that might point to homoscedasticity or linearity violations.\n",
    "The R-squared value indicates the model's goodness of fit, or how well it accounts for score fluctuation.\n",
    "Assess the generalizability of the model by doing cross-validation.\n",
    "T-tests and F-tests are statistical significance tests that are used to make sure the regression coefficients are significant\n"
   ]
  },
  {
   "cell_type": "markdown",
   "id": "e79f786a-8638-4ba5-85fe-f9028b9d2238",
   "metadata": {},
   "source": [
    "\n",
    "LINEAR OPTIMIZATION\n",
    "\n",
    "A manufacturing company produces three products: Product A, Product B, and Product C. Each product requires different amounts of two types of machines, Machine X and Machine Y,\n"
   ]
  },
  {
   "cell_type": "markdown",
   "id": "783bb295-07cc-487e-8e49-b679c573f296",
   "metadata": {},
   "source": [
    "Machine X is available for 100 hours per week, and Machine Y is available for 85 hours per week. The company wants to maximize its total production output."
   ]
  },
  {
   "cell_type": "markdown",
   "id": "0fe0b555-f921-4cb3-a69b-b5c537cfb75e",
   "metadata": {},
   "source": [
    "a.\tPlease formulate this problem as a linear programming problem in standard form\n",
    "\n",
    "b.\tSolve the problem in Excel.\n",
    "\r\n",
    "c.\tThe problem is bounded by machine X or Y? If you have a budget to upgrade the machine, will you upgrade machine X or Y? Please explain your answer by exploring the math model. \r\n"
   ]
  },
  {
   "cell_type": "code",
   "execution_count": 61,
   "id": "0d5a09d3-c02d-428d-b129-7c8b34db6bd0",
   "metadata": {},
   "outputs": [
    {
     "name": "stdout",
     "output_type": "stream",
     "text": [
      "Optimal production units:\n",
      "Product A: 0.00\n",
      "Product B: 7.86\n",
      "Product C: 30.71\n",
      "Maximum output: 38.57\n"
     ]
    }
   ],
   "source": [
    "import numpy as np\n",
    "from scipy.optimize import linprog\n",
    "\n",
    "# Maximise production yield values for the optimisation function\n",
    "# Here we define the coefficients as negative for minimization\n",
    "# The influence of each product on the goal is equal.\n",
    "c = [-1, -1, -1] \n",
    "\n",
    "# elements that affect the limitations (inequalities).\n",
    "# This is how long Machine X and Machine Y will take.\n",
    "A = np.array([\n",
    "    [2, 1, 3],  # Machine X hours per unit\n",
    "    [4, 3, 2]   # Machine Y hours per unit\n",
    "])\n",
    "\n",
    "# Right-hand side of the limitations (machine hours available).\n",
    "b = np.array([100, 85])  # Maximum available hours for Machine X and Y\n",
    "\n",
    "# A, B, and C product quantities are the limits for each variable.\n",
    "# We set the limitations for every product in this phase to make sure they don't go negative.\n",
    "x_bounds = (0, None)  # No upper limit on production\n",
    "\n",
    "# Utilising the linprog function, optimise the linear programming issue.\n",
    "result = linprog(c, A_ub=A, b_ub=b, bounds=[x_bounds]*3, method='highs')\n",
    "\n",
    "# Check to see whether the optimisation was successful.\n",
    "if result.success:\n",
    "    optimal_units = result.x  # Optimal production units\n",
    "    max_output = -result.fun   # Maximum output (negated back to positive)\n",
    "\n",
    "    # output results\n",
    "    print(\"Optimal production units:\")\n",
    "    print(f\"Product A: {optimal_units[0]:.2f}\")\n",
    "    print(f\"Product B: {optimal_units[1]:.2f}\")\n",
    "    print(f\"Product C: {optimal_units[2]:.2f}\")\n",
    "    print(f\"Maximum output: {max_output:.2f}\")\n",
    "else:\n",
    "    print(\"Optimization failed.\")\n"
   ]
  },
  {
   "cell_type": "markdown",
   "id": "727fd688-93da-43ee-aa80-6898d08f7c04",
   "metadata": {},
   "source": [
    "EXPLANATION : \n",
    "\n",
    "When a corporation wishes to produce as many products as possible with a restricted number of machine hours, this code provides a solution. We establish the objective (to increase output) and the limitations (two machines' available hours). The optimal solution is determined using the linprog function. The code displays the maximum production value and the quantity of each product that needs to be made when it is run. Effective use of the equipment is indicated, for instance, if the output indicates that the maximum production is 30 and recommends producing 10 of Product A, 5 of Product B, and 15 of Product C."
   ]
  },
  {
   "cell_type": "markdown",
   "id": "5d9fa626-e4cd-489f-b50a-2701e811c404",
   "metadata": {},
   "source": [
    "REFERENCE LINKS\n",
    "\n",
    "Chat GPT :     \n",
    " https://chatgpt.com/share/6722b5d1-5818-8007-92a2-aaa317ffbd42\n",
    "\n",
    "Lectures :       \n",
    " https://newlearn.govst.edu/bbcswebdav/pid-2052107-dt-content-rid-20908395_1/xid-20908395_1\n",
    "\n",
    "Youtube :       \n",
    " https://www.youtube.com/watch?v=xdZSWsKk5P0&pp=ygUxdGVzdCBvZiBzaWduaWZpY2FuY2UsIHJlZ3Jlc3Npb24gYW5kIG9wdGltaXphdGlvbg%3D%3D\n",
    " https://www.youtube.com/watch?v=KS6KEWaoOOE&pp=ygUxdGVzdCBvZiBzaWduaWZpY2FuY2UsIHJlZ3Jlc3Npb24gYW5kIG9wdGltaXphdGlvbg%3D%3D\n"
   ]
  },
  {
   "cell_type": "code",
   "execution_count": null,
   "id": "195ee230-98ed-46eb-bed3-d1464df041b6",
   "metadata": {},
   "outputs": [],
   "source": []
  }
 ],
 "metadata": {
  "kernelspec": {
   "display_name": "Python 3 (ipykernel)",
   "language": "python",
   "name": "python3"
  },
  "language_info": {
   "codemirror_mode": {
    "name": "ipython",
    "version": 3
   },
   "file_extension": ".py",
   "mimetype": "text/x-python",
   "name": "python",
   "nbconvert_exporter": "python",
   "pygments_lexer": "ipython3",
   "version": "3.12.4"
  }
 },
 "nbformat": 4,
 "nbformat_minor": 5
}
